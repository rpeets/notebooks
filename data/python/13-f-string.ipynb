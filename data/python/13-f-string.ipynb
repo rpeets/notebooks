{
 "cells": [
  {
   "cell_type": "markdown",
   "metadata": {},
   "source": [
    "## f-string in Python3\n",
    "[Corey Schafer](https://www.youtube.com/watch?v=nghuHvKLhJA)<br> [Indian Pythonista](https://www.youtube.com/watch?v=s6C3kYCNmLc)"
   ]
  },
  {
   "cell_type": "code",
   "execution_count": 1,
   "metadata": {},
   "outputs": [],
   "source": [
    "a = 1\n",
    "b = 2"
   ]
  },
  {
   "cell_type": "markdown",
   "metadata": {},
   "source": [
    "**printf-style** String Formatting <br>[Python Doc](https://docs.python.org/3/library/stdtypes.html#printf-style-string-formatting)\n"
   ]
  },
  {
   "cell_type": "code",
   "execution_count": 2,
   "metadata": {},
   "outputs": [
    {
     "name": "stdout",
     "output_type": "stream",
     "text": [
      "a=1 b=2\n"
     ]
    }
   ],
   "source": [
    "print(\"a=%d b=%d\"%(a,b))"
   ]
  },
  {
   "cell_type": "markdown",
   "metadata": {},
   "source": [
    "**.format** Method"
   ]
  },
  {
   "cell_type": "code",
   "execution_count": 3,
   "metadata": {},
   "outputs": [
    {
     "name": "stdout",
     "output_type": "stream",
     "text": [
      "a=1 b=2\n"
     ]
    }
   ],
   "source": [
    "print(\"a={} b={}\".format(a, b))"
   ]
  },
  {
   "cell_type": "code",
   "execution_count": 4,
   "metadata": {},
   "outputs": [],
   "source": [
    "name = \"Casey Boy\"\n",
    "breed = \"Porty\"\n",
    "age = 3\n",
    "city = \"Redwood City\"\n",
    "state = \"California\""
   ]
  },
  {
   "cell_type": "code",
   "execution_count": 5,
   "metadata": {},
   "outputs": [
    {
     "name": "stdout",
     "output_type": "stream",
     "text": [
      "My name is Casey Boy and i'm a Porty. I'm 3 years old, And i live in Redwood City, California\n"
     ]
    }
   ],
   "source": [
    "print(\"My name is {} and i'm a {}. I'm {} years old, And i live in {}, {}\".format(name, breed, age, city, state))"
   ]
  },
  {
   "cell_type": "code",
   "execution_count": 6,
   "metadata": {},
   "outputs": [
    {
     "name": "stdout",
     "output_type": "stream",
     "text": [
      "My name is Casey Boy and i'm a Porty. I'm 3 years old, And i live in Redwood City, California\n"
     ]
    }
   ],
   "source": [
    "print(f\"My name is {name} and i'm a {breed}. I'm {age} years old, And i live in {city}, {state}\")"
   ]
  },
  {
   "cell_type": "code",
   "execution_count": 7,
   "metadata": {},
   "outputs": [
    {
     "name": "stdout",
     "output_type": "stream",
     "text": [
      "Sum of 1 and 2 is equal to 3\n"
     ]
    }
   ],
   "source": [
    "print(f\"Sum of {a} and {b} is equal to {a+b}\")"
   ]
  },
  {
   "cell_type": "markdown",
   "metadata": {},
   "source": [
    "#### Using Lambda with f-string."
   ]
  },
  {
   "cell_type": "code",
   "execution_count": 8,
   "metadata": {},
   "outputs": [
    {
     "name": "stdout",
     "output_type": "stream",
     "text": [
      "[2, 4] and [4, 16]\n"
     ]
    }
   ],
   "source": [
    "n = [2, 4]\n",
    "print(f\"{n} and {list(map(lambda x: x*x, n))}\")"
   ]
  },
  {
   "cell_type": "markdown",
   "metadata": {},
   "source": [
    "#### Using List comprehension with f-string."
   ]
  },
  {
   "cell_type": "code",
   "execution_count": 9,
   "metadata": {},
   "outputs": [
    {
     "name": "stdout",
     "output_type": "stream",
     "text": [
      "[4, 8] and [16, 64]\n"
     ]
    }
   ],
   "source": [
    "m = [4, 8]\n",
    "print(f\"{m} and {[i*i for i in m]}\")"
   ]
  },
  {
   "cell_type": "markdown",
   "metadata": {},
   "source": [
    "#### f-string formatting."
   ]
  },
  {
   "cell_type": "code",
   "execution_count": 10,
   "metadata": {},
   "outputs": [
    {
     "name": "stdout",
     "output_type": "stream",
     "text": [
      "His name is Casey Boy and he is 3 yeas old, he weight around 58 pounds and he is a Porty.\n"
     ]
    }
   ],
   "source": [
    "name = 'Casey Boy'\n",
    "age = 3\n",
    "weight = 58\n",
    "breed = 'Porty'\n",
    "print(f\"His name is {name} and he is {age} yeas old, he weight around {weight} pounds and he is a {breed}.\")"
   ]
  },
  {
   "cell_type": "markdown",
   "metadata": {},
   "source": [
    "#### Using f-string with dictionary."
   ]
  },
  {
   "cell_type": "code",
   "execution_count": 11,
   "metadata": {},
   "outputs": [
    {
     "name": "stdout",
     "output_type": "stream",
     "text": [
      "Robin and Nicole loves Casey\n"
     ]
    }
   ],
   "source": [
    "x = {'name':'Robin', 'wifey':'Nicole', 'dog':'Casey'}\n",
    "print(f\"{x['name']} and {x['wifey']} loves {x['dog']}\")"
   ]
  },
  {
   "cell_type": "markdown",
   "metadata": {},
   "source": [
    "#### Including single quotes in f-string formatting."
   ]
  },
  {
   "cell_type": "code",
   "execution_count": 12,
   "metadata": {},
   "outputs": [
    {
     "data": {
      "text/plain": [
       "\"He said his name is 'Casey Boy'.\""
      ]
     },
     "execution_count": 12,
     "metadata": {},
     "output_type": "execute_result"
    }
   ],
   "source": [
    "f'He said his name is {name!r}.'"
   ]
  },
  {
   "cell_type": "markdown",
   "metadata": {},
   "source": [
    "#### 4 place zero padded formatting."
   ]
  },
  {
   "cell_type": "code",
   "execution_count": 13,
   "metadata": {},
   "outputs": [
    {
     "name": "stdout",
     "output_type": "stream",
     "text": [
      "NUmber : 0000:\n",
      "NUmber : 0001:\n",
      "NUmber : 0002:\n",
      "NUmber : 0003:\n",
      "NUmber : 0004:\n",
      "NUmber : 0005:\n",
      "NUmber : 0006:\n",
      "NUmber : 0007:\n",
      "NUmber : 0008:\n",
      "NUmber : 0009:\n"
     ]
    }
   ],
   "source": [
    "for i in range(10):\n",
    "    print(f\"NUmber : {i:04}:\")"
   ]
  },
  {
   "cell_type": "markdown",
   "metadata": {},
   "source": [
    "####  Right align formatting with 4 space."
   ]
  },
  {
   "cell_type": "code",
   "execution_count": 14,
   "metadata": {},
   "outputs": [
    {
     "name": "stdout",
     "output_type": "stream",
     "text": [
      "NUmber :    0:\n",
      "NUmber :    1:\n",
      "NUmber :    2:\n",
      "NUmber :    3:\n",
      "NUmber :    4:\n",
      "NUmber :    5:\n",
      "NUmber :    6:\n",
      "NUmber :    7:\n",
      "NUmber :    8:\n",
      "NUmber :    9:\n"
     ]
    }
   ],
   "source": [
    "for i in range(10):\n",
    "    print(f\"NUmber : {i:>4}:\")"
   ]
  },
  {
   "cell_type": "markdown",
   "metadata": {},
   "source": [
    "#### Left align with four space."
   ]
  },
  {
   "cell_type": "code",
   "execution_count": 15,
   "metadata": {},
   "outputs": [
    {
     "name": "stdout",
     "output_type": "stream",
     "text": [
      "Number : 0   :\n",
      "Number : 1   :\n",
      "Number : 2   :\n",
      "Number : 3   :\n",
      "Number : 4   :\n",
      "Number : 5   :\n",
      "Number : 6   :\n",
      "Number : 7   :\n",
      "Number : 8   :\n",
      "Number : 9   :\n"
     ]
    }
   ],
   "source": [
    "for i in range(10):\n",
    "    print(f\"Number : {i:<4}:\")"
   ]
  },
  {
   "cell_type": "markdown",
   "metadata": {},
   "source": [
    "#### Floating Point formatting."
   ]
  },
  {
   "cell_type": "code",
   "execution_count": 16,
   "metadata": {},
   "outputs": [
    {
     "name": "stdout",
     "output_type": "stream",
     "text": [
      "Pi is equal to 3.14159265\n"
     ]
    }
   ],
   "source": [
    "pi = 3.14159265\n",
    "sentence = f\"Pi is equal to {pi}\"\n",
    "print(sentence)"
   ]
  },
  {
   "cell_type": "markdown",
   "metadata": {},
   "source": [
    "#### Limit floating point to 4 (which is also rounded)"
   ]
  },
  {
   "cell_type": "code",
   "execution_count": 17,
   "metadata": {},
   "outputs": [
    {
     "name": "stdout",
     "output_type": "stream",
     "text": [
      "Pi is equal to 3.1416\n"
     ]
    }
   ],
   "source": [
    "pi = 3.14159265\n",
    "sentence = f\"Pi is equal to {pi:.4f}\"\n",
    "print(sentence)"
   ]
  },
  {
   "cell_type": "markdown",
   "metadata": {},
   "source": [
    "#### Date formatting."
   ]
  },
  {
   "cell_type": "code",
   "execution_count": 18,
   "metadata": {},
   "outputs": [
    {
     "name": "stdout",
     "output_type": "stream",
     "text": [
      "Casey's Birthday is on 2016-10-15 00:00:00\n"
     ]
    }
   ],
   "source": [
    "from datetime import datetime\n",
    "birthday = datetime(2016, 10, 15)\n",
    "print(f\"Casey's Birthday is on {birthday}\")"
   ]
  },
  {
   "cell_type": "code",
   "execution_count": 19,
   "metadata": {},
   "outputs": [
    {
     "name": "stdout",
     "output_type": "stream",
     "text": [
      "Casey's Birthday is on Saturday\n"
     ]
    }
   ],
   "source": [
    "from datetime import datetime\n",
    "birthday = datetime(2016, 10, 15)\n",
    "print(f\"Casey's Birthday is on {birthday:%A}\")"
   ]
  },
  {
   "cell_type": "code",
   "execution_count": 20,
   "metadata": {},
   "outputs": [
    {
     "name": "stdout",
     "output_type": "stream",
     "text": [
      "Casey's Birthday is on Saturday October 15, 2016\n"
     ]
    }
   ],
   "source": [
    "from datetime import datetime\n",
    "birthday = datetime(2016, 10, 15)\n",
    "print(f\"Casey's Birthday is on {birthday:%A %B %d, %Y}\")"
   ]
  },
  {
   "cell_type": "markdown",
   "metadata": {},
   "source": [
    "### String Interpolation: <br>\n",
    "    The process of evaluating a string literal containing one or more placeholders, \n",
    "    yielding a result in which the placeholders are replaces with their corresponding values.\n",
    "[YouTube](https://www.youtube.com/watch?v=0q8spKeh1Kc)"
   ]
  },
  {
   "cell_type": "markdown",
   "metadata": {},
   "source": [
    "**This is an example for string concatenation.**"
   ]
  },
  {
   "cell_type": "code",
   "execution_count": 21,
   "metadata": {},
   "outputs": [
    {
     "name": "stdout",
     "output_type": "stream",
     "text": [
      "My name is Casey and i am 3 years old\n"
     ]
    }
   ],
   "source": [
    "name = 'Casey'\n",
    "age = 3\n",
    "greeting = 'My name is ' + name + ' and i am ' + str(age) + ' years old'\n",
    "print(greeting)"
   ]
  },
  {
   "cell_type": "markdown",
   "metadata": {},
   "source": [
    "**This is an example for string interpolation.**"
   ]
  },
  {
   "cell_type": "code",
   "execution_count": 22,
   "metadata": {},
   "outputs": [
    {
     "name": "stdout",
     "output_type": "stream",
     "text": [
      "My name is Casey and I am 3 years old\n"
     ]
    }
   ],
   "source": [
    "name = 'Casey'\n",
    "age = '3'\n",
    "greeting = 'My name is {} and I am {} years old'.format(name, age)\n",
    "print(greeting)"
   ]
  },
  {
   "cell_type": "markdown",
   "metadata": {},
   "source": [
    "**Order of variable is not matter while using .format() method.**"
   ]
  },
  {
   "cell_type": "code",
   "execution_count": 23,
   "metadata": {},
   "outputs": [
    {
     "name": "stdout",
     "output_type": "stream",
     "text": [
      "My name is Casey and I am 3 years old\n"
     ]
    }
   ],
   "source": [
    "name = 'Casey'\n",
    "age = '3'\n",
    "greeting = 'My name is {name} and I am {age} years old'.format(age=age, name=name)\n",
    "print(greeting)"
   ]
  },
  {
   "cell_type": "markdown",
   "metadata": {},
   "source": [
    "**Using f-string for string interpolation!**"
   ]
  },
  {
   "cell_type": "code",
   "execution_count": 24,
   "metadata": {},
   "outputs": [
    {
     "name": "stdout",
     "output_type": "stream",
     "text": [
      "My name is Casey and I am 3 years old\n"
     ]
    }
   ],
   "source": [
    "name = 'Casey'\n",
    "age = '3'\n",
    "greeting = f'My name is {name} and I am {age} years old'\n",
    "print(greeting)"
   ]
  },
  {
   "cell_type": "code",
   "execution_count": null,
   "metadata": {},
   "outputs": [],
   "source": []
  }
 ],
 "metadata": {
  "kernelspec": {
   "display_name": "Python 3",
   "language": "python",
   "name": "python3"
  },
  "language_info": {
   "codemirror_mode": {
    "name": "ipython",
    "version": 3
   },
   "file_extension": ".py",
   "mimetype": "text/x-python",
   "name": "python",
   "nbconvert_exporter": "python",
   "pygments_lexer": "ipython3",
   "version": "3.7.5"
  }
 },
 "nbformat": 4,
 "nbformat_minor": 2
}
