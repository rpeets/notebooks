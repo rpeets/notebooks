{
 "cells": [
  {
   "cell_type": "markdown",
   "metadata": {},
   "source": [
    "#### Inheritance\n",
    "\n",
    "When the dataclass is being created by the dataclass() decorator, it looks through all of the class’s base classes in reverse MRO (that is, starting at object) and, for each dataclass that it finds, adds the fields from that base class to an ordered mapping of fields. After all of the base class fields are added, it adds its own fields to the ordered mapping. All of the generated methods will use this combined, calculated ordered mapping of fields. Because the fields are in insertion order, derived classes override base classes."
   ]
  },
  {
   "cell_type": "code",
   "execution_count": 1,
   "metadata": {},
   "outputs": [],
   "source": [
    "from dataclasses import dataclass, field\n",
    "\n",
    "@dataclass\n",
    "class Person():\n",
    "    name: str\n",
    "    age: int\n",
    "    city: str\n",
    "\n",
    "@dataclass\n",
    "class Student(Person):\n",
    "    grade: int\n",
    "    subjects: list"
   ]
  },
  {
   "cell_type": "markdown",
   "metadata": {},
   "source": [
    "In this class Student inherit from the class Person. And class student have two more attribute\n",
    "which are grade and subjects.\n",
    "\n",
    "In this case the init signature for Student will be expecting all the arguments (Shift + Tab to see help) for class Person + Class Student (1st base Class 2nd child Class)\n",
    "\n",
    "```\n",
    "Init signature: Student(name: str, age: int, city: str, grade: int, subjects: list) -> None\n",
    "Docstring:      Student(name: str, age: int, city: str, grade: int, subjects: list)\n",
    "```"
   ]
  },
  {
   "cell_type": "code",
   "execution_count": 2,
   "metadata": {},
   "outputs": [
    {
     "data": {
      "text/plain": [
       "Student(name='Antony', age=10, city='Belmont', grade=4, subjects=['Maths', 'Physics'])"
      ]
     },
     "execution_count": 2,
     "metadata": {},
     "output_type": "execute_result"
    }
   ],
   "source": [
    "s1 = Student('Antony', 10, 'Belmont', 4, ['Maths', 'Physics'])\n",
    "s1"
   ]
  },
  {
   "cell_type": "code",
   "execution_count": 3,
   "metadata": {},
   "outputs": [],
   "source": [
    "from dataclasses import dataclass, field\n",
    "\n",
    "@dataclass\n",
    "class A:\n",
    "    x: int = 10\n",
    "    y: int = 20\n",
    "\n",
    "@dataclass\n",
    "class B(A):\n",
    "    z: int = 30\n",
    "    x: int = 40"
   ]
  },
  {
   "cell_type": "markdown",
   "metadata": {},
   "source": [
    "In this case the init signature of class B will have default value for x is 40, and it is in the 1st position because child class is over writing the base class value 20 with 40. So the order of resolution works.\n",
    "\n",
    "```\n",
    "Init signature: B(x: int = 40, y: int = 20, z: int = 30) -> None \n",
    "Docstring:      B(x: int = 40, y: int = 20, z: int = 30) \n",
    "Type:           type \n",
    "Subclasses:\n",
    "```"
   ]
  },
  {
   "cell_type": "code",
   "execution_count": 4,
   "metadata": {},
   "outputs": [
    {
     "data": {
      "text/plain": [
       "B(x=40, y=20, z=30)"
      ]
     },
     "execution_count": 4,
     "metadata": {},
     "output_type": "execute_result"
    }
   ],
   "source": [
    "n1 = B()\n",
    "n1"
   ]
  },
  {
   "cell_type": "code",
   "execution_count": 5,
   "metadata": {},
   "outputs": [],
   "source": [
    "from dataclasses import dataclass, field\n",
    "\n",
    "@dataclass\n",
    "class A:\n",
    "    x: int = 100\n",
    "    y: int = 200\n",
    "\n",
    "@dataclass\n",
    "class B(A):\n",
    "    z: int = 300\n",
    "    y: int = 400"
   ]
  },
  {
   "cell_type": "code",
   "execution_count": 6,
   "metadata": {},
   "outputs": [
    {
     "data": {
      "text/plain": [
       "B(x=100, y=400, z=300)"
      ]
     },
     "execution_count": 6,
     "metadata": {},
     "output_type": "execute_result"
    }
   ],
   "source": [
    "n2 = B()\n",
    "n2"
   ]
  },
  {
   "cell_type": "code",
   "execution_count": null,
   "metadata": {},
   "outputs": [],
   "source": []
  }
 ],
 "metadata": {
  "kernelspec": {
   "display_name": "Python 3",
   "language": "python",
   "name": "python3"
  },
  "language_info": {
   "codemirror_mode": {
    "name": "ipython",
    "version": 3
   },
   "file_extension": ".py",
   "mimetype": "text/x-python",
   "name": "python",
   "nbconvert_exporter": "python",
   "pygments_lexer": "ipython3",
   "version": "3.7.5"
  }
 },
 "nbformat": 4,
 "nbformat_minor": 2
}
