{
 "cells": [
  {
   "cell_type": "markdown",
   "metadata": {},
   "source": [
    "### try except finally\n",
    "\n",
    "\n",
    "    The try statement works as follows.\n",
    "\n",
    "    First, the try clause (the statement(s) between the try and except keywords) is executed.\n",
    "\n",
    "    If no exception occurs, the except clause is skipped and execution of the try statement is finished.\n",
    "\n",
    "    If an exception occurs during execution of the try clause, the rest of the clause is skipped. Then if its type matches the exception named after the except keyword, the except clause is executed, and then execution continues after the try statement.\n",
    "\n",
    "    If an exception occurs which does not match the exception named in the except clause, it is passed on to outer try statements; if no handler is found, it is an unhandled exception and execution stops with a message as shown above.\n",
    "\n",
    "```\n",
    "try:\n",
    "    block-1 ...\n",
    "except Exception1:\n",
    "    handler-1 ...\n",
    "except Exception2:\n",
    "    handler-2 ...\n",
    "else:\n",
    "    else-block\n",
    "finally:\n",
    "    final-block\n",
    "```\n",
    "[YouTube](https://www.youtube.com/watch?v=NIWwJbo-9_8)"
   ]
  },
  {
   "cell_type": "markdown",
   "metadata": {},
   "source": [
    "Create the text file for this excersice."
   ]
  },
  {
   "cell_type": "code",
   "execution_count": 34,
   "metadata": {},
   "outputs": [
    {
     "name": "stdout",
     "output_type": "stream",
     "text": [
      "-rw-r--r-- 1 root root 14 Nov 11 03:56 filename.txt\r\n"
     ]
    }
   ],
   "source": [
    "!touch filename.txt\n",
    "!echo \"Casey 3 Porty\" > filename.txt\n",
    "!ls -al filename.txt"
   ]
  },
  {
   "cell_type": "markdown",
   "metadata": {},
   "source": [
    "**try except** is generally used to capture exception and display coustom error message."
   ]
  },
  {
   "cell_type": "code",
   "execution_count": 39,
   "metadata": {},
   "outputs": [
    {
     "ename": "FileNotFoundError",
     "evalue": "[Errno 2] No such file or directory: 'file_name.txt'",
     "output_type": "error",
     "traceback": [
      "\u001b[0;31m---------------------------------------------------------------------------\u001b[0m",
      "\u001b[0;31mFileNotFoundError\u001b[0m                         Traceback (most recent call last)",
      "\u001b[0;32m<ipython-input-39-a1aa9c3a666f>\u001b[0m in \u001b[0;36m<module>\u001b[0;34m\u001b[0m\n\u001b[0;32m----> 1\u001b[0;31m \u001b[0mfile\u001b[0m \u001b[0;34m=\u001b[0m \u001b[0mopen\u001b[0m\u001b[0;34m(\u001b[0m\u001b[0;34m\"file_name.txt\"\u001b[0m\u001b[0;34m)\u001b[0m\u001b[0;34m\u001b[0m\u001b[0;34m\u001b[0m\u001b[0m\n\u001b[0m",
      "\u001b[0;31mFileNotFoundError\u001b[0m: [Errno 2] No such file or directory: 'file_name.txt'"
     ]
    }
   ],
   "source": [
    "file = open(\"file_name.txt\")"
   ]
  },
  {
   "cell_type": "markdown",
   "metadata": {},
   "source": [
    "#### exception Exception\n",
    "````\n",
    "All built-in, non-system-exiting exceptions are derived from this class. All user-defined exceptions should also be derived from this class.```"
   ]
  },
  {
   "cell_type": "code",
   "execution_count": 40,
   "metadata": {},
   "outputs": [
    {
     "name": "stdout",
     "output_type": "stream",
     "text": [
      "File not found!\n"
     ]
    }
   ],
   "source": [
    "try:\n",
    "    file = open(\"file_name.txt\")\n",
    "except Exception:\n",
    "    print('File not found!')"
   ]
  },
  {
   "cell_type": "markdown",
   "metadata": {},
   "source": [
    "If you use general exception, all types of errors will capture and we will get unexpected error message.\n",
    "In this following case, we use the correct filename but variable assignment is wrong, but we are still geting 'File not found!' error, this can lead to confusion."
   ]
  },
  {
   "cell_type": "code",
   "execution_count": 41,
   "metadata": {},
   "outputs": [
    {
     "name": "stdout",
     "output_type": "stream",
     "text": [
      "File not found!\n"
     ]
    }
   ],
   "source": [
    "try:\n",
    "    file = open(\"file_name.txt\")\n",
    "    file2 = file1\n",
    "except Exception:\n",
    "    print('File not found!')"
   ]
  },
  {
   "cell_type": "markdown",
   "metadata": {},
   "source": [
    "We can handle this with more specic exceptions and multile **except** block.\n",
    "Python exceptions https://docs.python.org/3/library/exceptions.html"
   ]
  },
  {
   "cell_type": "code",
   "execution_count": 43,
   "metadata": {},
   "outputs": [
    {
     "name": "stdout",
     "output_type": "stream",
     "text": [
      "Some other error!\n"
     ]
    }
   ],
   "source": [
    "try:\n",
    "    file = open(\"filename.txt\")\n",
    "    file2 = file1\n",
    "except FileNotFoundError:\n",
    "    print('File not found!')\n",
    "except Exception:\n",
    "    print('Some other error!')"
   ]
  },
  {
   "cell_type": "markdown",
   "metadata": {},
   "source": [
    "Be careful with the order of Exceptions, 1st write your specific Exceptions then write your General Exceptions. "
   ]
  },
  {
   "cell_type": "code",
   "execution_count": 44,
   "metadata": {},
   "outputs": [
    {
     "name": "stdout",
     "output_type": "stream",
     "text": [
      "Some other error!\n"
     ]
    }
   ],
   "source": [
    "try:\n",
    "    file = open(\"filename.txt\")\n",
    "    file2 = file1\n",
    "except Exception:\n",
    "    print('Some other error!')\n",
    "except FileNotFoundError:\n",
    "    print('File not found!')"
   ]
  },
  {
   "cell_type": "markdown",
   "metadata": {},
   "source": [
    "We can also capture the actual to print in the message."
   ]
  },
  {
   "cell_type": "code",
   "execution_count": 45,
   "metadata": {},
   "outputs": [
    {
     "name": "stdout",
     "output_type": "stream",
     "text": [
      "Some other error!, name 'file1' is not defined\n"
     ]
    }
   ],
   "source": [
    "try:\n",
    "    file = open(\"filename.txt\")\n",
    "    file2 = file1\n",
    "except FileNotFoundError as e:\n",
    "    print(f'File not found!, {e}')\n",
    "except Exception as e:\n",
    "    print(f'Some other error!, {e}')"
   ]
  },
  {
   "cell_type": "markdown",
   "metadata": {},
   "source": [
    "The try … except statement has an optional **else** clause, which, when present, must follow all except clauses. It is useful for code that must be executed if the try clause does not raise an exception.\n",
    "\n",
    "TLDR: else block run code that need to be executed, if the try block doesn't raise and exception."
   ]
  },
  {
   "cell_type": "code",
   "execution_count": 47,
   "metadata": {},
   "outputs": [
    {
     "name": "stdout",
     "output_type": "stream",
     "text": [
      "Casey 3 Porty\n",
      "\n"
     ]
    }
   ],
   "source": [
    "try:\n",
    "    file = open(\"filename.txt\")\n",
    "    #file2 = file1\n",
    "except FileNotFoundError as e:\n",
    "    print(f'File not found!, {e}')\n",
    "except Exception as e:\n",
    "    print(f'Some other error!, {e}')\n",
    "else:\n",
    "    print(file.read())\n",
    "    file.close()"
   ]
  },
  {
   "cell_type": "markdown",
   "metadata": {},
   "source": [
    "If a finally clause is present, the finally clause will execute as the last task before the try statement completes. The finally clause runs whether or not the try statement produces an exception. The following points discuss more complex cases when an exception occurs:\n",
    "\n",
    "If an exception occurs during execution of the try clause, the exception may be handled by an except clause. If the exception is not handled by an except clause, the exception is re-raised after the finally clause has been executed.\n",
    "\n",
    "An exception could occur during execution of an except or else clause. Again, the exception is re-raised after the finally clause has been executed.\n",
    "\n",
    "If the try statement reaches a break, continue or return statement, the finally clause will execute just prior to the break, continue or return statement’s execution.\n",
    "\n",
    "If a finally clause includes a return statement, the finally clause’s return statement will execute before, and instead of, the return statement in a try clause.\n",
    "\n",
    "TLDR: Finaly code block run no matter what happen."
   ]
  },
  {
   "cell_type": "code",
   "execution_count": 54,
   "metadata": {},
   "outputs": [
    {
     "name": "stdout",
     "output_type": "stream",
     "text": [
      "division by zero!\n",
      "executing finally clause\n",
      "\n",
      "result is 2.0\n",
      "executing finally clause\n"
     ]
    }
   ],
   "source": [
    "def divide(x, y):\n",
    "    try:\n",
    "        result = x / y\n",
    "    except ZeroDivisionError:\n",
    "        print(\"division by zero!\")\n",
    "    else:\n",
    "        print(\"result is\", result)\n",
    "    finally:\n",
    "        print(\"executing finally clause\")\n",
    "\n",
    "divide(2, 0)\n",
    "print()\n",
    "divide(4, 2)"
   ]
  },
  {
   "cell_type": "markdown",
   "metadata": {},
   "source": [
    "The raise statement allows the programmer to force a specified exception to occur."
   ]
  },
  {
   "cell_type": "code",
   "execution_count": 64,
   "metadata": {},
   "outputs": [
    {
     "name": "stdout",
     "output_type": "stream",
     "text": [
      "Some other error!, File not Writable!\n"
     ]
    }
   ],
   "source": [
    "try:\n",
    "    file = open(\"filename.txt\")\n",
    "    if file.writable() == False:\n",
    "        raise Exception('File not Writable!')\n",
    "    #file2 = file1\n",
    "except FileNotFoundError as e:\n",
    "    print(f'File not found!, {e}')\n",
    "except Exception as e:\n",
    "    print(f'Some other error!, {e}')\n",
    "else:\n",
    "    print(file.read())\n",
    "    file.close()"
   ]
  },
  {
   "cell_type": "code",
   "execution_count": null,
   "metadata": {},
   "outputs": [],
   "source": []
  }
 ],
 "metadata": {
  "kernelspec": {
   "display_name": "Python 3",
   "language": "python",
   "name": "python3"
  },
  "language_info": {
   "codemirror_mode": {
    "name": "ipython",
    "version": 3
   },
   "file_extension": ".py",
   "mimetype": "text/x-python",
   "name": "python",
   "nbconvert_exporter": "python",
   "pygments_lexer": "ipython3",
   "version": "3.7.5"
  }
 },
 "nbformat": 4,
 "nbformat_minor": 2
}
