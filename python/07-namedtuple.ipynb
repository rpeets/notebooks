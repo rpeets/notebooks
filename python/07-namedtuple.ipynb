{
 "cells": [
  {
   "cell_type": "markdown",
   "metadata": {},
   "source": [
    "#### Namedtuple\n",
    "\n",
    "\n",
    "    Named tuples are basically easy-to-create, lightweight object types. Named tuple instances can be referenced using object-like variable dereferencing or the standard tuple syntax. They can be used similarly to struct or other common record types, except that they are immutable. They were added in Python 2.6 and Python 3.0\n",
    "\n",
    "    Tuples are immutable, but not very clear what are the values.\n",
    "\n",
    "[YouTube](https://www.youtube.com/watch?v=GfxJYp9_nJA)"
   ]
  },
  {
   "cell_type": "code",
   "execution_count": 1,
   "metadata": {},
   "outputs": [
    {
     "name": "stdout",
     "output_type": "stream",
     "text": [
      "Red   : 55\n",
      "Green : 155\n",
      "Blue  : 255\n"
     ]
    }
   ],
   "source": [
    "# representing (RGB in tuple)\n",
    "color = (55,155,255)\n",
    "print(f'Red   : {color[0]}')\n",
    "print(f'Green : {color[1]}')\n",
    "print(f'Blue  : {color[2]}')"
   ]
  },
  {
   "cell_type": "markdown",
   "metadata": {},
   "source": [
    "Dictionaries are mutable and need lil more typing in code."
   ]
  },
  {
   "cell_type": "code",
   "execution_count": 2,
   "metadata": {},
   "outputs": [
    {
     "name": "stdout",
     "output_type": "stream",
     "text": [
      "Red   : 55\n",
      "Green : 155\n",
      "Blue  : 255\n"
     ]
    }
   ],
   "source": [
    "# Using Dictionary to representing (RGB in tuple)\n",
    "color = {'red':55, 'green':155, 'blue':255}\n",
    "print(f'Red   : {color[\"red\"]}')\n",
    "print(f'Green : {color[\"green\"]}')\n",
    "print(f'Blue  : {color[\"blue\"]}')"
   ]
  },
  {
   "cell_type": "markdown",
   "metadata": {},
   "source": [
    "Namedtuples are immutable, and easier to read."
   ]
  },
  {
   "cell_type": "code",
   "execution_count": 3,
   "metadata": {},
   "outputs": [
    {
     "name": "stdout",
     "output_type": "stream",
     "text": [
      "Red   : 55\n",
      "Green : 155\n",
      "Blue  : 255\n",
      "Red   : 55\n",
      "Green : 155\n",
      "Blue  : 255\n"
     ]
    }
   ],
   "source": [
    "from collections import namedtuple\n",
    "\n",
    "Color = namedtuple('Color', ['red', 'green', 'blue'])\n",
    "color = Color(55,155,255)\n",
    "\n",
    "# Regular way getting value from tuple\n",
    "print(f'Red   : {color[0]}')\n",
    "print(f'Green : {color[1]}')\n",
    "print(f'Blue  : {color[2]}')\n",
    "\n",
    "# or use the namedtuple way by calling name.\n",
    "print(f'Red   : {color.red}')\n",
    "print(f'Green : {color.green}')\n",
    "print(f'Blue  : {color.blue}')"
   ]
  },
  {
   "cell_type": "markdown",
   "metadata": {},
   "source": [
    "Namedtuples can also be used like this.\n",
    "The way we assign them become lil more easier."
   ]
  },
  {
   "cell_type": "code",
   "execution_count": 4,
   "metadata": {},
   "outputs": [
    {
     "name": "stdout",
     "output_type": "stream",
     "text": [
      "Red   : 55\n",
      "Green : 155\n",
      "Blue  : 255\n",
      "Red   : 55\n",
      "Green : 155\n",
      "Blue  : 255\n"
     ]
    }
   ],
   "source": [
    "from collections import namedtuple\n",
    "\n",
    "Color = namedtuple('Color', 'red green blue')\n",
    "color = Color(55,155,255)\n",
    "\n",
    "# Regular way getting value from tuple\n",
    "print(f'Red   : {color[0]}')\n",
    "print(f'Green : {color[1]}')\n",
    "print(f'Blue  : {color[2]}')\n",
    "\n",
    "# or use the namedtuple way by calling name.\n",
    "print(f'Red   : {color.red}')\n",
    "print(f'Green : {color.green}')\n",
    "print(f'Blue  : {color.blue}')"
   ]
  },
  {
   "cell_type": "code",
   "execution_count": 5,
   "metadata": {},
   "outputs": [
    {
     "name": "stdout",
     "output_type": "stream",
     "text": [
      "1.0\n",
      "5.0\n",
      "2.5\n",
      "1.5\n",
      "3.8078865529319543\n"
     ]
    }
   ],
   "source": [
    "from collections import namedtuple\n",
    "\n",
    "Point = namedtuple('Point', 'x y')\n",
    "pt1 = Point(1.0, 5.0)\n",
    "pt2 = Point(2.5, 1.5)\n",
    "\n",
    "print(pt1.x)\n",
    "print(pt1.y)\n",
    "print(pt2.x)\n",
    "print(pt2.y)\n",
    "\n",
    "from math import sqrt\n",
    "line_length = sqrt((pt1.x-pt2.x)**2 + (pt1.y-pt2.y)**2)\n",
    "print(line_length)"
   ]
  },
  {
   "cell_type": "markdown",
   "metadata": {},
   "source": [
    "You should use named tuples instead of tuples anywhere you think object notation will make your code more pythonic and more easily readable. I personally have started using them to represent very simple value types, particularly when \n",
    "passing them as parameters to functions. It makes the functions more readable, without seeing the context of the tuple packing.\n",
    "\n",
    "If you want to be able change the values, you need another type. There is a handy recipe for mutable record types which allow you to set new values to attributes."
   ]
  },
  {
   "cell_type": "code",
   "execution_count": 6,
   "metadata": {},
   "outputs": [
    {
     "ename": "AttributeError",
     "evalue": "can't set attribute",
     "output_type": "error",
     "traceback": [
      "\u001b[0;31m---------------------------------------------------------------------------\u001b[0m",
      "\u001b[0;31mAttributeError\u001b[0m                            Traceback (most recent call last)",
      "\u001b[0;32m<ipython-input-6-ef22d7f7796d>\u001b[0m in \u001b[0;36m<module>\u001b[0;34m\u001b[0m\n\u001b[1;32m      1\u001b[0m \u001b[0mPoint\u001b[0m \u001b[0;34m=\u001b[0m \u001b[0mnamedtuple\u001b[0m\u001b[0;34m(\u001b[0m\u001b[0;34m'Point'\u001b[0m\u001b[0;34m,\u001b[0m \u001b[0;34m'x y'\u001b[0m\u001b[0;34m)\u001b[0m\u001b[0;34m\u001b[0m\u001b[0;34m\u001b[0m\u001b[0m\n\u001b[1;32m      2\u001b[0m \u001b[0mpt1\u001b[0m \u001b[0;34m=\u001b[0m \u001b[0mPoint\u001b[0m\u001b[0;34m(\u001b[0m\u001b[0;36m1.0\u001b[0m\u001b[0;34m,\u001b[0m \u001b[0;36m5.0\u001b[0m\u001b[0;34m)\u001b[0m\u001b[0;34m\u001b[0m\u001b[0;34m\u001b[0m\u001b[0m\n\u001b[0;32m----> 3\u001b[0;31m \u001b[0mpt1\u001b[0m\u001b[0;34m.\u001b[0m\u001b[0mx\u001b[0m \u001b[0;34m=\u001b[0m \u001b[0;36m2.0\u001b[0m\u001b[0;34m\u001b[0m\u001b[0;34m\u001b[0m\u001b[0m\n\u001b[0m",
      "\u001b[0;31mAttributeError\u001b[0m: can't set attribute"
     ]
    }
   ],
   "source": [
    "Point = namedtuple('Point', 'x y')\n",
    "pt1 = Point(1.0, 5.0)\n",
    "pt1.x = 2.0"
   ]
  },
  {
   "cell_type": "code",
   "execution_count": null,
   "metadata": {},
   "outputs": [],
   "source": []
  }
 ],
 "metadata": {
  "kernelspec": {
   "display_name": "Python 3",
   "language": "python",
   "name": "python3"
  },
  "language_info": {
   "codemirror_mode": {
    "name": "ipython",
    "version": 3
   },
   "file_extension": ".py",
   "mimetype": "text/x-python",
   "name": "python",
   "nbconvert_exporter": "python",
   "pygments_lexer": "ipython3",
   "version": "3.7.5"
  }
 },
 "nbformat": 4,
 "nbformat_minor": 2
}
