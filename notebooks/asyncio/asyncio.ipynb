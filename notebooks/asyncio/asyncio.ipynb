{
 "cells": [
  {
   "cell_type": "markdown",
   "metadata": {},
   "source": [
    "## What is async?\n",
    "\n",
    "- Concurrency without threads\n",
    "- Everything run in parallel except your code.\n",
    "- Launch some IO, and get a callback when its doen.\n",
    "- Except: in Python the callback is hidden.\n",
    "- coroutines, features and tasks are things you can wait for.\n",
    "- The event loop actually runs them (not you)\n",
    "- define a coroutine function with \"async dev\"\n",
    "- inside your coroutine with for something with \"await\"\n",
    "- create a coroutine object by calling the coroutine function\n"
   ]
  },
  {
   "cell_type": "code",
   "execution_count": 1,
   "metadata": {},
   "outputs": [
    {
     "name": "stdout",
     "output_type": "stream",
     "text": [
      "Finding nums in range 508000 divisible by 34113\n",
      "Done w/ nums in range 508000 divisible by 34113\n",
      "Finding nums in range 100052 divisible by 3210\n",
      "Done w/ nums in range 100052 divisible by 3210\n",
      "Finding nums in range 500 divisible by 3\n",
      "Done w/ nums in range 500 divisible by 3\n",
      "CPU times: user 135 ms, sys: 7.22 ms, total: 142 ms\n",
      "Wall time: 142 ms\n"
     ]
    }
   ],
   "source": [
    "%%time\n",
    "def find_divisible(inrange, div_by):\n",
    "    print(f\"Finding nums in range {inrange} divisible by {div_by}\")\n",
    "    located = []\n",
    "    for i in range(inrange):\n",
    "        if i % div_by == 0:\n",
    "            located.append(i)\n",
    "    print(f\"Done w/ nums in range {inrange} divisible by {div_by}\")\n",
    "    return located\n",
    "\n",
    "def main():\n",
    "    divs1 = find_divisible(508000, 34113)\n",
    "    divs1 = find_divisible(100052, 3210)\n",
    "    divs1 = find_divisible(500, 3)\n",
    "    \n",
    "main()"
   ]
  },
  {
   "cell_type": "code",
   "execution_count": 3,
   "metadata": {},
   "outputs": [
    {
     "name": "stdout",
     "output_type": "stream",
     "text": [
      "CPU times: user 213 µs, sys: 29 µs, total: 242 µs\n",
      "Wall time: 340 µs\n",
      "Finding nums in range 508000 divisible by 34113\n",
      "Finding nums in range 100052 divisible by 3210\n",
      "Finding nums in range 500 divisible by 3\n",
      "Done w/ nums in range 500 divisible by 3\n",
      "Done w/ nums in range 100052 divisible by 3210\n",
      "Done w/ nums in range 508000 divisible by 34113\n"
     ]
    }
   ],
   "source": [
    "%%time\n",
    "import asyncio\n",
    "\n",
    "async def find_divisibles(inrange, div_by):\n",
    "    print(f\"Finding nums in range {inrange} divisible by {div_by}\")\n",
    "    located = []\n",
    "    for i in range(inrange):\n",
    "        if i % div_by == 0:\n",
    "            located.append(i)\n",
    "        if i % 50000 == 0:\n",
    "            await asyncio.sleep(0.00001)\n",
    "    print(f\"Done w/ nums in range {inrange} divisible by {div_by}\")\n",
    "    return located\n",
    "\n",
    "async def main():\n",
    "    divs1 = loop.create_task(find_divisibles(508000, 34113))\n",
    "    divs2 = loop.create_task(find_divisibles(100052, 3210))\n",
    "    divs3 = loop.create_task(find_divisibles(500, 3))\n",
    "    await asyncio.wait([divs1, divs2, divs3])\n",
    "\n",
    "try:\n",
    "    loop = asyncio.get_event_loop()\n",
    "    loop.run_until_complete(main())\n",
    "except Exception as e:\n",
    "    pass\n",
    "#finally:\n",
    "#    loop.close()"
   ]
  },
  {
   "cell_type": "code",
   "execution_count": null,
   "metadata": {},
   "outputs": [],
   "source": []
  }
 ],
 "metadata": {
  "kernelspec": {
   "display_name": "Python 3",
   "language": "python",
   "name": "python3"
  },
  "language_info": {
   "codemirror_mode": {
    "name": "ipython",
    "version": 3
   },
   "file_extension": ".py",
   "mimetype": "text/x-python",
   "name": "python",
   "nbconvert_exporter": "python",
   "pygments_lexer": "ipython3",
   "version": "3.7.5"
  }
 },
 "nbformat": 4,
 "nbformat_minor": 2
}
