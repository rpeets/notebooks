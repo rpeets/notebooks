{
 "cells": [
  {
   "cell_type": "markdown",
   "metadata": {},
   "source": [
    "# Demystifying async, await, and asyncio\n",
    "\n",
    "\n",
    "![](https://res.cloudinary.com/practicaldev/image/fetch/s--ClV-OssW--/c_limit%2Cf_auto%2Cfl_progressive%2Cq_auto%2Cw_880/http://maked.io/content/images/2018/06/concurrency-parallelism.jpeg)\n",
    "\n",
    "## What is synchronous code?\n",
    "\n",
    "Synchronous code:\n",
    "\n",
    "- Is what you're used to!\n",
    "- Runs functions one after another\n",
    "\n",
    "## What is asynchronous code?\n",
    "\n",
    "Asynchronous code:\n",
    "\n",
    "- Runs multiple functions seemingly in parallel\n",
    "   - In a single process\n",
    "   - Without threads   \n",
    "- Requires cooporative, well-behaving functions\n",
    "   - Functions that regularly suspend by `await`ing something\n",
    "- Should not use blocking functions!\n",
    "  - No `time.sleep()`\n",
    "  - No `socket.*`\n",
    "  - Etc.\n",
    "  - `asyncio` provides non-blocking alternatives for many of these functions\n",
    "\n",
    "\n",
    "## A note on Python versions\n",
    "\n",
    "- The `async` and `await` keywords were introduced in Python 3.5\n",
    "- They are syntactic sugar on top of the `asyncio` module that was introduced in Python 3.4\n",
    "- Python 3.3 and earlier do not support this\n",
    "\n",
    "- But generator coroutines can do some of the same things\n",
    "\n",
    "[Documentation](https://docs.python.org/3/library/asyncio.html)<br>\n",
    "[YouTube](https://www.youtube.com/watch?v=tSLDcRkgTsY)<br>\n",
    "[BlogPost]()"
   ]
  },
  {
   "cell_type": "markdown",
   "metadata": {},
   "source": [
    "## Normal Function"
   ]
  },
  {
   "cell_type": "code",
   "execution_count": 21,
   "metadata": {},
   "outputs": [
    {
     "name": "stdout",
     "output_type": "stream",
     "text": [
      "▶ Highest prime below 100000\n",
      "▷ Highest prime below 100000 is 99991\n",
      "▶ Highest prime below 10000\n",
      "▷ Highest prime below 10000 is 9973\n",
      "▶ Highest prime below 1000\n",
      "▷ Highest prime below 1000 is 997\n"
     ]
    }
   ],
   "source": [
    "import time\n",
    "\n",
    "def is_prime(x):\n",
    "    #a = (x//i == x/i for i in range(x-1, 1, -1))\n",
    "    #print(a)\n",
    "    return not any(x//i == x/i for i in range(x-1, 1, -1))\n",
    "\n",
    "def highest_prime_below(x):\n",
    "    print(f'▶ Highest prime below {x}')\n",
    "    for y in range(x-1, 0, -1):\n",
    "        if is_prime(y):\n",
    "            print(f'▷ Highest prime below {x} is {y}')\n",
    "            return y\n",
    "        time.sleep(0.0001)\n",
    "    return None\n",
    "\n",
    "def main():\n",
    "    highest_prime_below(100000)\n",
    "    highest_prime_below(10000)\n",
    "    highest_prime_below(1000)\n",
    "    \n",
    "main()"
   ]
  },
  {
   "cell_type": "markdown",
   "metadata": {},
   "source": [
    "## Converting to asynchronous."
   ]
  },
  {
   "cell_type": "code",
   "execution_count": 22,
   "metadata": {},
   "outputs": [
    {
     "name": "stdout",
     "output_type": "stream",
     "text": [
      "▶ Highest prime below 1000\n",
      "▶ Highest prime below 100000\n",
      "▶ Highest prime below 10000\n",
      "▷ Highest prime below 1000 is 997\n",
      "▷ Highest prime below 100000 is 99991\n",
      "▷ Highest prime below 10000 is 9973\n"
     ]
    }
   ],
   "source": [
    "import time\n",
    "import asyncio\n",
    "import nest_asyncio\n",
    "nest_asyncio.apply()\n",
    "#https://github.com/spyder-ide/spyder/issues/7096\n",
    "\n",
    "def is_prime(x):\n",
    "    return not any(x//i == x/i for i in range(x-1, 1, -1))\n",
    "\n",
    "async def highest_prime_below(x):\n",
    "    print(f'▶ Highest prime below {x}')\n",
    "    for y in range(x-1, 0, -1):\n",
    "        if is_prime(y):\n",
    "            print(f'▷ Highest prime below {x} is {y}')\n",
    "            return y\n",
    "        await asyncio.sleep(0.01)\n",
    "        #time.sleep(0.01)\n",
    "    return None\n",
    "\n",
    "async def main():\n",
    "    await asyncio.wait([\n",
    "        highest_prime_below(100000),\n",
    "        highest_prime_below(10000),\n",
    "        highest_prime_below(1000)])\n",
    "    \n",
    "loop = asyncio.get_event_loop()\n",
    "loop.run_until_complete(main())\n",
    "#loop.close()"
   ]
  },
  {
   "cell_type": "markdown",
   "metadata": {},
   "source": [
    "## Check the time of taken while using asyncio.sleep() (line16)"
   ]
  },
  {
   "cell_type": "code",
   "execution_count": 23,
   "metadata": {},
   "outputs": [
    {
     "name": "stdout",
     "output_type": "stream",
     "text": [
      "▶ Highest prime below 10000\n",
      "▶ Highest prime below 100000\n",
      "▶ Highest prime below 1000\n",
      "▷ Highest prime below 1000 is 997\n",
      "▷ Highest prime below 100000 is 99991\n",
      "▷ Highest prime below 10000 is 9973\n",
      "Took 606.46 ms\n"
     ]
    }
   ],
   "source": [
    "import time\n",
    "import asyncio\n",
    "import nest_asyncio\n",
    "nest_asyncio.apply()\n",
    "#https://github.com/spyder-ide/spyder/issues/7096\n",
    "\n",
    "def is_prime(x):\n",
    "    return not any(x//i == x/i for i in range(x-1, 1, -1))\n",
    "\n",
    "async def highest_prime_below(x):\n",
    "    print(f'▶ Highest prime below {x}')\n",
    "    for y in range(x-1, 0, -1):\n",
    "        if is_prime(y):\n",
    "            print(f'▷ Highest prime below {x} is {y}')\n",
    "            return y\n",
    "        await asyncio.sleep(0.01)\n",
    "        #time.sleep(0.0001)\n",
    "    return None\n",
    "\n",
    "async def main():\n",
    "    t0 = time.time()\n",
    "    await asyncio.wait([\n",
    "        highest_prime_below(100000),\n",
    "        highest_prime_below(10000),\n",
    "        highest_prime_below(1000)])\n",
    "    t1 = time.time()\n",
    "    print(f'Took {1000*(t1-t0):.2f} ms')\n",
    "    \n",
    "loop = asyncio.get_event_loop()\n",
    "loop.run_until_complete(main())\n",
    "#loop.close()"
   ]
  },
  {
   "cell_type": "markdown",
   "metadata": {},
   "source": [
    "## Check the time of taken while using time.sleep() (line16)"
   ]
  },
  {
   "cell_type": "code",
   "execution_count": 24,
   "metadata": {},
   "outputs": [
    {
     "name": "stdout",
     "output_type": "stream",
     "text": [
      "▶ Highest prime below 100000\n",
      "▷ Highest prime below 100000 is 99991\n",
      "▶ Highest prime below 1000\n",
      "▷ Highest prime below 1000 is 997\n",
      "▶ Highest prime below 10000\n",
      "▷ Highest prime below 10000 is 9973\n",
      "Took 748.94 ms\n"
     ]
    }
   ],
   "source": [
    "import time\n",
    "import asyncio\n",
    "import nest_asyncio\n",
    "nest_asyncio.apply()\n",
    "#https://github.com/spyder-ide/spyder/issues/7096\n",
    "\n",
    "def is_prime(x):\n",
    "    return not any(x//i == x/i for i in range(x-1, 1, -1))\n",
    "\n",
    "async def highest_prime_below(x):\n",
    "    print(f'▶ Highest prime below {x}')\n",
    "    for y in range(x-1, 0, -1):\n",
    "        if is_prime(y):\n",
    "            print(f'▷ Highest prime below {x} is {y}')\n",
    "            return y\n",
    "        #await asyncio.sleep(0.01)\n",
    "        time.sleep(0.01)\n",
    "    return None\n",
    "\n",
    "async def main():\n",
    "    t0 = time.time()\n",
    "    await asyncio.wait([\n",
    "        highest_prime_below(100000),\n",
    "        highest_prime_below(10000),\n",
    "        highest_prime_below(1000)])\n",
    "    t1 = time.time()\n",
    "    print(f'Took {1000*(t1-t0):.2f} ms')\n",
    "    \n",
    "loop = asyncio.get_event_loop()\n",
    "loop.run_until_complete(main())\n",
    "#loop.close()"
   ]
  },
  {
   "cell_type": "markdown",
   "metadata": {},
   "source": [
    "### Another example.\n",
    "[YouTube](https://www.youtube.com/watch?v=BI0asZuqFXM)"
   ]
  },
  {
   "cell_type": "code",
   "execution_count": 1,
   "metadata": {},
   "outputs": [
    {
     "name": "stdout",
     "output_type": "stream",
     "text": [
      "Finding nums in range 508000 divisible by 34113\n",
      "Done w/ nums in range 508000 divisible by 34113\n",
      "Finding nums in range 100052 divisible by 3210\n",
      "Done w/ nums in range 100052 divisible by 3210\n",
      "Finding nums in range 500 divisible by 3\n",
      "Done w/ nums in range 500 divisible by 3\n",
      "CPU times: user 135 ms, sys: 7.22 ms, total: 142 ms\n",
      "Wall time: 142 ms\n"
     ]
    }
   ],
   "source": [
    "%%time\n",
    "def find_divisible(inrange, div_by):\n",
    "    print(f\"Finding nums in range {inrange} divisible by {div_by}\")\n",
    "    located = []\n",
    "    for i in range(inrange):\n",
    "        if i % div_by == 0:\n",
    "            located.append(i)\n",
    "    print(f\"Done w/ nums in range {inrange} divisible by {div_by}\")\n",
    "    return located\n",
    "\n",
    "def main():\n",
    "    divs1 = find_divisible(508000, 34113)\n",
    "    divs1 = find_divisible(100052, 3210)\n",
    "    divs1 = find_divisible(500, 3)\n",
    "    \n",
    "main()"
   ]
  },
  {
   "cell_type": "code",
   "execution_count": 3,
   "metadata": {},
   "outputs": [
    {
     "name": "stdout",
     "output_type": "stream",
     "text": [
      "CPU times: user 213 µs, sys: 29 µs, total: 242 µs\n",
      "Wall time: 340 µs\n",
      "Finding nums in range 508000 divisible by 34113\n",
      "Finding nums in range 100052 divisible by 3210\n",
      "Finding nums in range 500 divisible by 3\n",
      "Done w/ nums in range 500 divisible by 3\n",
      "Done w/ nums in range 100052 divisible by 3210\n",
      "Done w/ nums in range 508000 divisible by 34113\n"
     ]
    }
   ],
   "source": [
    "%%time\n",
    "import asyncio\n",
    "\n",
    "async def find_divisibles(inrange, div_by):\n",
    "    print(f\"Finding nums in range {inrange} divisible by {div_by}\")\n",
    "    located = []\n",
    "    for i in range(inrange):\n",
    "        if i % div_by == 0:\n",
    "            located.append(i)\n",
    "        if i % 50000 == 0:\n",
    "            await asyncio.sleep(0.00001)\n",
    "    print(f\"Done w/ nums in range {inrange} divisible by {div_by}\")\n",
    "    return located\n",
    "\n",
    "async def main():\n",
    "    divs1 = loop.create_task(find_divisibles(508000, 34113))\n",
    "    divs2 = loop.create_task(find_divisibles(100052, 3210))\n",
    "    divs3 = loop.create_task(find_divisibles(500, 3))\n",
    "    await asyncio.wait([divs1, divs2, divs3])\n",
    "\n",
    "try:\n",
    "    loop = asyncio.get_event_loop()\n",
    "    loop.run_until_complete(main())\n",
    "except Exception as e:\n",
    "    pass\n",
    "#finally:\n",
    "#    loop.close()"
   ]
  },
  {
   "cell_type": "code",
   "execution_count": 4,
   "metadata": {},
   "outputs": [
    {
     "name": "stdout",
     "output_type": "stream",
     "text": [
      "Requirement already satisfied: nest_asyncio in /usr/local/lib/python3.7/site-packages (1.2.1)\r\n"
     ]
    }
   ],
   "source": [
    "!pip install nest_asyncio"
   ]
  },
  {
   "cell_type": "markdown",
   "metadata": {},
   "source": [
    "### async/await in Python 3.5 and why it is awesome\n",
    "\n",
    "[YouTube](https://www.youtube.com/watch?v=m28fiN9y_r8)\n",
    "\n",
    "**asyncio is simple, need only seven function to use it.**\n",
    "\n",
    "- asyncio.get_event_loop()\n",
    "- loop.create_task()\n",
    "- loop.run_until_complete() and loop.run_forever()\n",
    "- asyncio.gather()\n",
    "- loop.run_in_executor()\n",
    "- loop.close"
   ]
  },
  {
   "cell_type": "markdown",
   "metadata": {},
   "source": [
    "**loop.create_task()** <br>\n",
    "run for ever need CTRL + C to exit."
   ]
  },
  {
   "cell_type": "code",
   "execution_count": null,
   "metadata": {},
   "outputs": [],
   "source": [
    "async def say(what, when):\n",
    "    await asyncio.sleep(when)\n",
    "    print(what)\n",
    "\n",
    "loop = asyncio.get_event_loop()\n",
    "loop.create_task(say('hello', 0.5))\n",
    "loop.create_task(say('world', 1))\n",
    "loop.run_forever()"
   ]
  },
  {
   "cell_type": "markdown",
   "metadata": {},
   "source": [
    "**loop.create_task()**"
   ]
  },
  {
   "cell_type": "code",
   "execution_count": 30,
   "metadata": {},
   "outputs": [
    {
     "name": "stdout",
     "output_type": "stream",
     "text": [
      "hello\n",
      "world\n"
     ]
    },
    {
     "data": {
      "text/plain": [
       "[None, None]"
      ]
     },
     "execution_count": 30,
     "metadata": {},
     "output_type": "execute_result"
    }
   ],
   "source": [
    "async def say(what, when):\n",
    "    await asyncio.sleep(when)\n",
    "    print(what)\n",
    "\n",
    "t1 = loop.create_task(say('hello', 0.5))\n",
    "t2 = loop.create_task(say('world', 1))\n",
    "loop.run_until_complete(asyncio.gather(t1, t2))"
   ]
  },
  {
   "cell_type": "markdown",
   "metadata": {},
   "source": [
    "## Coroutines in Python (async/await)\n",
    "\n",
    "[YouTube](https://www.youtube.com/watch?v=c6uoxhaenHg)"
   ]
  },
  {
   "cell_type": "markdown",
   "metadata": {},
   "source": [
    "# asyncio\n",
    "\n",
    "> To write **concurrent**, **asynchronous**, and **cooperative** code in a sequential style.\n",
    "\n",
    "\n",
    "### Concurrency vs Parallelism\n",
    "\n",
    "<img src=\"https://i.imgur.com/qTBGK9L.png\" height=800 width=800>\n",
    "\n",
    "### Asynchronous vs Synchronous\n",
    "\n",
    "<img src=\"https://i.imgur.com/27Hoqxt.png\" height=800 width=800>\n",
    "\n",
    "### Cooperative vs preemptive\n",
    "\n",
    "<img src=\"https://i.imgur.com/IBL4310.png\" height=800 width=800>\n",
    "\n",
    "> asyncio is used as a foundation for multiple Python asynchronous frameworks that provide high-performance network and web-servers, database connection libraries, distributed task queues, etc."
   ]
  },
  {
   "cell_type": "markdown",
   "metadata": {},
   "source": [
    "## Coroutine\n",
    "\n",
    "> A function which can pause and resume its execution.\n",
    "\n",
    "<img src=\"https://i.imgur.com/ZmHHdzI.png\" height=600 width=400>\n",
    "\n",
    "\n",
    "### How to define a coroutine?\n",
    "\n",
    "```python\n",
    "async def main():\n",
    "    ...\n",
    "    ...\n",
    "```"
   ]
  },
  {
   "cell_type": "code",
   "execution_count": 33,
   "metadata": {},
   "outputs": [],
   "source": [
    "async def main():\n",
    "    print(\"Hello\")"
   ]
  },
  {
   "cell_type": "code",
   "execution_count": 34,
   "metadata": {},
   "outputs": [
    {
     "data": {
      "text/plain": [
       "<coroutine object main at 0x7fb19c18f3b0>"
      ]
     },
     "execution_count": 34,
     "metadata": {},
     "output_type": "execute_result"
    }
   ],
   "source": [
    "main()"
   ]
  },
  {
   "cell_type": "markdown",
   "metadata": {},
   "source": [
    "### How to pause execution of coroutine?\n",
    "\n",
    "```python\n",
    "async def main():\n",
    "    await awaitable_object\n",
    "    ...\n",
    "    ...\n",
    "```\n",
    "\n",
    "> Awaitable objects are: **coroutines**, **Tasks**, and **Futures**.\n",
    "\n",
    "> **Tasks** are used to schedule coroutines concurrently. When a coroutine is wrapped into a Task with functions like `asyncio.create_task()` the coroutine is automatically scheduled to run soon.\n",
    "\n",
    "> A **Future** is a special low-level awaitable object that represents an eventual result of an asynchronous operation.\n"
   ]
  },
  {
   "cell_type": "code",
   "execution_count": null,
   "metadata": {},
   "outputs": [],
   "source": []
  }
 ],
 "metadata": {
  "kernelspec": {
   "display_name": "Python 3",
   "language": "python",
   "name": "python3"
  },
  "language_info": {
   "codemirror_mode": {
    "name": "ipython",
    "version": 3
   },
   "file_extension": ".py",
   "mimetype": "text/x-python",
   "name": "python",
   "nbconvert_exporter": "python",
   "pygments_lexer": "ipython3",
   "version": "3.7.5"
  }
 },
 "nbformat": 4,
 "nbformat_minor": 2
}
