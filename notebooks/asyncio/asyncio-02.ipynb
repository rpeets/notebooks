{
 "cells": [
  {
   "cell_type": "markdown",
   "metadata": {},
   "source": [
    "# 01. What is Concurrent Programming?\n",
    "\n",
    "[YouTube](https://www.youtube.com/watch?v=y85G7GLYhYA)"
   ]
  },
  {
   "cell_type": "markdown",
   "metadata": {},
   "source": [
    "## What is concurrent?\n",
    "\n",
    "> Concurrent describes things that are occurring, or people who are doing something, **at the same time**, such as “concurrent users” of a computer program. \n",
    ">\n",
    ">On the other hand, Consecutive refers to things that are arranged or happen in a sequential order.\n",
    "\n",
    "### Real life example? \n",
    "\n",
    "> Sequential Engineering vs Concurrent Design and Manufacturing\n",
    "\n",
    "![](https://upload.wikimedia.org/wikipedia/commons/d/d6/Waterfall_vs_iterative.JPG)\n"
   ]
  },
  {
   "cell_type": "markdown",
   "metadata": {},
   "source": [
    "## What is concurrent programming/computing?\n",
    "\n",
    "> In a concurrent program, several streams of operations may execute concurrently. Each stream of operations executes as it would in a sequential program except for the fact that streams can communicate and interfere with one another. \n",
    "\n",
    "> Concurrency is a property of a system which enables overlapping of process lifetimes.\n",
    "\n",
    "![](http://amrelroumy.github.io/2013/06/concurrent-execution.jpg)\n",
    "\n",
    "## Concurrency vs Parallelism\n",
    "\n",
    "<img src=\"https://i.imgur.com/qTBGK9L.png\" height=800 width=800>\n"
   ]
  },
  {
   "cell_type": "markdown",
   "metadata": {},
   "source": [
    "## A simple story.\n",
    "\n",
    "--------\n",
    "\n",
    "![](https://i.imgur.com/Pg2uuH2.png)\n",
    "\n",
    "------------\n",
    "\n",
    "![](https://i.imgur.com/uOqlK6P.png)\n",
    "\n",
    "----------\n",
    "\n",
    "![](https://i.imgur.com/nhgBpYN.png)"
   ]
  },
  {
   "cell_type": "markdown",
   "metadata": {},
   "source": [
    "# 02. Coroutines in Python (async/await)\n",
    "\n",
    "[YouTube](https://www.youtube.com/watch?v=c6uoxhaenHg)"
   ]
  },
  {
   "cell_type": "markdown",
   "metadata": {},
   "source": [
    "## Coroutine\n",
    "\n",
    "> A function which can pause and resume its execution.\n",
    "\n",
    "<img src=\"https://i.imgur.com/ZmHHdzI.png\" height=600 width=400>\n",
    "\n",
    "\n",
    "### How to define a coroutine?\n",
    "\n",
    "```python\n",
    "async def main():\n",
    "    ...\n",
    "    ...\n",
    "```"
   ]
  },
  {
   "cell_type": "code",
   "execution_count": 4,
   "metadata": {},
   "outputs": [
    {
     "data": {
      "text/plain": [
       "<coroutine object main at 0x7f57611b93b0>"
      ]
     },
     "execution_count": 4,
     "metadata": {},
     "output_type": "execute_result"
    }
   ],
   "source": [
    "async def main():\n",
    "    print(\"Hello\")\n",
    "\n",
    "main()"
   ]
  },
  {
   "cell_type": "markdown",
   "metadata": {},
   "source": [
    "### How to pause execution of coroutine?\n",
    "\n",
    "```python\n",
    "async def main():\n",
    "    await awaitable_object\n",
    "    ...\n",
    "    ...\n",
    "```\n",
    "\n",
    "> Awaitable objects are: **coroutines**, **Tasks**, and **Futures**.\n",
    "\n",
    "> **Tasks** are used to schedule coroutines concurrently. When a coroutine is wrapped into a Task with functions like `asyncio.create_task()` the coroutine is automatically scheduled to run soon.\n",
    "\n",
    "> A **Future** is a special low-level awaitable object that represents an eventual result of an asynchronous operation.\n"
   ]
  },
  {
   "cell_type": "markdown",
   "metadata": {},
   "source": [
    "### How to block coroutine for ***x*** seconds?\n",
    "\n",
    "#### Using asyncio.sleep\n",
    "\n",
    "```python\n",
    "async def main():\n",
    "    print(\"Indian\")\n",
    "    await asyncio.sleep(3)\n",
    "    print(\"Pythonista\")\n",
    "```\n",
    "\n",
    "> asyncio.sleep() always suspends the current task, allowing other tasks to run.\n"
   ]
  },
  {
   "cell_type": "markdown",
   "metadata": {},
   "source": [
    "### How to execute coroutine?\n",
    "\n",
    "#### Using Event Loop\n",
    "\n",
    "> The **event loop** is the core of every asyncio application. It runs in a thread (typically the main thread) and executes all callbacks and Tasks in its thread.\n",
    "\n",
    "```python\n",
    "loop = asyncio.get_event_loop()\n",
    "loop.run_until_complete(my_coroutine())\n",
    "loop.close()\n",
    "```\n",
    "\n",
    "#### A shortcut... (since Python 3.7)\n",
    "\n",
    "```python\n",
    "asyncio.run(my_coroutine())\n",
    "```\n"
   ]
  },
  {
   "cell_type": "markdown",
   "metadata": {},
   "source": []
  },
  {
   "cell_type": "code",
   "execution_count": null,
   "metadata": {},
   "outputs": [],
   "source": []
  },
  {
   "cell_type": "code",
   "execution_count": null,
   "metadata": {},
   "outputs": [],
   "source": []
  },
  {
   "cell_type": "code",
   "execution_count": null,
   "metadata": {},
   "outputs": [],
   "source": []
  },
  {
   "cell_type": "code",
   "execution_count": null,
   "metadata": {},
   "outputs": [],
   "source": []
  },
  {
   "cell_type": "code",
   "execution_count": null,
   "metadata": {},
   "outputs": [],
   "source": []
  },
  {
   "cell_type": "markdown",
   "metadata": {},
   "source": [
    "# 03 Concurrent Execution using asyncio\n",
    "\n",
    "[YouTube](https://www.youtube.com/watch?v=tmMqdrEzVRI)"
   ]
  },
  {
   "cell_type": "markdown",
   "metadata": {},
   "source": [
    "## How to execute coroutines concurrently?\n",
    "\n",
    "- Using asyncio running multiple coroutine concurrently is quiet easy, using asyncio.gather(). asyncio.gather takes multiple coroutine ( or any type of awaitable object) as an input in the form of non keyworded arguments.\n",
    "\n",
    "#### Using asyncio.gather\n",
    "\n",
    "```python\n",
    "import asyncio\n",
    "\n",
    "async def main():\n",
    "    await async.gather(\n",
    "        coroutine1(),\n",
    "        coroutine2(),\n",
    "        coroutine3(),\n",
    "    )\n",
    "    \n",
    "asyncio.run(main())\n",
    "```"
   ]
  },
  {
   "cell_type": "code",
   "execution_count": 2,
   "metadata": {},
   "outputs": [
    {
     "name": "stdout",
     "output_type": "stream",
     "text": [
      "0 Seconds have passed.\n",
      "0\n",
      "1\n",
      "2\n",
      "3\n",
      "2 Seconds have passed.\n",
      "4\n",
      "5\n",
      "6\n",
      "7\n",
      "4 Seconds have passed.\n",
      "8\n",
      "9\n",
      "10\n",
      "11\n",
      "6 Seconds have passed.\n",
      "12\n",
      "13\n",
      "14\n",
      "15\n",
      "8 Seconds have passed.\n",
      "16\n",
      "17\n",
      "18\n",
      "19\n",
      "10 Seconds have passed.\n"
     ]
    }
   ],
   "source": [
    "%reset -f\n",
    "\n",
    "#Python >=3.7\n",
    "import asyncio\n",
    "import time\n",
    "import nest_asyncio        # Need only while using Jupyter Notebook\n",
    "nest_asyncio.apply()       # Need only while using Jupyter Notebook\n",
    "\n",
    "async def display_time():\n",
    "    start_time = time.time()\n",
    "    while True:\n",
    "        dur = int(time.time() - start_time)\n",
    "        if dur > 11:\n",
    "            break\n",
    "        if dur % 2 == 0:\n",
    "            print(f\"{dur} Seconds have passed.\")\n",
    "        await asyncio.sleep(1)\n",
    "\n",
    "async def print_nums():\n",
    "    for num in range(20):\n",
    "        print(num)\n",
    "        await asyncio.sleep(0.5)\n",
    "\n",
    "async def main():\n",
    "    task1 = asyncio.create_task(display_time())\n",
    "    task2 = asyncio.create_task(print_nums())\n",
    "    await asyncio.gather(task1, task2)\n",
    "\n",
    "try:\n",
    "    asyncio.run(main())\n",
    "except KeyboardInterrupt as e:\n",
    "    pass"
   ]
  },
  {
   "cell_type": "code",
   "execution_count": 6,
   "metadata": {},
   "outputs": [
    {
     "name": "stderr",
     "output_type": "stream",
     "text": [
      "/usr/local/lib/python3.7/site-packages/IPython/core/interactiveshell.py:1441: RuntimeWarning: coroutine 'main' was never awaited\n",
      "  self.user_ns_hidden.clear()\n",
      "RuntimeWarning: Enable tracemalloc to get the object allocation traceback\n"
     ]
    },
    {
     "name": "stdout",
     "output_type": "stream",
     "text": [
      "0 Seconds have passed.\n",
      "0\n",
      "1\n",
      "2\n",
      "3\n",
      "2 Seconds have passed.\n",
      "4\n",
      "5\n",
      "6\n",
      "7\n",
      "4 Seconds have passed.\n",
      "8\n",
      "9\n",
      "10\n",
      "11\n",
      "6 Seconds have passed.\n",
      "12\n",
      "13\n",
      "14\n",
      "15\n",
      "8 Seconds have passed.\n",
      "16\n",
      "17\n",
      "18\n",
      "19\n",
      "10 Seconds have passed.\n"
     ]
    }
   ],
   "source": [
    "%reset -f\n",
    "\n",
    "#Python <= 3.6\n",
    "import asyncio\n",
    "import time\n",
    "import nest_asyncio        # Need only while using Jupyter Notebook\n",
    "nest_asyncio.apply()       # Need only while using Jupyter Notebook\n",
    "\n",
    "async def display_time():\n",
    "    start_time = time.time()\n",
    "    while True:\n",
    "        dur = int(time.time() - start_time)\n",
    "        if dur > 11:\n",
    "            break\n",
    "        if dur % 2 == 0:\n",
    "            print(f\"{dur} Seconds have passed.\")\n",
    "        await asyncio.sleep(1)\n",
    "\n",
    "async def print_nums():\n",
    "    for num in range(20):\n",
    "        print(num)\n",
    "        await asyncio.sleep(0.5)\n",
    "\n",
    "async def main():\n",
    "    task1 = asyncio.ensure_future(display_time())\n",
    "    task2 = asyncio.ensure_future(print_nums())\n",
    "    await asyncio.gather(task1, task2)\n",
    "\n",
    "try:\n",
    "    loop = asyncio.get_event_loop()\n",
    "    loop.run_until_complete(main())\n",
    "except KeyboardInterrupt as e:\n",
    "    pass\n",
    "# finally:\n",
    "#     loop.close()"
   ]
  },
  {
   "cell_type": "code",
   "execution_count": null,
   "metadata": {},
   "outputs": [],
   "source": []
  }
 ],
 "metadata": {
  "kernelspec": {
   "display_name": "Python 3",
   "language": "python",
   "name": "python3"
  },
  "language_info": {
   "codemirror_mode": {
    "name": "ipython",
    "version": 3
   },
   "file_extension": ".py",
   "mimetype": "text/x-python",
   "name": "python",
   "nbconvert_exporter": "python",
   "pygments_lexer": "ipython3",
   "version": "3.7.5"
  }
 },
 "nbformat": 4,
 "nbformat_minor": 2
}
