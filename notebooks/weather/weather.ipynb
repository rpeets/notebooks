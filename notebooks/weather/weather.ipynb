{
 "cells": [
  {
   "cell_type": "code",
   "execution_count": 1,
   "metadata": {},
   "outputs": [],
   "source": [
    "class Weather():\n",
    "    \n",
    "    def __init__(self, name, latitude, longitude, sunrise, sunset, data):\n",
    "        self.name = name\n",
    "        self.longitude = longitude\n",
    "        self.latitude = latitude\n",
    "        self.sunrise = sunrise\n",
    "        self.sunset = sunset\n",
    "        self.data = data\n",
    "        self.weather = self.data['weather'][0]['main']\n",
    "        self.description = self.data['weather'][0]['description']\n",
    "        self.temperature = self.data['main']['temp']\n",
    "        self.min_temperature = self.data['main']['temp_min']\n",
    "        self.max_temperature = self.data['main']['temp_max']\n",
    "        self.pressure = self.data['main']['pressure']\n",
    "        self.hummidity = self.data['main']['humidity']\n",
    "        self.sea_level = self.data['main']['sea_level']\n",
    "        self.grnd_level = self.data['main']['grnd_level']\n",
    "        self.wind_speed = self.data['wind']['speed']\n",
    "        self.time = self.data['dt']\n",
    "        self.time_text = self.data['dt_txt']\n",
    "        \n",
    "    def f_temperature(self):\n",
    "        return round(self.temperature * (9/5) - 459.67, 1)\n",
    "        \n",
    "    def f_max_temperature(self):\n",
    "        return round(self.max_temperature * (9/5) - 459.67, 2)\n",
    "    \n",
    "    def f_min_temperature(self):\n",
    "        return round(self.min_temperature * (9/5) - 459.67, 2)"
   ]
  },
  {
   "cell_type": "code",
   "execution_count": 2,
   "metadata": {},
   "outputs": [],
   "source": [
    "import requests\n",
    "import json\n",
    "\n",
    "wdata = []\n",
    "count = 0\n",
    "\n",
    "def getdata_by_cityid(cityid, api_key):\n",
    "    global count\n",
    "    count += 1\n",
    "    base_url = 'http://api.openweathermap.org/data/2.5/forecast?id='\n",
    "    url = f\"{base_url}{cityid}&{api_key}\"\n",
    "    r = requests.get(url).json()\n",
    "    try:\n",
    "        name = r['city']['name']\n",
    "        latitude =  r['city']['coord']['lat']\n",
    "        longitude = r['city']['coord']['lon']\n",
    "        sunrise = r['city']['sunrise']\n",
    "        sunset = r['city']['sunset']\n",
    "        #print(f\"{count}  {name}\")\n",
    "        for i in r['list']:\n",
    "            wdata.append(Weather(name, latitude, longitude, sunrise, sunset, i))\n",
    "    except KeyError:\n",
    "        pass\n",
    "\n",
    "# List of City ID : http://bulk.openweathermap.org/sample/  \n",
    "with open('../tmp/current.city.list.json', 'r') as jf: wcity = json.load(jf)\n",
    "\n",
    "# OpenWeather API KEY : https://openweathermap.org/appid\n",
    "with open('../tmp/openweathermap.key', 'r') as kf: api_key = kf.read().rstrip()\n",
    "\n",
    "for city in wcity:\n",
    "    if city['country'] == 'US':\n",
    "        getdata_by_cityid(city['id'], api_key)\n",
    "        \n",
    "# Takes about 10 min to collect all the data."
   ]
  },
  {
   "cell_type": "code",
   "execution_count": null,
   "metadata": {},
   "outputs": [],
   "source": [
    "import pandas as pd\n",
    "\n",
    "dlist = [{'name':i.name, \n",
    "          'latitude': i.latitude,\n",
    "          'longitude': i.longitude, \n",
    "          'temperature': i.f_temperature(), \n",
    "          'max_temperature': i.f_max_temperature(), \n",
    "          'min_temperature': i.f_min_temperature(), \n",
    "          'humidity': i.hummidity, \n",
    "          'pressure': i.pressure,\n",
    "          'windspeed': i.wind_speed,\n",
    "          'time': i.time, \n",
    "          'timetxt': i.time_text, \n",
    "          'weather': i.weather} for i in wdata]\n",
    "# print(dlist)\n",
    "\n",
    "df = pd.DataFrame(dlist)\n",
    "# print(df)"
   ]
  },
  {
   "cell_type": "code",
   "execution_count": null,
   "metadata": {},
   "outputs": [],
   "source": [
    "import plotly.express as px\n",
    "\n",
    "# MapBox Token : https://docs.mapbox.com/help/how-mapbox-works/access-tokens/\n",
    "with open('../tmp/mapbox.key', 'r') as tf: token = tf.read().rstrip()\n",
    "\n",
    "px.set_mapbox_access_token(token)\n",
    "fig = px.scatter_mapbox(df, zoom=3, lat=\"latitude\", lon=\"longitude\", \n",
    "                        color=\"weather\", \n",
    "                        animation_frame=\"timetxt\",\n",
    "                        #range_color=[80, 20],\n",
    "                        hover_data=df.columns)\n",
    "fig.show()"
   ]
  },
  {
   "cell_type": "markdown",
   "metadata": {},
   "source": [
    "**Output Image**\n",
    "\n",
    "![Output](weather.jpg \"weather\")"
   ]
  },
  {
   "cell_type": "code",
   "execution_count": null,
   "metadata": {},
   "outputs": [],
   "source": []
  }
 ],
 "metadata": {
  "kernelspec": {
   "display_name": "Python 3",
   "language": "python",
   "name": "python3"
  },
  "language_info": {
   "codemirror_mode": {
    "name": "ipython",
    "version": 3
   },
   "file_extension": ".py",
   "mimetype": "text/x-python",
   "name": "python",
   "nbconvert_exporter": "python",
   "pygments_lexer": "ipython3",
   "version": "3.7.5"
  }
 },
 "nbformat": 4,
 "nbformat_minor": 2
}
