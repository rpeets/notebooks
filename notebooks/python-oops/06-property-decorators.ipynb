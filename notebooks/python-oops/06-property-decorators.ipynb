{
 "cells": [
  {
   "cell_type": "markdown",
   "metadata": {},
   "source": [
    "### Property Decorators\n",
    "\n",
    "    Property Decorators allows us to get the class attributes getters setters and deleters functionality like in other languages. \n",
    "    \n",
    "    A property object has getter, setter, and deleter methods usable as decorators that create a copy of the property with the corresponding accessor function set to the decorated function.\n",
    "    \n",
    "    Property Decorators allows us to define a method and we can access it like an attributes.\n",
    "    \n",
    "    The main objective of any decorator is to modify your class methods or attributes in such a way so that the user of your class no need to make any change in their code."
   ]
  },
  {
   "cell_type": "code",
   "execution_count": 1,
   "metadata": {},
   "outputs": [
    {
     "name": "stdout",
     "output_type": "stream",
     "text": [
      "Casey\n",
      "Casey.Boy@example.com\n",
      "Casey Boy\n"
     ]
    }
   ],
   "source": [
    "class Employee:\n",
    "    def __init__(self, first, last):\n",
    "        self.first = first\n",
    "        self.last = last\n",
    "        self.email = first + '.' + last + '@example.com' \n",
    "\n",
    "    def fullname(self):\n",
    "        return '{} {}'.format(self.first, self.last)\n",
    "\n",
    "emp_1 = Employee('Casey', 'Boy')\n",
    "\n",
    "print(emp_1.first)\n",
    "print(emp_1.email)\n",
    "print(emp_1.fullname())"
   ]
  },
  {
   "cell_type": "markdown",
   "metadata": {},
   "source": [
    "**With the current class setup, If we change the 1st name, its not relfecting in email**"
   ]
  },
  {
   "cell_type": "code",
   "execution_count": 2,
   "metadata": {},
   "outputs": [
    {
     "name": "stdout",
     "output_type": "stream",
     "text": [
      "Jim\n",
      "Casey.Boy@example.com\n",
      "Jim Boy\n"
     ]
    }
   ],
   "source": [
    "class Employee:\n",
    "    def __init__(self, first, last):\n",
    "        self.first = first\n",
    "        self.last = last\n",
    "        self.email = first + '.' + last + '@example.com' \n",
    "\n",
    "    def fullname(self):\n",
    "        return '{} {}'.format(self.first, self.last)\n",
    "\n",
    "emp_1 = Employee('Casey', 'Boy')\n",
    "emp_1.first = 'Jim'\n",
    "\n",
    "print(emp_1.first)\n",
    "print(emp_1.email)\n",
    "print(emp_1.fullname())"
   ]
  },
  {
   "cell_type": "markdown",
   "metadata": {},
   "source": [
    "**We can create another method to solve that problem, then we can't call it as an attribute anymore**"
   ]
  },
  {
   "cell_type": "code",
   "execution_count": 5,
   "metadata": {},
   "outputs": [
    {
     "name": "stdout",
     "output_type": "stream",
     "text": [
      "Jim\n",
      "<bound method Employee.email of <__main__.Employee object at 0x7f35b072b250>>\n",
      "Jim Boy\n"
     ]
    }
   ],
   "source": [
    "class Employee:\n",
    "    def __init__(self, first, last):\n",
    "        self.first = first\n",
    "        self.last = last\n",
    "        #self.email = first + '.' + last + '@example.com' \n",
    "\n",
    "    def email(self):\n",
    "        return '{}.{}@example.com'.format(self.first, self.last)\n",
    "        \n",
    "    def fullname(self):\n",
    "        return '{} {}'.format(self.first, self.last)\n",
    "\n",
    "emp_1 = Employee('Casey', 'Boy')\n",
    "emp_1.first = 'Jim'\n",
    "\n",
    "print(emp_1.first)\n",
    "print(emp_1.email)\n",
    "print(emp_1.fullname())"
   ]
  },
  {
   "cell_type": "markdown",
   "metadata": {},
   "source": [
    "**If we call it like a method, its works fine, but that mean we changing other code, which use this class**"
   ]
  },
  {
   "cell_type": "code",
   "execution_count": 4,
   "metadata": {},
   "outputs": [
    {
     "name": "stdout",
     "output_type": "stream",
     "text": [
      "Jim\n",
      "Jim.Boy@example.com\n",
      "Jim Boy\n"
     ]
    }
   ],
   "source": [
    "class Employee:\n",
    "    def __init__(self, first, last):\n",
    "        self.first = first\n",
    "        self.last = last\n",
    "        #self.email = first + '.' + last + '@example.com' \n",
    "\n",
    "    def email(self):\n",
    "        return '{}.{}@example.com'.format(self.first, self.last)\n",
    "        \n",
    "    def fullname(self):\n",
    "        return '{} {}'.format(self.first, self.last)\n",
    "\n",
    "emp_1 = Employee('Casey', 'Boy')\n",
    "emp_1.first = 'Jim'\n",
    "\n",
    "print(emp_1.first)\n",
    "print(emp_1.email())\n",
    "print(emp_1.fullname())"
   ]
  },
  {
   "cell_type": "markdown",
   "metadata": {},
   "source": [
    "**We can use the @property decorators to call the method like an attribute, so we dont have to change other code.**"
   ]
  },
  {
   "cell_type": "code",
   "execution_count": 6,
   "metadata": {},
   "outputs": [
    {
     "name": "stdout",
     "output_type": "stream",
     "text": [
      "Jim\n",
      "Jim.Boy@example.com\n",
      "Jim Boy\n"
     ]
    }
   ],
   "source": [
    "class Employee:\n",
    "    def __init__(self, first, last):\n",
    "        self.first = first\n",
    "        self.last = last\n",
    "        #self.email = first + '.' + last + '@example.com' \n",
    "\n",
    "    # Define like a method, but access it like an attribute.\n",
    "    @property\n",
    "    def email(self):\n",
    "        return '{}.{}@example.com'.format(self.first, self.last)\n",
    "        \n",
    "    def fullname(self):\n",
    "        return '{} {}'.format(self.first, self.last)\n",
    "\n",
    "emp_1 = Employee('Casey', 'Boy')\n",
    "emp_1.first = 'Jim'\n",
    "\n",
    "print(emp_1.first)\n",
    "print(emp_1.email)\n",
    "print(emp_1.fullname())"
   ]
  },
  {
   "cell_type": "markdown",
   "metadata": {},
   "source": [
    "**We can use the @property decorators on existing method, but we have to call them like attribute**"
   ]
  },
  {
   "cell_type": "code",
   "execution_count": 8,
   "metadata": {},
   "outputs": [
    {
     "name": "stdout",
     "output_type": "stream",
     "text": [
      "Jim\n",
      "Jim.Boy@example.com\n",
      "Jim Boy\n"
     ]
    }
   ],
   "source": [
    "class Employee:\n",
    "    def __init__(self, first, last):\n",
    "        self.first = first\n",
    "        self.last = last\n",
    "        #self.email = first + '.' + last + '@example.com' \n",
    "\n",
    "    # Define like a method, but access it like an attribute.\n",
    "    @property\n",
    "    def email(self):\n",
    "        return '{}.{}@example.com'.format(self.first, self.last)\n",
    "    \n",
    "    @property  \n",
    "    def fullname(self):\n",
    "        return '{} {}'.format(self.first, self.last)\n",
    "\n",
    "emp_1 = Employee('Casey', 'Boy')\n",
    "emp_1.first = 'Jim'\n",
    "\n",
    "print(emp_1.first)\n",
    "print(emp_1.email)\n",
    "print(emp_1.fullname)"
   ]
  },
  {
   "cell_type": "markdown",
   "metadata": {},
   "source": [
    "**Trying to change the First and Last name of an instance using fullname**"
   ]
  },
  {
   "cell_type": "code",
   "execution_count": 17,
   "metadata": {},
   "outputs": [
    {
     "ename": "AttributeError",
     "evalue": "can't set attribute",
     "output_type": "error",
     "traceback": [
      "\u001b[0;31m---------------------------------------------------------------------------\u001b[0m",
      "\u001b[0;31mAttributeError\u001b[0m                            Traceback (most recent call last)",
      "\u001b[0;32m<ipython-input-17-554714be8193>\u001b[0m in \u001b[0;36m<module>\u001b[0;34m\u001b[0m\n\u001b[1;32m     16\u001b[0m \u001b[0;34m\u001b[0m\u001b[0m\n\u001b[1;32m     17\u001b[0m \u001b[0memp_1\u001b[0m \u001b[0;34m=\u001b[0m \u001b[0mEmployee\u001b[0m\u001b[0;34m(\u001b[0m\u001b[0;34m'Casey'\u001b[0m\u001b[0;34m,\u001b[0m \u001b[0;34m'Boy'\u001b[0m\u001b[0;34m)\u001b[0m\u001b[0;34m\u001b[0m\u001b[0;34m\u001b[0m\u001b[0m\n\u001b[0;32m---> 18\u001b[0;31m \u001b[0memp_1\u001b[0m\u001b[0;34m.\u001b[0m\u001b[0mfullname\u001b[0m \u001b[0;34m=\u001b[0m \u001b[0;34m'John Doe'\u001b[0m\u001b[0;34m\u001b[0m\u001b[0;34m\u001b[0m\u001b[0m\n\u001b[0m\u001b[1;32m     19\u001b[0m \u001b[0;34m\u001b[0m\u001b[0m\n\u001b[1;32m     20\u001b[0m \u001b[0mprint\u001b[0m\u001b[0;34m(\u001b[0m\u001b[0memp_1\u001b[0m\u001b[0;34m.\u001b[0m\u001b[0mfirst\u001b[0m\u001b[0;34m)\u001b[0m\u001b[0;34m\u001b[0m\u001b[0;34m\u001b[0m\u001b[0m\n",
      "\u001b[0;31mAttributeError\u001b[0m: can't set attribute"
     ]
    }
   ],
   "source": [
    "%reset -f\n",
    "class Employee:\n",
    "    def __init__(self, first, last):\n",
    "        self.first = first\n",
    "        self.last = last\n",
    "        #self.email = first + '.' + last + '@example.com' \n",
    "\n",
    "    # Define like a method, but access it like an attribute.\n",
    "    @property\n",
    "    def email(self):\n",
    "        return '{}.{}@example.com'.format(self.first, self.last)\n",
    "    \n",
    "    @property  \n",
    "    def fullname(self):\n",
    "        return '{} {}'.format(self.first, self.last)\n",
    "\n",
    "emp_1 = Employee('Casey', 'Boy')\n",
    "emp_1.fullname = 'John Doe'\n",
    "\n",
    "print(emp_1.first)\n",
    "print(emp_1.email)\n",
    "print(emp_1.fullname)"
   ]
  },
  {
   "cell_type": "markdown",
   "metadata": {},
   "source": [
    "**Using setter**\n",
    "\n",
    "    A setter is a method that sets the value of a property. In OOPs this helps to set the value to private attributes in a class."
   ]
  },
  {
   "cell_type": "code",
   "execution_count": 11,
   "metadata": {},
   "outputs": [
    {
     "name": "stdout",
     "output_type": "stream",
     "text": [
      "John\n",
      "John.Doe@example.com\n",
      "John Doe\n"
     ]
    }
   ],
   "source": [
    "class Employee:\n",
    "    def __init__(self, first, last):\n",
    "        self.first = first\n",
    "        self.last = last\n",
    "        #self.email = first + '.' + last + '@example.com' \n",
    "\n",
    "    # Define like a method, but access it like an attribute.\n",
    "    @property\n",
    "    def email(self):\n",
    "        return '{}.{}@example.com'.format(self.first, self.last)\n",
    "    \n",
    "    @property  \n",
    "    def fullname(self):\n",
    "        return '{} {}'.format(self.first, self.last)\n",
    "    \n",
    "    @fullname.setter\n",
    "    def fullname(self, name):\n",
    "        first, last = name.split(' ')\n",
    "        self.first = first\n",
    "        self.last = last\n",
    "\n",
    "emp_1 = Employee('Casey', 'Boy')\n",
    "emp_1.fullname = 'John Doe'\n",
    "\n",
    "print(emp_1.first)\n",
    "print(emp_1.email)\n",
    "print(emp_1.fullname)"
   ]
  },
  {
   "cell_type": "code",
   "execution_count": 15,
   "metadata": {},
   "outputs": [
    {
     "name": "stdout",
     "output_type": "stream",
     "text": [
      "John\n",
      "John.Doe@example.com\n",
      "John Doe\n",
      "\n",
      "Delete Name!\n",
      "None\n",
      "None\n",
      "None None\n"
     ]
    }
   ],
   "source": [
    "class Employee:\n",
    "    def __init__(self, first, last):\n",
    "        self.first = first\n",
    "        self.last = last\n",
    "        #self.email = first + '.' + last + '@example.com' \n",
    "\n",
    "    # Define like a method, but access it like an attribute.\n",
    "    @property\n",
    "    def email(self):\n",
    "        return '{}.{}@example.com'.format(self.first, self.last)\n",
    "    \n",
    "    @property  \n",
    "    def fullname(self):\n",
    "        return '{} {}'.format(self.first, self.last)\n",
    "    \n",
    "    @fullname.setter\n",
    "    def fullname(self, name):\n",
    "        first, last = name.split(' ')\n",
    "        self.first = first\n",
    "        self.last = last\n",
    "    \n",
    "    @fullname.deleter\n",
    "    def fullname(self):\n",
    "        print('Delete Name!')\n",
    "        self.first = None\n",
    "        self.last = None\n",
    "\n",
    "emp_1 = Employee('Casey', 'Boy')\n",
    "emp_1.fullname = 'John Doe'\n",
    "\n",
    "print(emp_1.first)\n",
    "print(emp_1.email)\n",
    "print(emp_1.fullname)\n",
    "\n",
    "print()\n",
    "del emp_1.fullname\n",
    "print(emp_1.first)\n",
    "print(emp_1.last)\n",
    "print(emp_1.fullname)"
   ]
  },
  {
   "cell_type": "markdown",
   "metadata": {},
   "source": [
    "**Another Example**"
   ]
  },
  {
   "cell_type": "code",
   "execution_count": 39,
   "metadata": {},
   "outputs": [
    {
     "name": "stdout",
     "output_type": "stream",
     "text": [
      "Employee Name: Casey\n",
      "\n",
      "['_Employee__company', '_Employee__retired', '__class__', '__delattr__', '__dict__', '__dir__', '__doc__', '__eq__', '__format__', '__ge__', '__getattribute__', '__gt__', '__hash__', '__init__', '__init_subclass__', '__le__', '__lt__', '__module__', '__ne__', '__new__', '__reduce__', '__reduce_ex__', '__repr__', '__setattr__', '__sizeof__', '__str__', '__subclasshook__', '__weakref__', '_name']\n"
     ]
    }
   ],
   "source": [
    "class Employee:\n",
    "    def __init__(self, name, company, retired='No'):\n",
    "        self._name=name\n",
    "        self.__company=company  # __ denote as a private attribute.\n",
    "        self.__retired=retired  # __ denote as a private attribute.\n",
    "\n",
    "emp1 = Employee('Casey', 'Amazon')\n",
    "\n",
    "print(f\"Employee Name: {emp1._name}\")\n",
    "\n",
    "print()\n",
    "print(dir(emp1))"
   ]
  },
  {
   "cell_type": "code",
   "execution_count": 37,
   "metadata": {},
   "outputs": [
    {
     "name": "stdout",
     "output_type": "stream",
     "text": [
      "Employee Name: Casey\n"
     ]
    },
    {
     "ename": "AttributeError",
     "evalue": "'Employee' object has no attribute '__company'",
     "output_type": "error",
     "traceback": [
      "\u001b[0;31m---------------------------------------------------------------------------\u001b[0m",
      "\u001b[0;31mAttributeError\u001b[0m                            Traceback (most recent call last)",
      "\u001b[0;32m<ipython-input-37-b18aa0e1272e>\u001b[0m in \u001b[0;36m<module>\u001b[0;34m\u001b[0m\n\u001b[1;32m      8\u001b[0m \u001b[0;34m\u001b[0m\u001b[0m\n\u001b[1;32m      9\u001b[0m \u001b[0mprint\u001b[0m\u001b[0;34m(\u001b[0m\u001b[0;34mf\"Employee Name: {emp1._name}\"\u001b[0m\u001b[0;34m)\u001b[0m\u001b[0;34m\u001b[0m\u001b[0;34m\u001b[0m\u001b[0m\n\u001b[0;32m---> 10\u001b[0;31m \u001b[0mprint\u001b[0m\u001b[0;34m(\u001b[0m\u001b[0;34mf\"Company Name: {emp1.__company}\"\u001b[0m\u001b[0;34m)\u001b[0m\u001b[0;34m\u001b[0m\u001b[0;34m\u001b[0m\u001b[0m\n\u001b[0m",
      "\u001b[0;31mAttributeError\u001b[0m: 'Employee' object has no attribute '__company'"
     ]
    }
   ],
   "source": [
    "class Employee:\n",
    "    def __init__(self, name, company, retired='No'):\n",
    "        self._name=name\n",
    "        self.__company=company  # __ denote as a private attribute.\n",
    "        self.__retired=retired  # __ denote as a private attribute.\n",
    "\n",
    "emp1 = Employee('Casey', 'Amazon')\n",
    "\n",
    "print(f\"Employee Name: {emp1._name}\")\n",
    "print(f\"Company Name: {emp1.__company}\")"
   ]
  },
  {
   "cell_type": "code",
   "execution_count": 31,
   "metadata": {},
   "outputs": [
    {
     "name": "stdout",
     "output_type": "stream",
     "text": [
      "Employee Name: Casey\n",
      "Company Name: Amazon\n",
      "<class 'str'>\n"
     ]
    }
   ],
   "source": [
    "class Employee:\n",
    "    def __init__(self, name, company, retired='No'):\n",
    "        self._name=name\n",
    "        self.__company=company  # __ denote as a private attribute.\n",
    "        self.__retired=retired  # __ denote as a private attribute.\n",
    "\n",
    "    def get_company(self):\n",
    "        return self.__company\n",
    "    \n",
    "emp1 = Employee('Casey', 'Amazon')\n",
    "\n",
    "print(f\"Employee Name: {emp1._name}\")\n",
    "print(f\"Company Name: {emp1.get_company()}\")\n",
    "print(type(emp1.get_company()))"
   ]
  },
  {
   "cell_type": "code",
   "execution_count": 29,
   "metadata": {},
   "outputs": [
    {
     "name": "stdout",
     "output_type": "stream",
     "text": [
      "Employee Name: Casey\n",
      "Company Name: Amazon\n",
      "\n",
      "Company Name: Google\n",
      "<class 'str'>\n"
     ]
    },
    {
     "ename": "AttributeError",
     "evalue": "'Employee' object has no attribute '__company'",
     "output_type": "error",
     "traceback": [
      "\u001b[0;31m---------------------------------------------------------------------------\u001b[0m",
      "\u001b[0;31mAttributeError\u001b[0m                            Traceback (most recent call last)",
      "\u001b[0;32m<ipython-input-29-b416a8c44b82>\u001b[0m in \u001b[0;36m<module>\u001b[0;34m\u001b[0m\n\u001b[1;32m     21\u001b[0m \u001b[0mprint\u001b[0m\u001b[0;34m(\u001b[0m\u001b[0;34mf\"Company Name: {emp1.get_company()}\"\u001b[0m\u001b[0;34m)\u001b[0m\u001b[0;34m\u001b[0m\u001b[0;34m\u001b[0m\u001b[0m\n\u001b[1;32m     22\u001b[0m \u001b[0mprint\u001b[0m\u001b[0;34m(\u001b[0m\u001b[0mtype\u001b[0m\u001b[0;34m(\u001b[0m\u001b[0memp1\u001b[0m\u001b[0;34m.\u001b[0m\u001b[0mget_company\u001b[0m\u001b[0;34m(\u001b[0m\u001b[0;34m)\u001b[0m\u001b[0;34m)\u001b[0m\u001b[0;34m)\u001b[0m\u001b[0;34m\u001b[0m\u001b[0;34m\u001b[0m\u001b[0m\n\u001b[0;32m---> 23\u001b[0;31m \u001b[0mprint\u001b[0m\u001b[0;34m(\u001b[0m\u001b[0memp1\u001b[0m\u001b[0;34m.\u001b[0m\u001b[0m__company\u001b[0m\u001b[0;34m)\u001b[0m\u001b[0;34m\u001b[0m\u001b[0;34m\u001b[0m\u001b[0m\n\u001b[0m",
      "\u001b[0;31mAttributeError\u001b[0m: 'Employee' object has no attribute '__company'"
     ]
    }
   ],
   "source": [
    "%reset -f\n",
    "class Employee:\n",
    "    def __init__(self, name, company, retired='No'):\n",
    "        self._name=name\n",
    "        self.__company=company  # __ denote as a private attribute.\n",
    "        self.__retired=retired  # __ denote as a private attribute.\n",
    "\n",
    "    def get_company(self):\n",
    "        return self.__company\n",
    "\n",
    "    def set_company(self, value):\n",
    "        self.__company = value\n",
    "    \n",
    "emp1 = Employee('Casey', 'Amazon')\n",
    "print(f\"Employee Name: {emp1._name}\")\n",
    "print(f\"Company Name: {emp1.get_company()}\")\n",
    "\n",
    "print()\n",
    "\n",
    "emp1.set_company('Google')\n",
    "print(f\"Company Name: {emp1.get_company()}\")\n",
    "print(type(emp1.get_company()))\n",
    "print(emp1.__company)\n"
   ]
  },
  {
   "cell_type": "code",
   "execution_count": 10,
   "metadata": {},
   "outputs": [
    {
     "name": "stdout",
     "output_type": "stream",
     "text": [
      "Employee Name: Casey\n",
      "Company Name: Amazon\n",
      "\n",
      "Employee Name: Casey\n",
      "Company Name: Google\n",
      "\n",
      "Employee Name: Casey\n",
      "Company Name: Microsoft\n"
     ]
    }
   ],
   "source": [
    "%reset -f\n",
    "class Employee:\n",
    "    def __init__(self, name, company, retired='No'):\n",
    "        self._name=name\n",
    "        self.__company=company  # __ denote as a private attribute.\n",
    "        self.__retired=retired  # __ denote as a private attribute.\n",
    "\n",
    "    @property\n",
    "    def company(self):\n",
    "        return self.__company\n",
    "    \n",
    "    @company.setter\n",
    "    def company(self, value):\n",
    "        self.__company = value\n",
    "    \n",
    "emp1 = Employee('Casey', 'Amazon')\n",
    "\n",
    "print(f\"Employee Name: {emp1._name}\")\n",
    "print(f\"Company Name: {emp1.company}\")\n",
    "print()\n",
    "emp1.company='Google'\n",
    "print(f\"Employee Name: {emp1._name}\")\n",
    "print(f\"Company Name: {emp1.company}\")\n",
    "print()\n",
    "emp1.company='Microsoft'\n",
    "print(f\"Employee Name: {emp1._name}\")\n",
    "print(f\"Company Name: {emp1.company}\")"
   ]
  },
  {
   "cell_type": "markdown",
   "metadata": {},
   "source": [
    "**Another Example for property**<br>\n",
    "[property](https://www.programiz.com/python-programming/property)"
   ]
  },
  {
   "cell_type": "code",
   "execution_count": null,
   "metadata": {},
   "outputs": [],
   "source": []
  }
 ],
 "metadata": {
  "kernelspec": {
   "display_name": "Python 3",
   "language": "python",
   "name": "python3"
  },
  "language_info": {
   "codemirror_mode": {
    "name": "ipython",
    "version": 3
   },
   "file_extension": ".py",
   "mimetype": "text/x-python",
   "name": "python",
   "nbconvert_exporter": "python",
   "pygments_lexer": "ipython3",
   "version": "3.7.5"
  }
 },
 "nbformat": 4,
 "nbformat_minor": 2
}
