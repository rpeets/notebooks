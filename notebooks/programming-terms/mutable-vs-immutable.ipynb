{
 "cells": [
  {
   "cell_type": "markdown",
   "metadata": {},
   "source": [
    "## Mutable vs Immutable\n",
    "\n",
    "- An Immutable object is an object whose state cannot be modified after it is created. This is in contrast to a mutable object, which can be modified after it is created.\n",
    "    - In Python, Strings are immutable.\n",
    "    - Immutable doesn't mean We can reassign them.\n",
    "    - While you reassign it actually create a new string object.\n",
    "    \n",
    "Why is it important?\n",
    "There could be problem with memory handling, while we deal with millions of string. Each takes memory space, and endup being really bad in performance.\n",
    "\n",
    "[YouTube](https://www.youtube.com/watch?v=5qQQ3yzbKp8)"
   ]
  },
  {
   "cell_type": "code",
   "execution_count": 10,
   "metadata": {},
   "outputs": [
    {
     "name": "stdout",
     "output_type": "stream",
     "text": [
      "robin\n",
      "address of a is : 140432144142000\n",
      "casey\n",
      "address of a is : 140432144141424\n"
     ]
    }
   ],
   "source": [
    "# id print the memory address of an object.\n",
    "\n",
    "a = 'robin'\n",
    "print(a)\n",
    "print(f'address of a is : {id(a)}')\n",
    "\n",
    "a = 'casey'\n",
    "print(a)\n",
    "print(f'address of a is : {id(a)}')"
   ]
  },
  {
   "cell_type": "code",
   "execution_count": 11,
   "metadata": {},
   "outputs": [
    {
     "name": "stdout",
     "output_type": "stream",
     "text": [
      "Casey\n",
      "address of a is : 140432162503600\n"
     ]
    },
    {
     "ename": "TypeError",
     "evalue": "'str' object does not support item assignment",
     "output_type": "error",
     "traceback": [
      "\u001b[0;31m---------------------------------------------------------------------------\u001b[0m",
      "\u001b[0;31mTypeError\u001b[0m                                 Traceback (most recent call last)",
      "\u001b[0;32m<ipython-input-11-1b9dd340c75d>\u001b[0m in \u001b[0;36m<module>\u001b[0;34m\u001b[0m\n\u001b[1;32m      4\u001b[0m \u001b[0mprint\u001b[0m\u001b[0;34m(\u001b[0m\u001b[0;34mf'address of a is : {id(a)}'\u001b[0m\u001b[0;34m)\u001b[0m\u001b[0;34m\u001b[0m\u001b[0;34m\u001b[0m\u001b[0m\n\u001b[1;32m      5\u001b[0m \u001b[0;34m\u001b[0m\u001b[0m\n\u001b[0;32m----> 6\u001b[0;31m \u001b[0ma\u001b[0m\u001b[0;34m[\u001b[0m\u001b[0;36m0\u001b[0m\u001b[0;34m]\u001b[0m \u001b[0;34m=\u001b[0m \u001b[0;34m'C'\u001b[0m\u001b[0;34m\u001b[0m\u001b[0;34m\u001b[0m\u001b[0m\n\u001b[0m\u001b[1;32m      7\u001b[0m \u001b[0mprint\u001b[0m\u001b[0;34m(\u001b[0m\u001b[0ma\u001b[0m\u001b[0;34m)\u001b[0m\u001b[0;34m\u001b[0m\u001b[0;34m\u001b[0m\u001b[0m\n\u001b[1;32m      8\u001b[0m \u001b[0mprint\u001b[0m\u001b[0;34m(\u001b[0m\u001b[0;34mf'address of a is : {id(a)}'\u001b[0m\u001b[0;34m)\u001b[0m\u001b[0;34m\u001b[0m\u001b[0;34m\u001b[0m\u001b[0m\n",
      "\u001b[0;31mTypeError\u001b[0m: 'str' object does not support item assignment"
     ]
    }
   ],
   "source": [
    "# While you try to change a string in place, We get the TypeError, because strings are immutable.\n",
    "a = 'Casey'\n",
    "print(a)\n",
    "print(f'address of a is : {id(a)}')\n",
    "\n",
    "a[0] = 'C'\n",
    "print(a)\n",
    "print(f'address of a is : {id(a)}')"
   ]
  },
  {
   "cell_type": "code",
   "execution_count": 12,
   "metadata": {},
   "outputs": [
    {
     "name": "stdout",
     "output_type": "stream",
     "text": [
      "[1, 2, 3, 4, 5]\n",
      "address of a is : 140432162505744\n",
      "[8, 2, 3, 4, 5]\n",
      "address of a is : 140432162505744\n"
     ]
    }
   ],
   "source": [
    "# List is mutable. Even though we change an value in the list. Memory address is still same.\n",
    "\n",
    "a = [1, 2, 3, 4, 5]\n",
    "print(a)\n",
    "print(f'address of a is : {id(a)}')\n",
    "\n",
    "a[0] = 8\n",
    "print(a)\n",
    "print(f'address of a is : {id(a)}')"
   ]
  },
  {
   "cell_type": "code",
   "execution_count": 14,
   "metadata": {},
   "outputs": [
    {
     "name": "stdout",
     "output_type": "stream",
     "text": [
      "<ul>\n",
      "\t<li>Corey</li>\n",
      "\t<li>John</li>\n",
      "\t<li>Rick</li>\n",
      "\t<li>Steve</li>\n",
      "\t<li>Carl</li>\n",
      "\t<li>Adam</li>\n",
      "</ul>\n"
     ]
    }
   ],
   "source": [
    "employees = ['Corey', 'John', 'Rick', 'Steve', 'Carl', 'Adam']\n",
    "\n",
    "output = '<ul>\\n'\n",
    "for employee in employees:\n",
    "    output += f'\\t<li>{employee}</li>\\n'\n",
    "output += '</ul>'\n",
    "\n",
    "print(output)"
   ]
  },
  {
   "cell_type": "code",
   "execution_count": 15,
   "metadata": {},
   "outputs": [
    {
     "name": "stdout",
     "output_type": "stream",
     "text": [
      "Memory Address of output is 140432143749168\n",
      "Memory Address of output is 140432143719280\n",
      "Memory Address of output is 140432143725824\n",
      "Memory Address of output is 140432143702576\n",
      "Memory Address of output is 140432143749888\n",
      "Memory Address of output is 140432163069744\n",
      "<ul>\n",
      "\t<li>Corey</li>\n",
      "\t<li>John</li>\n",
      "\t<li>Rick</li>\n",
      "\t<li>Steve</li>\n",
      "\t<li>Carl</li>\n",
      "\t<li>Adam</li>\n",
      "</ul>\n"
     ]
    }
   ],
   "source": [
    "# We are actually createing new objects in memory each time we concatnate the string.\n",
    "\n",
    "employees = ['Corey', 'John', 'Rick', 'Steve', 'Carl', 'Adam']\n",
    "\n",
    "output = '<ul>\\n'\n",
    "for employee in employees:\n",
    "    output += f'\\t<li>{employee}</li>\\n'\n",
    "    print(f'Memory Address of output is {id(output)}')\n",
    "output += '</ul>'\n",
    "\n",
    "print(output)"
   ]
  },
  {
   "cell_type": "code",
   "execution_count": null,
   "metadata": {},
   "outputs": [],
   "source": []
  }
 ],
 "metadata": {
  "kernelspec": {
   "display_name": "Python 3",
   "language": "python",
   "name": "python3"
  },
  "language_info": {
   "codemirror_mode": {
    "name": "ipython",
    "version": 3
   },
   "file_extension": ".py",
   "mimetype": "text/x-python",
   "name": "python",
   "nbconvert_exporter": "python",
   "pygments_lexer": "ipython3",
   "version": "3.7.5"
  }
 },
 "nbformat": 4,
 "nbformat_minor": 2
}
