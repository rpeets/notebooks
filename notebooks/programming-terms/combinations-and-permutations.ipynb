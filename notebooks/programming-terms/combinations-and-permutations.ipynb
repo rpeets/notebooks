{
 "cells": [
  {
   "attachments": {},
   "cell_type": "markdown",
   "metadata": {},
   "source": [
    "## Combinations and Permutations\n",
    "\n",
    "- The difference between combinations and permutations is ordering. With permutations we care about the order of the elements, whereas with combinations we don’t.\n",
    "<br><br>\n",
    "- In Mathematics we use more precise language:\n",
    "  - When the order doesn't matter, it is a Combination.\n",
    "  - When the order does matter it is a Permutation.\n",
    "\n",
    "[YouTube](https://www.youtube.com/watch?v=QI9EczPQzPQ)\n",
    "\n",
    "### Combination:\n",
    "- This method takes a list and a input r as a input and return a object list of tuples which contain all possible combination of length r in a list form. Combinations are emitted in lexicographic sort order of input. So, if the input list is sorted, the combination tuples will be produced in sorted order."
   ]
  },
  {
   "cell_type": "code",
   "execution_count": 6,
   "metadata": {},
   "outputs": [
    {
     "name": "stdout",
     "output_type": "stream",
     "text": [
      "(1, 2, 3)\n"
     ]
    }
   ],
   "source": [
    "# In Combinations order does not matter.\n",
    "from itertools import combinations \n",
    "\n",
    "# Get all combinations of [1, 2, 3] and length 3 \n",
    "comb = combinations([1, 2, 3], 3) \n",
    "  \n",
    "for i in comb: \n",
    "    print(i)"
   ]
  },
  {
   "cell_type": "code",
   "execution_count": 7,
   "metadata": {},
   "outputs": [
    {
     "name": "stdout",
     "output_type": "stream",
     "text": [
      "(1, 2)\n",
      "(1, 3)\n",
      "(2, 3)\n"
     ]
    }
   ],
   "source": [
    "# In Combinations order does not matter.\n",
    "from itertools import combinations \n",
    "\n",
    "# Get all combinations of [1, 2, 3] and length 2 \n",
    "comb = combinations([1, 2, 3], 2) \n",
    "  \n",
    "for i in comb: \n",
    "    print(i)"
   ]
  },
  {
   "cell_type": "code",
   "execution_count": 9,
   "metadata": {},
   "outputs": [
    {
     "name": "stdout",
     "output_type": "stream",
     "text": [
      "(1, 2, 3)\n",
      "(1, 2, 4)\n",
      "(1, 3, 4)\n",
      "(2, 3, 4)\n"
     ]
    }
   ],
   "source": [
    "# In Combinations order does not matter.\n",
    "from itertools import combinations \n",
    "\n",
    "# Get all combinations of [1, 2, 3, 4] and length 3 \n",
    "comb = combinations([1, 2, 3, 4], 3) \n",
    "  \n",
    "for i in list(comb): \n",
    "    print(i)"
   ]
  },
  {
   "cell_type": "code",
   "execution_count": 10,
   "metadata": {},
   "outputs": [
    {
     "name": "stdout",
     "output_type": "stream",
     "text": [
      "[(1, 2, 7), (1, 3, 6), (1, 4, 5), (2, 3, 5)]\n"
     ]
    }
   ],
   "source": [
    "from itertools import combinations, permutations\n",
    "\n",
    "my_list = range(1,11)\n",
    "comb = combinations(my_list, 3)\n",
    "perm = permutations(my_list, 3)\n",
    "\n",
    "print([result for result in comb if sum(result) == 10])"
   ]
  },
  {
   "cell_type": "code",
   "execution_count": null,
   "metadata": {},
   "outputs": [],
   "source": []
  }
 ],
 "metadata": {
  "kernelspec": {
   "display_name": "Python 3",
   "language": "python",
   "name": "python3"
  },
  "language_info": {
   "codemirror_mode": {
    "name": "ipython",
    "version": 3
   },
   "file_extension": ".py",
   "mimetype": "text/x-python",
   "name": "python",
   "nbconvert_exporter": "python",
   "pygments_lexer": "ipython3",
   "version": "3.7.5"
  }
 },
 "nbformat": 4,
 "nbformat_minor": 2
}
