{
 "cells": [
  {
   "attachments": {},
   "cell_type": "markdown",
   "metadata": {},
   "source": [
    "## Combinations and Permutations\n",
    "\n",
    "- The difference between combinations and permutations is ordering. With permutations we care about the order of the elements, whereas with combinations we don’t.\n",
    "\n",
    "- In Mathematics we use more precise language:\n",
    "  - When the order doesn't matter, it is a Combination.\n",
    "  - When the order does matter it is a Permutation.\n",
    "\n",
    "### Combination:\n",
    "- This method takes a list and a input r as a input and return a object list of tuples which contain all possible combination of length r in a list form. Combinations are emitted in lexicographic sort order of input. So, if the input list is sorted, the combination tuples will be produced in sorted order."
   ]
  },
  {
   "cell_type": "code",
   "execution_count": null,
   "metadata": {},
   "outputs": [],
   "source": []
  }
 ],
 "metadata": {
  "kernelspec": {
   "display_name": "Python 3",
   "language": "python",
   "name": "python3"
  },
  "language_info": {
   "codemirror_mode": {
    "name": "ipython",
    "version": 3
   },
   "file_extension": ".py",
   "mimetype": "text/x-python",
   "name": "python",
   "nbconvert_exporter": "python",
   "pygments_lexer": "ipython3",
   "version": "3.7.5"
  }
 },
 "nbformat": 4,
 "nbformat_minor": 2
}
