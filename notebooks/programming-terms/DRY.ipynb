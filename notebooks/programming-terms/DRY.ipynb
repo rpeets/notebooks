{
 "cells": [
  {
   "cell_type": "markdown",
   "metadata": {},
   "source": [
    "## DRY (Don't Repeat Yourself)\n",
    "\n",
    "- A principal of software dovelopment aimed at reducing repetition of information of all kinds.\n",
    "\n",
    "[YouTube](https://www.youtube.com/watch?v=IGH4-ZhfVDk)"
   ]
  },
  {
   "cell_type": "code",
   "execution_count": 2,
   "metadata": {},
   "outputs": [
    {
     "name": "stdout",
     "output_type": "stream",
     "text": [
      "<div class=\"header\">\n",
      "<a href=\"#\">Home</a>\n",
      "<a href=\"#\">About</a>\n",
      "<a href=\"#\">Contact</a>\n",
      "</div>\n",
      "<p>Welcome to our Home Pae!</p>\n",
      "<div class=\"footer\">\n",
      "<a href=\"#\">Home</a>\n",
      "<a href=\"#\">About</a>\n",
      "<a href=\"#\">Contact</a>\n",
      "</div>\n"
     ]
    }
   ],
   "source": [
    "def homepage():\n",
    "    print('<div class=\"header\">')\n",
    "    print('<a href=\"#\">Home</a>')\n",
    "    print('<a href=\"#\">About</a>')\n",
    "    print('<a href=\"#\">Contact</a>')\n",
    "    print('</div>')\n",
    "    \n",
    "    print('<p>Welcome to our Home Page!</p>')\n",
    "    \n",
    "    print('<div class=\"footer\">')\n",
    "    print('<a href=\"#\">Home</a>')\n",
    "    print('<a href=\"#\">About</a>')\n",
    "    print('<a href=\"#\">Contact</a>')\n",
    "    print('</div>')\n",
    "    \n",
    "def aboutpage():\n",
    "    print('<div class=\"header\">')\n",
    "    print('<a href=\"#\">Home</a>')\n",
    "    print('<a href=\"#\">About</a>')\n",
    "    print('<a href=\"#\">Contact</a>')\n",
    "    print('</div>')\n",
    "    \n",
    "    print('<p>Welcome to our About Page!</p>')\n",
    "    \n",
    "    print('<div class=\"footer\">')\n",
    "    print('<a href=\"#\">Home</a>')\n",
    "    print('<a href=\"#\">About</a>')\n",
    "    print('<a href=\"#\">Contact</a>')\n",
    "    print('</div>')\n",
    "    \n",
    "def contactpage():\n",
    "    print('<div class=\"header\">')\n",
    "    print('<a href=\"#\">Home</a>')\n",
    "    print('<a href=\"#\">About</a>')\n",
    "    print('<a href=\"#\">Contact</a>')\n",
    "    print('</div>')\n",
    "    \n",
    "    print('<p>Welcome to our Contact Page!</p>')\n",
    "    \n",
    "    print('<div class=\"footer\">')\n",
    "    print('<a href=\"#\">Home</a>')\n",
    "    print('<a href=\"#\">About</a>')\n",
    "    print('<a href=\"#\">Contact</a>')\n",
    "    print('</div>')\n",
    "    \n",
    "homepage()"
   ]
  },
  {
   "cell_type": "code",
   "execution_count": 3,
   "metadata": {},
   "outputs": [
    {
     "name": "stdout",
     "output_type": "stream",
     "text": [
      "<div class=\"header\">\n",
      "<a href=\"#\">Home</a>\n",
      "<a href=\"#\">About</a>\n",
      "<a href=\"#\">Contact</a>\n",
      "</div>\n",
      "<p>Welcome to our Home Page!</p>\n",
      "<div class=\"footer\">\n",
      "<a href=\"#\">Home</a>\n",
      "<a href=\"#\">About</a>\n",
      "<a href=\"#\">Contact</a>\n",
      "</div>\n"
     ]
    }
   ],
   "source": [
    "def header():\n",
    "    print('<div class=\"header\">')\n",
    "    print('<a href=\"#\">Home</a>')\n",
    "    print('<a href=\"#\">About</a>')\n",
    "    print('<a href=\"#\">Contact</a>')\n",
    "    print('</div>')\n",
    "    \n",
    "def footer():\n",
    "    print('<div class=\"footer\">')\n",
    "    print('<a href=\"#\">Home</a>')\n",
    "    print('<a href=\"#\">About</a>')\n",
    "    print('<a href=\"#\">Contact</a>')\n",
    "    print('</div>')\n",
    "    \n",
    "\n",
    "    \n",
    "def homepage():\n",
    "    header()\n",
    "    \n",
    "    print('<p>Welcome to our Home Page!</p>')\n",
    "    \n",
    "    footer()\n",
    "    \n",
    "def aboutpage():\n",
    "    header()\n",
    "    \n",
    "    print('<p>Welcome to our About Page!</p>')\n",
    "    \n",
    "    footer()\n",
    "    \n",
    "def contactpage():\n",
    "    header()\n",
    "    \n",
    "    print('<p>Welcome to our Contact Page!</p>')\n",
    "    \n",
    "    footer()\n",
    "    \n",
    "homepage()"
   ]
  },
  {
   "cell_type": "code",
   "execution_count": null,
   "metadata": {},
   "outputs": [],
   "source": []
  }
 ],
 "metadata": {
  "kernelspec": {
   "display_name": "Python 3",
   "language": "python",
   "name": "python3"
  },
  "language_info": {
   "codemirror_mode": {
    "name": "ipython",
    "version": 3
   },
   "file_extension": ".py",
   "mimetype": "text/x-python",
   "name": "python",
   "nbconvert_exporter": "python",
   "pygments_lexer": "ipython3",
   "version": "3.7.5"
  }
 },
 "nbformat": 4,
 "nbformat_minor": 2
}
