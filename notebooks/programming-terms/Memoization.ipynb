{
 "cells": [
  {
   "attachments": {},
   "cell_type": "markdown",
   "metadata": {},
   "source": [
    "## Memoization\n",
    "\n",
    "- Memorization is an optimization technique used primarily to speed up computer program by storing the result of expensive function calls and returning the cached result when the same inputs occur again."
   ]
  },
  {
   "cell_type": "code",
   "execution_count": 2,
   "metadata": {},
   "outputs": [
    {
     "name": "stdout",
     "output_type": "stream",
     "text": [
      "Computing 4...\n",
      "16\n",
      "Computing 10...\n",
      "100\n",
      "Computing 4...\n",
      "16\n",
      "Computing 10...\n",
      "100\n",
      "CPU times: user 13.3 ms, sys: 3.49 ms, total: 16.8 ms\n",
      "Wall time: 4.01 s\n"
     ]
    }
   ],
   "source": [
    "%%time\n",
    "# Even though we are repeating the same function, in this case the program without cache took 4 seconds to run.\n",
    "\n",
    "import time\n",
    "\n",
    "def expensive_func(num):\n",
    "    print(f\"Computing {num}...\")\n",
    "    time.sleep(1)\n",
    "    return num*num\n",
    "\n",
    "result = expensive_func(4)\n",
    "print(result)\n",
    "\n",
    "result = expensive_func(10)\n",
    "print(result)\n",
    "\n",
    "result = expensive_func(4)\n",
    "print(result)\n",
    "\n",
    "result = expensive_func(10)\n",
    "print(result)"
   ]
  },
  {
   "attachments": {},
   "cell_type": "markdown",
   "metadata": {},
   "source": [
    "- Remembering the answer is memorization is all about. we are saving the result to a cache so that, when ever we see that expensive function call again, with the same values passed in, then instead of actually computing the values again, we can just return the result we already computed from that case.\n",
    "\n",
    "- We can use a dictionary to store the expensive function result. So we don’t have to spend the compute resources to do the job again. Instead, just return the stored result from dictionary.\n"
   ]
  },
  {
   "cell_type": "code",
   "execution_count": 3,
   "metadata": {},
   "outputs": [
    {
     "name": "stdout",
     "output_type": "stream",
     "text": [
      "Computing 4...\n",
      "16\n",
      "Computing 10...\n",
      "100\n",
      "16\n",
      "100\n",
      "CPU times: user 9.97 ms, sys: 1.17 ms, total: 11.1 ms\n",
      "Wall time: 2 s\n"
     ]
    }
   ],
   "source": [
    "%%time\n",
    "\n",
    "import time\n",
    "\n",
    "ef_cache = {}\n",
    "\n",
    "def expensive_func(num):\n",
    "    if num in ef_cache:\n",
    "        return ef_cache[num]\n",
    "    else:\n",
    "        print(f\"Computing {num}...\")\n",
    "        time.sleep(1)\n",
    "        result = num * num\n",
    "        ef_cache[num] = result\n",
    "        return result\n",
    "        \n",
    "result = expensive_func(4)\n",
    "print(result)\n",
    "\n",
    "result = expensive_func(10)\n",
    "print(result)\n",
    "\n",
    "result = expensive_func(4)\n",
    "print(result)\n",
    "\n",
    "result = expensive_func(10)\n",
    "print(result)\n"
   ]
  },
  {
   "attachments": {},
   "cell_type": "markdown",
   "metadata": {},
   "source": [
    "- In this case the function store the result of 4 and 10 in a dictionary so the computation was used only two times. And while program need to calculate the same value again, result was given back from stored dictionary.\n"
   ]
  },
  {
   "cell_type": "code",
   "execution_count": null,
   "metadata": {},
   "outputs": [],
   "source": []
  }
 ],
 "metadata": {
  "kernelspec": {
   "display_name": "Python 3",
   "language": "python",
   "name": "python3"
  },
  "language_info": {
   "codemirror_mode": {
    "name": "ipython",
    "version": 3
   },
   "file_extension": ".py",
   "mimetype": "text/x-python",
   "name": "python",
   "nbconvert_exporter": "python",
   "pygments_lexer": "ipython3",
   "version": "3.7.5"
  }
 },
 "nbformat": 4,
 "nbformat_minor": 2
}
