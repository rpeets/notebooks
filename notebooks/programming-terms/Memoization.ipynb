{
 "cells": [
  {
   "attachments": {},
   "cell_type": "markdown",
   "metadata": {},
   "source": [
    "## Memoization\n",
    "\n",
    "- Memorization is an optimization technique used primarily to speed up computer program by storing the result of expensive function calls and returning the cached result when the same inputs occur again."
   ]
  },
  {
   "cell_type": "code",
   "execution_count": 2,
   "metadata": {},
   "outputs": [
    {
     "name": "stdout",
     "output_type": "stream",
     "text": [
      "Computing 4...\n",
      "16\n",
      "Computing 10...\n",
      "100\n",
      "Computing 4...\n",
      "16\n",
      "Computing 10...\n",
      "100\n",
      "CPU times: user 13.3 ms, sys: 3.49 ms, total: 16.8 ms\n",
      "Wall time: 4.01 s\n"
     ]
    }
   ],
   "source": [
    "%%time\n",
    "# Even though we are repeating the same function, in this case the program without cache took 4 seconds to run.\n",
    "\n",
    "import time\n",
    "\n",
    "def expensive_func(num):\n",
    "    print(f\"Computing {num}...\")\n",
    "    time.sleep(1)\n",
    "    return num*num\n",
    "\n",
    "result = expensive_func(4)\n",
    "print(result)\n",
    "\n",
    "result = expensive_func(10)\n",
    "print(result)\n",
    "\n",
    "result = expensive_func(4)\n",
    "print(result)\n",
    "\n",
    "result = expensive_func(10)\n",
    "print(result)"
   ]
  },
  {
   "cell_type": "markdown",
   "metadata": {},
   "source": [
    "Remembering the answer is memorization is all about. we are saving the result "
   ]
  }
 ],
 "metadata": {
  "kernelspec": {
   "display_name": "Python 3",
   "language": "python",
   "name": "python3"
  },
  "language_info": {
   "codemirror_mode": {
    "name": "ipython",
    "version": 3
   },
   "file_extension": ".py",
   "mimetype": "text/x-python",
   "name": "python",
   "nbconvert_exporter": "python",
   "pygments_lexer": "ipython3",
   "version": "3.7.5"
  }
 },
 "nbformat": 4,
 "nbformat_minor": 2
}
