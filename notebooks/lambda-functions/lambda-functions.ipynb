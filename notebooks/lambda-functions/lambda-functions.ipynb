{
 "cells": [
  {
   "cell_type": "markdown",
   "metadata": {},
   "source": [
    "## Lambda Functions\n",
    "\n",
    "\t• Anonymous, single-use or throw away function.\n",
    "\t• Lambda Function are one-line functions.\n",
    "\t• Do not use def or return keywords, these are implicit.\n",
    "\n",
    "    In Python, anonymous function means that a function is without a name. \n",
    "    As we already know that def keyword is used to define the normal functions \n",
    "    and the lambda keyword is used to create anonymous functions. It has the following syntax:\n",
    "\n",
    "    lambda arguments: expression\n",
    "\n",
    "\t• This function can have any number of arguments but only one expression, which is evaluated and returned.\n",
    "\t• One is free to use lambda functions wherever function objects are required.\n",
    "\t• You need to keep in your knowledge that lambda functions are syntactically restricted to a single expression.\n",
    "\t• It has various uses in particular fields of programming besides other types of expressions in functions.\n",
    "\n",
    "    Let’s look at this example and try to understand the difference between a normal def defined function \n",
    "    and lambda function. This is a program that returns the cube of a given value\n",
    "\n",
    "[YouTube](https://www.youtube.com/watch?v=Ob9rY6PQMfI)"
   ]
  },
  {
   "cell_type": "markdown",
   "metadata": {},
   "source": [
    "    Python code to illustrate cube of a number  \n",
    "    showing difference between def() and lambda(). "
   ]
  },
  {
   "cell_type": "code",
   "execution_count": 2,
   "metadata": {},
   "outputs": [
    {
     "name": "stdout",
     "output_type": "stream",
     "text": [
      "125\n",
      "125\n"
     ]
    }
   ],
   "source": [
    "def cube(y): \n",
    "    return y*y*y; \n",
    "  \n",
    "g = lambda x: x*x*x \n",
    "   \n",
    "print(cube(5))\n",
    "print(g(5))"
   ]
  },
  {
   "cell_type": "markdown",
   "metadata": {},
   "source": [
    "\t• Without using Lambda : Here, both of them returns the cube of a given number. But, while using def, \n",
    "\t  we needed to define a function with a name cube and needed to pass a value to it. After execution, we \n",
    "\t  also needed to return the result from where the function was called using the return keyword.\n",
    "      \n",
    "\t• Using Lambda : Lambda definition does not include a “return” statement, it always contains an \n",
    "\t  expression which is returned. We can also put a lambda definition anywhere a function is expected, \n",
    "      and we don’t have to assign it to a variable at all. This is the simplicity of lambda functions."
   ]
  },
  {
   "cell_type": "markdown",
   "metadata": {},
   "source": [
    "**Simple lambda function.**"
   ]
  },
  {
   "cell_type": "code",
   "execution_count": 21,
   "metadata": {},
   "outputs": [
    {
     "name": "stdout",
     "output_type": "stream",
     "text": [
      "15\n"
     ]
    }
   ],
   "source": [
    "add5 = lambda x: x + 5\n",
    "print(add5(10))"
   ]
  },
  {
   "cell_type": "code",
   "execution_count": 20,
   "metadata": {},
   "outputs": [
    {
     "name": "stdout",
     "output_type": "stream",
     "text": [
      "4\n"
     ]
    }
   ],
   "source": [
    "get_tens = lambda x: int(x/10)%10\n",
    "print(get_tens(749))"
   ]
  },
  {
   "cell_type": "markdown",
   "metadata": {},
   "source": [
    "**Using multiple arguments in lambda function.**"
   ]
  },
  {
   "cell_type": "code",
   "execution_count": 8,
   "metadata": {},
   "outputs": [
    {
     "name": "stdout",
     "output_type": "stream",
     "text": [
      "18\n"
     ]
    }
   ],
   "source": [
    "addxy = lambda x, y: x + y\n",
    "print(addxy(10, 8))"
   ]
  },
  {
   "attachments": {},
   "cell_type": "markdown",
   "metadata": {},
   "source": [
    "**Lambda as an argument for another function.**<br>\n",
    "\n",
    "    One of the most popular use for lambda functions is an argument inside sort or filter function.\n",
    "\n",
    "**Sorting List of List Using lambda**"
   ]
  },
  {
   "cell_type": "code",
   "execution_count": 10,
   "metadata": {},
   "outputs": [
    {
     "name": "stdout",
     "output_type": "stream",
     "text": [
      "[[1, 3], [2, 2], [3, 4], [4, 1]]\n"
     ]
    }
   ],
   "source": [
    "list_of_list = [[2, 2], [3, 4], [4, 1], [1, 3]]\n",
    "print(sorted(list_of_list, key=lambda x: x[0]))"
   ]
  },
  {
   "attachments": {},
   "cell_type": "markdown",
   "metadata": {},
   "source": [
    "**Sorting a list of tuples Using lambda**"
   ]
  },
  {
   "cell_type": "code",
   "execution_count": 11,
   "metadata": {},
   "outputs": [
    {
     "name": "stdout",
     "output_type": "stream",
     "text": [
      "[(1, 3), (2, 2), (3, 4), (4, 1)]\n"
     ]
    }
   ],
   "source": [
    "list_of_tuple = [(2, 2), (3, 4), (4, 1), (1, 3)]\n",
    "print(sorted(list_of_tuple, key=lambda x: x[0]))"
   ]
  },
  {
   "attachments": {},
   "cell_type": "markdown",
   "metadata": {},
   "source": [
    "**Sorting a list of dictionary using lambda**"
   ]
  },
  {
   "cell_type": "code",
   "execution_count": 12,
   "metadata": {},
   "outputs": [
    {
     "name": "stdout",
     "output_type": "stream",
     "text": [
      "[{'make': 'Mercedes', 'model': 'C350E', 'year': 2008},\n",
      " {'make': 'Ford', 'model': 'Focus', 'year': 2013},\n",
      " {'make': 'Tesla', 'model': 'X', 'year': 2016}]\n"
     ]
    }
   ],
   "source": [
    "import pprint as pp\n",
    "list1 = [{'make': 'Ford', 'model':'Focus', 'year':2013}, \n",
    "         {'make':'Tesla', 'model':'X', 'year':2016},\n",
    "         {'make':'Mercedes', 'model':'C350E', 'year':2008}]\n",
    "list2 = sorted(list1, key = lambda x: x['year'])\n",
    "pp.pprint(list2)"
   ]
  },
  {
   "attachments": {},
   "cell_type": "markdown",
   "metadata": {},
   "source": [
    "### Filter\n",
    "\n",
    "\t• Filter items out of a sequence\n",
    "\t• Return filtered list\n",
    "\n",
    "**Filter a list of integers using lambda**"
   ]
  },
  {
   "cell_type": "code",
   "execution_count": 14,
   "metadata": {},
   "outputs": [
    {
     "name": "stdout",
     "output_type": "stream",
     "text": [
      "[2, 4, 6]\n"
     ]
    }
   ],
   "source": [
    "list1 = [1, 2, 3, 4, 5, 6]\n",
    "list2 = list(filter(lambda x: x%2==0, list1))\n",
    "print(list2)"
   ]
  },
  {
   "cell_type": "code",
   "execution_count": 15,
   "metadata": {},
   "outputs": [
    {
     "name": "stdout",
     "output_type": "stream",
     "text": [
      "[1, 3, 5, 7, 9]\n"
     ]
    }
   ],
   "source": [
    "list1 = range(10)\n",
    "list2 = list(filter(lambda x: x%2!=0, list1))\n",
    "print(list2)"
   ]
  },
  {
   "attachments": {},
   "cell_type": "markdown",
   "metadata": {},
   "source": [
    "**Using lambda to filter sets**"
   ]
  },
  {
   "cell_type": "code",
   "execution_count": 22,
   "metadata": {},
   "outputs": [
    {
     "name": "stdout",
     "output_type": "stream",
     "text": [
      "{'Math'}\n"
     ]
    }
   ],
   "source": [
    "sets_1 = {'History', 'Math', 'Physics', 'CompSci'}\n",
    "sets_2 = set(filter(lambda x: x.startswith('M') , sets_1))\n",
    "print(sets_2)"
   ]
  },
  {
   "attachments": {},
   "cell_type": "markdown",
   "metadata": {},
   "source": [
    "**Using lambda to filter dictionary**"
   ]
  },
  {
   "cell_type": "code",
   "execution_count": 23,
   "metadata": {},
   "outputs": [
    {
     "name": "stdout",
     "output_type": "stream",
     "text": [
      "{'bob': 23, 'anthony': 95, 'daniel': 41}\n"
     ]
    }
   ],
   "source": [
    "ages = {'julian': 20, 'bob': 23, 'zack': 3, 'anthony': 95, 'daniel': 41}\n",
    "print({k : v for k,v in filter(lambda t: t[1] > 22, ages.items())})"
   ]
  },
  {
   "attachments": {},
   "cell_type": "markdown",
   "metadata": {},
   "source": [
    "**Using Dictionary Comprehension to filter dictionary**"
   ]
  },
  {
   "cell_type": "code",
   "execution_count": 24,
   "metadata": {},
   "outputs": [
    {
     "name": "stdout",
     "output_type": "stream",
     "text": [
      "{'bob': 23, 'anthony': 95, 'daniel': 41}\n"
     ]
    }
   ],
   "source": [
    "ages = {'julian': 20, 'bob': 23, 'zack': 3, 'anthony': 95, 'daniel': 41}\n",
    "print({k : v for k,v in ages.items() if v>22})"
   ]
  },
  {
   "attachments": {},
   "cell_type": "markdown",
   "metadata": {},
   "source": [
    "### Map\n",
    "\n",
    "\t• Apply same function to each element of a sequence\n",
    "\t• Return the modified list\n",
    "\n",
    "**Lambda function on a list using map**"
   ]
  },
  {
   "cell_type": "code",
   "execution_count": 26,
   "metadata": {},
   "outputs": [
    {
     "name": "stdout",
     "output_type": "stream",
     "text": [
      "[0, 10, 20, 30, 40, 50, 60, 70, 80, 90, 100]\n"
     ]
    }
   ],
   "source": [
    "list1 = range(11)\n",
    "list2 = list(map(lambda x: x*10, list1))\n",
    "print(list2)"
   ]
  },
  {
   "cell_type": "code",
   "execution_count": 27,
   "metadata": {},
   "outputs": [
    {
     "name": "stdout",
     "output_type": "stream",
     "text": [
      "[0, 2, 4, 6, 8, 10, 12, 14, 16, 18, 20]\n"
     ]
    }
   ],
   "source": [
    "lista = range(11)\n",
    "listb = list(map(lambda x: x*2, lista))\n",
    "print(listb)"
   ]
  },
  {
   "attachments": {},
   "cell_type": "markdown",
   "metadata": {},
   "source": [
    "**Lambda function on a dictionary using map**"
   ]
  },
  {
   "cell_type": "code",
   "execution_count": 28,
   "metadata": {},
   "outputs": [
    {
     "name": "stdout",
     "output_type": "stream",
     "text": [
      "{'eggs': 5, 'honey': 9, 'carrots': 1, 'peaches': 2}\n"
     ]
    }
   ],
   "source": [
    "dic1 = {'eggs': 5.25, 'honey': 9.70, 'carrots': 1.10, 'peaches': 2.45}\n",
    "dic2 = dict(map(lambda item: (item[0], int(item[1])), dic1.items()))\n",
    "print(dic2)"
   ]
  },
  {
   "cell_type": "code",
   "execution_count": 29,
   "metadata": {},
   "outputs": [
    {
     "name": "stdout",
     "output_type": "stream",
     "text": [
      "{'eggs': 10, 'honey': 19, 'carrots': 2, 'peaches': 4}\n"
     ]
    }
   ],
   "source": [
    "dic1 = {'eggs': 5.25, 'honey': 9.70, 'carrots': 1.10, 'peaches': 2.45}\n",
    "dic2 = dict(map(lambda kv: (kv[0], int(kv[1]*2)), dic1.items()))\n",
    "print(dic2)"
   ]
  },
  {
   "cell_type": "markdown",
   "metadata": {},
   "source": [
    "### Reduce\n",
    "\n",
    "    • Applies same operation to items of a sequence\n",
    "\t• Uses result of operation as first param for next operation.\n",
    "\t• Return an item, not a list.\n",
    "\t• In Python3 reduce moved to functools Link1 Link2\n",
    "\n",
    "**Using lambda with reduce**"
   ]
  },
  {
   "cell_type": "code",
   "execution_count": 30,
   "metadata": {},
   "outputs": [
    {
     "name": "stdout",
     "output_type": "stream",
     "text": [
      "55\n"
     ]
    }
   ],
   "source": [
    "from functools import reduce\n",
    "list1 = list(range(11))\n",
    "result = reduce(lambda x, y: x+y, list1)\n",
    "print(result)"
   ]
  },
  {
   "cell_type": "code",
   "execution_count": 34,
   "metadata": {},
   "outputs": [
    {
     "name": "stdout",
     "output_type": "stream",
     "text": [
      "0\n"
     ]
    }
   ],
   "source": [
    "from functools import reduce\n",
    "list1 = list(range(11))\n",
    "result = reduce(lambda x, y: x*y, list1)\n",
    "print(result)"
   ]
  },
  {
   "cell_type": "code",
   "execution_count": 35,
   "metadata": {},
   "outputs": [
    {
     "name": "stdout",
     "output_type": "stream",
     "text": [
      "3628800\n"
     ]
    }
   ],
   "source": [
    "from functools import reduce\n",
    "list1 = list(range(1, 11))\n",
    "result = reduce(lambda x, y: x*y, list1)\n",
    "print(result)"
   ]
  },
  {
   "cell_type": "markdown",
   "metadata": {},
   "source": [
    "### Lambda conditionals\n",
    "**lambda args: a if boolean_expression else b**"
   ]
  },
  {
   "cell_type": "code",
   "execution_count": 36,
   "metadata": {},
   "outputs": [
    {
     "name": "stdout",
     "output_type": "stream",
     "text": [
      "False\n"
     ]
    }
   ],
   "source": [
    "y = 11\n",
    "check = lambda x: True if x % 2 == 0 else False\n",
    "print(check(y))"
   ]
  },
  {
   "cell_type": "code",
   "execution_count": 37,
   "metadata": {},
   "outputs": [
    {
     "name": "stdout",
     "output_type": "stream",
     "text": [
      "True\n",
      "False\n"
     ]
    }
   ],
   "source": [
    "starts_with_r = lambda x: True if x.startswith('r') else False\n",
    "print(starts_with_r('robin'))\n",
    "print(starts_with_r('casey'))"
   ]
  },
  {
   "cell_type": "code",
   "execution_count": 38,
   "metadata": {},
   "outputs": [
    {
     "name": "stdout",
     "output_type": "stream",
     "text": [
      "and\n",
      "score\n"
     ]
    }
   ],
   "source": [
    "sentence = 'Four score and seven years ago'\n",
    "word_before = lambda s, w: s.split()[s.split().index(w)-1] if w in s else None\n",
    "print(word_before(sentence, 'seven'))\n",
    "print(word_before(sentence, 'and'))"
   ]
  },
  {
   "cell_type": "markdown",
   "metadata": {},
   "source": [
    "### Lambdas on DateTime Objects"
   ]
  },
  {
   "cell_type": "code",
   "execution_count": 39,
   "metadata": {},
   "outputs": [
    {
     "name": "stdout",
     "output_type": "stream",
     "text": [
      "2019-11-16 21:01:12.955996\n",
      "2019\n",
      "21\n"
     ]
    }
   ],
   "source": [
    "import datetime\n",
    "now = datetime.datetime.now()\n",
    "print(now)\n",
    "year = lambda x: x.year\n",
    "hour = lambda x: x.hour\n",
    "print(year(now))\n",
    "print(hour(now))"
   ]
  },
  {
   "cell_type": "markdown",
   "metadata": {},
   "source": [
    "### Extreme Lambdas\n",
    "    This is probably a stretch, you  shouldn't be trying to do this much with lambda\n",
    "    Some things are better done in the regular function. but this shows what's possible with lambdas"
   ]
  },
  {
   "cell_type": "code",
   "execution_count": 40,
   "metadata": {},
   "outputs": [
    {
     "name": "stdout",
     "output_type": "stream",
     "text": [
      "True\n",
      "True\n",
      "False\n",
      "False\n",
      "True\n",
      "-1\n",
      "-21.67 <class 'float'>\n"
     ]
    }
   ],
   "source": [
    "isnum = lambda x: x.replace('.','',1).isdigit()\n",
    "print(isnum('1598'))\n",
    "print(isnum('3.1415'))\n",
    "print(isnum('T57'))\n",
    "print(isnum('-16'))\n",
    "\n",
    "is_num = lambda r: isnum(r[1:]) if r[0] == '-' else isnum(r)\n",
    "print(is_num('-16.4'))\n",
    "\n",
    "tonum = lambda s: float(s) if is_num(s) else -1\n",
    "print(tonum('30y'))\n",
    "print(tonum('-21.67'), type(tonum('-21.67')))"
   ]
  },
  {
   "cell_type": "code",
   "execution_count": null,
   "metadata": {},
   "outputs": [],
   "source": []
  }
 ],
 "metadata": {
  "kernelspec": {
   "display_name": "Python 3",
   "language": "python",
   "name": "python3"
  },
  "language_info": {
   "codemirror_mode": {
    "name": "ipython",
    "version": 3
   },
   "file_extension": ".py",
   "mimetype": "text/x-python",
   "name": "python",
   "nbconvert_exporter": "python",
   "pygments_lexer": "ipython3",
   "version": "3.7.5"
  }
 },
 "nbformat": 4,
 "nbformat_minor": 2
}
