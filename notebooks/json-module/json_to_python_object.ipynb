{
 "cells": [
  {
   "cell_type": "markdown",
   "metadata": {},
   "source": [
    "## Convert JSON Data to Python Object"
   ]
  },
  {
   "cell_type": "markdown",
   "metadata": {},
   "source": [
    "**Json file \"data.json\"**"
   ]
  },
  {
   "cell_type": "code",
   "execution_count": 1,
   "metadata": {
    "scrolled": true
   },
   "outputs": [
    {
     "name": "stdout",
     "output_type": "stream",
     "text": [
      "[\r\n",
      "  {\r\n",
      "    \"guid\": \"1f1c4ac7-fc36-4008-935b-d87ffc7d8700\",\r\n",
      "    \"isActive\": false,\r\n",
      "    \"name\": {\r\n",
      "      \"first\": \"Reid\",\r\n",
      "      \"last\": \"Warren\"\r\n",
      "    },\r\n",
      "    \"email\": \"reid.warren@undefined.name\",\r\n",
      "    \"phone\": \"+1 (983) 443-3504\",\r\n",
      "    \"address\": \"359 Rapelye Street, Holtville, Marshall Islands, 9692\"\r\n",
      "  },\r\n",
      "  {\r\n",
      "    \"guid\": \"0a661c22-ce39-40fb-bcb1-742028cc0c9e\",\r\n",
      "    \"isActive\": true,\r\n",
      "    \"name\": {\r\n",
      "      \"first\": \"Amelia\",\r\n",
      "      \"last\": \"Wilkinson\"\r\n",
      "    },\r\n",
      "    \"email\": \"amelia.wilkinson@undefined.us\",\r\n",
      "    \"phone\": \"+1 (831) 563-3240\",\r\n",
      "    \"address\": \"525 Allen Avenue, Iola, Kentucky, 894\"\r\n",
      "  },\r\n",
      "  {\r\n",
      "    \"guid\": \"e23bbe57-7f46-4e03-9f72-0d7499d96153\",\r\n",
      "    \"isActive\": false,\r\n",
      "    \"name\": {\r\n",
      "      \"first\": \"Shari\",\r\n",
      "      \"last\": \"Sullivan\"\r\n",
      "    },\r\n",
      "    \"email\": \"shari.sullivan@undefined.ca\",\r\n",
      "    \"phone\": \"+1 (922) 472-2774\",\r\n",
      "    \"address\": \"366 Leonora Court, Cecilia, Pennsylvania, 3333\"\r\n",
      "  },\r\n",
      "  {\r\n",
      "    \"guid\": \"6e831b05-a1f3-42df-b036-8dbb9a9cac91\",\r\n",
      "    \"isActive\": true,\r\n",
      "    \"name\": {\r\n",
      "      \"first\": \"Lindsay\",\r\n",
      "      \"last\": \"Carney\"\r\n",
      "    },\r\n",
      "    \"email\": \"lindsay.carney@undefined.com\",\r\n",
      "    \"phone\": \"+1 (837) 434-3274\",\r\n",
      "    \"address\": \"978 Wilson Street, Riegelwood, Oklahoma, 6709\"\r\n",
      "  },\r\n",
      "  {\r\n",
      "    \"guid\": \"1bcca5d1-8662-447f-b7af-83ed2c2eb0ca\",\r\n",
      "    \"isActive\": true,\r\n",
      "    \"name\": {\r\n",
      "      \"first\": \"Mckee\",\r\n",
      "      \"last\": \"Lawrence\"\r\n",
      "    },\r\n",
      "    \"email\": \"mckee.lawrence@undefined.biz\",\r\n",
      "    \"phone\": \"+1 (825) 488-2901\",\r\n",
      "    \"address\": \"157 Banker Street, Katonah, Alabama, 6102\"\r\n",
      "  },\r\n",
      "  {\r\n",
      "    \"guid\": \"0c4a6a1b-28ba-4c07-843e-2c1f1eaf8113\",\r\n",
      "    \"isActive\": false,\r\n",
      "    \"name\": {\r\n",
      "      \"first\": \"Eunice\",\r\n",
      "      \"last\": \"Chen\"\r\n",
      "    },\r\n",
      "    \"email\": \"eunice.chen@undefined.info\",\r\n",
      "    \"phone\": \"+1 (934) 504-2507\",\r\n",
      "    \"address\": \"966 Homecrest Avenue, Movico, Federated States Of Micronesia, 6969\"\r\n",
      "  },\r\n",
      "  {\r\n",
      "    \"guid\": \"9f2b7d10-0229-438f-ae4a-a32bc537ad46\",\r\n",
      "    \"isActive\": true,\r\n",
      "    \"name\": {\r\n",
      "      \"first\": \"Pearlie\",\r\n",
      "      \"last\": \"Erickson\"\r\n",
      "    },\r\n",
      "    \"email\": \"pearlie.erickson@undefined.org\",\r\n",
      "    \"phone\": \"+1 (972) 541-2059\",\r\n",
      "    \"address\": \"739 Sands Street, Starks, Puerto Rico, 7258\"\r\n",
      "  },\r\n",
      "  {\r\n",
      "    \"guid\": \"be5c039f-868d-418d-a3d9-893a5721513d\",\r\n",
      "    \"isActive\": false,\r\n",
      "    \"name\": {\r\n",
      "      \"first\": \"Leann\",\r\n",
      "      \"last\": \"Solomon\"\r\n",
      "    },\r\n",
      "    \"email\": \"leann.solomon@undefined.tv\",\r\n",
      "    \"phone\": \"+1 (910) 527-3160\",\r\n",
      "    \"address\": \"552 Arlington Place, Cotopaxi, Guam, 3114\"\r\n",
      "  },\r\n",
      "  {\r\n",
      "    \"guid\": \"41910a17-e692-4692-9360-474d79335372\",\r\n",
      "    \"isActive\": false,\r\n",
      "    \"name\": {\r\n",
      "      \"first\": \"Ashley\",\r\n",
      "      \"last\": \"Bishop\"\r\n",
      "    },\r\n",
      "    \"email\": \"ashley.bishop@undefined.net\",\r\n",
      "    \"phone\": \"+1 (901) 593-2961\",\r\n",
      "    \"address\": \"974 Commerce Street, Taycheedah, Connecticut, 1413\"\r\n",
      "  },\r\n",
      "  {\r\n",
      "    \"guid\": \"780a2849-6d71-45e7-8265-127129722ada\",\r\n",
      "    \"isActive\": true,\r\n",
      "    \"name\": {\r\n",
      "      \"first\": \"Nell\",\r\n",
      "      \"last\": \"Chavez\"\r\n",
      "    },\r\n",
      "    \"email\": \"nell.chavez@undefined.io\",\r\n",
      "    \"phone\": \"+1 (801) 597-3335\",\r\n",
      "    \"address\": \"723 Belmont Avenue, Belfair, Delaware, 8368\"\r\n",
      "  },\r\n",
      "  {\r\n",
      "    \"guid\": \"4fea390b-0b25-49d5-8e09-b9d672e7485d\",\r\n",
      "    \"isActive\": true,\r\n",
      "    \"name\": {\r\n",
      "      \"first\": \"Nita\",\r\n",
      "      \"last\": \"Mendez\"\r\n",
      "    },\r\n",
      "    \"email\": \"nita.mendez@undefined.biz\",\r\n",
      "    \"phone\": \"+1 (867) 598-3462\",\r\n",
      "    \"address\": \"817 Henderson Walk, Carbonville, Iowa, 4267\"\r\n",
      "  }\r\n",
      "]\r\n"
     ]
    }
   ],
   "source": [
    "!cat data.json"
   ]
  },
  {
   "cell_type": "markdown",
   "metadata": {},
   "source": [
    "**Create a class**"
   ]
  },
  {
   "cell_type": "code",
   "execution_count": 2,
   "metadata": {},
   "outputs": [],
   "source": [
    "import json\n",
    "\n",
    "class User():\n",
    "    \n",
    "    def __init__(self, guid, isActive, name, email, phone, address):\n",
    "        self.guid = guid\n",
    "        self.isActive = isActive\n",
    "        self.first_name = name['first']\n",
    "        self.last_name = name['last']\n",
    "        self.email = email\n",
    "        self.phone = phone\n",
    "        self.address = address\n",
    "    \n",
    "    @classmethod\n",
    "    def from_json(cls, json_string):\n",
    "        json_dict = json.loads(json_string)\n",
    "        return cls(**json_dict)\n",
    "    \n",
    "    def __repr__(self):\n",
    "        return f\"<User {self.first_name}>\"\n"
   ]
  },
  {
   "cell_type": "markdown",
   "metadata": {},
   "source": [
    "**Testing it with a JSON String**"
   ]
  },
  {
   "cell_type": "code",
   "execution_count": 4,
   "metadata": {},
   "outputs": [
    {
     "name": "stdout",
     "output_type": "stream",
     "text": [
      "<User Casey>\n",
      "1f1c4ac7-fc36-4008-935b-d87ffc888888\n",
      "True\n",
      "Casey\n",
      "Boy\n",
      "casey.boy@undefined.name\n",
      "+1 (818) 281-6564\n",
      "359 Rapelye Street, Holtville, Marshall Islands, 9692\n"
     ]
    }
   ],
   "source": [
    "jstring = '''{\n",
    "    \"guid\": \"1f1c4ac7-fc36-4008-935b-d87ffc888888\",\n",
    "    \"isActive\": true,\n",
    "    \"name\": {\n",
    "      \"first\": \"Casey\",\n",
    "      \"last\": \"Boy\"\n",
    "    },\n",
    "    \"email\": \"casey.boy@undefined.name\",\n",
    "    \"phone\": \"+1 (818) 281-6564\",\n",
    "    \"address\": \"359 Rapelye Street, Holtville, Marshall Islands, 9692\"\n",
    "  }'''\n",
    "\n",
    "\n",
    "user = User.from_json(jstring)\n",
    "print(user)\n",
    "\n",
    "print(user.guid)\n",
    "print(user.isActive)\n",
    "print(user.first_name)\n",
    "print(user.last_name)\n",
    "print(user.email)\n",
    "print(user.phone)\n",
    "print(user.address)"
   ]
  },
  {
   "cell_type": "markdown",
   "metadata": {},
   "source": [
    "**Parsing the JSON file to create a list of objects**"
   ]
  },
  {
   "cell_type": "code",
   "execution_count": 5,
   "metadata": {},
   "outputs": [
    {
     "name": "stdout",
     "output_type": "stream",
     "text": [
      "[<User Reid>, <User Amelia>, <User Shari>, <User Lindsay>, <User Mckee>, <User Eunice>, <User Pearlie>, <User Leann>, <User Ashley>, <User Nell>, <User Nita>]\n"
     ]
    }
   ],
   "source": [
    "user_list = []\n",
    "with open('data.json', 'r') as json_file:\n",
    "    user_data = json.loads(json_file.read())\n",
    "    for user in user_data:\n",
    "        user_list.append(User(**user))\n",
    "\n",
    "print(user_list)"
   ]
  },
  {
   "cell_type": "markdown",
   "metadata": {},
   "source": [
    "**Prining Content**"
   ]
  },
  {
   "cell_type": "code",
   "execution_count": 6,
   "metadata": {
    "scrolled": true
   },
   "outputs": [
    {
     "name": "stdout",
     "output_type": "stream",
     "text": [
      "1f1c4ac7-fc36-4008-935b-d87ffc7d8700\n",
      "False\n",
      "Reid\n",
      "Warren\n",
      "reid.warren@undefined.name\n",
      "+1 (983) 443-3504\n",
      "359 Rapelye Street, Holtville, Marshall Islands, 9692\n",
      "\n",
      "0a661c22-ce39-40fb-bcb1-742028cc0c9e\n",
      "True\n",
      "Amelia\n",
      "Wilkinson\n",
      "amelia.wilkinson@undefined.us\n",
      "+1 (831) 563-3240\n",
      "525 Allen Avenue, Iola, Kentucky, 894\n",
      "\n",
      "e23bbe57-7f46-4e03-9f72-0d7499d96153\n",
      "False\n",
      "Shari\n",
      "Sullivan\n",
      "shari.sullivan@undefined.ca\n",
      "+1 (922) 472-2774\n",
      "366 Leonora Court, Cecilia, Pennsylvania, 3333\n",
      "\n",
      "6e831b05-a1f3-42df-b036-8dbb9a9cac91\n",
      "True\n",
      "Lindsay\n",
      "Carney\n",
      "lindsay.carney@undefined.com\n",
      "+1 (837) 434-3274\n",
      "978 Wilson Street, Riegelwood, Oklahoma, 6709\n",
      "\n",
      "1bcca5d1-8662-447f-b7af-83ed2c2eb0ca\n",
      "True\n",
      "Mckee\n",
      "Lawrence\n",
      "mckee.lawrence@undefined.biz\n",
      "+1 (825) 488-2901\n",
      "157 Banker Street, Katonah, Alabama, 6102\n",
      "\n",
      "0c4a6a1b-28ba-4c07-843e-2c1f1eaf8113\n",
      "False\n",
      "Eunice\n",
      "Chen\n",
      "eunice.chen@undefined.info\n",
      "+1 (934) 504-2507\n",
      "966 Homecrest Avenue, Movico, Federated States Of Micronesia, 6969\n",
      "\n",
      "9f2b7d10-0229-438f-ae4a-a32bc537ad46\n",
      "True\n",
      "Pearlie\n",
      "Erickson\n",
      "pearlie.erickson@undefined.org\n",
      "+1 (972) 541-2059\n",
      "739 Sands Street, Starks, Puerto Rico, 7258\n",
      "\n",
      "be5c039f-868d-418d-a3d9-893a5721513d\n",
      "False\n",
      "Leann\n",
      "Solomon\n",
      "leann.solomon@undefined.tv\n",
      "+1 (910) 527-3160\n",
      "552 Arlington Place, Cotopaxi, Guam, 3114\n",
      "\n",
      "41910a17-e692-4692-9360-474d79335372\n",
      "False\n",
      "Ashley\n",
      "Bishop\n",
      "ashley.bishop@undefined.net\n",
      "+1 (901) 593-2961\n",
      "974 Commerce Street, Taycheedah, Connecticut, 1413\n",
      "\n",
      "780a2849-6d71-45e7-8265-127129722ada\n",
      "True\n",
      "Nell\n",
      "Chavez\n",
      "nell.chavez@undefined.io\n",
      "+1 (801) 597-3335\n",
      "723 Belmont Avenue, Belfair, Delaware, 8368\n",
      "\n",
      "4fea390b-0b25-49d5-8e09-b9d672e7485d\n",
      "True\n",
      "Nita\n",
      "Mendez\n",
      "nita.mendez@undefined.biz\n",
      "+1 (867) 598-3462\n",
      "817 Henderson Walk, Carbonville, Iowa, 4267\n",
      "\n"
     ]
    }
   ],
   "source": [
    "for user in user_list:\n",
    "    print(user.guid)\n",
    "    print(user.isActive)\n",
    "    print(user.first_name)\n",
    "    print(user.last_name)\n",
    "    print(user.email)\n",
    "    print(user.phone)\n",
    "    print(user.address)\n",
    "    print()\n"
   ]
  },
  {
   "cell_type": "code",
   "execution_count": null,
   "metadata": {},
   "outputs": [],
   "source": []
  }
 ],
 "metadata": {
  "kernelspec": {
   "display_name": "Python 3",
   "language": "python",
   "name": "python3"
  },
  "language_info": {
   "codemirror_mode": {
    "name": "ipython",
    "version": 3
   },
   "file_extension": ".py",
   "mimetype": "text/x-python",
   "name": "python",
   "nbconvert_exporter": "python",
   "pygments_lexer": "ipython3",
   "version": "3.7.5"
  }
 },
 "nbformat": 4,
 "nbformat_minor": 2
}
