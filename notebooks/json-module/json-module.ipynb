{
 "cells": [
  {
   "cell_type": "markdown",
   "metadata": {},
   "source": [
    "### JSON\n",
    "\n",
    "    JSON (JavaScript Object Notation) is a lightweight data-interchange format. It is easy for humans to read and write. It is easy for machines to parse and generate. It is based on a subset of the JavaScript Programming Language Standard ECMA-262 3rd Edition - December 1999. JSON is a text format that is completely language independent but uses conventions that are familiar to programmers of the C-family of languages, including C, C++, C#, Java, JavaScript, Perl, Python, and many others. These properties make JSON an ideal data-interchange language.\n",
    "\n",
    "    JSON is built on two structures:\n",
    "\n",
    "    A collection of name/value pairs. In various languages, this is realized as an object, record, struct, dictionary, hash table, keyed list, or associative array.\n",
    "    An ordered list of values. In most languages, this is realized as an array, vector, list, or sequence.\n",
    "    These are universal data structures. Virtually all modern programming languages support them in one form or another. It makes sense that a data format that is interchangeable with programming languages also be based on these structures.\n",
    "\n",
    "[Json Encoders and Decoders](https://docs.python.org/3/library/json.html#encoders-and-decoders)\n",
    "    \n",
    "[YouTube](https://www.youtube.com/watch?v=9N6a-VLBa2I)"
   ]
  },
  {
   "cell_type": "code",
   "execution_count": 1,
   "metadata": {},
   "outputs": [],
   "source": [
    "import json"
   ]
  },
  {
   "cell_type": "code",
   "execution_count": 2,
   "metadata": {},
   "outputs": [],
   "source": [
    "people_string = '''\n",
    "{\n",
    "    \"people\": [\n",
    "        {\n",
    "        \"name\": \"John Smith\",\n",
    "        \"phone\": \"615-555-7164\",\n",
    "        \"emails\": [\"johnsmith@bogusemail.com\", \"john.smith@work-place.com\"],\n",
    "        \"has_license\": false\n",
    "        },\n",
    "        {\n",
    "        \"name\": \"Jane Doe\",\n",
    "        \"phone\": \"560-555-5153\",\n",
    "        \"emails\": null,\n",
    "        \"has_license\": true\n",
    "        }\n",
    "    ]\n",
    "}\n",
    "'''"
   ]
  },
  {
   "cell_type": "markdown",
   "metadata": {},
   "source": [
    "**json.loads()**"
   ]
  },
  {
   "cell_type": "code",
   "execution_count": 3,
   "metadata": {},
   "outputs": [
    {
     "name": "stdout",
     "output_type": "stream",
     "text": [
      "{'people': [{'name': 'John Smith', 'phone': '615-555-7164', 'emails': ['johnsmith@bogusemail.com', 'john.smith@work-place.com'], 'has_license': False}, {'name': 'Jane Doe', 'phone': '560-555-5153', 'emails': None, 'has_license': True}]}\n"
     ]
    }
   ],
   "source": [
    "data = json.loads(people_string)\n",
    "print(data)"
   ]
  },
  {
   "cell_type": "code",
   "execution_count": 4,
   "metadata": {},
   "outputs": [
    {
     "name": "stdout",
     "output_type": "stream",
     "text": [
      "<class 'dict'>\n"
     ]
    }
   ],
   "source": [
    "print(type(data))"
   ]
  },
  {
   "cell_type": "code",
   "execution_count": 5,
   "metadata": {},
   "outputs": [
    {
     "name": "stdout",
     "output_type": "stream",
     "text": [
      "<class 'list'>\n"
     ]
    }
   ],
   "source": [
    "print(type(data['people']))"
   ]
  },
  {
   "cell_type": "code",
   "execution_count": 6,
   "metadata": {},
   "outputs": [
    {
     "name": "stdout",
     "output_type": "stream",
     "text": [
      "{'name': 'John Smith', 'phone': '615-555-7164', 'emails': ['johnsmith@bogusemail.com', 'john.smith@work-place.com'], 'has_license': False}\n",
      "{'name': 'Jane Doe', 'phone': '560-555-5153', 'emails': None, 'has_license': True}\n"
     ]
    }
   ],
   "source": [
    "for person in data['people']:\n",
    "    print(person)"
   ]
  },
  {
   "cell_type": "code",
   "execution_count": 7,
   "metadata": {},
   "outputs": [
    {
     "name": "stdout",
     "output_type": "stream",
     "text": [
      "John Smith\n",
      "Jane Doe\n"
     ]
    }
   ],
   "source": [
    "for person in data['people']:\n",
    "    print(person['name'])"
   ]
  },
  {
   "cell_type": "markdown",
   "metadata": {},
   "source": [
    "**Delete a Key and Value**"
   ]
  },
  {
   "cell_type": "code",
   "execution_count": 8,
   "metadata": {},
   "outputs": [
    {
     "name": "stdout",
     "output_type": "stream",
     "text": [
      "{'name': 'John Smith', 'emails': ['johnsmith@bogusemail.com', 'john.smith@work-place.com'], 'has_license': False}\n",
      "{'name': 'Jane Doe', 'emails': None, 'has_license': True}\n"
     ]
    }
   ],
   "source": [
    "for person in data['people']:\n",
    "    del person['phone']\n",
    "    print(person)"
   ]
  },
  {
   "cell_type": "markdown",
   "metadata": {},
   "source": [
    "**json.dumps()**"
   ]
  },
  {
   "cell_type": "code",
   "execution_count": 9,
   "metadata": {},
   "outputs": [
    {
     "name": "stdout",
     "output_type": "stream",
     "text": [
      "{\"people\": [{\"name\": \"John Smith\", \"emails\": [\"johnsmith@bogusemail.com\", \"john.smith@work-place.com\"], \"has_license\": false}, {\"name\": \"Jane Doe\", \"emails\": null, \"has_license\": true}]}\n"
     ]
    }
   ],
   "source": [
    "new_string = json.dumps(data)\n",
    "print(new_string)"
   ]
  },
  {
   "cell_type": "markdown",
   "metadata": {},
   "source": [
    "**JSON Formated Print**"
   ]
  },
  {
   "cell_type": "code",
   "execution_count": 10,
   "metadata": {},
   "outputs": [
    {
     "name": "stdout",
     "output_type": "stream",
     "text": [
      "{\n",
      "    \"people\": [\n",
      "        {\n",
      "            \"name\": \"John Smith\",\n",
      "            \"emails\": [\n",
      "                \"johnsmith@bogusemail.com\",\n",
      "                \"john.smith@work-place.com\"\n",
      "            ],\n",
      "            \"has_license\": false\n",
      "        },\n",
      "        {\n",
      "            \"name\": \"Jane Doe\",\n",
      "            \"emails\": null,\n",
      "            \"has_license\": true\n",
      "        }\n",
      "    ]\n",
      "}\n"
     ]
    }
   ],
   "source": [
    "new_string = json.dumps(data, indent=4)\n",
    "print(new_string)"
   ]
  },
  {
   "cell_type": "markdown",
   "metadata": {},
   "source": [
    "**Sort Keys**"
   ]
  },
  {
   "cell_type": "code",
   "execution_count": 11,
   "metadata": {},
   "outputs": [
    {
     "name": "stdout",
     "output_type": "stream",
     "text": [
      "{\n",
      "    \"people\": [\n",
      "        {\n",
      "            \"emails\": [\n",
      "                \"johnsmith@bogusemail.com\",\n",
      "                \"john.smith@work-place.com\"\n",
      "            ],\n",
      "            \"has_license\": false,\n",
      "            \"name\": \"John Smith\"\n",
      "        },\n",
      "        {\n",
      "            \"emails\": null,\n",
      "            \"has_license\": true,\n",
      "            \"name\": \"Jane Doe\"\n",
      "        }\n",
      "    ]\n",
      "}\n"
     ]
    }
   ],
   "source": [
    "new_string = json.dumps(data, indent=4, sort_keys=True)\n",
    "print(new_string)"
   ]
  },
  {
   "cell_type": "code",
   "execution_count": 12,
   "metadata": {},
   "outputs": [
    {
     "name": "stdout",
     "output_type": "stream",
     "text": [
      "--2019-11-23 19:18:08--  https://raw.githubusercontent.com/CoreyMSchafer/code_snippets/master/Python-JSON/states.json\n",
      "Resolving raw.githubusercontent.com (raw.githubusercontent.com)... 151.101.0.133, 151.101.64.133, 151.101.128.133, ...\n",
      "Connecting to raw.githubusercontent.com (raw.githubusercontent.com)|151.101.0.133|:443... connected.\n",
      "HTTP request sent, awaiting response... 200 OK\n",
      "Length: 6606 (6.5K) [text/plain]\n",
      "Saving to: ‘states.json.2’\n",
      "\n",
      "states.json.2       100%[===================>]   6.45K  --.-KB/s    in 0s      \n",
      "\n",
      "2019-11-23 19:18:08 (37.6 MB/s) - ‘states.json.2’ saved [6606/6606]\n",
      "\n"
     ]
    }
   ],
   "source": [
    "!wget https://raw.githubusercontent.com/CoreyMSchafer/code_snippets/master/Python-JSON/states.json"
   ]
  },
  {
   "cell_type": "code",
   "execution_count": 13,
   "metadata": {},
   "outputs": [
    {
     "name": "stdout",
     "output_type": "stream",
     "text": [
      "-rw-r--r-- 1 root root 4346 Nov 23 19:17 new_states.json\n",
      "-rw-r--r-- 1 root root 6606 Nov 23 18:05 states.json\n",
      "{\n",
      "  \"states\": [\n",
      "    {\n",
      "      \"name\": \"Alabama\",\n",
      "      \"abbreviation\": \"AL\",\n",
      "      \"area_codes\": [\"205\", \"251\", \"256\", \"334\", \"938\"]\n",
      "    },\n",
      "    {\n",
      "      \"name\": \"Alaska\",\n",
      "      \"abbreviation\": \"AK\",\n",
      "      \"area_codes\": [\"907\"]\n",
      "    },\n",
      "    {\n",
      "      \"name\": \"Arizona\",\n",
      "      \"abbreviation\": \"AZ\",\n",
      "      \"area_codes\": [\"480\", \"520\", \"602\", \"623\", \"928\"]\n",
      "    },\n",
      "    {\n",
      "      \"name\": \"Arkansas\",\n",
      "      \"abbreviation\": \"AR\",\n"
     ]
    }
   ],
   "source": [
    "!ls -l *.json\n",
    "!head -20 states.json"
   ]
  },
  {
   "cell_type": "code",
   "execution_count": 14,
   "metadata": {},
   "outputs": [],
   "source": [
    "with open('states.json') as f:\n",
    "    data = json.load(f)"
   ]
  },
  {
   "cell_type": "code",
   "execution_count": 15,
   "metadata": {},
   "outputs": [
    {
     "name": "stdout",
     "output_type": "stream",
     "text": [
      "{'name': 'Alabama', 'abbreviation': 'AL', 'area_codes': ['205', '251', '256', '334', '938']}\n",
      "{'name': 'Alaska', 'abbreviation': 'AK', 'area_codes': ['907']}\n",
      "{'name': 'Arizona', 'abbreviation': 'AZ', 'area_codes': ['480', '520', '602', '623', '928']}\n",
      "{'name': 'Arkansas', 'abbreviation': 'AR', 'area_codes': ['479', '501', '870']}\n",
      "{'name': 'California', 'abbreviation': 'CA', 'area_codes': ['209', '213', '310', '323', '408', '415', '424', '442', '510', '530', '559', '562', '619', '626', '628', '650', '657', '661', '669', '707', '714', '747', '760', '805', '818', '831', '858', '909', '916', '925', '949', '951']}\n",
      "{'name': 'Colorado', 'abbreviation': 'CO', 'area_codes': ['303', '719', '720', '970']}\n",
      "{'name': 'Connecticut', 'abbreviation': 'CT', 'area_codes': ['203', '475', '860', '959']}\n",
      "{'name': 'Delaware', 'abbreviation': 'DE', 'area_codes': ['302']}\n",
      "{'name': 'Florida', 'abbreviation': 'FL', 'area_codes': ['239', '305', '321', '352', '386', '407', '561', '727', '754', '772', '786', '813', '850', '863', '904', '941', '954']}\n",
      "{'name': 'Georgia', 'abbreviation': 'GA', 'area_codes': ['229', '404', '470', '478', '678', '706', '762', '770', '912']}\n",
      "{'name': 'Hawaii', 'abbreviation': 'HI', 'area_codes': ['808']}\n",
      "{'name': 'Idaho', 'abbreviation': 'ID', 'area_codes': ['208']}\n",
      "{'name': 'Illinois', 'abbreviation': 'IL', 'area_codes': ['217', '224', '309', '312', '331', '618', '630', '708', '773', '779', '815', '847', '872']}\n",
      "{'name': 'Indiana', 'abbreviation': 'IN', 'area_codes': ['219', '260', '317', '463', '574', '765', '812', '930']}\n",
      "{'name': 'Iowa', 'abbreviation': 'IA', 'area_codes': ['319', '515', '563', '641', '712']}\n",
      "{'name': 'Kansas', 'abbreviation': 'KS', 'area_codes': ['316', '620', '785', '913']}\n",
      "{'name': 'Kentucky', 'abbreviation': 'KY', 'area_codes': ['270', '364', '502', '606', '859']}\n",
      "{'name': 'Louisiana', 'abbreviation': 'LA', 'area_codes': ['225', '318', '337', '504', '985']}\n",
      "{'name': 'Maine', 'abbreviation': 'ME', 'area_codes': ['207']}\n",
      "{'name': 'Maryland', 'abbreviation': 'MD', 'area_codes': ['240', '301', '410', '443', '667']}\n",
      "{'name': 'Massachusetts', 'abbreviation': 'MA', 'area_codes': ['339', '351', '413', '508', '617', '774', '781', '857', '978']}\n",
      "{'name': 'Michigan', 'abbreviation': 'MI', 'area_codes': ['231', '248', '269', '313', '517', '586', '616', '734', '810', '906', '947', '989']}\n",
      "{'name': 'Minnesota', 'abbreviation': 'MN', 'area_codes': ['218', '320', '507', '612', '651', '763', '952']}\n",
      "{'name': 'Mississippi', 'abbreviation': 'MS', 'area_codes': ['228', '601', '662', '769']}\n",
      "{'name': 'Missouri', 'abbreviation': 'MO', 'area_codes': ['314', '417', '573', '636', '660', '816']}\n",
      "{'name': 'Montana', 'abbreviation': 'MT', 'area_codes': ['406']}\n",
      "{'name': 'Nebraska', 'abbreviation': 'NE', 'area_codes': ['308', '402', '531']}\n",
      "{'name': 'Nevada', 'abbreviation': 'NV', 'area_codes': ['702', '725', '775']}\n",
      "{'name': 'New Hampshire', 'abbreviation': 'NH', 'area_codes': ['603']}\n",
      "{'name': 'New Jersey', 'abbreviation': 'NJ', 'area_codes': ['201', '551', '609', '732', '848', '856', '862', '908', '973']}\n",
      "{'name': 'New Mexico', 'abbreviation': 'NM', 'area_codes': ['505', '575']}\n",
      "{'name': 'New York', 'abbreviation': 'NY', 'area_codes': ['212', '315', '332', '347', '516', '518', '585', '607', '631', '646', '680', '716', '718', '845', '914', '917', '929', '934']}\n",
      "{'name': 'North Carolina', 'abbreviation': 'NC', 'area_codes': ['252', '336', '704', '743', '828', '910', '919', '980', '984']}\n",
      "{'name': 'North Dakota', 'abbreviation': 'ND', 'area_codes': ['701']}\n",
      "{'name': 'Ohio', 'abbreviation': 'OH', 'area_codes': ['216', '220', '234', '330', '380', '419', '440', '513', '567', '614', '740', '937']}\n",
      "{'name': 'Oklahoma', 'abbreviation': 'OK', 'area_codes': ['405', '539', '580', '918']}\n",
      "{'name': 'Oregon', 'abbreviation': 'OR', 'area_codes': ['458', '503', '541', '971']}\n",
      "{'name': 'Pennsylvania', 'abbreviation': 'PA', 'area_codes': ['215', '267', '272', '412', '484', '570', '610', '717', '724', '814', '878']}\n",
      "{'name': 'Rhode Island', 'abbreviation': 'RI', 'area_codes': ['401']}\n",
      "{'name': 'South Carolina', 'abbreviation': 'SC', 'area_codes': ['803', '843', '854', '864']}\n",
      "{'name': 'South Dakota', 'abbreviation': 'SD', 'area_codes': ['605']}\n",
      "{'name': 'Tennessee', 'abbreviation': 'TN', 'area_codes': ['423', '615', '629', '731', '865', '901', '931']}\n",
      "{'name': 'Texas', 'abbreviation': 'TX', 'area_codes': ['210', '214', '254', '281', '325', '346', '361', '409', '430', '432', '469', '512', '682', '713', '737', '806', '817', '830', '832', '903', '915', '936', '940', '956', '972', '979']}\n",
      "{'name': 'Utah', 'abbreviation': 'UT', 'area_codes': ['385', '435', '801']}\n",
      "{'name': 'Vermont', 'abbreviation': 'VT', 'area_codes': ['802']}\n",
      "{'name': 'Virginia', 'abbreviation': 'VA', 'area_codes': ['276', '434', '540', '571', '703', '757', '804']}\n",
      "{'name': 'Washington', 'abbreviation': 'WA', 'area_codes': ['206', '253', '360', '425', '509']}\n",
      "{'name': 'West Virginia', 'abbreviation': 'WV', 'area_codes': ['304', '681']}\n",
      "{'name': 'Wisconsin', 'abbreviation': 'WI', 'area_codes': ['262', '414', '534', '608', '715', '920']}\n",
      "{'name': 'Wyoming', 'abbreviation': 'WY', 'area_codes': ['307']}\n"
     ]
    }
   ],
   "source": [
    "for state in data['states']:\n",
    "    print(state)"
   ]
  },
  {
   "cell_type": "code",
   "execution_count": 16,
   "metadata": {},
   "outputs": [
    {
     "name": "stdout",
     "output_type": "stream",
     "text": [
      "Alabama AL\n",
      "Alaska AK\n",
      "Arizona AZ\n",
      "Arkansas AR\n",
      "California CA\n",
      "Colorado CO\n",
      "Connecticut CT\n",
      "Delaware DE\n",
      "Florida FL\n",
      "Georgia GA\n",
      "Hawaii HI\n",
      "Idaho ID\n",
      "Illinois IL\n",
      "Indiana IN\n",
      "Iowa IA\n",
      "Kansas KS\n",
      "Kentucky KY\n",
      "Louisiana LA\n",
      "Maine ME\n",
      "Maryland MD\n",
      "Massachusetts MA\n",
      "Michigan MI\n",
      "Minnesota MN\n",
      "Mississippi MS\n",
      "Missouri MO\n",
      "Montana MT\n",
      "Nebraska NE\n",
      "Nevada NV\n",
      "New Hampshire NH\n",
      "New Jersey NJ\n",
      "New Mexico NM\n",
      "New York NY\n",
      "North Carolina NC\n",
      "North Dakota ND\n",
      "Ohio OH\n",
      "Oklahoma OK\n",
      "Oregon OR\n",
      "Pennsylvania PA\n",
      "Rhode Island RI\n",
      "South Carolina SC\n",
      "South Dakota SD\n",
      "Tennessee TN\n",
      "Texas TX\n",
      "Utah UT\n",
      "Vermont VT\n",
      "Virginia VA\n",
      "Washington WA\n",
      "West Virginia WV\n",
      "Wisconsin WI\n",
      "Wyoming WY\n"
     ]
    }
   ],
   "source": [
    "for state in data['states']:\n",
    "    print(state['name'], state['abbreviation'])"
   ]
  },
  {
   "cell_type": "code",
   "execution_count": 17,
   "metadata": {},
   "outputs": [],
   "source": [
    "for state in data['states']:\n",
    "    del state['area_codes']"
   ]
  },
  {
   "cell_type": "code",
   "execution_count": 18,
   "metadata": {},
   "outputs": [],
   "source": [
    "with open('new_states.json', 'w') as f:\n",
    "    json.dump(data, f)"
   ]
  },
  {
   "cell_type": "code",
   "execution_count": 19,
   "metadata": {},
   "outputs": [
    {
     "name": "stdout",
     "output_type": "stream",
     "text": [
      "-rw-r--r-- 1 root root 2234 Nov 23 19:18 new_states.json\r\n",
      "-rw-r--r-- 1 root root 6606 Nov 23 18:05 states.json\r\n"
     ]
    }
   ],
   "source": [
    "!ls -l *.json"
   ]
  },
  {
   "cell_type": "code",
   "execution_count": 20,
   "metadata": {},
   "outputs": [],
   "source": [
    "with open('new_states.json', 'w') as f:\n",
    "    json.dump(data, f, indent=4)"
   ]
  },
  {
   "cell_type": "code",
   "execution_count": 21,
   "metadata": {},
   "outputs": [
    {
     "name": "stdout",
     "output_type": "stream",
     "text": [
      "{\r\n",
      "    \"states\": [\r\n",
      "        {\r\n",
      "            \"name\": \"Alabama\",\r\n",
      "            \"abbreviation\": \"AL\"\r\n",
      "        },\r\n",
      "        {\r\n",
      "            \"name\": \"Alaska\",\r\n",
      "            \"abbreviation\": \"AK\"\r\n",
      "        },\r\n",
      "        {\r\n",
      "            \"name\": \"Arizona\",\r\n",
      "            \"abbreviation\": \"AZ\"\r\n",
      "        },\r\n",
      "        {\r\n",
      "            \"name\": \"Arkansas\",\r\n",
      "            \"abbreviation\": \"AR\"\r\n",
      "        },\r\n",
      "        {\r\n",
      "            \"name\": \"California\",\r\n"
     ]
    }
   ],
   "source": [
    "!head -20 new_states.json"
   ]
  },
  {
   "cell_type": "markdown",
   "metadata": {},
   "source": [
    "**Using urllib**"
   ]
  },
  {
   "cell_type": "code",
   "execution_count": 22,
   "metadata": {},
   "outputs": [
    {
     "name": "stdout",
     "output_type": "stream",
     "text": [
      "b'{\"base\":\"USD\",\"date\":\"2019-11-23\",\"time_last_updated\":1574467831,\"rates\":{\"USD\":1,\"AED\":3.672024,\"ARS\":59.829947,\"AUD\":1.472875,\"BGN\":1.768528,\"BRL\":4.193335,\"BSD\":1,\"CAD\":1.328352,\"CHF\":0.994282,\"CLP\":795.428186,\"CNY\":7.036791,\"COP\":3457.130435,\"CZK\":23.06963,\"DKK\":6.754403,\"DOP\":52.728117,\"EGP\":16.063434,\"EUR\":0.904898,\"FJD\":2.190589,\"GBP\":0.776959,\"GTQ\":7.701114,\"HKD\":7.823716,\"HRK\":6.72476,\"HUF\":302.112785,\"IDR\":13946.087165,\"ILS\":3.464974,\"INR\":71.731951,\"ISK\":123.211651,\"JPY\":108.580772,\"KRW\":1176.527829,\"KZT\":385.990291,\"MXN\":19.388284,\"MYR\":4.170992,\"NOK\":9.145919,\"NZD\":1.55947,\"PAB\":1,\"PEN\":3.379961,\"PHP\":50.834138,\"PKR\":155.300781,\"PLN\":3.884815,\"PYG\":6626.166667,\"RON\":4.316733,\"RUB\":63.733471,\"SAR\":3.750122,\"SEK\":9.624049,\"SGD\":1.362943,\"THB\":30.200513,\"TRY\":5.705114,\"TWD\":30.544883,\"UAH\":24.10058,\"UYU\":37.702229,\"VND\":23310.526316,\"ZAR\":14.696703}}'\n"
     ]
    }
   ],
   "source": [
    "import json\n",
    "from urllib.request import urlopen\n",
    "\n",
    "with urlopen(\"https://api.exchangerate-api.com/v4/latest/USD\") as response:\n",
    "    source = response.read()\n",
    "\n",
    "print(source)"
   ]
  },
  {
   "cell_type": "markdown",
   "metadata": {},
   "source": [
    "**Using requests**"
   ]
  },
  {
   "cell_type": "code",
   "execution_count": 23,
   "metadata": {},
   "outputs": [
    {
     "name": "stdout",
     "output_type": "stream",
     "text": [
      "45.2449\n"
     ]
    }
   ],
   "source": [
    "import json\n",
    "import requests\n",
    "\n",
    "response = requests.get(\"https://api.exchangerate-api.com/v4/latest/USD\")\n",
    "json_data = response.json()\n",
    "#print(json.dumps(json_data, indent=4))\n",
    "usd_rates = json_data['rates']\n",
    "#print(json.dumps(usd_rates, indent=4))\n",
    "\n",
    "print(50 * float(usd_rates['EUR']))"
   ]
  },
  {
   "cell_type": "code",
   "execution_count": 24,
   "metadata": {},
   "outputs": [
    {
     "name": "stdout",
     "output_type": "stream",
     "text": [
      "3586.59755\n"
     ]
    }
   ],
   "source": [
    "print(50 * float(usd_rates['INR']))"
   ]
  },
  {
   "cell_type": "code",
   "execution_count": null,
   "metadata": {},
   "outputs": [],
   "source": []
  }
 ],
 "metadata": {
  "kernelspec": {
   "display_name": "Python 3",
   "language": "python",
   "name": "python3"
  },
  "language_info": {
   "codemirror_mode": {
    "name": "ipython",
    "version": 3
   },
   "file_extension": ".py",
   "mimetype": "text/x-python",
   "name": "python",
   "nbconvert_exporter": "python",
   "pygments_lexer": "ipython3",
   "version": "3.7.5"
  }
 },
 "nbformat": 4,
 "nbformat_minor": 2
}
