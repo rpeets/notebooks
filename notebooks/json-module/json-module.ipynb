{
 "cells": [
  {
   "cell_type": "markdown",
   "metadata": {},
   "source": [
    "### JSON\n",
    "\n",
    "    JSON (JavaScript Object Notation) is a lightweight data-interchange format. It is easy for humans to read and write. It is easy for machines to parse and generate. It is based on a subset of the JavaScript Programming Language Standard ECMA-262 3rd Edition - December 1999. JSON is a text format that is completely language independent but uses conventions that are familiar to programmers of the C-family of languages, including C, C++, C#, Java, JavaScript, Perl, Python, and many others. These properties make JSON an ideal data-interchange language.\n",
    "\n",
    "    JSON is built on two structures:\n",
    "\n",
    "    A collection of name/value pairs. In various languages, this is realized as an object, record, struct, dictionary, hash table, keyed list, or associative array.\n",
    "    An ordered list of values. In most languages, this is realized as an array, vector, list, or sequence.\n",
    "    These are universal data structures. Virtually all modern programming languages support them in one form or another. It makes sense that a data format that is interchangeable with programming languages also be based on these structures.\n",
    "\n",
    "[Json Encoders and Decoders](https://docs.python.org/3/library/json.html#encoders-and-decoders)\n",
    "    \n",
    "[YouTube](https://www.youtube.com/watch?v=9N6a-VLBa2I)"
   ]
  },
  {
   "cell_type": "code",
   "execution_count": 1,
   "metadata": {},
   "outputs": [],
   "source": [
    "import json"
   ]
  },
  {
   "cell_type": "code",
   "execution_count": 2,
   "metadata": {},
   "outputs": [],
   "source": [
    "people_string = '''\n",
    "{\n",
    "    \"people\": [\n",
    "        {\n",
    "        \"name\": \"John Smith\",\n",
    "        \"phone\": \"615-555-7164\",\n",
    "        \"emails\": [\"johnsmith@bogusemail.com\", \"john.smith@work-place.com\"],\n",
    "        \"has_license\": false\n",
    "        },\n",
    "        {\n",
    "        \"name\": \"Jane Doe\",\n",
    "        \"phone\": \"560-555-5153\",\n",
    "        \"emails\": null,\n",
    "        \"has_license\": true\n",
    "        }\n",
    "    ]\n",
    "}\n",
    "'''"
   ]
  },
  {
   "cell_type": "markdown",
   "metadata": {},
   "source": [
    "**json.loads()**"
   ]
  },
  {
   "cell_type": "code",
   "execution_count": 3,
   "metadata": {},
   "outputs": [
    {
     "name": "stdout",
     "output_type": "stream",
     "text": [
      "{'people': [{'name': 'John Smith', 'phone': '615-555-7164', 'emails': ['johnsmith@bogusemail.com', 'john.smith@work-place.com'], 'has_license': False}, {'name': 'Jane Doe', 'phone': '560-555-5153', 'emails': None, 'has_license': True}]}\n"
     ]
    }
   ],
   "source": [
    "data = json.loads(people_string)\n",
    "print(data)"
   ]
  },
  {
   "cell_type": "code",
   "execution_count": 4,
   "metadata": {},
   "outputs": [
    {
     "name": "stdout",
     "output_type": "stream",
     "text": [
      "<class 'dict'>\n"
     ]
    }
   ],
   "source": [
    "print(type(data))"
   ]
  },
  {
   "cell_type": "code",
   "execution_count": 5,
   "metadata": {},
   "outputs": [
    {
     "name": "stdout",
     "output_type": "stream",
     "text": [
      "<class 'list'>\n"
     ]
    }
   ],
   "source": [
    "print(type(data['people']))"
   ]
  },
  {
   "cell_type": "code",
   "execution_count": 6,
   "metadata": {},
   "outputs": [
    {
     "name": "stdout",
     "output_type": "stream",
     "text": [
      "{'name': 'John Smith', 'phone': '615-555-7164', 'emails': ['johnsmith@bogusemail.com', 'john.smith@work-place.com'], 'has_license': False}\n",
      "{'name': 'Jane Doe', 'phone': '560-555-5153', 'emails': None, 'has_license': True}\n"
     ]
    }
   ],
   "source": [
    "for person in data['people']:\n",
    "    print(person)"
   ]
  },
  {
   "cell_type": "code",
   "execution_count": 7,
   "metadata": {},
   "outputs": [
    {
     "name": "stdout",
     "output_type": "stream",
     "text": [
      "John Smith\n",
      "Jane Doe\n"
     ]
    }
   ],
   "source": [
    "for person in data['people']:\n",
    "    print(person['name'])"
   ]
  },
  {
   "cell_type": "markdown",
   "metadata": {},
   "source": [
    "**Delete a Key and Value**"
   ]
  },
  {
   "cell_type": "code",
   "execution_count": 8,
   "metadata": {},
   "outputs": [
    {
     "name": "stdout",
     "output_type": "stream",
     "text": [
      "{'name': 'John Smith', 'emails': ['johnsmith@bogusemail.com', 'john.smith@work-place.com'], 'has_license': False}\n",
      "{'name': 'Jane Doe', 'emails': None, 'has_license': True}\n"
     ]
    }
   ],
   "source": [
    "for person in data['people']:\n",
    "    del person['phone']\n",
    "    print(person)"
   ]
  },
  {
   "cell_type": "markdown",
   "metadata": {},
   "source": [
    "**json.dumps()**"
   ]
  },
  {
   "cell_type": "code",
   "execution_count": 9,
   "metadata": {},
   "outputs": [
    {
     "name": "stdout",
     "output_type": "stream",
     "text": [
      "{\"people\": [{\"name\": \"John Smith\", \"emails\": [\"johnsmith@bogusemail.com\", \"john.smith@work-place.com\"], \"has_license\": false}, {\"name\": \"Jane Doe\", \"emails\": null, \"has_license\": true}]}\n"
     ]
    }
   ],
   "source": [
    "new_string = json.dumps(data)\n",
    "print(new_string)"
   ]
  },
  {
   "cell_type": "markdown",
   "metadata": {},
   "source": [
    "**JSON Formated Print**"
   ]
  },
  {
   "cell_type": "code",
   "execution_count": 10,
   "metadata": {},
   "outputs": [
    {
     "name": "stdout",
     "output_type": "stream",
     "text": [
      "{\n",
      "    \"people\": [\n",
      "        {\n",
      "            \"name\": \"John Smith\",\n",
      "            \"emails\": [\n",
      "                \"johnsmith@bogusemail.com\",\n",
      "                \"john.smith@work-place.com\"\n",
      "            ],\n",
      "            \"has_license\": false\n",
      "        },\n",
      "        {\n",
      "            \"name\": \"Jane Doe\",\n",
      "            \"emails\": null,\n",
      "            \"has_license\": true\n",
      "        }\n",
      "    ]\n",
      "}\n"
     ]
    }
   ],
   "source": [
    "new_string = json.dumps(data, indent=4)\n",
    "print(new_string)"
   ]
  },
  {
   "cell_type": "markdown",
   "metadata": {},
   "source": [
    "**Sort Keys**"
   ]
  },
  {
   "cell_type": "code",
   "execution_count": 11,
   "metadata": {},
   "outputs": [
    {
     "name": "stdout",
     "output_type": "stream",
     "text": [
      "{\n",
      "    \"people\": [\n",
      "        {\n",
      "            \"emails\": [\n",
      "                \"johnsmith@bogusemail.com\",\n",
      "                \"john.smith@work-place.com\"\n",
      "            ],\n",
      "            \"has_license\": false,\n",
      "            \"name\": \"John Smith\"\n",
      "        },\n",
      "        {\n",
      "            \"emails\": null,\n",
      "            \"has_license\": true,\n",
      "            \"name\": \"Jane Doe\"\n",
      "        }\n",
      "    ]\n",
      "}\n"
     ]
    }
   ],
   "source": [
    "new_string = json.dumps(data, indent=4, sort_keys=True)\n",
    "print(new_string)"
   ]
  },
  {
   "cell_type": "code",
   "execution_count": 12,
   "metadata": {},
   "outputs": [
    {
     "name": "stdout",
     "output_type": "stream",
     "text": [
      "--2019-11-23 20:28:22--  https://raw.githubusercontent.com/CoreyMSchafer/code_snippets/master/Python-JSON/states.json\n",
      "Resolving raw.githubusercontent.com (raw.githubusercontent.com)... 151.101.192.133, 151.101.0.133, 151.101.64.133, ...\n",
      "Connecting to raw.githubusercontent.com (raw.githubusercontent.com)|151.101.192.133|:443... connected.\n",
      "HTTP request sent, awaiting response... 200 OK\n",
      "Length: 6606 (6.5K) [text/plain]\n",
      "Saving to: ‘states.json.1’\n",
      "\n",
      "states.json.1       100%[===================>]   6.45K  --.-KB/s    in 0.002s  \n",
      "\n",
      "2019-11-23 20:28:22 (3.27 MB/s) - ‘states.json.1’ saved [6606/6606]\n",
      "\n"
     ]
    }
   ],
   "source": [
    "!wget https://raw.githubusercontent.com/CoreyMSchafer/code_snippets/master/Python-JSON/states.json"
   ]
  },
  {
   "cell_type": "code",
   "execution_count": 13,
   "metadata": {},
   "outputs": [
    {
     "name": "stdout",
     "output_type": "stream",
     "text": [
      "-rw-r--r-- 1 root root 6606 Nov 23 18:05 states.json\n",
      "{\n",
      "  \"states\": [\n",
      "    {\n",
      "      \"name\": \"Alabama\",\n",
      "      \"abbreviation\": \"AL\",\n",
      "      \"area_codes\": [\"205\", \"251\", \"256\", \"334\", \"938\"]\n",
      "    },\n",
      "    {\n",
      "      \"name\": \"Alaska\",\n",
      "      \"abbreviation\": \"AK\",\n",
      "      \"area_codes\": [\"907\"]\n",
      "    },\n",
      "    {\n",
      "      \"name\": \"Arizona\",\n",
      "      \"abbreviation\": \"AZ\",\n",
      "      \"area_codes\": [\"480\", \"520\", \"602\", \"623\", \"928\"]\n",
      "    },\n",
      "    {\n",
      "      \"name\": \"Arkansas\",\n",
      "      \"abbreviation\": \"AR\",\n"
     ]
    }
   ],
   "source": [
    "!ls -l *.json\n",
    "!head -20 states.json"
   ]
  },
  {
   "cell_type": "code",
   "execution_count": 14,
   "metadata": {},
   "outputs": [],
   "source": [
    "with open('states.json') as f:\n",
    "    data = json.load(f)"
   ]
  },
  {
   "cell_type": "code",
   "execution_count": 15,
   "metadata": {},
   "outputs": [
    {
     "name": "stdout",
     "output_type": "stream",
     "text": [
      "{'name': 'Alabama', 'abbreviation': 'AL', 'area_codes': ['205', '251', '256', '334', '938']}\n",
      "{'name': 'Alaska', 'abbreviation': 'AK', 'area_codes': ['907']}\n",
      "{'name': 'Arizona', 'abbreviation': 'AZ', 'area_codes': ['480', '520', '602', '623', '928']}\n",
      "{'name': 'Arkansas', 'abbreviation': 'AR', 'area_codes': ['479', '501', '870']}\n",
      "{'name': 'California', 'abbreviation': 'CA', 'area_codes': ['209', '213', '310', '323', '408', '415', '424', '442', '510', '530', '559', '562', '619', '626', '628', '650', '657', '661', '669', '707', '714', '747', '760', '805', '818', '831', '858', '909', '916', '925', '949', '951']}\n",
      "{'name': 'Colorado', 'abbreviation': 'CO', 'area_codes': ['303', '719', '720', '970']}\n",
      "{'name': 'Connecticut', 'abbreviation': 'CT', 'area_codes': ['203', '475', '860', '959']}\n",
      "{'name': 'Delaware', 'abbreviation': 'DE', 'area_codes': ['302']}\n",
      "{'name': 'Florida', 'abbreviation': 'FL', 'area_codes': ['239', '305', '321', '352', '386', '407', '561', '727', '754', '772', '786', '813', '850', '863', '904', '941', '954']}\n",
      "{'name': 'Georgia', 'abbreviation': 'GA', 'area_codes': ['229', '404', '470', '478', '678', '706', '762', '770', '912']}\n",
      "{'name': 'Hawaii', 'abbreviation': 'HI', 'area_codes': ['808']}\n",
      "{'name': 'Idaho', 'abbreviation': 'ID', 'area_codes': ['208']}\n",
      "{'name': 'Illinois', 'abbreviation': 'IL', 'area_codes': ['217', '224', '309', '312', '331', '618', '630', '708', '773', '779', '815', '847', '872']}\n",
      "{'name': 'Indiana', 'abbreviation': 'IN', 'area_codes': ['219', '260', '317', '463', '574', '765', '812', '930']}\n",
      "{'name': 'Iowa', 'abbreviation': 'IA', 'area_codes': ['319', '515', '563', '641', '712']}\n",
      "{'name': 'Kansas', 'abbreviation': 'KS', 'area_codes': ['316', '620', '785', '913']}\n",
      "{'name': 'Kentucky', 'abbreviation': 'KY', 'area_codes': ['270', '364', '502', '606', '859']}\n",
      "{'name': 'Louisiana', 'abbreviation': 'LA', 'area_codes': ['225', '318', '337', '504', '985']}\n",
      "{'name': 'Maine', 'abbreviation': 'ME', 'area_codes': ['207']}\n",
      "{'name': 'Maryland', 'abbreviation': 'MD', 'area_codes': ['240', '301', '410', '443', '667']}\n",
      "{'name': 'Massachusetts', 'abbreviation': 'MA', 'area_codes': ['339', '351', '413', '508', '617', '774', '781', '857', '978']}\n",
      "{'name': 'Michigan', 'abbreviation': 'MI', 'area_codes': ['231', '248', '269', '313', '517', '586', '616', '734', '810', '906', '947', '989']}\n",
      "{'name': 'Minnesota', 'abbreviation': 'MN', 'area_codes': ['218', '320', '507', '612', '651', '763', '952']}\n",
      "{'name': 'Mississippi', 'abbreviation': 'MS', 'area_codes': ['228', '601', '662', '769']}\n",
      "{'name': 'Missouri', 'abbreviation': 'MO', 'area_codes': ['314', '417', '573', '636', '660', '816']}\n",
      "{'name': 'Montana', 'abbreviation': 'MT', 'area_codes': ['406']}\n",
      "{'name': 'Nebraska', 'abbreviation': 'NE', 'area_codes': ['308', '402', '531']}\n",
      "{'name': 'Nevada', 'abbreviation': 'NV', 'area_codes': ['702', '725', '775']}\n",
      "{'name': 'New Hampshire', 'abbreviation': 'NH', 'area_codes': ['603']}\n",
      "{'name': 'New Jersey', 'abbreviation': 'NJ', 'area_codes': ['201', '551', '609', '732', '848', '856', '862', '908', '973']}\n",
      "{'name': 'New Mexico', 'abbreviation': 'NM', 'area_codes': ['505', '575']}\n",
      "{'name': 'New York', 'abbreviation': 'NY', 'area_codes': ['212', '315', '332', '347', '516', '518', '585', '607', '631', '646', '680', '716', '718', '845', '914', '917', '929', '934']}\n",
      "{'name': 'North Carolina', 'abbreviation': 'NC', 'area_codes': ['252', '336', '704', '743', '828', '910', '919', '980', '984']}\n",
      "{'name': 'North Dakota', 'abbreviation': 'ND', 'area_codes': ['701']}\n",
      "{'name': 'Ohio', 'abbreviation': 'OH', 'area_codes': ['216', '220', '234', '330', '380', '419', '440', '513', '567', '614', '740', '937']}\n",
      "{'name': 'Oklahoma', 'abbreviation': 'OK', 'area_codes': ['405', '539', '580', '918']}\n",
      "{'name': 'Oregon', 'abbreviation': 'OR', 'area_codes': ['458', '503', '541', '971']}\n",
      "{'name': 'Pennsylvania', 'abbreviation': 'PA', 'area_codes': ['215', '267', '272', '412', '484', '570', '610', '717', '724', '814', '878']}\n",
      "{'name': 'Rhode Island', 'abbreviation': 'RI', 'area_codes': ['401']}\n",
      "{'name': 'South Carolina', 'abbreviation': 'SC', 'area_codes': ['803', '843', '854', '864']}\n",
      "{'name': 'South Dakota', 'abbreviation': 'SD', 'area_codes': ['605']}\n",
      "{'name': 'Tennessee', 'abbreviation': 'TN', 'area_codes': ['423', '615', '629', '731', '865', '901', '931']}\n",
      "{'name': 'Texas', 'abbreviation': 'TX', 'area_codes': ['210', '214', '254', '281', '325', '346', '361', '409', '430', '432', '469', '512', '682', '713', '737', '806', '817', '830', '832', '903', '915', '936', '940', '956', '972', '979']}\n",
      "{'name': 'Utah', 'abbreviation': 'UT', 'area_codes': ['385', '435', '801']}\n",
      "{'name': 'Vermont', 'abbreviation': 'VT', 'area_codes': ['802']}\n",
      "{'name': 'Virginia', 'abbreviation': 'VA', 'area_codes': ['276', '434', '540', '571', '703', '757', '804']}\n",
      "{'name': 'Washington', 'abbreviation': 'WA', 'area_codes': ['206', '253', '360', '425', '509']}\n",
      "{'name': 'West Virginia', 'abbreviation': 'WV', 'area_codes': ['304', '681']}\n",
      "{'name': 'Wisconsin', 'abbreviation': 'WI', 'area_codes': ['262', '414', '534', '608', '715', '920']}\n",
      "{'name': 'Wyoming', 'abbreviation': 'WY', 'area_codes': ['307']}\n"
     ]
    }
   ],
   "source": [
    "for state in data['states']:\n",
    "    print(state)"
   ]
  },
  {
   "cell_type": "code",
   "execution_count": 16,
   "metadata": {},
   "outputs": [
    {
     "name": "stdout",
     "output_type": "stream",
     "text": [
      "Alabama AL\n",
      "Alaska AK\n",
      "Arizona AZ\n",
      "Arkansas AR\n",
      "California CA\n",
      "Colorado CO\n",
      "Connecticut CT\n",
      "Delaware DE\n",
      "Florida FL\n",
      "Georgia GA\n",
      "Hawaii HI\n",
      "Idaho ID\n",
      "Illinois IL\n",
      "Indiana IN\n",
      "Iowa IA\n",
      "Kansas KS\n",
      "Kentucky KY\n",
      "Louisiana LA\n",
      "Maine ME\n",
      "Maryland MD\n",
      "Massachusetts MA\n",
      "Michigan MI\n",
      "Minnesota MN\n",
      "Mississippi MS\n",
      "Missouri MO\n",
      "Montana MT\n",
      "Nebraska NE\n",
      "Nevada NV\n",
      "New Hampshire NH\n",
      "New Jersey NJ\n",
      "New Mexico NM\n",
      "New York NY\n",
      "North Carolina NC\n",
      "North Dakota ND\n",
      "Ohio OH\n",
      "Oklahoma OK\n",
      "Oregon OR\n",
      "Pennsylvania PA\n",
      "Rhode Island RI\n",
      "South Carolina SC\n",
      "South Dakota SD\n",
      "Tennessee TN\n",
      "Texas TX\n",
      "Utah UT\n",
      "Vermont VT\n",
      "Virginia VA\n",
      "Washington WA\n",
      "West Virginia WV\n",
      "Wisconsin WI\n",
      "Wyoming WY\n"
     ]
    }
   ],
   "source": [
    "for state in data['states']:\n",
    "    print(state['name'], state['abbreviation'])"
   ]
  },
  {
   "cell_type": "code",
   "execution_count": 17,
   "metadata": {},
   "outputs": [],
   "source": [
    "for state in data['states']:\n",
    "    del state['area_codes']"
   ]
  },
  {
   "cell_type": "code",
   "execution_count": 18,
   "metadata": {},
   "outputs": [],
   "source": [
    "with open('new_states.json', 'w') as f:\n",
    "    json.dump(data, f)"
   ]
  },
  {
   "cell_type": "code",
   "execution_count": 19,
   "metadata": {},
   "outputs": [
    {
     "name": "stdout",
     "output_type": "stream",
     "text": [
      "-rw-r--r-- 1 root root 2234 Nov 23 20:28 new_states.json\r\n",
      "-rw-r--r-- 1 root root 6606 Nov 23 18:05 states.json\r\n"
     ]
    }
   ],
   "source": [
    "!ls -l *.json"
   ]
  },
  {
   "cell_type": "code",
   "execution_count": 20,
   "metadata": {},
   "outputs": [],
   "source": [
    "with open('new_states.json', 'w') as f:\n",
    "    json.dump(data, f, indent=4)"
   ]
  },
  {
   "cell_type": "code",
   "execution_count": 21,
   "metadata": {},
   "outputs": [
    {
     "name": "stdout",
     "output_type": "stream",
     "text": [
      "{\r\n",
      "    \"states\": [\r\n",
      "        {\r\n",
      "            \"name\": \"Alabama\",\r\n",
      "            \"abbreviation\": \"AL\"\r\n",
      "        },\r\n",
      "        {\r\n",
      "            \"name\": \"Alaska\",\r\n",
      "            \"abbreviation\": \"AK\"\r\n",
      "        },\r\n",
      "        {\r\n",
      "            \"name\": \"Arizona\",\r\n",
      "            \"abbreviation\": \"AZ\"\r\n",
      "        },\r\n",
      "        {\r\n",
      "            \"name\": \"Arkansas\",\r\n",
      "            \"abbreviation\": \"AR\"\r\n",
      "        },\r\n",
      "        {\r\n",
      "            \"name\": \"California\",\r\n"
     ]
    }
   ],
   "source": [
    "!head -20 new_states.json"
   ]
  },
  {
   "cell_type": "markdown",
   "metadata": {},
   "source": [
    "**Using urllib**"
   ]
  },
  {
   "cell_type": "code",
   "execution_count": 22,
   "metadata": {},
   "outputs": [
    {
     "name": "stdout",
     "output_type": "stream",
     "text": [
      "b'{\"base\":\"USD\",\"date\":\"2019-11-23\",\"time_last_updated\":1574467846,\"rates\":{\"USD\":1,\"AED\":3.672024,\"ARS\":59.829947,\"AUD\":1.472875,\"BGN\":1.768528,\"BRL\":4.193335,\"BSD\":1,\"CAD\":1.328352,\"CHF\":0.994282,\"CLP\":795.428186,\"CNY\":7.036791,\"COP\":3457.130435,\"CZK\":23.06963,\"DKK\":6.754403,\"DOP\":52.728117,\"EGP\":16.063434,\"EUR\":0.904898,\"FJD\":2.190589,\"GBP\":0.776959,\"GTQ\":7.701114,\"HKD\":7.823716,\"HRK\":6.72476,\"HUF\":302.112785,\"IDR\":13946.087165,\"ILS\":3.464974,\"INR\":71.731951,\"ISK\":123.211651,\"JPY\":108.580772,\"KRW\":1176.527829,\"KZT\":385.990291,\"MXN\":19.388284,\"MYR\":4.170992,\"NOK\":9.145919,\"NZD\":1.55947,\"PAB\":1,\"PEN\":3.379961,\"PHP\":50.834138,\"PKR\":155.300781,\"PLN\":3.884815,\"PYG\":6626.166667,\"RON\":4.316733,\"RUB\":63.733471,\"SAR\":3.750122,\"SEK\":9.624049,\"SGD\":1.362943,\"THB\":30.200513,\"TRY\":5.705114,\"TWD\":30.544883,\"UAH\":24.10058,\"UYU\":37.702229,\"VND\":23310.526316,\"ZAR\":14.696703}}'\n"
     ]
    }
   ],
   "source": [
    "import json\n",
    "from urllib.request import urlopen\n",
    "\n",
    "with urlopen(\"https://api.exchangerate-api.com/v4/latest/USD\") as response:\n",
    "    source = response.read()\n",
    "\n",
    "print(source)"
   ]
  },
  {
   "cell_type": "markdown",
   "metadata": {},
   "source": [
    "**Using requests**"
   ]
  },
  {
   "cell_type": "code",
   "execution_count": 23,
   "metadata": {},
   "outputs": [
    {
     "name": "stdout",
     "output_type": "stream",
     "text": [
      "45.2449\n"
     ]
    }
   ],
   "source": [
    "import json\n",
    "import requests\n",
    "\n",
    "response = requests.get(\"https://api.exchangerate-api.com/v4/latest/USD\")\n",
    "json_data = response.json()\n",
    "#print(json.dumps(json_data, indent=4))\n",
    "usd_rates = json_data['rates']\n",
    "#print(json.dumps(usd_rates, indent=4))\n",
    "\n",
    "print(50 * float(usd_rates['EUR']))"
   ]
  },
  {
   "cell_type": "code",
   "execution_count": 24,
   "metadata": {},
   "outputs": [
    {
     "name": "stdout",
     "output_type": "stream",
     "text": [
      "3586.59755\n"
     ]
    }
   ],
   "source": [
    "print(50 * float(usd_rates['INR']))"
   ]
  },
  {
   "cell_type": "markdown",
   "metadata": {},
   "source": [
    "**JSON Formatted Print**"
   ]
  },
  {
   "cell_type": "code",
   "execution_count": 1,
   "metadata": {},
   "outputs": [],
   "source": [
    "import requests\n",
    "url = \"https://pypi.org/pypi/sampleproject/json\"\n",
    "r = requests.get(url)\n",
    "data = r.json()"
   ]
  },
  {
   "cell_type": "code",
   "execution_count": 2,
   "metadata": {
    "scrolled": true
   },
   "outputs": [
    {
     "name": "stdout",
     "output_type": "stream",
     "text": [
      "{'info': {'author': 'The Python Packaging Authority', 'author_email': 'pypa-dev@googlegroups.com', 'bugtrack_url': None, 'classifiers': ['Development Status :: 3 - Alpha', 'Intended Audience :: Developers', 'License :: OSI Approved :: MIT License', 'Programming Language :: Python :: 2', 'Programming Language :: Python :: 2.7', 'Programming Language :: Python :: 3', 'Programming Language :: Python :: 3.5', 'Programming Language :: Python :: 3.6', 'Programming Language :: Python :: 3.7', 'Programming Language :: Python :: 3.8', 'Topic :: Software Development :: Build Tools'], 'description': '# A sample Python project\\n\\nA sample project that exists as an aid to the [Python Packaging User\\nGuide][packaging guide]\\'s [Tutorial on Packaging and Distributing\\nProjects][distribution tutorial].\\n\\nThis project does not aim to cover best practices for Python project\\ndevelopment as a whole. For example, it does not provide guidance or tool\\nrecommendations for version control, documentation, or testing.\\n\\n[The source for this project is available here][src].\\n\\nMost of the configuration for a Python project is done in the `setup.py` file,\\nan example of which is included in this project. You should edit this file\\naccordingly to adapt this sample project to your needs.\\n\\n----\\n\\nThis is the README file for the project.\\n\\nThe file should use UTF-8 encoding and can be written using\\n[reStructuredText][rst] or [markdown][md use] with the appropriate [key set][md\\nuse]. It will be used to generate the project webpage on PyPI and will be\\ndisplayed as the project homepage on common code-hosting services, and should be\\nwritten for that purpose.\\n\\nTypical contents for this file would include an overview of the project, basic\\nusage examples, etc. Generally, including the project changelog in here is not a\\ngood idea, although a simple “What\\'s New” section for the most recent version\\nmay be appropriate.\\n\\n[packaging guide]: https://packaging.python.org\\n[distribution tutorial]: https://packaging.python.org/tutorials/packaging-projects/\\n[src]: https://github.com/pypa/sampleproject\\n[rst]: http://docutils.sourceforge.net/rst.html\\n[md]: https://tools.ietf.org/html/rfc7764#section-3.5 \"CommonMark variant\"\\n[md use]: https://packaging.python.org/specifications/core-metadata/#description-content-type-optional\\n\\n\\n', 'description_content_type': 'text/markdown', 'docs_url': None, 'download_url': '', 'downloads': {'last_day': -1, 'last_month': -1, 'last_week': -1}, 'home_page': 'https://github.com/pypa/sampleproject', 'keywords': 'sample setuptools development', 'license': '', 'maintainer': '', 'maintainer_email': '', 'name': 'sampleproject', 'package_url': 'https://pypi.org/project/sampleproject/', 'platform': '', 'project_url': 'https://pypi.org/project/sampleproject/', 'project_urls': {'Bug Reports': 'https://github.com/pypa/sampleproject/issues', 'Funding': 'https://donate.pypi.org', 'Homepage': 'https://github.com/pypa/sampleproject', 'Say Thanks!': 'http://saythanks.io/to/example', 'Source': 'https://github.com/pypa/sampleproject/'}, 'release_url': 'https://pypi.org/project/sampleproject/1.3.1/', 'requires_dist': ['peppercorn', \"check-manifest ; extra == 'dev'\", \"coverage ; extra == 'test'\"], 'requires_python': '>=2.7, !=3.0.*, !=3.1.*, !=3.2.*, !=3.3.*, !=3.4.*, <4', 'summary': 'A sample Python project', 'version': '1.3.1'}, 'last_serial': 6077467, 'releases': {'1.0': [], '1.2.0': [{'comment_text': '', 'digests': {'md5': 'bab8eb22e6710eddae3c6c7ac3453bd9', 'sha256': '7a7a8b91086deccc54cac8d631e33f6a0e232ce5775c6be3dc44f86c2154019d'}, 'downloads': -1, 'filename': 'sampleproject-1.2.0-py2.py3-none-any.whl', 'has_sig': False, 'md5_digest': 'bab8eb22e6710eddae3c6c7ac3453bd9', 'packagetype': 'bdist_wheel', 'python_version': '2.7', 'requires_python': None, 'size': 3795, 'upload_time': '2015-06-14T14:38:05', 'upload_time_iso_8601': '2015-06-14T14:38:05.875222Z', 'url': 'https://files.pythonhosted.org/packages/30/52/547eb3719d0e872bdd6fe3ab60cef92596f95262e925e1943f68f840df88/sampleproject-1.2.0-py2.py3-none-any.whl'}, {'comment_text': '', 'digests': {'md5': 'd3bd605f932b3fb6e91f49be2d6f9479', 'sha256': '3427a8a5dd0c1e176da48a44efb410875b3973bd9843403a0997e4187c408dc1'}, 'downloads': -1, 'filename': 'sampleproject-1.2.0.tar.gz', 'has_sig': False, 'md5_digest': 'd3bd605f932b3fb6e91f49be2d6f9479', 'packagetype': 'sdist', 'python_version': 'source', 'requires_python': None, 'size': 3148, 'upload_time': '2015-06-14T14:37:56', 'upload_time_iso_8601': '2015-06-14T14:37:56.383366Z', 'url': 'https://files.pythonhosted.org/packages/eb/45/79be82bdeafcecb9dca474cad4003e32ef8e4a0dec6abbd4145ccb02abe1/sampleproject-1.2.0.tar.gz'}], '1.3.0': [{'comment_text': '', 'digests': {'md5': 'de98c6cdd6962d67e7368d2f9d9fa934', 'sha256': 'ab855ea282734dd216e8be4a42899a6fa8d2ce8f65b41c6379b69c1f804d6b1c'}, 'downloads': -1, 'filename': 'sampleproject-1.3.0-py2.py3-none-any.whl', 'has_sig': False, 'md5_digest': 'de98c6cdd6962d67e7368d2f9d9fa934', 'packagetype': 'bdist_wheel', 'python_version': 'py2.py3', 'requires_python': '>=2.7, !=3.0.*, !=3.1.*, !=3.2.*, !=3.3.*, <4', 'size': 3988, 'upload_time': '2019-05-28T20:23:12', 'upload_time_iso_8601': '2019-05-28T20:23:12.721927Z', 'url': 'https://files.pythonhosted.org/packages/a1/fd/3564a5176430eac106c27eff4de50b58fc916f5083782062cea3141acfaa/sampleproject-1.3.0-py2.py3-none-any.whl'}, {'comment_text': '', 'digests': {'md5': '3dd8fce5e4e2726f343de4385ec8d479', 'sha256': 'ee67ab9c8b445767203e7d9523d029287f737c60524a3c0e0c36cc504e0f24d7'}, 'downloads': -1, 'filename': 'sampleproject-1.3.0.tar.gz', 'has_sig': False, 'md5_digest': '3dd8fce5e4e2726f343de4385ec8d479', 'packagetype': 'sdist', 'python_version': 'source', 'requires_python': '>=2.7, !=3.0.*, !=3.1.*, !=3.2.*, !=3.3.*, <4', 'size': 5913, 'upload_time': '2019-05-28T20:23:13', 'upload_time_iso_8601': '2019-05-28T20:23:13.940627Z', 'url': 'https://files.pythonhosted.org/packages/a6/aa/0090d487d204f5de30035c00f6c71b53ec7f613138d8653eebac50f47f45/sampleproject-1.3.0.tar.gz'}], '1.3.1': [{'comment_text': '', 'digests': {'md5': '0cf94b45deeeb876f1619d9c27cff120', 'sha256': '26c9172e08244873b0e09c574a229bf2c251c67723a05e08fd3ec0c5ee423796'}, 'downloads': -1, 'filename': 'sampleproject-1.3.1-py2.py3-none-any.whl', 'has_sig': False, 'md5_digest': '0cf94b45deeeb876f1619d9c27cff120', 'packagetype': 'bdist_wheel', 'python_version': 'py2.py3', 'requires_python': '>=2.7, !=3.0.*, !=3.1.*, !=3.2.*, !=3.3.*, !=3.4.*, <4', 'size': 3991, 'upload_time': '2019-11-04T20:36:25', 'upload_time_iso_8601': '2019-11-04T20:36:25.256613Z', 'url': 'https://files.pythonhosted.org/packages/a4/95/7398f8a08a0e83dc39dd4cbada9d22c65bcbb41c36626b2c54a1db83c710/sampleproject-1.3.1-py2.py3-none-any.whl'}, {'comment_text': '', 'digests': {'md5': '76ddb449e0e9ef3f55b880f566fcb700', 'sha256': '3593ca2f1e057279d70d6144b14472fb28035b1da213dde60906b703d6f82c55'}, 'downloads': -1, 'filename': 'sampleproject-1.3.1.tar.gz', 'has_sig': False, 'md5_digest': '76ddb449e0e9ef3f55b880f566fcb700', 'packagetype': 'sdist', 'python_version': 'source', 'requires_python': '>=2.7, !=3.0.*, !=3.1.*, !=3.2.*, !=3.3.*, !=3.4.*, <4', 'size': 5920, 'upload_time': '2019-11-04T20:36:26', 'upload_time_iso_8601': '2019-11-04T20:36:26.798325Z', 'url': 'https://files.pythonhosted.org/packages/6f/5b/2f3fe94e1c02816fe23c7ceee5292fb186912929e1972eee7fb729fa27af/sampleproject-1.3.1.tar.gz'}]}, 'urls': [{'comment_text': '', 'digests': {'md5': '0cf94b45deeeb876f1619d9c27cff120', 'sha256': '26c9172e08244873b0e09c574a229bf2c251c67723a05e08fd3ec0c5ee423796'}, 'downloads': -1, 'filename': 'sampleproject-1.3.1-py2.py3-none-any.whl', 'has_sig': False, 'md5_digest': '0cf94b45deeeb876f1619d9c27cff120', 'packagetype': 'bdist_wheel', 'python_version': 'py2.py3', 'requires_python': '>=2.7, !=3.0.*, !=3.1.*, !=3.2.*, !=3.3.*, !=3.4.*, <4', 'size': 3991, 'upload_time': '2019-11-04T20:36:25', 'upload_time_iso_8601': '2019-11-04T20:36:25.256613Z', 'url': 'https://files.pythonhosted.org/packages/a4/95/7398f8a08a0e83dc39dd4cbada9d22c65bcbb41c36626b2c54a1db83c710/sampleproject-1.3.1-py2.py3-none-any.whl'}, {'comment_text': '', 'digests': {'md5': '76ddb449e0e9ef3f55b880f566fcb700', 'sha256': '3593ca2f1e057279d70d6144b14472fb28035b1da213dde60906b703d6f82c55'}, 'downloads': -1, 'filename': 'sampleproject-1.3.1.tar.gz', 'has_sig': False, 'md5_digest': '76ddb449e0e9ef3f55b880f566fcb700', 'packagetype': 'sdist', 'python_version': 'source', 'requires_python': '>=2.7, !=3.0.*, !=3.1.*, !=3.2.*, !=3.3.*, !=3.4.*, <4', 'size': 5920, 'upload_time': '2019-11-04T20:36:26', 'upload_time_iso_8601': '2019-11-04T20:36:26.798325Z', 'url': 'https://files.pythonhosted.org/packages/6f/5b/2f3fe94e1c02816fe23c7ceee5292fb186912929e1972eee7fb729fa27af/sampleproject-1.3.1.tar.gz'}]}\n"
     ]
    }
   ],
   "source": [
    "print(data)"
   ]
  },
  {
   "cell_type": "code",
   "execution_count": 3,
   "metadata": {},
   "outputs": [
    {
     "name": "stdout",
     "output_type": "stream",
     "text": [
      "{\n",
      "    \"info\": {\n",
      "        \"author\": \"The Python Packaging Authority\",\n",
      "        \"author_email\": \"pypa-dev@googlegroups.com\",\n",
      "        \"bugtrack_url\": null,\n",
      "        \"classifiers\": [\n",
      "            \"Development Status :: 3 - Alpha\",\n",
      "            \"Intended Audience :: Developers\",\n",
      "            \"License :: OSI Approved :: MIT License\",\n",
      "            \"Programming Language :: Python :: 2\",\n",
      "            \"Programming Language :: Python :: 2.7\",\n",
      "            \"Programming Language :: Python :: 3\",\n",
      "            \"Programming Language :: Python :: 3.5\",\n",
      "            \"Programming Language :: Python :: 3.6\",\n",
      "            \"Programming Language :: Python :: 3.7\",\n",
      "            \"Programming Language :: Python :: 3.8\",\n",
      "            \"Topic :: Software Development :: Build Tools\"\n",
      "        ],\n",
      "        \"description\": \"# A sample Python project\\n\\nA sample project that exists as an aid to the [Python Packaging User\\nGuide][packaging guide]'s [Tutorial on Packaging and Distributing\\nProjects][distribution tutorial].\\n\\nThis project does not aim to cover best practices for Python project\\ndevelopment as a whole. For example, it does not provide guidance or tool\\nrecommendations for version control, documentation, or testing.\\n\\n[The source for this project is available here][src].\\n\\nMost of the configuration for a Python project is done in the `setup.py` file,\\nan example of which is included in this project. You should edit this file\\naccordingly to adapt this sample project to your needs.\\n\\n----\\n\\nThis is the README file for the project.\\n\\nThe file should use UTF-8 encoding and can be written using\\n[reStructuredText][rst] or [markdown][md use] with the appropriate [key set][md\\nuse]. It will be used to generate the project webpage on PyPI and will be\\ndisplayed as the project homepage on common code-hosting services, and should be\\nwritten for that purpose.\\n\\nTypical contents for this file would include an overview of the project, basic\\nusage examples, etc. Generally, including the project changelog in here is not a\\ngood idea, although a simple \\u201cWhat's New\\u201d section for the most recent version\\nmay be appropriate.\\n\\n[packaging guide]: https://packaging.python.org\\n[distribution tutorial]: https://packaging.python.org/tutorials/packaging-projects/\\n[src]: https://github.com/pypa/sampleproject\\n[rst]: http://docutils.sourceforge.net/rst.html\\n[md]: https://tools.ietf.org/html/rfc7764#section-3.5 \\\"CommonMark variant\\\"\\n[md use]: https://packaging.python.org/specifications/core-metadata/#description-content-type-optional\\n\\n\\n\",\n",
      "        \"description_content_type\": \"text/markdown\",\n",
      "        \"docs_url\": null,\n",
      "        \"download_url\": \"\",\n",
      "        \"downloads\": {\n",
      "            \"last_day\": -1,\n",
      "            \"last_month\": -1,\n",
      "            \"last_week\": -1\n",
      "        },\n",
      "        \"home_page\": \"https://github.com/pypa/sampleproject\",\n",
      "        \"keywords\": \"sample setuptools development\",\n",
      "        \"license\": \"\",\n",
      "        \"maintainer\": \"\",\n",
      "        \"maintainer_email\": \"\",\n",
      "        \"name\": \"sampleproject\",\n",
      "        \"package_url\": \"https://pypi.org/project/sampleproject/\",\n",
      "        \"platform\": \"\",\n",
      "        \"project_url\": \"https://pypi.org/project/sampleproject/\",\n",
      "        \"project_urls\": {\n",
      "            \"Bug Reports\": \"https://github.com/pypa/sampleproject/issues\",\n",
      "            \"Funding\": \"https://donate.pypi.org\",\n",
      "            \"Homepage\": \"https://github.com/pypa/sampleproject\",\n",
      "            \"Say Thanks!\": \"http://saythanks.io/to/example\",\n",
      "            \"Source\": \"https://github.com/pypa/sampleproject/\"\n",
      "        },\n",
      "        \"release_url\": \"https://pypi.org/project/sampleproject/1.3.1/\",\n",
      "        \"requires_dist\": [\n",
      "            \"peppercorn\",\n",
      "            \"check-manifest ; extra == 'dev'\",\n",
      "            \"coverage ; extra == 'test'\"\n",
      "        ],\n",
      "        \"requires_python\": \">=2.7, !=3.0.*, !=3.1.*, !=3.2.*, !=3.3.*, !=3.4.*, <4\",\n",
      "        \"summary\": \"A sample Python project\",\n",
      "        \"version\": \"1.3.1\"\n",
      "    },\n",
      "    \"last_serial\": 6077467,\n",
      "    \"releases\": {\n",
      "        \"1.0\": [],\n",
      "        \"1.2.0\": [\n",
      "            {\n",
      "                \"comment_text\": \"\",\n",
      "                \"digests\": {\n",
      "                    \"md5\": \"bab8eb22e6710eddae3c6c7ac3453bd9\",\n",
      "                    \"sha256\": \"7a7a8b91086deccc54cac8d631e33f6a0e232ce5775c6be3dc44f86c2154019d\"\n",
      "                },\n",
      "                \"downloads\": -1,\n",
      "                \"filename\": \"sampleproject-1.2.0-py2.py3-none-any.whl\",\n",
      "                \"has_sig\": false,\n",
      "                \"md5_digest\": \"bab8eb22e6710eddae3c6c7ac3453bd9\",\n",
      "                \"packagetype\": \"bdist_wheel\",\n",
      "                \"python_version\": \"2.7\",\n",
      "                \"requires_python\": null,\n",
      "                \"size\": 3795,\n",
      "                \"upload_time\": \"2015-06-14T14:38:05\",\n",
      "                \"upload_time_iso_8601\": \"2015-06-14T14:38:05.875222Z\",\n",
      "                \"url\": \"https://files.pythonhosted.org/packages/30/52/547eb3719d0e872bdd6fe3ab60cef92596f95262e925e1943f68f840df88/sampleproject-1.2.0-py2.py3-none-any.whl\"\n",
      "            },\n",
      "            {\n",
      "                \"comment_text\": \"\",\n",
      "                \"digests\": {\n",
      "                    \"md5\": \"d3bd605f932b3fb6e91f49be2d6f9479\",\n",
      "                    \"sha256\": \"3427a8a5dd0c1e176da48a44efb410875b3973bd9843403a0997e4187c408dc1\"\n",
      "                },\n",
      "                \"downloads\": -1,\n",
      "                \"filename\": \"sampleproject-1.2.0.tar.gz\",\n",
      "                \"has_sig\": false,\n",
      "                \"md5_digest\": \"d3bd605f932b3fb6e91f49be2d6f9479\",\n",
      "                \"packagetype\": \"sdist\",\n",
      "                \"python_version\": \"source\",\n",
      "                \"requires_python\": null,\n",
      "                \"size\": 3148,\n",
      "                \"upload_time\": \"2015-06-14T14:37:56\",\n",
      "                \"upload_time_iso_8601\": \"2015-06-14T14:37:56.383366Z\",\n",
      "                \"url\": \"https://files.pythonhosted.org/packages/eb/45/79be82bdeafcecb9dca474cad4003e32ef8e4a0dec6abbd4145ccb02abe1/sampleproject-1.2.0.tar.gz\"\n",
      "            }\n",
      "        ],\n",
      "        \"1.3.0\": [\n",
      "            {\n",
      "                \"comment_text\": \"\",\n",
      "                \"digests\": {\n",
      "                    \"md5\": \"de98c6cdd6962d67e7368d2f9d9fa934\",\n",
      "                    \"sha256\": \"ab855ea282734dd216e8be4a42899a6fa8d2ce8f65b41c6379b69c1f804d6b1c\"\n",
      "                },\n",
      "                \"downloads\": -1,\n",
      "                \"filename\": \"sampleproject-1.3.0-py2.py3-none-any.whl\",\n",
      "                \"has_sig\": false,\n",
      "                \"md5_digest\": \"de98c6cdd6962d67e7368d2f9d9fa934\",\n",
      "                \"packagetype\": \"bdist_wheel\",\n",
      "                \"python_version\": \"py2.py3\",\n",
      "                \"requires_python\": \">=2.7, !=3.0.*, !=3.1.*, !=3.2.*, !=3.3.*, <4\",\n",
      "                \"size\": 3988,\n",
      "                \"upload_time\": \"2019-05-28T20:23:12\",\n",
      "                \"upload_time_iso_8601\": \"2019-05-28T20:23:12.721927Z\",\n",
      "                \"url\": \"https://files.pythonhosted.org/packages/a1/fd/3564a5176430eac106c27eff4de50b58fc916f5083782062cea3141acfaa/sampleproject-1.3.0-py2.py3-none-any.whl\"\n",
      "            },\n",
      "            {\n",
      "                \"comment_text\": \"\",\n",
      "                \"digests\": {\n",
      "                    \"md5\": \"3dd8fce5e4e2726f343de4385ec8d479\",\n",
      "                    \"sha256\": \"ee67ab9c8b445767203e7d9523d029287f737c60524a3c0e0c36cc504e0f24d7\"\n",
      "                },\n",
      "                \"downloads\": -1,\n",
      "                \"filename\": \"sampleproject-1.3.0.tar.gz\",\n",
      "                \"has_sig\": false,\n",
      "                \"md5_digest\": \"3dd8fce5e4e2726f343de4385ec8d479\",\n",
      "                \"packagetype\": \"sdist\",\n",
      "                \"python_version\": \"source\",\n",
      "                \"requires_python\": \">=2.7, !=3.0.*, !=3.1.*, !=3.2.*, !=3.3.*, <4\",\n",
      "                \"size\": 5913,\n",
      "                \"upload_time\": \"2019-05-28T20:23:13\",\n",
      "                \"upload_time_iso_8601\": \"2019-05-28T20:23:13.940627Z\",\n",
      "                \"url\": \"https://files.pythonhosted.org/packages/a6/aa/0090d487d204f5de30035c00f6c71b53ec7f613138d8653eebac50f47f45/sampleproject-1.3.0.tar.gz\"\n",
      "            }\n",
      "        ],\n",
      "        \"1.3.1\": [\n",
      "            {\n",
      "                \"comment_text\": \"\",\n",
      "                \"digests\": {\n",
      "                    \"md5\": \"0cf94b45deeeb876f1619d9c27cff120\",\n",
      "                    \"sha256\": \"26c9172e08244873b0e09c574a229bf2c251c67723a05e08fd3ec0c5ee423796\"\n",
      "                },\n",
      "                \"downloads\": -1,\n",
      "                \"filename\": \"sampleproject-1.3.1-py2.py3-none-any.whl\",\n",
      "                \"has_sig\": false,\n",
      "                \"md5_digest\": \"0cf94b45deeeb876f1619d9c27cff120\",\n",
      "                \"packagetype\": \"bdist_wheel\",\n",
      "                \"python_version\": \"py2.py3\",\n",
      "                \"requires_python\": \">=2.7, !=3.0.*, !=3.1.*, !=3.2.*, !=3.3.*, !=3.4.*, <4\",\n",
      "                \"size\": 3991,\n",
      "                \"upload_time\": \"2019-11-04T20:36:25\",\n",
      "                \"upload_time_iso_8601\": \"2019-11-04T20:36:25.256613Z\",\n",
      "                \"url\": \"https://files.pythonhosted.org/packages/a4/95/7398f8a08a0e83dc39dd4cbada9d22c65bcbb41c36626b2c54a1db83c710/sampleproject-1.3.1-py2.py3-none-any.whl\"\n",
      "            },\n",
      "            {\n",
      "                \"comment_text\": \"\",\n",
      "                \"digests\": {\n",
      "                    \"md5\": \"76ddb449e0e9ef3f55b880f566fcb700\",\n",
      "                    \"sha256\": \"3593ca2f1e057279d70d6144b14472fb28035b1da213dde60906b703d6f82c55\"\n",
      "                },\n",
      "                \"downloads\": -1,\n",
      "                \"filename\": \"sampleproject-1.3.1.tar.gz\",\n",
      "                \"has_sig\": false,\n",
      "                \"md5_digest\": \"76ddb449e0e9ef3f55b880f566fcb700\",\n",
      "                \"packagetype\": \"sdist\",\n",
      "                \"python_version\": \"source\",\n",
      "                \"requires_python\": \">=2.7, !=3.0.*, !=3.1.*, !=3.2.*, !=3.3.*, !=3.4.*, <4\",\n",
      "                \"size\": 5920,\n",
      "                \"upload_time\": \"2019-11-04T20:36:26\",\n",
      "                \"upload_time_iso_8601\": \"2019-11-04T20:36:26.798325Z\",\n",
      "                \"url\": \"https://files.pythonhosted.org/packages/6f/5b/2f3fe94e1c02816fe23c7ceee5292fb186912929e1972eee7fb729fa27af/sampleproject-1.3.1.tar.gz\"\n",
      "            }\n",
      "        ]\n",
      "    },\n",
      "    \"urls\": [\n",
      "        {\n",
      "            \"comment_text\": \"\",\n",
      "            \"digests\": {\n",
      "                \"md5\": \"0cf94b45deeeb876f1619d9c27cff120\",\n",
      "                \"sha256\": \"26c9172e08244873b0e09c574a229bf2c251c67723a05e08fd3ec0c5ee423796\"\n",
      "            },\n",
      "            \"downloads\": -1,\n",
      "            \"filename\": \"sampleproject-1.3.1-py2.py3-none-any.whl\",\n",
      "            \"has_sig\": false,\n",
      "            \"md5_digest\": \"0cf94b45deeeb876f1619d9c27cff120\",\n",
      "            \"packagetype\": \"bdist_wheel\",\n",
      "            \"python_version\": \"py2.py3\",\n",
      "            \"requires_python\": \">=2.7, !=3.0.*, !=3.1.*, !=3.2.*, !=3.3.*, !=3.4.*, <4\",\n",
      "            \"size\": 3991,\n",
      "            \"upload_time\": \"2019-11-04T20:36:25\",\n",
      "            \"upload_time_iso_8601\": \"2019-11-04T20:36:25.256613Z\",\n",
      "            \"url\": \"https://files.pythonhosted.org/packages/a4/95/7398f8a08a0e83dc39dd4cbada9d22c65bcbb41c36626b2c54a1db83c710/sampleproject-1.3.1-py2.py3-none-any.whl\"\n",
      "        },\n",
      "        {\n",
      "            \"comment_text\": \"\",\n",
      "            \"digests\": {\n",
      "                \"md5\": \"76ddb449e0e9ef3f55b880f566fcb700\",\n",
      "                \"sha256\": \"3593ca2f1e057279d70d6144b14472fb28035b1da213dde60906b703d6f82c55\"\n",
      "            },\n",
      "            \"downloads\": -1,\n",
      "            \"filename\": \"sampleproject-1.3.1.tar.gz\",\n",
      "            \"has_sig\": false,\n",
      "            \"md5_digest\": \"76ddb449e0e9ef3f55b880f566fcb700\",\n",
      "            \"packagetype\": \"sdist\",\n",
      "            \"python_version\": \"source\",\n",
      "            \"requires_python\": \">=2.7, !=3.0.*, !=3.1.*, !=3.2.*, !=3.3.*, !=3.4.*, <4\",\n",
      "            \"size\": 5920,\n",
      "            \"upload_time\": \"2019-11-04T20:36:26\",\n",
      "            \"upload_time_iso_8601\": \"2019-11-04T20:36:26.798325Z\",\n",
      "            \"url\": \"https://files.pythonhosted.org/packages/6f/5b/2f3fe94e1c02816fe23c7ceee5292fb186912929e1972eee7fb729fa27af/sampleproject-1.3.1.tar.gz\"\n",
      "        }\n",
      "    ]\n",
      "}\n"
     ]
    }
   ],
   "source": [
    "import json\n",
    "print(json.dumps(data, indent=4))"
   ]
  },
  {
   "cell_type": "code",
   "execution_count": 4,
   "metadata": {},
   "outputs": [
    {
     "name": "stdout",
     "output_type": "stream",
     "text": [
      "{ 'info': { 'author': 'The Python Packaging Authority',\n",
      "            'author_email': 'pypa-dev@googlegroups.com',\n",
      "            'bugtrack_url': None,\n",
      "            'classifiers': [ 'Development Status :: 3 - Alpha',\n",
      "                             'Intended Audience :: Developers',\n",
      "                             'License :: OSI Approved :: MIT License',\n",
      "                             'Programming Language :: Python :: 2',\n",
      "                             'Programming Language :: Python :: 2.7',\n",
      "                             'Programming Language :: Python :: 3',\n",
      "                             'Programming Language :: Python :: 3.5',\n",
      "                             'Programming Language :: Python :: 3.6',\n",
      "                             'Programming Language :: Python :: 3.7',\n",
      "                             'Programming Language :: Python :: 3.8',\n",
      "                             'Topic :: Software Development :: Build Tools'],\n",
      "            'description': '# A sample Python project\\n'\n",
      "                           '\\n'\n",
      "                           'A sample project that exists as an aid to the '\n",
      "                           '[Python Packaging User\\n'\n",
      "                           \"Guide][packaging guide]'s [Tutorial on Packaging \"\n",
      "                           'and Distributing\\n'\n",
      "                           'Projects][distribution tutorial].\\n'\n",
      "                           '\\n'\n",
      "                           'This project does not aim to cover best practices '\n",
      "                           'for Python project\\n'\n",
      "                           'development as a whole. For example, it does not '\n",
      "                           'provide guidance or tool\\n'\n",
      "                           'recommendations for version control, '\n",
      "                           'documentation, or testing.\\n'\n",
      "                           '\\n'\n",
      "                           '[The source for this project is available '\n",
      "                           'here][src].\\n'\n",
      "                           '\\n'\n",
      "                           'Most of the configuration for a Python project is '\n",
      "                           'done in the `setup.py` file,\\n'\n",
      "                           'an example of which is included in this project. '\n",
      "                           'You should edit this file\\n'\n",
      "                           'accordingly to adapt this sample project to your '\n",
      "                           'needs.\\n'\n",
      "                           '\\n'\n",
      "                           '----\\n'\n",
      "                           '\\n'\n",
      "                           'This is the README file for the project.\\n'\n",
      "                           '\\n'\n",
      "                           'The file should use UTF-8 encoding and can be '\n",
      "                           'written using\\n'\n",
      "                           '[reStructuredText][rst] or [markdown][md use] with '\n",
      "                           'the appropriate [key set][md\\n'\n",
      "                           'use]. It will be used to generate the project '\n",
      "                           'webpage on PyPI and will be\\n'\n",
      "                           'displayed as the project homepage on common '\n",
      "                           'code-hosting services, and should be\\n'\n",
      "                           'written for that purpose.\\n'\n",
      "                           '\\n'\n",
      "                           'Typical contents for this file would include an '\n",
      "                           'overview of the project, basic\\n'\n",
      "                           'usage examples, etc. Generally, including the '\n",
      "                           'project changelog in here is not a\\n'\n",
      "                           \"good idea, although a simple “What's New” section \"\n",
      "                           'for the most recent version\\n'\n",
      "                           'may be appropriate.\\n'\n",
      "                           '\\n'\n",
      "                           '[packaging guide]: https://packaging.python.org\\n'\n",
      "                           '[distribution tutorial]: '\n",
      "                           'https://packaging.python.org/tutorials/packaging-projects/\\n'\n",
      "                           '[src]: https://github.com/pypa/sampleproject\\n'\n",
      "                           '[rst]: http://docutils.sourceforge.net/rst.html\\n'\n",
      "                           '[md]: '\n",
      "                           'https://tools.ietf.org/html/rfc7764#section-3.5 '\n",
      "                           '\"CommonMark variant\"\\n'\n",
      "                           '[md use]: '\n",
      "                           'https://packaging.python.org/specifications/core-metadata/#description-content-type-optional\\n'\n",
      "                           '\\n'\n",
      "                           '\\n',\n",
      "            'description_content_type': 'text/markdown',\n",
      "            'docs_url': None,\n",
      "            'download_url': '',\n",
      "            'downloads': {'last_day': -1, 'last_month': -1, 'last_week': -1},\n",
      "            'home_page': 'https://github.com/pypa/sampleproject',\n",
      "            'keywords': 'sample setuptools development',\n",
      "            'license': '',\n",
      "            'maintainer': '',\n",
      "            'maintainer_email': '',\n",
      "            'name': 'sampleproject',\n",
      "            'package_url': 'https://pypi.org/project/sampleproject/',\n",
      "            'platform': '',\n",
      "            'project_url': 'https://pypi.org/project/sampleproject/',\n",
      "            'project_urls': { 'Bug Reports': 'https://github.com/pypa/sampleproject/issues',\n",
      "                              'Funding': 'https://donate.pypi.org',\n",
      "                              'Homepage': 'https://github.com/pypa/sampleproject',\n",
      "                              'Say Thanks!': 'http://saythanks.io/to/example',\n",
      "                              'Source': 'https://github.com/pypa/sampleproject/'},\n",
      "            'release_url': 'https://pypi.org/project/sampleproject/1.3.1/',\n",
      "            'requires_dist': [ 'peppercorn',\n",
      "                               \"check-manifest ; extra == 'dev'\",\n",
      "                               \"coverage ; extra == 'test'\"],\n",
      "            'requires_python': '>=2.7, !=3.0.*, !=3.1.*, !=3.2.*, !=3.3.*, '\n",
      "                               '!=3.4.*, <4',\n",
      "            'summary': 'A sample Python project',\n",
      "            'version': '1.3.1'},\n",
      "  'last_serial': 6077467,\n",
      "  'releases': { '1.0': [],\n",
      "                '1.2.0': [ { 'comment_text': '',\n",
      "                             'digests': { 'md5': 'bab8eb22e6710eddae3c6c7ac3453bd9',\n",
      "                                          'sha256': '7a7a8b91086deccc54cac8d631e33f6a0e232ce5775c6be3dc44f86c2154019d'},\n",
      "                             'downloads': -1,\n",
      "                             'filename': 'sampleproject-1.2.0-py2.py3-none-any.whl',\n",
      "                             'has_sig': False,\n",
      "                             'md5_digest': 'bab8eb22e6710eddae3c6c7ac3453bd9',\n",
      "                             'packagetype': 'bdist_wheel',\n",
      "                             'python_version': '2.7',\n",
      "                             'requires_python': None,\n",
      "                             'size': 3795,\n",
      "                             'upload_time': '2015-06-14T14:38:05',\n",
      "                             'upload_time_iso_8601': '2015-06-14T14:38:05.875222Z',\n",
      "                             'url': 'https://files.pythonhosted.org/packages/30/52/547eb3719d0e872bdd6fe3ab60cef92596f95262e925e1943f68f840df88/sampleproject-1.2.0-py2.py3-none-any.whl'},\n",
      "                           { 'comment_text': '',\n",
      "                             'digests': { 'md5': 'd3bd605f932b3fb6e91f49be2d6f9479',\n",
      "                                          'sha256': '3427a8a5dd0c1e176da48a44efb410875b3973bd9843403a0997e4187c408dc1'},\n",
      "                             'downloads': -1,\n",
      "                             'filename': 'sampleproject-1.2.0.tar.gz',\n",
      "                             'has_sig': False,\n",
      "                             'md5_digest': 'd3bd605f932b3fb6e91f49be2d6f9479',\n",
      "                             'packagetype': 'sdist',\n",
      "                             'python_version': 'source',\n",
      "                             'requires_python': None,\n",
      "                             'size': 3148,\n",
      "                             'upload_time': '2015-06-14T14:37:56',\n",
      "                             'upload_time_iso_8601': '2015-06-14T14:37:56.383366Z',\n",
      "                             'url': 'https://files.pythonhosted.org/packages/eb/45/79be82bdeafcecb9dca474cad4003e32ef8e4a0dec6abbd4145ccb02abe1/sampleproject-1.2.0.tar.gz'}],\n",
      "                '1.3.0': [ { 'comment_text': '',\n",
      "                             'digests': { 'md5': 'de98c6cdd6962d67e7368d2f9d9fa934',\n",
      "                                          'sha256': 'ab855ea282734dd216e8be4a42899a6fa8d2ce8f65b41c6379b69c1f804d6b1c'},\n",
      "                             'downloads': -1,\n",
      "                             'filename': 'sampleproject-1.3.0-py2.py3-none-any.whl',\n",
      "                             'has_sig': False,\n",
      "                             'md5_digest': 'de98c6cdd6962d67e7368d2f9d9fa934',\n",
      "                             'packagetype': 'bdist_wheel',\n",
      "                             'python_version': 'py2.py3',\n",
      "                             'requires_python': '>=2.7, !=3.0.*, !=3.1.*, '\n",
      "                                                '!=3.2.*, !=3.3.*, <4',\n",
      "                             'size': 3988,\n",
      "                             'upload_time': '2019-05-28T20:23:12',\n",
      "                             'upload_time_iso_8601': '2019-05-28T20:23:12.721927Z',\n",
      "                             'url': 'https://files.pythonhosted.org/packages/a1/fd/3564a5176430eac106c27eff4de50b58fc916f5083782062cea3141acfaa/sampleproject-1.3.0-py2.py3-none-any.whl'},\n",
      "                           { 'comment_text': '',\n",
      "                             'digests': { 'md5': '3dd8fce5e4e2726f343de4385ec8d479',\n",
      "                                          'sha256': 'ee67ab9c8b445767203e7d9523d029287f737c60524a3c0e0c36cc504e0f24d7'},\n",
      "                             'downloads': -1,\n",
      "                             'filename': 'sampleproject-1.3.0.tar.gz',\n",
      "                             'has_sig': False,\n",
      "                             'md5_digest': '3dd8fce5e4e2726f343de4385ec8d479',\n",
      "                             'packagetype': 'sdist',\n",
      "                             'python_version': 'source',\n",
      "                             'requires_python': '>=2.7, !=3.0.*, !=3.1.*, '\n",
      "                                                '!=3.2.*, !=3.3.*, <4',\n",
      "                             'size': 5913,\n",
      "                             'upload_time': '2019-05-28T20:23:13',\n",
      "                             'upload_time_iso_8601': '2019-05-28T20:23:13.940627Z',\n",
      "                             'url': 'https://files.pythonhosted.org/packages/a6/aa/0090d487d204f5de30035c00f6c71b53ec7f613138d8653eebac50f47f45/sampleproject-1.3.0.tar.gz'}],\n",
      "                '1.3.1': [ { 'comment_text': '',\n",
      "                             'digests': { 'md5': '0cf94b45deeeb876f1619d9c27cff120',\n",
      "                                          'sha256': '26c9172e08244873b0e09c574a229bf2c251c67723a05e08fd3ec0c5ee423796'},\n",
      "                             'downloads': -1,\n",
      "                             'filename': 'sampleproject-1.3.1-py2.py3-none-any.whl',\n",
      "                             'has_sig': False,\n",
      "                             'md5_digest': '0cf94b45deeeb876f1619d9c27cff120',\n",
      "                             'packagetype': 'bdist_wheel',\n",
      "                             'python_version': 'py2.py3',\n",
      "                             'requires_python': '>=2.7, !=3.0.*, !=3.1.*, '\n",
      "                                                '!=3.2.*, !=3.3.*, !=3.4.*, <4',\n",
      "                             'size': 3991,\n",
      "                             'upload_time': '2019-11-04T20:36:25',\n",
      "                             'upload_time_iso_8601': '2019-11-04T20:36:25.256613Z',\n",
      "                             'url': 'https://files.pythonhosted.org/packages/a4/95/7398f8a08a0e83dc39dd4cbada9d22c65bcbb41c36626b2c54a1db83c710/sampleproject-1.3.1-py2.py3-none-any.whl'},\n",
      "                           { 'comment_text': '',\n",
      "                             'digests': { 'md5': '76ddb449e0e9ef3f55b880f566fcb700',\n",
      "                                          'sha256': '3593ca2f1e057279d70d6144b14472fb28035b1da213dde60906b703d6f82c55'},\n",
      "                             'downloads': -1,\n",
      "                             'filename': 'sampleproject-1.3.1.tar.gz',\n",
      "                             'has_sig': False,\n",
      "                             'md5_digest': '76ddb449e0e9ef3f55b880f566fcb700',\n",
      "                             'packagetype': 'sdist',\n",
      "                             'python_version': 'source',\n",
      "                             'requires_python': '>=2.7, !=3.0.*, !=3.1.*, '\n",
      "                                                '!=3.2.*, !=3.3.*, !=3.4.*, <4',\n",
      "                             'size': 5920,\n",
      "                             'upload_time': '2019-11-04T20:36:26',\n",
      "                             'upload_time_iso_8601': '2019-11-04T20:36:26.798325Z',\n",
      "                             'url': 'https://files.pythonhosted.org/packages/6f/5b/2f3fe94e1c02816fe23c7ceee5292fb186912929e1972eee7fb729fa27af/sampleproject-1.3.1.tar.gz'}]},\n",
      "  'urls': [ { 'comment_text': '',\n",
      "              'digests': { 'md5': '0cf94b45deeeb876f1619d9c27cff120',\n",
      "                           'sha256': '26c9172e08244873b0e09c574a229bf2c251c67723a05e08fd3ec0c5ee423796'},\n",
      "              'downloads': -1,\n",
      "              'filename': 'sampleproject-1.3.1-py2.py3-none-any.whl',\n",
      "              'has_sig': False,\n",
      "              'md5_digest': '0cf94b45deeeb876f1619d9c27cff120',\n",
      "              'packagetype': 'bdist_wheel',\n",
      "              'python_version': 'py2.py3',\n",
      "              'requires_python': '>=2.7, !=3.0.*, !=3.1.*, !=3.2.*, !=3.3.*, '\n",
      "                                 '!=3.4.*, <4',\n",
      "              'size': 3991,\n",
      "              'upload_time': '2019-11-04T20:36:25',\n",
      "              'upload_time_iso_8601': '2019-11-04T20:36:25.256613Z',\n",
      "              'url': 'https://files.pythonhosted.org/packages/a4/95/7398f8a08a0e83dc39dd4cbada9d22c65bcbb41c36626b2c54a1db83c710/sampleproject-1.3.1-py2.py3-none-any.whl'},\n",
      "            { 'comment_text': '',\n"
     ]
    },
    {
     "name": "stdout",
     "output_type": "stream",
     "text": [
      "              'digests': { 'md5': '76ddb449e0e9ef3f55b880f566fcb700',\n",
      "                           'sha256': '3593ca2f1e057279d70d6144b14472fb28035b1da213dde60906b703d6f82c55'},\n",
      "              'downloads': -1,\n",
      "              'filename': 'sampleproject-1.3.1.tar.gz',\n",
      "              'has_sig': False,\n",
      "              'md5_digest': '76ddb449e0e9ef3f55b880f566fcb700',\n",
      "              'packagetype': 'sdist',\n",
      "              'python_version': 'source',\n",
      "              'requires_python': '>=2.7, !=3.0.*, !=3.1.*, !=3.2.*, !=3.3.*, '\n",
      "                                 '!=3.4.*, <4',\n",
      "              'size': 5920,\n",
      "              'upload_time': '2019-11-04T20:36:26',\n",
      "              'upload_time_iso_8601': '2019-11-04T20:36:26.798325Z',\n",
      "              'url': 'https://files.pythonhosted.org/packages/6f/5b/2f3fe94e1c02816fe23c7ceee5292fb186912929e1972eee7fb729fa27af/sampleproject-1.3.1.tar.gz'}]}\n"
     ]
    }
   ],
   "source": [
    "from pprint import pprint\n",
    "pprint(data, indent=2)"
   ]
  },
  {
   "cell_type": "code",
   "execution_count": 5,
   "metadata": {},
   "outputs": [
    {
     "name": "stdout",
     "output_type": "stream",
     "text": [
      "  % Total    % Received % Xferd  Average Speed   Time    Time     Time  Current\n",
      "                                 Dload  Upload   Total   Spent    Left  Speed\n",
      "100  8483  100  8483    0     0  43926      0 --:--:-- --:--:-- --:--:-- 44182\n",
      "{\n",
      "    \"info\": {\n",
      "        \"author\": \"The Python Packaging Authority\",\n",
      "        \"author_email\": \"pypa-dev@googlegroups.com\",\n",
      "        \"bugtrack_url\": null,\n",
      "        \"classifiers\": [\n",
      "            \"Development Status :: 3 - Alpha\",\n",
      "            \"Intended Audience :: Developers\",\n",
      "            \"License :: OSI Approved :: MIT License\",\n",
      "            \"Programming Language :: Python :: 2\",\n",
      "            \"Programming Language :: Python :: 2.7\",\n",
      "            \"Programming Language :: Python :: 3\",\n",
      "            \"Programming Language :: Python :: 3.5\",\n",
      "            \"Programming Language :: Python :: 3.6\",\n",
      "            \"Programming Language :: Python :: 3.7\",\n",
      "            \"Programming Language :: Python :: 3.8\",\n",
      "            \"Topic :: Software Development :: Build Tools\"\n",
      "        ],\n",
      "        \"description\": \"# A sample Python project\\n\\nA sample project that exists as an aid to the [Python Packaging User\\nGuide][packaging guide]'s [Tutorial on Packaging and Distributing\\nProjects][distribution tutorial].\\n\\nThis project does not aim to cover best practices for Python project\\ndevelopment as a whole. For example, it does not provide guidance or tool\\nrecommendations for version control, documentation, or testing.\\n\\n[The source for this project is available here][src].\\n\\nMost of the configuration for a Python project is done in the `setup.py` file,\\nan example of which is included in this project. You should edit this file\\naccordingly to adapt this sample project to your needs.\\n\\n----\\n\\nThis is the README file for the project.\\n\\nThe file should use UTF-8 encoding and can be written using\\n[reStructuredText][rst] or [markdown][md use] with the appropriate [key set][md\\nuse]. It will be used to generate the project webpage on PyPI and will be\\ndisplayed as the project homepage on common code-hosting services, and should be\\nwritten for that purpose.\\n\\nTypical contents for this file would include an overview of the project, basic\\nusage examples, etc. Generally, including the project changelog in here is not a\\ngood idea, although a simple \\u201cWhat's New\\u201d section for the most recent version\\nmay be appropriate.\\n\\n[packaging guide]: https://packaging.python.org\\n[distribution tutorial]: https://packaging.python.org/tutorials/packaging-projects/\\n[src]: https://github.com/pypa/sampleproject\\n[rst]: http://docutils.sourceforge.net/rst.html\\n[md]: https://tools.ietf.org/html/rfc7764#section-3.5 \\\"CommonMark variant\\\"\\n[md use]: https://packaging.python.org/specifications/core-metadata/#description-content-type-optional\\n\\n\\n\",\n",
      "        \"description_content_type\": \"text/markdown\",\n",
      "        \"docs_url\": null,\n",
      "        \"download_url\": \"\",\n",
      "        \"downloads\": {\n",
      "            \"last_day\": -1,\n",
      "            \"last_month\": -1,\n",
      "            \"last_week\": -1\n",
      "        },\n",
      "        \"home_page\": \"https://github.com/pypa/sampleproject\",\n",
      "        \"keywords\": \"sample setuptools development\",\n",
      "        \"license\": \"\",\n",
      "        \"maintainer\": \"\",\n",
      "        \"maintainer_email\": \"\",\n",
      "        \"name\": \"sampleproject\",\n",
      "        \"package_url\": \"https://pypi.org/project/sampleproject/\",\n",
      "        \"platform\": \"\",\n",
      "        \"project_url\": \"https://pypi.org/project/sampleproject/\",\n",
      "        \"project_urls\": {\n",
      "            \"Bug Reports\": \"https://github.com/pypa/sampleproject/issues\",\n",
      "            \"Funding\": \"https://donate.pypi.org\",\n",
      "            \"Homepage\": \"https://github.com/pypa/sampleproject\",\n",
      "            \"Say Thanks!\": \"http://saythanks.io/to/example\",\n",
      "            \"Source\": \"https://github.com/pypa/sampleproject/\"\n",
      "        },\n",
      "        \"release_url\": \"https://pypi.org/project/sampleproject/1.3.1/\",\n",
      "        \"requires_dist\": [\n",
      "            \"peppercorn\",\n",
      "            \"check-manifest ; extra == 'dev'\",\n",
      "            \"coverage ; extra == 'test'\"\n",
      "        ],\n",
      "        \"requires_python\": \">=2.7, !=3.0.*, !=3.1.*, !=3.2.*, !=3.3.*, !=3.4.*, <4\",\n",
      "        \"summary\": \"A sample Python project\",\n",
      "        \"version\": \"1.3.1\"\n",
      "    },\n",
      "    \"last_serial\": 6077467,\n",
      "    \"releases\": {\n",
      "        \"1.0\": [],\n",
      "        \"1.2.0\": [\n",
      "            {\n",
      "                \"comment_text\": \"\",\n",
      "                \"digests\": {\n",
      "                    \"md5\": \"bab8eb22e6710eddae3c6c7ac3453bd9\",\n",
      "                    \"sha256\": \"7a7a8b91086deccc54cac8d631e33f6a0e232ce5775c6be3dc44f86c2154019d\"\n",
      "                },\n",
      "                \"downloads\": -1,\n",
      "                \"filename\": \"sampleproject-1.2.0-py2.py3-none-any.whl\",\n",
      "                \"has_sig\": false,\n",
      "                \"md5_digest\": \"bab8eb22e6710eddae3c6c7ac3453bd9\",\n",
      "                \"packagetype\": \"bdist_wheel\",\n",
      "                \"python_version\": \"2.7\",\n",
      "                \"requires_python\": null,\n",
      "                \"size\": 3795,\n",
      "                \"upload_time\": \"2015-06-14T14:38:05\",\n",
      "                \"upload_time_iso_8601\": \"2015-06-14T14:38:05.875222Z\",\n",
      "                \"url\": \"https://files.pythonhosted.org/packages/30/52/547eb3719d0e872bdd6fe3ab60cef92596f95262e925e1943f68f840df88/sampleproject-1.2.0-py2.py3-none-any.whl\"\n",
      "            },\n",
      "            {\n",
      "                \"comment_text\": \"\",\n",
      "                \"digests\": {\n",
      "                    \"md5\": \"d3bd605f932b3fb6e91f49be2d6f9479\",\n",
      "                    \"sha256\": \"3427a8a5dd0c1e176da48a44efb410875b3973bd9843403a0997e4187c408dc1\"\n",
      "                },\n",
      "                \"downloads\": -1,\n",
      "                \"filename\": \"sampleproject-1.2.0.tar.gz\",\n",
      "                \"has_sig\": false,\n",
      "                \"md5_digest\": \"d3bd605f932b3fb6e91f49be2d6f9479\",\n",
      "                \"packagetype\": \"sdist\",\n",
      "                \"python_version\": \"source\",\n",
      "                \"requires_python\": null,\n",
      "                \"size\": 3148,\n",
      "                \"upload_time\": \"2015-06-14T14:37:56\",\n",
      "                \"upload_time_iso_8601\": \"2015-06-14T14:37:56.383366Z\",\n",
      "                \"url\": \"https://files.pythonhosted.org/packages/eb/45/79be82bdeafcecb9dca474cad4003e32ef8e4a0dec6abbd4145ccb02abe1/sampleproject-1.2.0.tar.gz\"\n",
      "            }\n",
      "        ],\n",
      "        \"1.3.0\": [\n",
      "            {\n",
      "                \"comment_text\": \"\",\n",
      "                \"digests\": {\n",
      "                    \"md5\": \"de98c6cdd6962d67e7368d2f9d9fa934\",\n",
      "                    \"sha256\": \"ab855ea282734dd216e8be4a42899a6fa8d2ce8f65b41c6379b69c1f804d6b1c\"\n",
      "                },\n",
      "                \"downloads\": -1,\n",
      "                \"filename\": \"sampleproject-1.3.0-py2.py3-none-any.whl\",\n",
      "                \"has_sig\": false,\n",
      "                \"md5_digest\": \"de98c6cdd6962d67e7368d2f9d9fa934\",\n",
      "                \"packagetype\": \"bdist_wheel\",\n",
      "                \"python_version\": \"py2.py3\",\n",
      "                \"requires_python\": \">=2.7, !=3.0.*, !=3.1.*, !=3.2.*, !=3.3.*, <4\",\n",
      "                \"size\": 3988,\n",
      "                \"upload_time\": \"2019-05-28T20:23:12\",\n",
      "                \"upload_time_iso_8601\": \"2019-05-28T20:23:12.721927Z\",\n",
      "                \"url\": \"https://files.pythonhosted.org/packages/a1/fd/3564a5176430eac106c27eff4de50b58fc916f5083782062cea3141acfaa/sampleproject-1.3.0-py2.py3-none-any.whl\"\n",
      "            },\n",
      "            {\n",
      "                \"comment_text\": \"\",\n",
      "                \"digests\": {\n",
      "                    \"md5\": \"3dd8fce5e4e2726f343de4385ec8d479\",\n",
      "                    \"sha256\": \"ee67ab9c8b445767203e7d9523d029287f737c60524a3c0e0c36cc504e0f24d7\"\n",
      "                },\n",
      "                \"downloads\": -1,\n",
      "                \"filename\": \"sampleproject-1.3.0.tar.gz\",\n",
      "                \"has_sig\": false,\n",
      "                \"md5_digest\": \"3dd8fce5e4e2726f343de4385ec8d479\",\n",
      "                \"packagetype\": \"sdist\",\n",
      "                \"python_version\": \"source\",\n",
      "                \"requires_python\": \">=2.7, !=3.0.*, !=3.1.*, !=3.2.*, !=3.3.*, <4\",\n",
      "                \"size\": 5913,\n",
      "                \"upload_time\": \"2019-05-28T20:23:13\",\n",
      "                \"upload_time_iso_8601\": \"2019-05-28T20:23:13.940627Z\",\n",
      "                \"url\": \"https://files.pythonhosted.org/packages/a6/aa/0090d487d204f5de30035c00f6c71b53ec7f613138d8653eebac50f47f45/sampleproject-1.3.0.tar.gz\"\n",
      "            }\n",
      "        ],\n",
      "        \"1.3.1\": [\n",
      "            {\n",
      "                \"comment_text\": \"\",\n",
      "                \"digests\": {\n",
      "                    \"md5\": \"0cf94b45deeeb876f1619d9c27cff120\",\n",
      "                    \"sha256\": \"26c9172e08244873b0e09c574a229bf2c251c67723a05e08fd3ec0c5ee423796\"\n",
      "                },\n",
      "                \"downloads\": -1,\n",
      "                \"filename\": \"sampleproject-1.3.1-py2.py3-none-any.whl\",\n",
      "                \"has_sig\": false,\n",
      "                \"md5_digest\": \"0cf94b45deeeb876f1619d9c27cff120\",\n",
      "                \"packagetype\": \"bdist_wheel\",\n",
      "                \"python_version\": \"py2.py3\",\n",
      "                \"requires_python\": \">=2.7, !=3.0.*, !=3.1.*, !=3.2.*, !=3.3.*, !=3.4.*, <4\",\n",
      "                \"size\": 3991,\n",
      "                \"upload_time\": \"2019-11-04T20:36:25\",\n",
      "                \"upload_time_iso_8601\": \"2019-11-04T20:36:25.256613Z\",\n",
      "                \"url\": \"https://files.pythonhosted.org/packages/a4/95/7398f8a08a0e83dc39dd4cbada9d22c65bcbb41c36626b2c54a1db83c710/sampleproject-1.3.1-py2.py3-none-any.whl\"\n",
      "            },\n",
      "            {\n",
      "                \"comment_text\": \"\",\n",
      "                \"digests\": {\n",
      "                    \"md5\": \"76ddb449e0e9ef3f55b880f566fcb700\",\n",
      "                    \"sha256\": \"3593ca2f1e057279d70d6144b14472fb28035b1da213dde60906b703d6f82c55\"\n",
      "                },\n",
      "                \"downloads\": -1,\n",
      "                \"filename\": \"sampleproject-1.3.1.tar.gz\",\n",
      "                \"has_sig\": false,\n",
      "                \"md5_digest\": \"76ddb449e0e9ef3f55b880f566fcb700\",\n",
      "                \"packagetype\": \"sdist\",\n"
     ]
    },
    {
     "name": "stdout",
     "output_type": "stream",
     "text": [
      "                \"python_version\": \"source\",\r\n",
      "                \"requires_python\": \">=2.7, !=3.0.*, !=3.1.*, !=3.2.*, !=3.3.*, !=3.4.*, <4\",\r\n",
      "                \"size\": 5920,\r\n",
      "                \"upload_time\": \"2019-11-04T20:36:26\",\r\n",
      "                \"upload_time_iso_8601\": \"2019-11-04T20:36:26.798325Z\",\r\n",
      "                \"url\": \"https://files.pythonhosted.org/packages/6f/5b/2f3fe94e1c02816fe23c7ceee5292fb186912929e1972eee7fb729fa27af/sampleproject-1.3.1.tar.gz\"\r\n",
      "            }\r\n",
      "        ]\r\n",
      "    },\r\n",
      "    \"urls\": [\r\n",
      "        {\r\n",
      "            \"comment_text\": \"\",\r\n",
      "            \"digests\": {\r\n",
      "                \"md5\": \"0cf94b45deeeb876f1619d9c27cff120\",\r\n",
      "                \"sha256\": \"26c9172e08244873b0e09c574a229bf2c251c67723a05e08fd3ec0c5ee423796\"\r\n",
      "            },\r\n",
      "            \"downloads\": -1,\r\n",
      "            \"filename\": \"sampleproject-1.3.1-py2.py3-none-any.whl\",\r\n",
      "            \"has_sig\": false,\r\n",
      "            \"md5_digest\": \"0cf94b45deeeb876f1619d9c27cff120\",\r\n",
      "            \"packagetype\": \"bdist_wheel\",\r\n",
      "            \"python_version\": \"py2.py3\",\r\n",
      "            \"requires_python\": \">=2.7, !=3.0.*, !=3.1.*, !=3.2.*, !=3.3.*, !=3.4.*, <4\",\r\n",
      "            \"size\": 3991,\r\n",
      "            \"upload_time\": \"2019-11-04T20:36:25\",\r\n",
      "            \"upload_time_iso_8601\": \"2019-11-04T20:36:25.256613Z\",\r\n",
      "            \"url\": \"https://files.pythonhosted.org/packages/a4/95/7398f8a08a0e83dc39dd4cbada9d22c65bcbb41c36626b2c54a1db83c710/sampleproject-1.3.1-py2.py3-none-any.whl\"\r\n",
      "        },\r\n",
      "        {\r\n",
      "            \"comment_text\": \"\",\r\n",
      "            \"digests\": {\r\n",
      "                \"md5\": \"76ddb449e0e9ef3f55b880f566fcb700\",\r\n",
      "                \"sha256\": \"3593ca2f1e057279d70d6144b14472fb28035b1da213dde60906b703d6f82c55\"\r\n",
      "            },\r\n",
      "            \"downloads\": -1,\r\n",
      "            \"filename\": \"sampleproject-1.3.1.tar.gz\",\r\n",
      "            \"has_sig\": false,\r\n",
      "            \"md5_digest\": \"76ddb449e0e9ef3f55b880f566fcb700\",\r\n",
      "            \"packagetype\": \"sdist\",\r\n",
      "            \"python_version\": \"source\",\r\n",
      "            \"requires_python\": \">=2.7, !=3.0.*, !=3.1.*, !=3.2.*, !=3.3.*, !=3.4.*, <4\",\r\n",
      "            \"size\": 5920,\r\n",
      "            \"upload_time\": \"2019-11-04T20:36:26\",\r\n",
      "            \"upload_time_iso_8601\": \"2019-11-04T20:36:26.798325Z\",\r\n",
      "            \"url\": \"https://files.pythonhosted.org/packages/6f/5b/2f3fe94e1c02816fe23c7ceee5292fb186912929e1972eee7fb729fa27af/sampleproject-1.3.1.tar.gz\"\r\n",
      "        }\r\n",
      "    ]\r\n",
      "}\r\n"
     ]
    }
   ],
   "source": [
    "!curl https://pypi.org/pypi/sampleproject/json|python3 -m json.tool"
   ]
  },
  {
   "cell_type": "code",
   "execution_count": null,
   "metadata": {},
   "outputs": [],
   "source": []
  }
 ],
 "metadata": {
  "kernelspec": {
   "display_name": "Python 3",
   "language": "python",
   "name": "python3"
  },
  "language_info": {
   "codemirror_mode": {
    "name": "ipython",
    "version": 3
   },
   "file_extension": ".py",
   "mimetype": "text/x-python",
   "name": "python",
   "nbconvert_exporter": "python",
   "pygments_lexer": "ipython3",
   "version": "3.7.5"
  }
 },
 "nbformat": 4,
 "nbformat_minor": 2
}
