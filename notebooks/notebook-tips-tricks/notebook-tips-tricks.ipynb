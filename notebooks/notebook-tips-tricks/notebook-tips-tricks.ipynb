{
 "cells": [
  {
   "cell_type": "markdown",
   "metadata": {},
   "source": [
    "**Jupyter Notebook Magic Commands**\n",
    "\n",
    "    Line Magics are applicable only on a single line.\n",
    "    Cell Magics are applicable to a complete cell"
   ]
  },
  {
   "cell_type": "code",
   "execution_count": 1,
   "metadata": {},
   "outputs": [
    {
     "data": {
      "application/javascript": [
       "\n",
       "            setTimeout(function() {\n",
       "                var nbb_cell_id = 1;\n",
       "                var nbb_formatted_code = \"%load_ext nb_black\\n# or %reload_ext nb_black\";\n",
       "                var nbb_cells = Jupyter.notebook.get_cells();\n",
       "                for (var i = 0; i < nbb_cells.length; ++i) {\n",
       "                    if (nbb_cells[i].input_prompt_number == nbb_cell_id) {\n",
       "                        nbb_cells[i].set_text(nbb_formatted_code);\n",
       "                        break;\n",
       "                    }\n",
       "                }\n",
       "            }, 500);\n",
       "            "
      ],
      "text/plain": [
       "<IPython.core.display.Javascript object>"
      ]
     },
     "metadata": {},
     "output_type": "display_data"
    }
   ],
   "source": [
    "%load_ext nb_black\n",
    "# or %reload_ext nb_black"
   ]
  },
  {
   "cell_type": "markdown",
   "metadata": {},
   "source": [
    "**Cell Magic**"
   ]
  },
  {
   "cell_type": "code",
   "execution_count": 2,
   "metadata": {},
   "outputs": [
    {
     "data": {
      "application/javascript": [
       "\n",
       "            setTimeout(function() {\n",
       "                var nbb_cell_id = 2;\n",
       "                var nbb_formatted_code = \"# d = {\\\"a\\\": 1, \\\"b\\\": 2,\\n#'c': 'Casey}\\nd = {\\\"a\\\": 1, \\\"b\\\": 2, \\\"c\\\": \\\"Casey\\\"}\";\n",
       "                var nbb_cells = Jupyter.notebook.get_cells();\n",
       "                for (var i = 0; i < nbb_cells.length; ++i) {\n",
       "                    if (nbb_cells[i].input_prompt_number == nbb_cell_id) {\n",
       "                        nbb_cells[i].set_text(nbb_formatted_code);\n",
       "                        break;\n",
       "                    }\n",
       "                }\n",
       "            }, 500);\n",
       "            "
      ],
      "text/plain": [
       "<IPython.core.display.Javascript object>"
      ]
     },
     "metadata": {},
     "output_type": "display_data"
    }
   ],
   "source": [
    "# d = {\"a\": 1, \"b\": 2,\n",
    "#'c': 'Casey}\n",
    "d = {\"a\": 1, \"b\": 2, \"c\": \"Casey\"}"
   ]
  },
  {
   "cell_type": "code",
   "execution_count": 3,
   "metadata": {},
   "outputs": [
    {
     "name": "stdout",
     "output_type": "stream",
     "text": [
      "Hello World\n"
     ]
    },
    {
     "data": {
      "application/javascript": [
       "\n",
       "            setTimeout(function() {\n",
       "                var nbb_cell_id = 3;\n",
       "                var nbb_formatted_code = \"%%bash\\necho -e \\\"Hello World\\\"\";\n",
       "                var nbb_cells = Jupyter.notebook.get_cells();\n",
       "                for (var i = 0; i < nbb_cells.length; ++i) {\n",
       "                    if (nbb_cells[i].input_prompt_number == nbb_cell_id) {\n",
       "                        nbb_cells[i].set_text(nbb_formatted_code);\n",
       "                        break;\n",
       "                    }\n",
       "                }\n",
       "            }, 500);\n",
       "            "
      ],
      "text/plain": [
       "<IPython.core.display.Javascript object>"
      ]
     },
     "metadata": {},
     "output_type": "display_data"
    }
   ],
   "source": [
    "%%bash\n",
    "echo -e \"Hello World\""
   ]
  },
  {
   "cell_type": "code",
   "execution_count": 4,
   "metadata": {},
   "outputs": [
    {
     "data": {
      "application/javascript": [
       "alert(\"hello\")\n"
      ],
      "text/plain": [
       "<IPython.core.display.Javascript object>"
      ]
     },
     "metadata": {},
     "output_type": "display_data"
    },
    {
     "data": {
      "application/javascript": [
       "\n",
       "            setTimeout(function() {\n",
       "                var nbb_cell_id = 4;\n",
       "                var nbb_formatted_code = \"%%js\\nalert(\\\"hello\\\")\";\n",
       "                var nbb_cells = Jupyter.notebook.get_cells();\n",
       "                for (var i = 0; i < nbb_cells.length; ++i) {\n",
       "                    if (nbb_cells[i].input_prompt_number == nbb_cell_id) {\n",
       "                        nbb_cells[i].set_text(nbb_formatted_code);\n",
       "                        break;\n",
       "                    }\n",
       "                }\n",
       "            }, 500);\n",
       "            "
      ],
      "text/plain": [
       "<IPython.core.display.Javascript object>"
      ]
     },
     "metadata": {},
     "output_type": "display_data"
    }
   ],
   "source": [
    "%%js\n",
    "alert(\"hello\")"
   ]
  },
  {
   "cell_type": "code",
   "execution_count": 5,
   "metadata": {},
   "outputs": [
    {
     "data": {
      "application/javascript": [
       "var a = 1\n",
       "var b = 2\n",
       "var c = a + b\n",
       "element.text(c)\n"
      ],
      "text/plain": [
       "<IPython.core.display.Javascript object>"
      ]
     },
     "metadata": {},
     "output_type": "display_data"
    },
    {
     "data": {
      "application/javascript": [
       "\n",
       "            setTimeout(function() {\n",
       "                var nbb_cell_id = 5;\n",
       "                var nbb_formatted_code = \"%%js\\nvar a = 1\\nvar b = 2\\nvar c = a + b\\nelement.text(c)\";\n",
       "                var nbb_cells = Jupyter.notebook.get_cells();\n",
       "                for (var i = 0; i < nbb_cells.length; ++i) {\n",
       "                    if (nbb_cells[i].input_prompt_number == nbb_cell_id) {\n",
       "                        nbb_cells[i].set_text(nbb_formatted_code);\n",
       "                        break;\n",
       "                    }\n",
       "                }\n",
       "            }, 500);\n",
       "            "
      ],
      "text/plain": [
       "<IPython.core.display.Javascript object>"
      ]
     },
     "metadata": {},
     "output_type": "display_data"
    }
   ],
   "source": [
    "%%js\n",
    "var a = 1\n",
    "var b = 2\n",
    "var c = a + b\n",
    "element.text(c)"
   ]
  },
  {
   "cell_type": "markdown",
   "metadata": {},
   "source": [
    "**Line Magic**"
   ]
  },
  {
   "cell_type": "code",
   "execution_count": 6,
   "metadata": {},
   "outputs": [
    {
     "name": "stdout",
     "output_type": "stream",
     "text": [
      "-rw-r--r-- 1 8888 8888 90835 Nov 17 21:42 comic.png\r\n"
     ]
    },
    {
     "data": {
      "application/javascript": [
       "\n",
       "            setTimeout(function() {\n",
       "                var nbb_cell_id = 6;\n",
       "                var nbb_formatted_code = \"%ls -l *.png\";\n",
       "                var nbb_cells = Jupyter.notebook.get_cells();\n",
       "                for (var i = 0; i < nbb_cells.length; ++i) {\n",
       "                    if (nbb_cells[i].input_prompt_number == nbb_cell_id) {\n",
       "                        nbb_cells[i].set_text(nbb_formatted_code);\n",
       "                        break;\n",
       "                    }\n",
       "                }\n",
       "            }, 500);\n",
       "            "
      ],
      "text/plain": [
       "<IPython.core.display.Javascript object>"
      ]
     },
     "metadata": {},
     "output_type": "display_data"
    }
   ],
   "source": [
    "%ls -l *.png"
   ]
  },
  {
   "cell_type": "markdown",
   "metadata": {},
   "source": [
    "**Running any Shell Commands in Jupyter Notebook**"
   ]
  },
  {
   "cell_type": "code",
   "execution_count": 7,
   "metadata": {},
   "outputs": [
    {
     "name": "stdout",
     "output_type": "stream",
     "text": [
      "hello world!\r\n"
     ]
    },
    {
     "data": {
      "application/javascript": [
       "\n",
       "            setTimeout(function() {\n",
       "                var nbb_cell_id = 7;\n",
       "                var nbb_formatted_code = \"!echo \\\"hello world!\\\"\";\n",
       "                var nbb_cells = Jupyter.notebook.get_cells();\n",
       "                for (var i = 0; i < nbb_cells.length; ++i) {\n",
       "                    if (nbb_cells[i].input_prompt_number == nbb_cell_id) {\n",
       "                        nbb_cells[i].set_text(nbb_formatted_code);\n",
       "                        break;\n",
       "                    }\n",
       "                }\n",
       "            }, 500);\n",
       "            "
      ],
      "text/plain": [
       "<IPython.core.display.Javascript object>"
      ]
     },
     "metadata": {},
     "output_type": "display_data"
    }
   ],
   "source": [
    "!echo \"hello world!\""
   ]
  },
  {
   "cell_type": "code",
   "execution_count": 8,
   "metadata": {},
   "outputs": [
    {
     "name": "stdout",
     "output_type": "stream",
     "text": [
      "Requirement already satisfied: requests in /usr/local/lib/python3.7/site-packages (2.22.0)\n",
      "Requirement already satisfied: certifi>=2017.4.17 in /usr/local/lib/python3.7/site-packages (from requests) (2019.9.11)\n",
      "Requirement already satisfied: urllib3!=1.25.0,!=1.25.1,<1.26,>=1.21.1 in /usr/local/lib/python3.7/site-packages (from requests) (1.25.7)\n",
      "Requirement already satisfied: idna<2.9,>=2.5 in /usr/local/lib/python3.7/site-packages (from requests) (2.8)\n",
      "Requirement already satisfied: chardet<3.1.0,>=3.0.2 in /usr/local/lib/python3.7/site-packages (from requests) (3.0.4)\n"
     ]
    },
    {
     "data": {
      "application/javascript": [
       "\n",
       "            setTimeout(function() {\n",
       "                var nbb_cell_id = 8;\n",
       "                var nbb_formatted_code = \"!pip install requests\";\n",
       "                var nbb_cells = Jupyter.notebook.get_cells();\n",
       "                for (var i = 0; i < nbb_cells.length; ++i) {\n",
       "                    if (nbb_cells[i].input_prompt_number == nbb_cell_id) {\n",
       "                        nbb_cells[i].set_text(nbb_formatted_code);\n",
       "                        break;\n",
       "                    }\n",
       "                }\n",
       "            }, 500);\n",
       "            "
      ],
      "text/plain": [
       "<IPython.core.display.Javascript object>"
      ]
     },
     "metadata": {},
     "output_type": "display_data"
    }
   ],
   "source": [
    "!pip install requests"
   ]
  },
  {
   "cell_type": "markdown",
   "metadata": {},
   "source": [
    "**Running Shell Scripts in Jupyter Notebook**"
   ]
  },
  {
   "cell_type": "code",
   "execution_count": 9,
   "metadata": {},
   "outputs": [
    {
     "name": "stdout",
     "output_type": "stream",
     "text": [
      "Total = 15\n"
     ]
    },
    {
     "data": {
      "application/javascript": [
       "\n",
       "            setTimeout(function() {\n",
       "                var nbb_cell_id = 9;\n",
       "                var nbb_formatted_code = \"%%bash\\n#total=0\\nfor i in {1..5}\\ndo\\n    total=$((total + i))\\ndone\\necho -e \\\"Total = $total\\\"\";\n",
       "                var nbb_cells = Jupyter.notebook.get_cells();\n",
       "                for (var i = 0; i < nbb_cells.length; ++i) {\n",
       "                    if (nbb_cells[i].input_prompt_number == nbb_cell_id) {\n",
       "                        nbb_cells[i].set_text(nbb_formatted_code);\n",
       "                        break;\n",
       "                    }\n",
       "                }\n",
       "            }, 500);\n",
       "            "
      ],
      "text/plain": [
       "<IPython.core.display.Javascript object>"
      ]
     },
     "metadata": {},
     "output_type": "display_data"
    }
   ],
   "source": [
    "%%bash\n",
    "#total=0\n",
    "for i in {1..5}\n",
    "do\n",
    "    total=$((total + i))\n",
    "done\n",
    "echo -e \"Total = $total\""
   ]
  },
  {
   "cell_type": "markdown",
   "metadata": {},
   "source": [
    "**Calculating Cell Execution Time in Jupyter Notebook**\n",
    "\n",
    "    User Time: The amount of time the CPU spent running your code. This does not count anything else that might be running, and also does not count CPU time spent in the kernel (such as for file I/O).\n",
    "\n",
    "    Sys Time: The amount of time the CPU was busy executing code in kernel space. If this value is reported for a thread or process, then it represents the amount of time the kernel was doing work on behalf of the executing context, for example, after a thread issued a system call. \n",
    "    \n",
    "    Wall Time: The actual amount of time taken to perform a job. This is equivalent to timing your job with a stopwatch and the measured time to complete your task can be affected by anything else that the system happens to be doing at the time or if it is waiting for I/O to complete.\n",
    "       \n",
    "    The \"User time\" measurement is probably the most appropriate for measuring the performance of different jobs, since it will be least affected by other things happening on the system."
   ]
  },
  {
   "cell_type": "code",
   "execution_count": 10,
   "metadata": {},
   "outputs": [
    {
     "data": {
      "application/javascript": [
       "\n",
       "            setTimeout(function() {\n",
       "                var nbb_cell_id = 10;\n",
       "                var nbb_formatted_code = \"sq = []\\nfor x in range(100):\\n    sq.append(x ** 2)\";\n",
       "                var nbb_cells = Jupyter.notebook.get_cells();\n",
       "                for (var i = 0; i < nbb_cells.length; ++i) {\n",
       "                    if (nbb_cells[i].input_prompt_number == nbb_cell_id) {\n",
       "                        nbb_cells[i].set_text(nbb_formatted_code);\n",
       "                        break;\n",
       "                    }\n",
       "                }\n",
       "            }, 500);\n",
       "            "
      ],
      "text/plain": [
       "<IPython.core.display.Javascript object>"
      ]
     },
     "metadata": {},
     "output_type": "display_data"
    }
   ],
   "source": [
    "sq = []\n",
    "for x in range(100):\n",
    "    sq.append(x ** 2)"
   ]
  },
  {
   "cell_type": "code",
   "execution_count": 11,
   "metadata": {},
   "outputs": [
    {
     "name": "stdout",
     "output_type": "stream",
     "text": [
      "CPU times: user 43 µs, sys: 6 µs, total: 49 µs\n",
      "Wall time: 54.4 µs\n"
     ]
    },
    {
     "data": {
      "application/javascript": [
       "\n",
       "            setTimeout(function() {\n",
       "                var nbb_cell_id = 11;\n",
       "                var nbb_formatted_code = \"%%time\\nsq = []\\nfor x in range(100):\\n    sq.append(x**2)\";\n",
       "                var nbb_cells = Jupyter.notebook.get_cells();\n",
       "                for (var i = 0; i < nbb_cells.length; ++i) {\n",
       "                    if (nbb_cells[i].input_prompt_number == nbb_cell_id) {\n",
       "                        nbb_cells[i].set_text(nbb_formatted_code);\n",
       "                        break;\n",
       "                    }\n",
       "                }\n",
       "            }, 500);\n",
       "            "
      ],
      "text/plain": [
       "<IPython.core.display.Javascript object>"
      ]
     },
     "metadata": {},
     "output_type": "display_data"
    }
   ],
   "source": [
    "%%time\n",
    "sq = []\n",
    "for x in range(100):\n",
    "    sq.append(x**2)"
   ]
  },
  {
   "cell_type": "markdown",
   "metadata": {},
   "source": [
    "**To find the average time taken to execute the code**"
   ]
  },
  {
   "cell_type": "code",
   "execution_count": 12,
   "metadata": {},
   "outputs": [
    {
     "name": "stdout",
     "output_type": "stream",
     "text": [
      "32.2 µs ± 374 ns per loop (mean ± std. dev. of 7 runs, 10000 loops each)\n"
     ]
    },
    {
     "data": {
      "application/javascript": [
       "\n",
       "            setTimeout(function() {\n",
       "                var nbb_cell_id = 12;\n",
       "                var nbb_formatted_code = \"%%timeit\\nsq = []\\nfor x in range(100):\\n    sq.append(x**2)\";\n",
       "                var nbb_cells = Jupyter.notebook.get_cells();\n",
       "                for (var i = 0; i < nbb_cells.length; ++i) {\n",
       "                    if (nbb_cells[i].input_prompt_number == nbb_cell_id) {\n",
       "                        nbb_cells[i].set_text(nbb_formatted_code);\n",
       "                        break;\n",
       "                    }\n",
       "                }\n",
       "            }, 500);\n",
       "            "
      ],
      "text/plain": [
       "<IPython.core.display.Javascript object>"
      ]
     },
     "metadata": {},
     "output_type": "display_data"
    }
   ],
   "source": [
    "%%timeit\n",
    "sq = []\n",
    "for x in range(100):\n",
    "    sq.append(x**2)"
   ]
  },
  {
   "cell_type": "markdown",
   "metadata": {},
   "source": [
    "**To limit the number of loops**"
   ]
  },
  {
   "cell_type": "code",
   "execution_count": 13,
   "metadata": {},
   "outputs": [
    {
     "name": "stdout",
     "output_type": "stream",
     "text": [
      "33.2 µs ± 1.15 µs per loop (mean ± std. dev. of 7 runs, 100 loops each)\n"
     ]
    },
    {
     "data": {
      "application/javascript": [
       "\n",
       "            setTimeout(function() {\n",
       "                var nbb_cell_id = 13;\n",
       "                var nbb_formatted_code = \"%%timeit -n 100\\nsq = []\\nfor x in range(100):\\n    sq.append(x**2)\";\n",
       "                var nbb_cells = Jupyter.notebook.get_cells();\n",
       "                for (var i = 0; i < nbb_cells.length; ++i) {\n",
       "                    if (nbb_cells[i].input_prompt_number == nbb_cell_id) {\n",
       "                        nbb_cells[i].set_text(nbb_formatted_code);\n",
       "                        break;\n",
       "                    }\n",
       "                }\n",
       "            }, 500);\n",
       "            "
      ],
      "text/plain": [
       "<IPython.core.display.Javascript object>"
      ]
     },
     "metadata": {},
     "output_type": "display_data"
    }
   ],
   "source": [
    "%%timeit -n 100\n",
    "sq = []\n",
    "for x in range(100):\n",
    "    sq.append(x**2)"
   ]
  },
  {
   "cell_type": "markdown",
   "metadata": {},
   "source": [
    "**Progress bar in Jupyter Notebook**\n",
    "\n",
    "    !pip install tqdm"
   ]
  },
  {
   "cell_type": "code",
   "execution_count": 14,
   "metadata": {},
   "outputs": [
    {
     "data": {
      "application/vnd.jupyter.widget-view+json": {
       "model_id": "bc5f9fdbe4564b47ad4e0b777beea98d",
       "version_major": 2,
       "version_minor": 0
      },
      "text/plain": [
       "HBox(children=(IntProgress(value=0, max=10000000), HTML(value='')))"
      ]
     },
     "metadata": {},
     "output_type": "display_data"
    },
    {
     "name": "stdout",
     "output_type": "stream",
     "text": [
      "\n"
     ]
    },
    {
     "data": {
      "application/javascript": [
       "\n",
       "            setTimeout(function() {\n",
       "                var nbb_cell_id = 14;\n",
       "                var nbb_formatted_code = \"from tqdm.notebook import tqdm as tqdm\\n\\nfor x in tqdm(range(10000000)):\\n    pass\";\n",
       "                var nbb_cells = Jupyter.notebook.get_cells();\n",
       "                for (var i = 0; i < nbb_cells.length; ++i) {\n",
       "                    if (nbb_cells[i].input_prompt_number == nbb_cell_id) {\n",
       "                        nbb_cells[i].set_text(nbb_formatted_code);\n",
       "                        break;\n",
       "                    }\n",
       "                }\n",
       "            }, 500);\n",
       "            "
      ],
      "text/plain": [
       "<IPython.core.display.Javascript object>"
      ]
     },
     "metadata": {},
     "output_type": "display_data"
    }
   ],
   "source": [
    "from tqdm.notebook import tqdm as tqdm\n",
    "\n",
    "for x in tqdm(range(10000000)):\n",
    "    pass"
   ]
  },
  {
   "cell_type": "code",
   "execution_count": 15,
   "metadata": {
    "scrolled": true
   },
   "outputs": [
    {
     "data": {
      "application/vnd.jupyter.widget-view+json": {
       "model_id": "4328a532d1e44984b891ad36c9b126b1",
       "version_major": 2,
       "version_minor": 0
      },
      "text/plain": [
       "HBox(children=(IntProgress(value=0, max=10000000), HTML(value='')))"
      ]
     },
     "metadata": {},
     "output_type": "display_data"
    },
    {
     "name": "stdout",
     "output_type": "stream",
     "text": [
      "\n"
     ]
    },
    {
     "data": {
      "application/javascript": [
       "\n",
       "            setTimeout(function() {\n",
       "                var nbb_cell_id = 15;\n",
       "                var nbb_formatted_code = \"from tqdm.notebook import tqdm as tqdm\\n\\nfor x in tqdm(range(10000000)):\\n    pass\";\n",
       "                var nbb_cells = Jupyter.notebook.get_cells();\n",
       "                for (var i = 0; i < nbb_cells.length; ++i) {\n",
       "                    if (nbb_cells[i].input_prompt_number == nbb_cell_id) {\n",
       "                        nbb_cells[i].set_text(nbb_formatted_code);\n",
       "                        break;\n",
       "                    }\n",
       "                }\n",
       "            }, 500);\n",
       "            "
      ],
      "text/plain": [
       "<IPython.core.display.Javascript object>"
      ]
     },
     "metadata": {},
     "output_type": "display_data"
    }
   ],
   "source": [
    "from tqdm.notebook import tqdm as tqdm\n",
    "\n",
    "for x in tqdm(range(10000000)):\n",
    "    pass"
   ]
  },
  {
   "cell_type": "markdown",
   "metadata": {},
   "source": [
    "**Keyboard Inturrupt**\n",
    "\n",
    "    You can press I twice to interrupt the kernel.\n",
    "    This only works if you're in escape mode. If not already enabled, press Esc to enable it."
   ]
  },
  {
   "cell_type": "markdown",
   "metadata": {},
   "source": [
    "<div style=\"background-color: white; text-align: left; padding: 10px 10px 15px 15px\">\n",
    "<div class=\"section\" id=\"keyboard-shortcuts\">\n",
    "<span id=\"id1\"></span><h3>Keyboard shortcuts<a class=\"headerlink\" href=\"#keyboard-shortcuts\" title=\"Permalink to this headline\">¶</a></h3>\n",
    "<p>All actions in the notebook can be performed with the mouse, but keyboard\n",
    "shortcuts are also available for the most common ones. The essential shortcuts\n",
    "to remember are the following:</p>\n",
    "<ul>\n",
    "<li><dl class=\"first docutils\">\n",
    "<dt><tt class=\"kbd docutils literal\"><span class=\"pre\">Shift-Enter</span></tt>: run cell</dt>\n",
    "<dd><p class=\"first last\">Execute the current cell, show output (if any), and jump to the next cell\n",
    "below. If <tt class=\"kbd docutils literal\"><span class=\"pre\">Shift-Enter</span></tt> is invoked on the last cell, a new code\n",
    "cell will also be created. Note that in the notebook, typing <tt class=\"kbd docutils literal\"><span class=\"pre\">Enter</span></tt>\n",
    "on its own <em>never</em> forces execution, but rather just inserts a new line in\n",
    "the current cell. <tt class=\"kbd docutils literal\"><span class=\"pre\">Shift-Enter</span></tt> is equivalent to clicking the\n",
    "<tt class=\"docutils literal\"><span class=\"pre\">Cell</span> <span class=\"pre\">|</span> <span class=\"pre\">Run</span></tt> menu item.</p>\n",
    "</dd>\n",
    "</dl>\n",
    "</li>\n",
    "<li><dl class=\"first docutils\">\n",
    "<dt><tt class=\"kbd docutils literal\"><span class=\"pre\">Ctrl-Enter</span></tt>: run cell in-place</dt>\n",
    "<dd><p class=\"first last\">Execute the current cell as if it were in &#8220;terminal mode&#8221;, where any\n",
    "output is shown, but the cursor <em>remains</em> in the current cell. The cell&#8217;s\n",
    "entire contents are selected after execution, so you can just start typing\n",
    "and only the new input will be in the cell. This is convenient for doing\n",
    "quick experiments in place, or for querying things like filesystem\n",
    "content, without needing to create additional cells that you may not want\n",
    "to be saved in the notebook.</p>\n",
    "</dd>\n",
    "</dl>\n",
    "</li>\n",
    "<li><dl class=\"first docutils\">\n",
    "<dt><tt class=\"kbd docutils literal\"><span class=\"pre\">Alt-Enter</span></tt>: run cell, insert below</dt>\n",
    "<dd><p class=\"first last\">Executes the current cell, shows the output, and inserts a <em>new</em>\n",
    "cell between the current cell and the cell below (if one exists). This\n",
    "is thus a shortcut for the sequence <tt class=\"kbd docutils literal\"><span class=\"pre\">Shift-Enter</span></tt>, <tt class=\"kbd docutils literal\"><span class=\"pre\">Ctrl-m</span> <span class=\"pre\">a</span></tt>.\n",
    "(<tt class=\"kbd docutils literal\"><span class=\"pre\">Ctrl-m</span> <span class=\"pre\">a</span></tt> adds a new cell above the current one.)</p>\n",
    "</dd>\n",
    "</dl>\n",
    "</li>\n",
    "<li><p class=\"first\"><tt class=\"kbd docutils literal\"><span class=\"pre\">Ctrl-m</span></tt>:\n",
    "This is the prefix for <em>all</em> other shortcuts, which consist of <tt class=\"kbd docutils literal\"><span class=\"pre\">Ctrl-m</span></tt>\n",
    "followed by a single letter or character. For example, if you type\n",
    "<tt class=\"kbd docutils literal\"><span class=\"pre\">Ctrl-m</span> <span class=\"pre\">h</span></tt> (that is, the sole letter <tt class=\"kbd docutils literal\"><span class=\"pre\">h</span></tt> after <tt class=\"kbd docutils literal\"><span class=\"pre\">Ctrl-m</span></tt>),\n",
    "IPython will show you all the available keyboard shortcuts.</p>\n",
    "</li>\n",
    "</ul>\n",
    "<p>Here is the complete set of keyboard shortcuts available:</p>\n",
    "<table border=\"1\" class=\"docutils\">\n",
    "<colgroup>\n",
    "<col width=\"32%\" />\n",
    "<col width=\"68%\" />\n",
    "</colgroup>\n",
    "<tbody valign=\"top\">\n",
    "<tr class=\"row-odd\"><td><strong>Shortcut</strong></td>\n",
    "<td><strong>Action</strong></td>\n",
    "</tr>\n",
    "<tr class=\"row-even\"><td>Shift-Enter</td>\n",
    "<td>run cell</td>\n",
    "</tr>\n",
    "<tr class=\"row-odd\"><td>Ctrl-Enter</td>\n",
    "<td>run cell in-place</td>\n",
    "</tr>\n",
    "<tr class=\"row-even\"><td>Alt-Enter</td>\n",
    "<td>run cell, insert below</td>\n",
    "</tr>\n",
    "<tr class=\"row-odd\"><td>Ctrl-m x</td>\n",
    "<td>cut cell</td>\n",
    "</tr>\n",
    "<tr class=\"row-even\"><td>Ctrl-m c</td>\n",
    "<td>copy cell</td>\n",
    "</tr>\n",
    "<tr class=\"row-odd\"><td>Ctrl-m v</td>\n",
    "<td>paste cell</td>\n",
    "</tr>\n",
    "<tr class=\"row-even\"><td>Ctrl-m d</td>\n",
    "<td>delete cell</td>\n",
    "</tr>\n",
    "<tr class=\"row-odd\"><td>Ctrl-m z</td>\n",
    "<td>undo last cell deletion</td>\n",
    "</tr>\n",
    "<tr class=\"row-even\"><td>Ctrl-m -</td>\n",
    "<td>split cell</td>\n",
    "</tr>\n",
    "<tr class=\"row-odd\"><td>Ctrl-m a</td>\n",
    "<td>insert cell above</td>\n",
    "</tr>\n",
    "<tr class=\"row-even\"><td>Ctrl-m b</td>\n",
    "<td>insert cell below</td>\n",
    "</tr>\n",
    "<tr class=\"row-odd\"><td>Ctrl-m o</td>\n",
    "<td>toggle output</td>\n",
    "</tr>\n",
    "<tr class=\"row-even\"><td>Ctrl-m O</td>\n",
    "<td>toggle output scroll</td>\n",
    "</tr>\n",
    "<tr class=\"row-odd\"><td>Ctrl-m l</td>\n",
    "<td>toggle line numbers</td>\n",
    "</tr>\n",
    "<tr class=\"row-even\"><td>Ctrl-m s</td>\n",
    "<td>save notebook</td>\n",
    "</tr>\n",
    "<tr class=\"row-odd\"><td>Ctrl-m j</td>\n",
    "<td>move cell down</td>\n",
    "</tr>\n",
    "<tr class=\"row-even\"><td>Ctrl-m k</td>\n",
    "<td>move cell up</td>\n",
    "</tr>\n",
    "<tr class=\"row-odd\"><td>Ctrl-m y</td>\n",
    "<td>code cell</td>\n",
    "</tr>\n",
    "<tr class=\"row-even\"><td>Ctrl-m m</td>\n",
    "<td>markdown cell</td>\n",
    "</tr>\n",
    "<tr class=\"row-odd\"><td>Ctrl-m t</td>\n",
    "<td>raw cell</td>\n",
    "</tr>\n",
    "<tr class=\"row-even\"><td>Ctrl-m 1-6</td>\n",
    "<td>heading 1-6 cell</td>\n",
    "</tr>\n",
    "<tr class=\"row-odd\"><td>Ctrl-m p</td>\n",
    "<td>select previous</td>\n",
    "</tr>\n",
    "<tr class=\"row-even\"><td>Ctrl-m n</td>\n",
    "<td>select next</td>\n",
    "</tr>\n",
    "<tr class=\"row-odd\"><td>Ctrl-m i</td>\n",
    "<td>interrupt kernel</td>\n",
    "</tr>\n",
    "<tr class=\"row-even\"><td>Ctrl-m .</td>\n",
    "<td>restart kernel</td>\n",
    "</tr>\n",
    "<tr class=\"row-odd\"><td>Ctrl-m h</td>\n",
    "<td>show keyboard shortcuts</td>\n",
    "</tr>\n",
    "</tbody>\n",
    "</table>\n",
    "</div>\n",
    "</div>\n",
    "</div>"
   ]
  },
  {
   "cell_type": "markdown",
   "metadata": {},
   "source": [
    "**Running Code Formatter in Jupyter Notebook**\n",
    "\n",
    "    !pip install nb_black"
   ]
  },
  {
   "cell_type": "code",
   "execution_count": 16,
   "metadata": {},
   "outputs": [
    {
     "name": "stdout",
     "output_type": "stream",
     "text": [
      "The nb_black extension is already loaded. To reload it, use:\n",
      "  %reload_ext nb_black\n"
     ]
    },
    {
     "data": {
      "application/javascript": [
       "\n",
       "            setTimeout(function() {\n",
       "                var nbb_cell_id = 16;\n",
       "                var nbb_formatted_code = \"%load_ext nb_black\\n# or %reload_ext nb_black\";\n",
       "                var nbb_cells = Jupyter.notebook.get_cells();\n",
       "                for (var i = 0; i < nbb_cells.length; ++i) {\n",
       "                    if (nbb_cells[i].input_prompt_number == nbb_cell_id) {\n",
       "                        nbb_cells[i].set_text(nbb_formatted_code);\n",
       "                        break;\n",
       "                    }\n",
       "                }\n",
       "            }, 500);\n",
       "            "
      ],
      "text/plain": [
       "<IPython.core.display.Javascript object>"
      ]
     },
     "metadata": {},
     "output_type": "display_data"
    }
   ],
   "source": [
    "%load_ext nb_black\n",
    "# or %reload_ext nb_black"
   ]
  },
  {
   "cell_type": "code",
   "execution_count": 17,
   "metadata": {},
   "outputs": [
    {
     "data": {
      "application/javascript": [
       "\n",
       "            setTimeout(function() {\n",
       "                var nbb_cell_id = 17;\n",
       "                var nbb_formatted_code = \"# d = {\\\"a\\\": 1, \\\"b\\\": 2,\\n#'c': 'Casey}\\nd = {\\\"a\\\": 1, \\\"b\\\": 2, \\\"c\\\": \\\"Casey\\\"}\";\n",
       "                var nbb_cells = Jupyter.notebook.get_cells();\n",
       "                for (var i = 0; i < nbb_cells.length; ++i) {\n",
       "                    if (nbb_cells[i].input_prompt_number == nbb_cell_id) {\n",
       "                        nbb_cells[i].set_text(nbb_formatted_code);\n",
       "                        break;\n",
       "                    }\n",
       "                }\n",
       "            }, 500);\n",
       "            "
      ],
      "text/plain": [
       "<IPython.core.display.Javascript object>"
      ]
     },
     "metadata": {},
     "output_type": "display_data"
    }
   ],
   "source": [
    "# d = {\"a\": 1, \"b\": 2,\n",
    "#'c': 'Casey}\n",
    "d = {\"a\": 1, \"b\": 2, \"c\": \"Casey\"}"
   ]
  },
  {
   "cell_type": "code",
   "execution_count": null,
   "metadata": {},
   "outputs": [],
   "source": []
  }
 ],
 "metadata": {
  "kernelspec": {
   "display_name": "Python 3",
   "language": "python",
   "name": "python3"
  },
  "language_info": {
   "codemirror_mode": {
    "name": "ipython",
    "version": 3
   },
   "file_extension": ".py",
   "mimetype": "text/x-python",
   "name": "python",
   "nbconvert_exporter": "python",
   "pygments_lexer": "ipython3",
   "version": "3.7.5"
  }
 },
 "nbformat": 4,
 "nbformat_minor": 2
}
