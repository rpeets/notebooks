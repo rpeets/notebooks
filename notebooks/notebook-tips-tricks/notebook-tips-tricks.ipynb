{
 "cells": [
  {
   "cell_type": "markdown",
   "metadata": {},
   "source": [
    "**Jupyter Notebook Magic Commands**\n",
    "\n",
    "    Magics are specific to and provided by the IPython kernel. Whether Magics are available on a kernel is a decision that is made by the kernel developer on a per-kernel basis. To work properly, Magics must use a syntax element which is not valid in the underlying language. For example, the IPython kernel uses the % syntax element for Magics as % is not a valid unary operator in Python. However, % might have meaning in other languages.    \n",
    "    \n",
    "[Documentation](https://ipython.readthedocs.io/en/stable/interactive/magics.html)<br>"
   ]
  },
  {
   "cell_type": "code",
   "execution_count": 1,
   "metadata": {},
   "outputs": [
    {
     "data": {
      "application/json": {
       "cell": {
        "!": "OSMagics",
        "HTML": "Other",
        "SVG": "Other",
        "bash": "Other",
        "capture": "ExecutionMagics",
        "debug": "ExecutionMagics",
        "file": "Other",
        "html": "DisplayMagics",
        "javascript": "DisplayMagics",
        "js": "DisplayMagics",
        "latex": "DisplayMagics",
        "markdown": "DisplayMagics",
        "perl": "Other",
        "prun": "ExecutionMagics",
        "pypy": "Other",
        "python": "Other",
        "python2": "Other",
        "python3": "Other",
        "ruby": "Other",
        "script": "ScriptMagics",
        "sh": "Other",
        "svg": "DisplayMagics",
        "sx": "OSMagics",
        "system": "OSMagics",
        "time": "ExecutionMagics",
        "timeit": "ExecutionMagics",
        "writefile": "OSMagics"
       },
       "line": {
        "alias": "OSMagics",
        "alias_magic": "BasicMagics",
        "autoawait": "AsyncMagics",
        "autocall": "AutoMagics",
        "automagic": "AutoMagics",
        "autosave": "KernelMagics",
        "bookmark": "OSMagics",
        "cat": "Other",
        "cd": "OSMagics",
        "clear": "KernelMagics",
        "colors": "BasicMagics",
        "conda": "PackagingMagics",
        "config": "ConfigMagics",
        "connect_info": "KernelMagics",
        "cp": "Other",
        "debug": "ExecutionMagics",
        "dhist": "OSMagics",
        "dirs": "OSMagics",
        "doctest_mode": "BasicMagics",
        "ed": "Other",
        "edit": "KernelMagics",
        "env": "OSMagics",
        "gui": "BasicMagics",
        "hist": "Other",
        "history": "HistoryMagics",
        "killbgscripts": "ScriptMagics",
        "ldir": "Other",
        "less": "KernelMagics",
        "lf": "Other",
        "lk": "Other",
        "ll": "Other",
        "load": "CodeMagics",
        "load_ext": "ExtensionMagics",
        "loadpy": "CodeMagics",
        "logoff": "LoggingMagics",
        "logon": "LoggingMagics",
        "logstart": "LoggingMagics",
        "logstate": "LoggingMagics",
        "logstop": "LoggingMagics",
        "ls": "Other",
        "lsmagic": "BasicMagics",
        "lx": "Other",
        "macro": "ExecutionMagics",
        "magic": "BasicMagics",
        "man": "KernelMagics",
        "matplotlib": "PylabMagics",
        "mkdir": "Other",
        "more": "KernelMagics",
        "mv": "Other",
        "notebook": "BasicMagics",
        "page": "BasicMagics",
        "pastebin": "CodeMagics",
        "pdb": "ExecutionMagics",
        "pdef": "NamespaceMagics",
        "pdoc": "NamespaceMagics",
        "pfile": "NamespaceMagics",
        "pinfo": "NamespaceMagics",
        "pinfo2": "NamespaceMagics",
        "pip": "PackagingMagics",
        "popd": "OSMagics",
        "pprint": "BasicMagics",
        "precision": "BasicMagics",
        "prun": "ExecutionMagics",
        "psearch": "NamespaceMagics",
        "psource": "NamespaceMagics",
        "pushd": "OSMagics",
        "pwd": "OSMagics",
        "pycat": "OSMagics",
        "pylab": "PylabMagics",
        "qtconsole": "KernelMagics",
        "quickref": "BasicMagics",
        "recall": "HistoryMagics",
        "rehashx": "OSMagics",
        "reload_ext": "ExtensionMagics",
        "rep": "Other",
        "rerun": "HistoryMagics",
        "reset": "NamespaceMagics",
        "reset_selective": "NamespaceMagics",
        "rm": "Other",
        "rmdir": "Other",
        "run": "ExecutionMagics",
        "save": "CodeMagics",
        "sc": "OSMagics",
        "set_env": "OSMagics",
        "store": "StoreMagics",
        "sx": "OSMagics",
        "system": "OSMagics",
        "tb": "ExecutionMagics",
        "time": "ExecutionMagics",
        "timeit": "ExecutionMagics",
        "unalias": "OSMagics",
        "unload_ext": "ExtensionMagics",
        "who": "NamespaceMagics",
        "who_ls": "NamespaceMagics",
        "whos": "NamespaceMagics",
        "xdel": "NamespaceMagics",
        "xmode": "BasicMagics"
       }
      },
      "text/plain": [
       "Available line magics:\n",
       "%alias  %alias_magic  %autoawait  %autocall  %automagic  %autosave  %bookmark  %cat  %cd  %clear  %colors  %conda  %config  %connect_info  %cp  %debug  %dhist  %dirs  %doctest_mode  %ed  %edit  %env  %gui  %hist  %history  %killbgscripts  %ldir  %less  %lf  %lk  %ll  %load  %load_ext  %loadpy  %logoff  %logon  %logstart  %logstate  %logstop  %ls  %lsmagic  %lx  %macro  %magic  %man  %matplotlib  %mkdir  %more  %mv  %notebook  %page  %pastebin  %pdb  %pdef  %pdoc  %pfile  %pinfo  %pinfo2  %pip  %popd  %pprint  %precision  %prun  %psearch  %psource  %pushd  %pwd  %pycat  %pylab  %qtconsole  %quickref  %recall  %rehashx  %reload_ext  %rep  %rerun  %reset  %reset_selective  %rm  %rmdir  %run  %save  %sc  %set_env  %store  %sx  %system  %tb  %time  %timeit  %unalias  %unload_ext  %who  %who_ls  %whos  %xdel  %xmode\n",
       "\n",
       "Available cell magics:\n",
       "%%!  %%HTML  %%SVG  %%bash  %%capture  %%debug  %%file  %%html  %%javascript  %%js  %%latex  %%markdown  %%perl  %%prun  %%pypy  %%python  %%python2  %%python3  %%ruby  %%script  %%sh  %%svg  %%sx  %%system  %%time  %%timeit  %%writefile\n",
       "\n",
       "Automagic is ON, % prefix IS NOT needed for line magics."
      ]
     },
     "execution_count": 1,
     "metadata": {},
     "output_type": "execute_result"
    }
   ],
   "source": [
    "%lsmagic"
   ]
  },
  {
   "cell_type": "markdown",
   "metadata": {},
   "source": [
    "**Cell Magic**\n",
    "\n",
    "    Cell Magics are applicable to a complete cell"
   ]
  },
  {
   "cell_type": "code",
   "execution_count": 2,
   "metadata": {},
   "outputs": [
    {
     "name": "stdout",
     "output_type": "stream",
     "text": [
      "Hello World\n"
     ]
    }
   ],
   "source": [
    "%%bash\n",
    "echo -e \"Hello World\""
   ]
  },
  {
   "cell_type": "code",
   "execution_count": 3,
   "metadata": {},
   "outputs": [
    {
     "data": {
      "application/javascript": [
       "alert(\"hello\")\n"
      ],
      "text/plain": [
       "<IPython.core.display.Javascript object>"
      ]
     },
     "metadata": {},
     "output_type": "display_data"
    }
   ],
   "source": [
    "%%js\n",
    "alert(\"hello\")"
   ]
  },
  {
   "cell_type": "code",
   "execution_count": 4,
   "metadata": {},
   "outputs": [
    {
     "data": {
      "application/javascript": [
       "var a = 1\n",
       "var b = 2\n",
       "var c = a + b\n",
       "element.text(c)\n"
      ],
      "text/plain": [
       "<IPython.core.display.Javascript object>"
      ]
     },
     "metadata": {},
     "output_type": "display_data"
    }
   ],
   "source": [
    "%%js\n",
    "var a = 1\n",
    "var b = 2\n",
    "var c = a + b\n",
    "element.text(c)"
   ]
  },
  {
   "cell_type": "markdown",
   "metadata": {},
   "source": [
    "**Line Magic**\n",
    "\n",
    "    Line Magics are applicable only on a single line."
   ]
  },
  {
   "cell_type": "code",
   "execution_count": 5,
   "metadata": {},
   "outputs": [
    {
     "name": "stdout",
     "output_type": "stream",
     "text": [
      "total 0\r\n",
      "drwxr-xr-x   2 root root  0 Nov 25 16:59 \u001b[0m\u001b[01;34mblock\u001b[0m/\r\n",
      "drwxr-xr-x  40 root root  0 Nov 25 16:59 \u001b[01;34mbus\u001b[0m/\r\n",
      "drwxr-xr-x  63 root root  0 Nov 25 16:59 \u001b[01;34mclass\u001b[0m/\r\n",
      "drwxr-xr-x   4 root root  0 Nov 25 16:59 \u001b[01;34mdev\u001b[0m/\r\n",
      "drwxr-xr-x  17 root root  0 Nov 25 16:59 \u001b[01;34mdevices\u001b[0m/\r\n",
      "drwxrwxrwt   2 root root 40 Nov 25 17:27 \u001b[30;42mfirmware\u001b[0m/\r\n",
      "drwxr-xr-x  11 root root  0 Nov 25 16:59 \u001b[01;34mfs\u001b[0m/\r\n",
      "drwxr-xr-x   2 root root  0 Nov 25 16:59 \u001b[01;34mhypervisor\u001b[0m/\r\n",
      "drwxr-xr-x  15 root root  0 Nov 25 16:59 \u001b[01;34mkernel\u001b[0m/\r\n",
      "drwxr-xr-x 196 root root  0 Nov 25 16:59 \u001b[01;34mmodule\u001b[0m/\r\n",
      "drwxr-xr-x   2 root root  0 Nov 25 16:59 \u001b[01;34mpower\u001b[0m/\r\n"
     ]
    }
   ],
   "source": [
    "%ls -l /sys"
   ]
  },
  {
   "cell_type": "markdown",
   "metadata": {},
   "source": [
    "**Running any Shell Commands in Jupyter Notebook**"
   ]
  },
  {
   "cell_type": "code",
   "execution_count": 6,
   "metadata": {},
   "outputs": [
    {
     "name": "stdout",
     "output_type": "stream",
     "text": [
      "hello world!\r\n"
     ]
    }
   ],
   "source": [
    "!echo \"hello world!\""
   ]
  },
  {
   "cell_type": "code",
   "execution_count": 7,
   "metadata": {},
   "outputs": [
    {
     "name": "stdout",
     "output_type": "stream",
     "text": [
      "Requirement already satisfied: requests in /usr/local/lib/python3.7/site-packages (2.22.0)\n",
      "Requirement already satisfied: idna<2.9,>=2.5 in /usr/local/lib/python3.7/site-packages (from requests) (2.8)\n",
      "Requirement already satisfied: urllib3!=1.25.0,!=1.25.1,<1.26,>=1.21.1 in /usr/local/lib/python3.7/site-packages (from requests) (1.25.7)\n",
      "Requirement already satisfied: chardet<3.1.0,>=3.0.2 in /usr/local/lib/python3.7/site-packages (from requests) (3.0.4)\n",
      "Requirement already satisfied: certifi>=2017.4.17 in /usr/local/lib/python3.7/site-packages (from requests) (2019.9.11)\n"
     ]
    }
   ],
   "source": [
    "!pip install requests"
   ]
  },
  {
   "cell_type": "markdown",
   "metadata": {},
   "source": [
    "**Running Shell Scripts in Jupyter Notebook**"
   ]
  },
  {
   "cell_type": "code",
   "execution_count": 8,
   "metadata": {},
   "outputs": [
    {
     "name": "stdout",
     "output_type": "stream",
     "text": [
      "Total = 15\n"
     ]
    }
   ],
   "source": [
    "%%bash\n",
    "#total=0\n",
    "for i in {1..5}\n",
    "do\n",
    "    total=$((total + i))\n",
    "done\n",
    "echo -e \"Total = $total\""
   ]
  },
  {
   "cell_type": "markdown",
   "metadata": {},
   "source": [
    "**Calculating Cell Execution Time in Jupyter Notebook**\n",
    "\n",
    "    User Time: The amount of time the CPU spent running your code. This does not count anything else that might be running, and also does not count CPU time spent in the kernel (such as for file I/O).\n",
    "\n",
    "    Sys Time: The amount of time the CPU was busy executing code in kernel space. If this value is reported for a thread or process, then it represents the amount of time the kernel was doing work on behalf of the executing context, for example, after a thread issued a system call. \n",
    "    \n",
    "    Wall Time: The actual amount of time taken to perform a job. This is equivalent to timing your job with a stopwatch and the measured time to complete your task can be affected by anything else that the system happens to be doing at the time or if it is waiting for I/O to complete.\n",
    "       \n",
    "    The \"User time\" measurement is probably the most appropriate for measuring the performance of different jobs, since it will be least affected by other things happening on the system."
   ]
  },
  {
   "cell_type": "code",
   "execution_count": 9,
   "metadata": {},
   "outputs": [],
   "source": [
    "sq = []\n",
    "for x in range(100):\n",
    "    sq.append(x ** 2)"
   ]
  },
  {
   "cell_type": "code",
   "execution_count": 10,
   "metadata": {},
   "outputs": [
    {
     "name": "stdout",
     "output_type": "stream",
     "text": [
      "CPU times: user 48 µs, sys: 11 µs, total: 59 µs\n",
      "Wall time: 62.5 µs\n"
     ]
    }
   ],
   "source": [
    "%%time\n",
    "sq = []\n",
    "for x in range(100):\n",
    "    sq.append(x**2)"
   ]
  },
  {
   "cell_type": "markdown",
   "metadata": {},
   "source": [
    "**To find the average time taken to execute the code**"
   ]
  },
  {
   "cell_type": "code",
   "execution_count": 11,
   "metadata": {},
   "outputs": [
    {
     "name": "stdout",
     "output_type": "stream",
     "text": [
      "35.7 µs ± 1.16 µs per loop (mean ± std. dev. of 7 runs, 10000 loops each)\n"
     ]
    }
   ],
   "source": [
    "%%timeit\n",
    "sq = []\n",
    "for x in range(100):\n",
    "    sq.append(x**2)"
   ]
  },
  {
   "cell_type": "markdown",
   "metadata": {},
   "source": [
    "**To limit the number of loops**"
   ]
  },
  {
   "cell_type": "code",
   "execution_count": 12,
   "metadata": {},
   "outputs": [
    {
     "name": "stdout",
     "output_type": "stream",
     "text": [
      "59.4 µs ± 4.18 µs per loop (mean ± std. dev. of 7 runs, 100 loops each)\n"
     ]
    }
   ],
   "source": [
    "%%timeit -n 100\n",
    "sq = []\n",
    "for x in range(100):\n",
    "    sq.append(x**2)"
   ]
  },
  {
   "cell_type": "markdown",
   "metadata": {},
   "source": [
    "**Progress bar in Jupyter Notebook**\n",
    "\n",
    "    !pip install tqdm"
   ]
  },
  {
   "cell_type": "code",
   "execution_count": 14,
   "metadata": {},
   "outputs": [
    {
     "name": "stdout",
     "output_type": "stream",
     "text": [
      "Collecting tqdm\n",
      "\u001b[?25l  Downloading https://files.pythonhosted.org/packages/bb/62/6f823501b3bf2bac242bd3c320b592ad1516b3081d82c77c1d813f076856/tqdm-4.39.0-py2.py3-none-any.whl (53kB)\n",
      "\u001b[K     |████████████████████████████████| 61kB 2.9MB/s eta 0:00:011\n",
      "\u001b[?25hInstalling collected packages: tqdm\n",
      "Successfully installed tqdm-4.39.0\n"
     ]
    }
   ],
   "source": [
    "!pip install tqdm"
   ]
  },
  {
   "cell_type": "code",
   "execution_count": 15,
   "metadata": {},
   "outputs": [
    {
     "data": {
      "application/vnd.jupyter.widget-view+json": {
       "model_id": "f89c2e519f5d46d094a3ef613d1a82a8",
       "version_major": 2,
       "version_minor": 0
      },
      "text/plain": [
       "HBox(children=(IntProgress(value=0, max=10000000), HTML(value='')))"
      ]
     },
     "metadata": {},
     "output_type": "display_data"
    },
    {
     "name": "stdout",
     "output_type": "stream",
     "text": [
      "\n"
     ]
    }
   ],
   "source": [
    "from tqdm.notebook import tqdm as tqdm\n",
    "\n",
    "for x in tqdm(range(10000000)):\n",
    "    pass"
   ]
  },
  {
   "cell_type": "code",
   "execution_count": 16,
   "metadata": {
    "scrolled": true
   },
   "outputs": [
    {
     "data": {
      "application/vnd.jupyter.widget-view+json": {
       "model_id": "6e3f007a4d964bdc86ff60fd259c066f",
       "version_major": 2,
       "version_minor": 0
      },
      "text/plain": [
       "HBox(children=(IntProgress(value=0, max=10000000), HTML(value='')))"
      ]
     },
     "metadata": {},
     "output_type": "display_data"
    },
    {
     "name": "stdout",
     "output_type": "stream",
     "text": [
      "\n"
     ]
    }
   ],
   "source": [
    "from tqdm.notebook import tqdm as tqdm\n",
    "\n",
    "for x in tqdm(range(10000000)):\n",
    "    pass"
   ]
  },
  {
   "cell_type": "markdown",
   "metadata": {},
   "source": [
    "**Keyboard Inturrupt**\n",
    "\n",
    "    You can press I twice to interrupt the kernel.\n",
    "    This only works if you're in escape mode. If not already enabled, press Esc to enable it."
   ]
  },
  {
   "cell_type": "markdown",
   "metadata": {},
   "source": [
    "<div style=\"background-color: white; text-align: left; padding: 10px 10px 15px 15px\">\n",
    "<div class=\"section\" id=\"keyboard-shortcuts\">\n",
    "<span id=\"id1\"></span><h3>Keyboard shortcuts<a class=\"headerlink\" href=\"#keyboard-shortcuts\" title=\"Permalink to this headline\">¶</a></h3>\n",
    "<p>All actions in the notebook can be performed with the mouse, but keyboard\n",
    "shortcuts are also available for the most common ones. The essential shortcuts\n",
    "to remember are the following:</p>\n",
    "<ul>\n",
    "<li><dl class=\"first docutils\">\n",
    "<dt><tt class=\"kbd docutils literal\"><span class=\"pre\">Shift-Enter</span></tt>: run cell</dt>\n",
    "<dd><p class=\"first last\">Execute the current cell, show output (if any), and jump to the next cell\n",
    "below. If <tt class=\"kbd docutils literal\"><span class=\"pre\">Shift-Enter</span></tt> is invoked on the last cell, a new code\n",
    "cell will also be created. Note that in the notebook, typing <tt class=\"kbd docutils literal\"><span class=\"pre\">Enter</span></tt>\n",
    "on its own <em>never</em> forces execution, but rather just inserts a new line in\n",
    "the current cell. <tt class=\"kbd docutils literal\"><span class=\"pre\">Shift-Enter</span></tt> is equivalent to clicking the\n",
    "<tt class=\"docutils literal\"><span class=\"pre\">Cell</span> <span class=\"pre\">|</span> <span class=\"pre\">Run</span></tt> menu item.</p>\n",
    "</dd>\n",
    "</dl>\n",
    "</li>\n",
    "<li><dl class=\"first docutils\">\n",
    "<dt><tt class=\"kbd docutils literal\"><span class=\"pre\">Ctrl-Enter</span></tt>: run cell in-place</dt>\n",
    "<dd><p class=\"first last\">Execute the current cell as if it were in &#8220;terminal mode&#8221;, where any\n",
    "output is shown, but the cursor <em>remains</em> in the current cell. The cell&#8217;s\n",
    "entire contents are selected after execution, so you can just start typing\n",
    "and only the new input will be in the cell. This is convenient for doing\n",
    "quick experiments in place, or for querying things like filesystem\n",
    "content, without needing to create additional cells that you may not want\n",
    "to be saved in the notebook.</p>\n",
    "</dd>\n",
    "</dl>\n",
    "</li>\n",
    "<li><dl class=\"first docutils\">\n",
    "<dt><tt class=\"kbd docutils literal\"><span class=\"pre\">Alt-Enter</span></tt>: run cell, insert below</dt>\n",
    "<dd><p class=\"first last\">Executes the current cell, shows the output, and inserts a <em>new</em>\n",
    "cell between the current cell and the cell below (if one exists). This\n",
    "is thus a shortcut for the sequence <tt class=\"kbd docutils literal\"><span class=\"pre\">Shift-Enter</span></tt>, <tt class=\"kbd docutils literal\"><span class=\"pre\">Ctrl-m</span> <span class=\"pre\">a</span></tt>.\n",
    "(<tt class=\"kbd docutils literal\"><span class=\"pre\">Ctrl-m</span> <span class=\"pre\">a</span></tt> adds a new cell above the current one.)</p>\n",
    "</dd>\n",
    "</dl>\n",
    "</li>\n",
    "<li><p class=\"first\"><tt class=\"kbd docutils literal\"><span class=\"pre\">Ctrl-m</span></tt>:\n",
    "This is the prefix for <em>all</em> other shortcuts, which consist of <tt class=\"kbd docutils literal\"><span class=\"pre\">Ctrl-m</span></tt>\n",
    "followed by a single letter or character. For example, if you type\n",
    "<tt class=\"kbd docutils literal\"><span class=\"pre\">Ctrl-m</span> <span class=\"pre\">h</span></tt> (that is, the sole letter <tt class=\"kbd docutils literal\"><span class=\"pre\">h</span></tt> after <tt class=\"kbd docutils literal\"><span class=\"pre\">Ctrl-m</span></tt>),\n",
    "IPython will show you all the available keyboard shortcuts.</p>\n",
    "</li>\n",
    "</ul>\n",
    "<p>Here is the complete set of keyboard shortcuts available:</p>\n",
    "<table border=\"1\" class=\"docutils\">\n",
    "<colgroup>\n",
    "<col width=\"32%\" />\n",
    "<col width=\"68%\" />\n",
    "</colgroup>\n",
    "<tbody valign=\"top\">\n",
    "<tr class=\"row-odd\"><td><strong>Shortcut</strong></td>\n",
    "<td><strong>Action</strong></td>\n",
    "</tr>\n",
    "<tr class=\"row-even\"><td>Shift-Enter</td>\n",
    "<td>run cell</td>\n",
    "</tr>\n",
    "<tr class=\"row-odd\"><td>Ctrl-Enter</td>\n",
    "<td>run cell in-place</td>\n",
    "</tr>\n",
    "<tr class=\"row-even\"><td>Alt-Enter</td>\n",
    "<td>run cell, insert below</td>\n",
    "</tr>\n",
    "<tr class=\"row-odd\"><td>Ctrl-m x</td>\n",
    "<td>cut cell</td>\n",
    "</tr>\n",
    "<tr class=\"row-even\"><td>Ctrl-m c</td>\n",
    "<td>copy cell</td>\n",
    "</tr>\n",
    "<tr class=\"row-odd\"><td>Ctrl-m v</td>\n",
    "<td>paste cell</td>\n",
    "</tr>\n",
    "<tr class=\"row-even\"><td>Ctrl-m d</td>\n",
    "<td>delete cell</td>\n",
    "</tr>\n",
    "<tr class=\"row-odd\"><td>Ctrl-m z</td>\n",
    "<td>undo last cell deletion</td>\n",
    "</tr>\n",
    "<tr class=\"row-even\"><td>Ctrl-m -</td>\n",
    "<td>split cell</td>\n",
    "</tr>\n",
    "<tr class=\"row-odd\"><td>Ctrl-m a</td>\n",
    "<td>insert cell above</td>\n",
    "</tr>\n",
    "<tr class=\"row-even\"><td>Ctrl-m b</td>\n",
    "<td>insert cell below</td>\n",
    "</tr>\n",
    "<tr class=\"row-odd\"><td>Ctrl-m o</td>\n",
    "<td>toggle output</td>\n",
    "</tr>\n",
    "<tr class=\"row-even\"><td>Ctrl-m O</td>\n",
    "<td>toggle output scroll</td>\n",
    "</tr>\n",
    "<tr class=\"row-odd\"><td>Ctrl-m l</td>\n",
    "<td>toggle line numbers</td>\n",
    "</tr>\n",
    "<tr class=\"row-even\"><td>Ctrl-m s</td>\n",
    "<td>save notebook</td>\n",
    "</tr>\n",
    "<tr class=\"row-odd\"><td>Ctrl-m j</td>\n",
    "<td>move cell down</td>\n",
    "</tr>\n",
    "<tr class=\"row-even\"><td>Ctrl-m k</td>\n",
    "<td>move cell up</td>\n",
    "</tr>\n",
    "<tr class=\"row-odd\"><td>Ctrl-m y</td>\n",
    "<td>code cell</td>\n",
    "</tr>\n",
    "<tr class=\"row-even\"><td>Ctrl-m m</td>\n",
    "<td>markdown cell</td>\n",
    "</tr>\n",
    "<tr class=\"row-odd\"><td>Ctrl-m t</td>\n",
    "<td>raw cell</td>\n",
    "</tr>\n",
    "<tr class=\"row-even\"><td>Ctrl-m 1-6</td>\n",
    "<td>heading 1-6 cell</td>\n",
    "</tr>\n",
    "<tr class=\"row-odd\"><td>Ctrl-m p</td>\n",
    "<td>select previous</td>\n",
    "</tr>\n",
    "<tr class=\"row-even\"><td>Ctrl-m n</td>\n",
    "<td>select next</td>\n",
    "</tr>\n",
    "<tr class=\"row-odd\"><td>Ctrl-m i</td>\n",
    "<td>interrupt kernel</td>\n",
    "</tr>\n",
    "<tr class=\"row-even\"><td>Ctrl-m .</td>\n",
    "<td>restart kernel</td>\n",
    "</tr>\n",
    "<tr class=\"row-odd\"><td>Ctrl-m h</td>\n",
    "<td>show keyboard shortcuts</td>\n",
    "</tr>\n",
    "</tbody>\n",
    "</table>\n",
    "</div>\n",
    "</div>\n",
    "</div>"
   ]
  },
  {
   "cell_type": "markdown",
   "metadata": {},
   "source": [
    "**Running Code Formatter in Jupyter Notebook**\n",
    "\n",
    "    !pip install nb_black"
   ]
  },
  {
   "cell_type": "code",
   "execution_count": 18,
   "metadata": {
    "scrolled": true
   },
   "outputs": [
    {
     "name": "stdout",
     "output_type": "stream",
     "text": [
      "Collecting nb_black\n",
      "  Downloading https://files.pythonhosted.org/packages/b2/6a/c6c3971b03897166de40480f6f13e94a091881efb23656db9b29927f8d3b/nb_black-1.0.6.tar.gz\n",
      "Requirement already satisfied: ipython in /usr/local/lib/python3.7/site-packages (from nb_black) (7.9.0)\n",
      "Collecting black>='19.3'\n",
      "\u001b[?25l  Downloading https://files.pythonhosted.org/packages/fd/bb/ad34bbc93d1bea3de086d7c59e528d4a503ac8fe318bd1fa48605584c3d2/black-19.10b0-py36-none-any.whl (97kB)\n",
      "\u001b[K     |████████████████████████████████| 102kB 3.5MB/s ta 0:00:011\n",
      "\u001b[?25hRequirement already satisfied: backcall in /usr/local/lib/python3.7/site-packages (from ipython->nb_black) (0.1.0)\n",
      "Requirement already satisfied: jedi>=0.10 in /usr/local/lib/python3.7/site-packages (from ipython->nb_black) (0.15.1)\n",
      "Requirement already satisfied: traitlets>=4.2 in /usr/local/lib/python3.7/site-packages (from ipython->nb_black) (4.3.3)\n",
      "Requirement already satisfied: prompt-toolkit<2.1.0,>=2.0.0 in /usr/local/lib/python3.7/site-packages (from ipython->nb_black) (2.0.10)\n",
      "Requirement already satisfied: pygments in /usr/local/lib/python3.7/site-packages (from ipython->nb_black) (2.4.2)\n",
      "Requirement already satisfied: decorator in /usr/local/lib/python3.7/site-packages (from ipython->nb_black) (4.4.1)\n",
      "Requirement already satisfied: pexpect; sys_platform != \"win32\" in /usr/local/lib/python3.7/site-packages (from ipython->nb_black) (4.7.0)\n",
      "Requirement already satisfied: setuptools>=18.5 in /usr/local/lib/python3.7/site-packages (from ipython->nb_black) (41.6.0)\n",
      "Requirement already satisfied: pickleshare in /usr/local/lib/python3.7/site-packages (from ipython->nb_black) (0.7.5)\n",
      "Requirement already satisfied: click>=6.5 in /usr/local/lib/python3.7/site-packages (from black>='19.3'->nb_black) (7.0)\n",
      "Collecting pathspec<1,>=0.6\n",
      "  Downloading https://files.pythonhosted.org/packages/7a/68/5902e8cd7f7b17c5879982a3a3ee2ad0c3b92b80c79989a2d3e1ca8d29e1/pathspec-0.6.0.tar.gz\n",
      "Collecting appdirs\n",
      "  Downloading https://files.pythonhosted.org/packages/56/eb/810e700ed1349edde4cbdc1b2a21e28cdf115f9faf263f6bbf8447c1abf3/appdirs-1.4.3-py2.py3-none-any.whl\n",
      "Collecting typed-ast>=1.4.0\n",
      "\u001b[?25l  Downloading https://files.pythonhosted.org/packages/fb/56/dd4e168a0009da85c78c6cfe91f5b2df2c7bbed60f3ba778c4a71289e6fb/typed_ast-1.4.0-cp37-cp37m-manylinux1_x86_64.whl (736kB)\n",
      "\u001b[K     |████████████████████████████████| 737kB 15.8MB/s eta 0:00:01\n",
      "\u001b[?25hCollecting regex\n",
      "\u001b[?25l  Downloading https://files.pythonhosted.org/packages/fc/1d/13cc7d174cd2d05808abac3f5fb37433e30c4cd93b152d2a9c09c926d7e8/regex-2019.11.1.tar.gz (669kB)\n",
      "\u001b[K     |████████████████████████████████| 675kB 17.6MB/s eta 0:00:01\n",
      "\u001b[?25hRequirement already satisfied: attrs>=18.1.0 in /usr/local/lib/python3.7/site-packages (from black>='19.3'->nb_black) (19.3.0)\n",
      "Collecting toml>=0.9.4\n",
      "  Downloading https://files.pythonhosted.org/packages/a2/12/ced7105d2de62fa7c8fb5fce92cc4ce66b57c95fb875e9318dba7f8c5db0/toml-0.10.0-py2.py3-none-any.whl\n",
      "Requirement already satisfied: parso>=0.5.0 in /usr/local/lib/python3.7/site-packages (from jedi>=0.10->ipython->nb_black) (0.5.1)\n",
      "Requirement already satisfied: ipython-genutils in /usr/local/lib/python3.7/site-packages (from traitlets>=4.2->ipython->nb_black) (0.2.0)\n",
      "Requirement already satisfied: six in /usr/local/lib/python3.7/site-packages (from traitlets>=4.2->ipython->nb_black) (1.13.0)\n",
      "Requirement already satisfied: wcwidth in /usr/local/lib/python3.7/site-packages (from prompt-toolkit<2.1.0,>=2.0.0->ipython->nb_black) (0.1.7)\n",
      "Requirement already satisfied: ptyprocess>=0.5 in /usr/local/lib/python3.7/site-packages (from pexpect; sys_platform != \"win32\"->ipython->nb_black) (0.6.0)\n",
      "Building wheels for collected packages: nb-black, pathspec, regex\n",
      "  Building wheel for nb-black (setup.py) ... \u001b[?25ldone\n",
      "\u001b[?25h  Created wheel for nb-black: filename=nb_black-1.0.6-cp37-none-any.whl size=5190 sha256=2107ec219b67ea389a415fd139a457c748a807ed90f3841b654a604b11b2ec3a\n",
      "  Stored in directory: /root/.cache/pip/wheels/c0/36/10/842aa00300bf3562aa4b10d4a4cd529b2ae697d458eeb1dc6a\n",
      "  Building wheel for pathspec (setup.py) ... \u001b[?25ldone\n",
      "\u001b[?25h  Created wheel for pathspec: filename=pathspec-0.6.0-cp37-none-any.whl size=26671 sha256=ce87bf83709a9dc0aa4fdc58b603029dd1118b61c7ea98d736b3aa788250f342\n",
      "  Stored in directory: /root/.cache/pip/wheels/62/b8/e1/e2719465b5947c40cd85d613d6cb33449b86a1ca5a6c574269\n",
      "  Building wheel for regex (setup.py) ... \u001b[?25ldone\n",
      "\u001b[?25h  Created wheel for regex: filename=regex-2019.11.1-cp37-cp37m-linux_x86_64.whl size=609002 sha256=5b3c84b4eec3b705ddfa38ca42ed9caa4f50f8e89054a6982a6cd4ca26e2d946\n",
      "  Stored in directory: /root/.cache/pip/wheels/5c/c6/c1/0bc8d16ea38c44536a82dd1bec665996e5af37489fa88826b6\n",
      "Successfully built nb-black pathspec regex\n",
      "Installing collected packages: pathspec, appdirs, typed-ast, regex, toml, black, nb-black\n",
      "Successfully installed appdirs-1.4.3 black-19.10b0 nb-black-1.0.6 pathspec-0.6.0 regex-2019.11.1 toml-0.10.0 typed-ast-1.4.0\n"
     ]
    }
   ],
   "source": [
    "!pip install nb_black"
   ]
  },
  {
   "cell_type": "code",
   "execution_count": 19,
   "metadata": {},
   "outputs": [
    {
     "data": {
      "application/javascript": [
       "\n",
       "            setTimeout(function() {\n",
       "                var nbb_cell_id = 19;\n",
       "                var nbb_formatted_code = \"%load_ext nb_black\\n# or %reload_ext nb_black\";\n",
       "                var nbb_cells = Jupyter.notebook.get_cells();\n",
       "                for (var i = 0; i < nbb_cells.length; ++i) {\n",
       "                    if (nbb_cells[i].input_prompt_number == nbb_cell_id) {\n",
       "                        nbb_cells[i].set_text(nbb_formatted_code);\n",
       "                        break;\n",
       "                    }\n",
       "                }\n",
       "            }, 500);\n",
       "            "
      ],
      "text/plain": [
       "<IPython.core.display.Javascript object>"
      ]
     },
     "metadata": {},
     "output_type": "display_data"
    }
   ],
   "source": [
    "%load_ext nb_black\n",
    "# or %reload_ext nb_black"
   ]
  },
  {
   "cell_type": "code",
   "execution_count": 20,
   "metadata": {},
   "outputs": [
    {
     "data": {
      "application/javascript": [
       "\n",
       "            setTimeout(function() {\n",
       "                var nbb_cell_id = 20;\n",
       "                var nbb_formatted_code = \"# d = {\\\"a\\\": 1, \\\"b\\\": 2,\\n#'c': 'Casey}\\nd = {\\\"a\\\": 1, \\\"b\\\": 2, \\\"c\\\": \\\"Casey\\\"}\";\n",
       "                var nbb_cells = Jupyter.notebook.get_cells();\n",
       "                for (var i = 0; i < nbb_cells.length; ++i) {\n",
       "                    if (nbb_cells[i].input_prompt_number == nbb_cell_id) {\n",
       "                        nbb_cells[i].set_text(nbb_formatted_code);\n",
       "                        break;\n",
       "                    }\n",
       "                }\n",
       "            }, 500);\n",
       "            "
      ],
      "text/plain": [
       "<IPython.core.display.Javascript object>"
      ]
     },
     "metadata": {},
     "output_type": "display_data"
    }
   ],
   "source": [
    "# d = {\"a\": 1, \"b\": 2,\n",
    "#'c': 'Casey}\n",
    "d = {\"a\": 1, \"b\": 2, \"c\": \"Casey\"}"
   ]
  },
  {
   "cell_type": "code",
   "execution_count": null,
   "metadata": {},
   "outputs": [],
   "source": []
  }
 ],
 "metadata": {
  "kernelspec": {
   "display_name": "Python 3",
   "language": "python",
   "name": "python3"
  },
  "language_info": {
   "codemirror_mode": {
    "name": "ipython",
    "version": 3
   },
   "file_extension": ".py",
   "mimetype": "text/x-python",
   "name": "python",
   "nbconvert_exporter": "python",
   "pygments_lexer": "ipython3",
   "version": "3.7.5"
  }
 },
 "nbformat": 4,
 "nbformat_minor": 2
}
