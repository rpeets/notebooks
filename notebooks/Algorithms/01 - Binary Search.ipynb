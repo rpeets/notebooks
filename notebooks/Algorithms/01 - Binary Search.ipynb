{
 "cells": [
  {
   "cell_type": "markdown",
   "id": "4214dfc5",
   "metadata": {},
   "source": [
    "### Youtube\n",
    "https://www.youtube.com/watch?v=zeULw-a7Mw8"
   ]
  },
  {
   "cell_type": "code",
   "execution_count": null,
   "id": "c739a15b",
   "metadata": {},
   "outputs": [],
   "source": []
  }
 ],
 "metadata": {
  "kernelspec": {
   "display_name": "Python 3",
   "language": "python",
   "name": "python3"
  },
  "language_info": {
   "codemirror_mode": {
    "name": "ipython",
    "version": 3
   },
   "file_extension": ".py",
   "mimetype": "text/x-python",
   "name": "python",
   "nbconvert_exporter": "python",
   "pygments_lexer": "ipython3",
   "version": "3.8.8"
  }
 },
 "nbformat": 4,
 "nbformat_minor": 5
}
