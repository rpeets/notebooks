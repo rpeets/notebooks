{
 "cells": [
  {
   "cell_type": "code",
   "execution_count": 11,
   "id": "2c358c25",
   "metadata": {},
   "outputs": [
    {
     "name": "stdout",
     "output_type": "stream",
     "text": [
      "[1, 2, 2, 2, 3, 4, 4, 6, 6, 7, 8, 9]\n"
     ]
    }
   ],
   "source": [
    "a = [2, 6, 3, 4, 1, 4, 6, 7, 2, 8, 9, 2]\n",
    "\n",
    "def bubblesort(a):\n",
    "    for i in range(len(a)-1, 0, -1):\n",
    "        for j in range(i):\n",
    "            if a[j] > a[j+1]:\n",
    "                temp = a[j]\n",
    "                a[j] = a[j+1]\n",
    "                a[j+1] = temp\n",
    "    return a\n",
    "\n",
    "print(bubblesort(a))"
   ]
  },
  {
   "cell_type": "code",
   "execution_count": null,
   "id": "403ae8c6",
   "metadata": {},
   "outputs": [],
   "source": []
  }
 ],
 "metadata": {
  "kernelspec": {
   "display_name": "Python 3",
   "language": "python",
   "name": "python3"
  },
  "language_info": {
   "codemirror_mode": {
    "name": "ipython",
    "version": 3
   },
   "file_extension": ".py",
   "mimetype": "text/x-python",
   "name": "python",
   "nbconvert_exporter": "python",
   "pygments_lexer": "ipython3",
   "version": "3.8.8"
  }
 },
 "nbformat": 4,
 "nbformat_minor": 5
}
