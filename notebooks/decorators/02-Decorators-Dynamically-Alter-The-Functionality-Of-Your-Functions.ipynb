{
 "cells": [
  {
   "cell_type": "markdown",
   "metadata": {},
   "source": [
    "# Decorators - Dynamically Alter The Functionality Of Your Functions\n",
    "\n",
    "\n",
    "**First-Class Functions**\n",
    "\n",
    "- We can pass functions as arguments to another function, we can return functions, and we can assign functions to variables.\n",
    "\n",
    "**Closures**\n",
    "\n",
    "- Closures allow us to take advantages of first-class functions, and return an inner function that remembers and has access to variables local to the scope in which they created.\n",
    "\n",
    "[YouTube](https://www.youtube.com/watch?v=FsAPt_9Bf3U)"
   ]
  },
  {
   "cell_type": "code",
   "execution_count": 1,
   "metadata": {},
   "outputs": [
    {
     "name": "stdout",
     "output_type": "stream",
     "text": [
      "Hi\n"
     ]
    }
   ],
   "source": [
    "# Executing the inner function instead of returning.\n",
    "\n",
    "def outer_function():\n",
    "    message = \"Hi\"\n",
    "    \n",
    "    def inner_function():\n",
    "        print(message)\n",
    "    \n",
    "    return inner_function()\n",
    "\n",
    "outer_function()"
   ]
  },
  {
   "cell_type": "markdown",
   "metadata": {},
   "source": [
    "- Closure allow us to remember the message variable, even after the outer function has finished executing."
   ]
  },
  {
   "cell_type": "code",
   "execution_count": 3,
   "metadata": {},
   "outputs": [
    {
     "name": "stdout",
     "output_type": "stream",
     "text": [
      "Hi\n",
      "Hi\n",
      "Hi\n",
      "Hi\n"
     ]
    }
   ],
   "source": [
    "# Return the function without executing it.\n",
    "# assign to a variable and the execute from that.\n",
    "\n",
    "def outer_function():\n",
    "    message = \"Hi\"\n",
    "    \n",
    "    def inner_function():\n",
    "        print(message)\n",
    "    \n",
    "    return inner_function\n",
    "\n",
    "my_func = outer_function()\n",
    "my_func()\n",
    "my_func()\n",
    "my_func()\n",
    "my_func()"
   ]
  },
  {
   "cell_type": "code",
   "execution_count": 5,
   "metadata": {},
   "outputs": [
    {
     "name": "stdout",
     "output_type": "stream",
     "text": [
      "-------------\n",
      "Hi\n",
      "Bye\n",
      "-------------\n"
     ]
    }
   ],
   "source": [
    "# Another example, outer function return the innner function\n",
    "# which get assigned to variable, and intter function execute \n",
    "# only while we call hi_func() and bye_func() variables.\n",
    "\n",
    "def outer_function(msg):\n",
    "    message = msg\n",
    "    \n",
    "    def inner_function():\n",
    "        print(message)\n",
    "    \n",
    "    return inner_function\n",
    "\n",
    "hi_func = outer_function('Hi')\n",
    "bye_func = outer_function('Bye')\n",
    "\n",
    "print('-------------')\n",
    "hi_func()\n",
    "bye_func()\n",
    "print('-------------')"
   ]
  },
  {
   "cell_type": "code",
   "execution_count": 6,
   "metadata": {},
   "outputs": [
    {
     "name": "stdout",
     "output_type": "stream",
     "text": [
      "-------------\n",
      "Hi\n",
      "Bye\n",
      "-------------\n"
     ]
    }
   ],
   "source": [
    "#streamline a bit more by removing extra variable.\n",
    "\n",
    "def outer_function(msg):\n",
    "    \n",
    "    def inner_function():\n",
    "        print(msg)\n",
    "    \n",
    "    return inner_function\n",
    "\n",
    "hi_func = outer_function('Hi')\n",
    "bye_func = outer_function('Bye')\n",
    "\n",
    "print('-------------')\n",
    "hi_func()\n",
    "bye_func()\n",
    "print('-------------')"
   ]
  },
  {
   "cell_type": "markdown",
   "metadata": {},
   "source": [
    "## Decorators.\n",
    "\n",
    "**Decorators** is just a function that takes another function as an argument, add some kida funcationality then return another function. All of this without alterting the source code of original function that we passed in.\n"
   ]
  },
  {
   "cell_type": "code",
   "execution_count": null,
   "metadata": {},
   "outputs": [],
   "source": []
  }
 ],
 "metadata": {
  "kernelspec": {
   "display_name": "Python 3",
   "language": "python",
   "name": "python3"
  },
  "language_info": {
   "codemirror_mode": {
    "name": "ipython",
    "version": 3
   },
   "file_extension": ".py",
   "mimetype": "text/x-python",
   "name": "python",
   "nbconvert_exporter": "python",
   "pygments_lexer": "ipython3",
   "version": "3.7.5"
  }
 },
 "nbformat": 4,
 "nbformat_minor": 2
}
