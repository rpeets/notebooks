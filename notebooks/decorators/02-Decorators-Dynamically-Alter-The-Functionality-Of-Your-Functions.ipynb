{
 "cells": [
  {
   "cell_type": "markdown",
   "metadata": {},
   "source": [
    "# Decorators - Dynamically Alter The Functionality Of Your Functions\n",
    "\n",
    "\n",
    "**First-Class Functions**\n",
    "\n",
    "- We can pass functions as arguments to another function, we can return functions, and we can assign functions to variables.\n",
    "\n",
    "**Closures**\n",
    "\n",
    "- Closures allow us to take advantages of first-class functions, and return an inner function that remembers and has access to variables local to the scope in which they created.\n",
    "\n",
    "[YouTube](https://www.youtube.com/watch?v=FsAPt_9Bf3U)"
   ]
  },
  {
   "cell_type": "code",
   "execution_count": 1,
   "metadata": {},
   "outputs": [
    {
     "name": "stdout",
     "output_type": "stream",
     "text": [
      "Hi\n"
     ]
    }
   ],
   "source": [
    "# Executing the inner function instead of returning.\n",
    "\n",
    "def outer_function():\n",
    "    message = \"Hi\"\n",
    "    \n",
    "    def inner_function():\n",
    "        print(message)\n",
    "    \n",
    "    return inner_function()\n",
    "\n",
    "outer_function()"
   ]
  },
  {
   "cell_type": "markdown",
   "metadata": {},
   "source": [
    "- Closure allow us to remember the message variable, even after the outer function has finished executing."
   ]
  },
  {
   "cell_type": "code",
   "execution_count": 3,
   "metadata": {},
   "outputs": [
    {
     "name": "stdout",
     "output_type": "stream",
     "text": [
      "Hi\n",
      "Hi\n",
      "Hi\n",
      "Hi\n"
     ]
    }
   ],
   "source": [
    "# Return the function without executing it.\n",
    "# assign to a variable and the execute from that.\n",
    "\n",
    "def outer_function():\n",
    "    message = \"Hi\"\n",
    "    \n",
    "    def inner_function():\n",
    "        print(message)\n",
    "    \n",
    "    return inner_function\n",
    "\n",
    "my_func = outer_function()\n",
    "my_func()\n",
    "my_func()\n",
    "my_func()\n",
    "my_func()"
   ]
  },
  {
   "cell_type": "code",
   "execution_count": 5,
   "metadata": {},
   "outputs": [
    {
     "name": "stdout",
     "output_type": "stream",
     "text": [
      "-------------\n",
      "Hi\n",
      "Bye\n",
      "-------------\n"
     ]
    }
   ],
   "source": [
    "# Another example, outer function return the innner function\n",
    "# which get assigned to variable, and intter function execute \n",
    "# only while we call hi_func() and bye_func() variables.\n",
    "\n",
    "def outer_function(msg):\n",
    "    message = msg\n",
    "    \n",
    "    def inner_function():\n",
    "        print(message)\n",
    "    \n",
    "    return inner_function\n",
    "\n",
    "hi_func = outer_function('Hi')\n",
    "bye_func = outer_function('Bye')\n",
    "\n",
    "print('-------------')\n",
    "hi_func()\n",
    "bye_func()\n",
    "print('-------------')"
   ]
  },
  {
   "cell_type": "code",
   "execution_count": 6,
   "metadata": {},
   "outputs": [
    {
     "name": "stdout",
     "output_type": "stream",
     "text": [
      "-------------\n",
      "Hi\n",
      "Bye\n",
      "-------------\n"
     ]
    }
   ],
   "source": [
    "#streamline a bit more by removing extra variable.\n",
    "\n",
    "def outer_function(msg):\n",
    "    \n",
    "    def inner_function():\n",
    "        print(msg)\n",
    "    \n",
    "    return inner_function\n",
    "\n",
    "hi_func = outer_function('Hi')\n",
    "bye_func = outer_function('Bye')\n",
    "\n",
    "print('-------------')\n",
    "hi_func()\n",
    "bye_func()\n",
    "print('-------------')"
   ]
  },
  {
   "cell_type": "markdown",
   "metadata": {},
   "source": [
    "## Decorators.\n",
    "\n",
    "**Decorators** is just a function that takes another function as an argument, add some kida funcationality then return another function. All of this without alterting the source code of original function that we passed in.\n"
   ]
  },
  {
   "cell_type": "code",
   "execution_count": 4,
   "metadata": {},
   "outputs": [
    {
     "name": "stdout",
     "output_type": "stream",
     "text": [
      "--------------------\n",
      "display function ran\n",
      "--------------------\n"
     ]
    }
   ],
   "source": [
    "# Basic decorator function example.\n",
    "\n",
    "def decorator_function(original_function):\n",
    "    \n",
    "    def wrapper_function():\n",
    "        return original_function()\n",
    "    \n",
    "    return wrapper_function\n",
    "\n",
    "\n",
    "def display():\n",
    "    print('display function ran')\n",
    "\n",
    "decorated_display = decorator_function(display)\n",
    "\n",
    "print('--------------------')\n",
    "decorated_display()\n",
    "print('--------------------')"
   ]
  },
  {
   "cell_type": "code",
   "execution_count": 6,
   "metadata": {},
   "outputs": [
    {
     "name": "stdout",
     "output_type": "stream",
     "text": [
      "--------------------\n",
      "wrapper function executed this before display function\n",
      "display function ran\n",
      "--------------------\n"
     ]
    }
   ],
   "source": [
    "# Adding more functionality  to wrapper function.\n",
    "\n",
    "def decorator_function(original_function):\n",
    "    \n",
    "    def wrapper_function():\n",
    "        print(f'wrapper function executed this before {original_function.__name__} function')\n",
    "        return original_function()\n",
    "    \n",
    "    return wrapper_function\n",
    "\n",
    "\n",
    "def display():\n",
    "    print('display function ran')\n",
    "\n",
    "decorated_display = decorator_function(display)\n",
    "\n",
    "print('--------------------')\n",
    "decorated_display()\n",
    "print('--------------------')"
   ]
  },
  {
   "cell_type": "code",
   "execution_count": 7,
   "metadata": {},
   "outputs": [
    {
     "name": "stdout",
     "output_type": "stream",
     "text": [
      "--------------------\n",
      "wrapper function executed this before display function\n",
      "display function ran\n",
      "--------------------\n"
     ]
    }
   ],
   "source": [
    "# Adding the @decorator_function decorator\n",
    "\n",
    "# in a way Following two lines produce equal result.\n",
    "# decorated_display = decorator_function(display)\n",
    "# @decorator_function\n",
    "\n",
    "def decorator_function(original_function):\n",
    "    \n",
    "    def wrapper_function():\n",
    "        print(f'wrapper function executed this before {original_function.__name__} function')\n",
    "        return original_function()\n",
    "    \n",
    "    return wrapper_function\n",
    "\n",
    "@decorator_function\n",
    "def display():\n",
    "    print('display function ran')\n",
    "\n",
    "    \n",
    "print('--------------------')\n",
    "display()\n",
    "print('--------------------')"
   ]
  },
  {
   "cell_type": "code",
   "execution_count": 9,
   "metadata": {},
   "outputs": [
    {
     "ename": "TypeError",
     "evalue": "wrapper_function() takes 0 positional arguments but 2 were given",
     "output_type": "error",
     "traceback": [
      "\u001b[0;31m---------------------------------------------------------------------------\u001b[0m",
      "\u001b[0;31mTypeError\u001b[0m                                 Traceback (most recent call last)",
      "\u001b[0;32m<ipython-input-9-9ced2d9d2afd>\u001b[0m in \u001b[0;36m<module>\u001b[0;34m\u001b[0m\n\u001b[1;32m     20\u001b[0m     \u001b[0mprint\u001b[0m\u001b[0;34m(\u001b[0m\u001b[0;34mf'display_info ran with arguments: {name} {age}'\u001b[0m\u001b[0;34m)\u001b[0m\u001b[0;34m\u001b[0m\u001b[0;34m\u001b[0m\u001b[0m\n\u001b[1;32m     21\u001b[0m \u001b[0;34m\u001b[0m\u001b[0m\n\u001b[0;32m---> 22\u001b[0;31m \u001b[0mdisplay_info\u001b[0m\u001b[0;34m(\u001b[0m\u001b[0;34m'John'\u001b[0m\u001b[0;34m,\u001b[0m \u001b[0;36m25\u001b[0m\u001b[0;34m)\u001b[0m\u001b[0;34m\u001b[0m\u001b[0;34m\u001b[0m\u001b[0m\n\u001b[0m",
      "\u001b[0;31mTypeError\u001b[0m: wrapper_function() takes 0 positional arguments but 2 were given"
     ]
    }
   ],
   "source": [
    "# extending a lil more by adding anothher function.\n",
    "# If we just add the \"@decorator_function\" to the new function \n",
    "# the program will throw error because the new function pass two argument.\n",
    "# which is not handiled in our \"wrapper_function()\"\n",
    "\n",
    "def decorator_function(original_function):\n",
    "    \n",
    "    def wrapper_function():\n",
    "        print(f'wrapper function executed this before {original_function.__name__} function')\n",
    "        return original_function()\n",
    "    \n",
    "    return wrapper_function\n",
    "\n",
    "@decorator_function\n",
    "def display():\n",
    "    print('display function ran')\n",
    "\n",
    "@decorator_function\n",
    "def display_info(name, age):\n",
    "    print(f'display_info ran with arguments: {name} {age}')\n",
    "\n",
    "display_info('John', 25)\n"
   ]
  },
  {
   "cell_type": "code",
   "execution_count": 15,
   "metadata": {},
   "outputs": [
    {
     "name": "stdout",
     "output_type": "stream",
     "text": [
      "wrapper function executed this before display function\n",
      "display function ran\n",
      "\n",
      "wrapper function executed this before display_info function\n",
      "display_info ran with arguments: John 25\n"
     ]
    }
   ],
   "source": [
    "# Making the wrapper_function() to accept 0 or more \n",
    "# arguments using *args **kwargs\n",
    "\n",
    "def decorator_function(original_function):\n",
    "    \n",
    "    def wrapper_function(*args, **kwargs):\n",
    "        print(f'wrapper function executed this before {original_function.__name__} function')\n",
    "        return original_function(*args, **kwargs)\n",
    "    \n",
    "    return wrapper_function\n",
    "\n",
    "@decorator_function\n",
    "def display():\n",
    "    print('display function ran')\n",
    "\n",
    "@decorator_function\n",
    "def display_info(name, age):\n",
    "    print(f'display_info ran with arguments: {name} {age}')\n",
    "\n",
    "display()\n",
    "print()\n",
    "display_info('John', 25)"
   ]
  },
  {
   "cell_type": "code",
   "execution_count": 16,
   "metadata": {},
   "outputs": [
    {
     "name": "stdout",
     "output_type": "stream",
     "text": [
      "call method executed this before display function\n",
      "display function ran\n",
      "\n",
      "call method executed this before display_info function\n",
      "display_info ran with arguments: John 25\n"
     ]
    }
   ],
   "source": [
    "# Class as decorator.\n",
    "# in this case we are creating the same functionality of the\n",
    "# previous function as class.\n",
    "\n",
    "def decorator_function(original_function):\n",
    "    \n",
    "    def wrapper_function(*args, **kwargs):\n",
    "        print(f'wrapper function executed this before {original_function.__name__} function')\n",
    "        return original_function(*args, **kwargs)\n",
    "    \n",
    "    return wrapper_function\n",
    "\n",
    "\n",
    "class decorator_class(object):\n",
    "    \n",
    "    def __init__(self, original_function):\n",
    "        self.original_function = original_function\n",
    "\n",
    "    def __call__(self, *args, **kwargs):\n",
    "        print(f'call method executed this before {self.original_function.__name__} function')\n",
    "        return self.original_function(*args, **kwargs)\n",
    "\n",
    "\n",
    "@decorator_class\n",
    "def display():\n",
    "    print('display function ran')\n",
    "\n",
    "@decorator_class\n",
    "def display_info(name, age):\n",
    "    print(f'display_info ran with arguments: {name} {age}')\n",
    "\n",
    "display()\n",
    "print()\n",
    "display_info('John', 25)"
   ]
  },
  {
   "cell_type": "code",
   "execution_count": 5,
   "metadata": {},
   "outputs": [
    {
     "name": "stdout",
     "output_type": "stream",
     "text": [
      "display_info ran with arguments: John 25\n",
      "display_info ran with arguments: Hank 30\n"
     ]
    }
   ],
   "source": [
    "# One of the most case using decorator is while logging.\n",
    "\n",
    "def my_logger(orig_func):\n",
    "    import logging\n",
    "    logging.basicConfig(filename='{}.log'.format(orig_func.__name__), level=logging.INFO)\n",
    "    \n",
    "    def wrapper(*args, **kwargs):\n",
    "        logging.info(\n",
    "            'Ran with args: {}, and kwargs: {}'.format(args, kwargs))\n",
    "        return orig_func(*args, **kwargs)\n",
    "    return wrapper\n",
    "\n",
    "def my_timer(orig_func):\n",
    "    import time\n",
    "    \n",
    "    def wrapper(*args, **kwargs):\n",
    "        t1 = time.time()\n",
    "        result = orig_func(*args, **kwargs)\n",
    "        t2 = time.time() - t1\n",
    "        print('{} rain in: {} sec'.format(orig_func.__name__, t2))\n",
    "        return result\n",
    "    return wrapper\n",
    "\n",
    "@my_logger\n",
    "def display_info(name, age):\n",
    "    print(f'display_info ran with arguments: {name} {age}')\n",
    "\n",
    "display_info('John', 25)\n",
    "display_info('Hank', 30)"
   ]
  },
  {
   "cell_type": "code",
   "execution_count": 2,
   "metadata": {},
   "outputs": [
    {
     "name": "stdout",
     "output_type": "stream",
     "text": [
      "-rw-r--r-- 1 root root 108 Jan 20 05:02 display_info.log\n",
      "INFO:root:Ran with args: ('John', 25), and kwargs: {}\n",
      "INFO:root:Ran with args: ('Hank', 30), and kwargs: {}\n"
     ]
    }
   ],
   "source": [
    "!ls -al display_info.log\n",
    "!cat display_info.log"
   ]
  },
  {
   "cell_type": "code",
   "execution_count": 6,
   "metadata": {},
   "outputs": [
    {
     "name": "stdout",
     "output_type": "stream",
     "text": [
      "display_info ran with arguments: John 25\n",
      "display_info rain in: 1.001577377319336 sec\n"
     ]
    }
   ],
   "source": [
    "# Using decorator for timing how long functions run.\n",
    "\n",
    "def my_logger(orig_func):\n",
    "    import logging\n",
    "    logging.basicConfig(filename='{}.log'.format(orig_func.__name__), level=logging.INFO)\n",
    "    \n",
    "    def wrapper(*args, **kwargs):\n",
    "        logging.info(\n",
    "            'Ran with args: {}, and kwargs: {}'.format(args, kwargs))\n",
    "        return orig_func(*args, **kwargs)\n",
    "    return wrapper\n",
    "\n",
    "\n",
    "def my_timer(orig_func):\n",
    "    import time\n",
    "    \n",
    "    def wrapper(*args, **kwargs):\n",
    "        t1 = time.time()\n",
    "        result = orig_func(*args, **kwargs)\n",
    "        t2 = time.time() - t1\n",
    "        print('{} rain in: {} sec'.format(orig_func.__name__, t2))\n",
    "        return result\n",
    "    return wrapper\n",
    "        \n",
    "\n",
    "import time\n",
    "\n",
    "@my_timer\n",
    "def display_info(name, age):\n",
    "    time.sleep(1)\n",
    "    print(f'display_info ran with arguments: {name} {age}')\n",
    "\n",
    "display_info('John', 25)"
   ]
  },
  {
   "cell_type": "code",
   "execution_count": 7,
   "metadata": {},
   "outputs": [
    {
     "name": "stdout",
     "output_type": "stream",
     "text": [
      "display_info ran with arguments: Tom 22\n",
      "display_info rain in: 1.0029075145721436 sec\n"
     ]
    }
   ],
   "source": [
    "# Applying both of these decorator to one function.\n",
    "\n",
    "from functools import wraps\n",
    "\n",
    "def my_logger(orig_func):\n",
    "    import logging\n",
    "    logging.basicConfig(filename='{}.log'.format(orig_func.__name__), level=logging.INFO)\n",
    "    \n",
    "    @wraps(orig_func)\n",
    "    def wrapper(*args, **kwargs):\n",
    "        logging.info(\n",
    "            'Ran with args: {}, and kwargs: {}'.format(args, kwargs))\n",
    "        return orig_func(*args, **kwargs)\n",
    "    return wrapper\n",
    "\n",
    "\n",
    "def my_timer(orig_func):\n",
    "    import time\n",
    "    \n",
    "    @wraps(orig_func)\n",
    "    def wrapper(*args, **kwargs):\n",
    "        t1 = time.time()\n",
    "        result = orig_func(*args, **kwargs)\n",
    "        t2 = time.time() - t1\n",
    "        print('{} rain in: {} sec'.format(orig_func.__name__, t2))\n",
    "        return result\n",
    "    return wrapper\n",
    "        \n",
    "\n",
    "import time\n",
    "\n",
    "@my_timer\n",
    "@my_logger\n",
    "def display_info(name, age):\n",
    "    time.sleep(1)\n",
    "    print(f'display_info ran with arguments: {name} {age}')\n",
    "\n",
    "display_info('Tom', 22)"
   ]
  },
  {
   "cell_type": "code",
   "execution_count": 8,
   "metadata": {},
   "outputs": [
    {
     "name": "stdout",
     "output_type": "stream",
     "text": [
      "-rw-r--r-- 1 root root 269 Jan 20 05:19 display_info.log\n",
      "INFO:root:Ran with args: ('John', 25), and kwargs: {}\n",
      "INFO:root:Ran with args: ('Hank', 30), and kwargs: {}\n",
      "INFO:root:Ran with args: ('John', 25), and kwargs: {}\n",
      "INFO:root:Ran with args: ('Hank', 30), and kwargs: {}\n",
      "INFO:root:Ran with args: ('Tom', 22), and kwargs: {}\n"
     ]
    }
   ],
   "source": [
    "!ls -al display_info.log\n",
    "!cat display_info.log"
   ]
  },
  {
   "cell_type": "code",
   "execution_count": null,
   "metadata": {},
   "outputs": [],
   "source": []
  }
 ],
 "metadata": {
  "kernelspec": {
   "display_name": "Python 3",
   "language": "python",
   "name": "python3"
  },
  "language_info": {
   "codemirror_mode": {
    "name": "ipython",
    "version": 3
   },
   "file_extension": ".py",
   "mimetype": "text/x-python",
   "name": "python",
   "nbconvert_exporter": "python",
   "pygments_lexer": "ipython3",
   "version": "3.7.5"
  }
 },
 "nbformat": 4,
 "nbformat_minor": 2
}
