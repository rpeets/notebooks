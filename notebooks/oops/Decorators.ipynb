{
 "cells": [
  {
   "cell_type": "markdown",
   "metadata": {},
   "source": [
    "## Decorators\n",
    "\n",
    "\n",
    "- In Python, functions are the first class objects, which means that –\n",
    "\n",
    "    - Functions are objects; they can be referenced to, passed to a variable and returned from other functions as well.\n",
    "    - Functions can be defined inside another function and can also be passed as argument to another function.\n",
    "\n",
    "- Decorators are very powerful and useful tool in Python since it allows programmers to modify the behavior of function or class. Decorators allow us to wrap another function in order to extend the behavior of wrapped function, without permanently modifying it.\n",
    "\n",
    "- In Decorators, functions are taken as the argument into another function and then called inside the wrapper function.\n",
    "\n",
    "[YouTube](https://www.youtube.com/watch?v=QSwXIIkxPcQ)"
   ]
  },
  {
   "cell_type": "code",
   "execution_count": 3,
   "metadata": {},
   "outputs": [],
   "source": [
    "# Setting up some user accounts\n",
    "authorized_users = {\n",
    "    \"casey\": \"1016\",\n",
    "    \"hank\": \"1123\",\n",
    "    \"bug\": \"0304\"\n",
    "}"
   ]
  },
  {
   "cell_type": "code",
   "execution_count": 6,
   "metadata": {},
   "outputs": [],
   "source": [
    "# Auth function for blogs\n",
    "def get_blogs(username, password):\n",
    "    if username in authorized_users.keys():\n",
    "        if password == authorized_users[username]:\n",
    "            return \"blogs\"\n",
    "    return \"Not Authorized!\""
   ]
  },
  {
   "cell_type": "code",
   "execution_count": 9,
   "metadata": {},
   "outputs": [
    {
     "name": "stdout",
     "output_type": "stream",
     "text": [
      "Not Authorized!\n",
      "blogs\n"
     ]
    }
   ],
   "source": [
    "print(get_blogs(\"casey\", \"1015\"))\n",
    "print(get_blogs(\"casey\", \"1016\"))"
   ]
  },
  {
   "cell_type": "code",
   "execution_count": 10,
   "metadata": {},
   "outputs": [],
   "source": [
    "# Another auth function for comments\n",
    "def get_comments(username, password):\n",
    "    if username in authorized_users.keys():\n",
    "        if password == authorized_users[username]:\n",
    "            return \"comments\"\n",
    "    return \"Not Authorized!\""
   ]
  },
  {
   "cell_type": "code",
   "execution_count": 11,
   "metadata": {},
   "outputs": [
    {
     "name": "stdout",
     "output_type": "stream",
     "text": [
      "Not Authorized!\n",
      "comments\n"
     ]
    }
   ],
   "source": [
    "print(get_comments(\"casey\", \"1015\"))\n",
    "print(get_comments(\"casey\", \"1016\"))"
   ]
  },
  {
   "cell_type": "markdown",
   "metadata": {},
   "source": [
    "### Using decorators to avoid repeating code."
   ]
  },
  {
   "cell_type": "code",
   "execution_count": 13,
   "metadata": {},
   "outputs": [
    {
     "name": "stdout",
     "output_type": "stream",
     "text": [
      "Not Authorized!\n",
      "comments\n"
     ]
    }
   ],
   "source": [
    "def get_comments(username, password):\n",
    "    return \"comments\"\n",
    "    \n",
    "def authorized(func):\n",
    "    \n",
    "    #Wrapper function.\n",
    "    def wrapper(username, password):\n",
    "        if username in authorized_users.keys():\n",
    "            if password == authorized_users[username]:\n",
    "                return func(username, password)\n",
    "        return \"Not Authorized!\"\n",
    "    \n",
    "    return wrapper\n",
    "\n",
    "auth_get_comments = authorized(get_comments)\n",
    "print(auth_get_comments(\"casey\", \"\"))\n",
    "print(auth_get_comments(\"casey\", \"1016\"))"
   ]
  },
  {
   "cell_type": "code",
   "execution_count": 14,
   "metadata": {},
   "outputs": [
    {
     "name": "stdout",
     "output_type": "stream",
     "text": [
      "Not Authorized!\n",
      "comments\n"
     ]
    }
   ],
   "source": [
    "@authorized\n",
    "def get_comments(username, password):\n",
    "    return \"comments\"\n",
    "    \n",
    "def authorized(func):\n",
    "    \n",
    "    #Wrapper function.\n",
    "    def wrapper(username, password):\n",
    "        if username in authorized_users.keys():\n",
    "            if password == authorized_users[username]:\n",
    "                return func(username, password)\n",
    "        return \"Not Authorized!\"\n",
    "    \n",
    "    return wrapper\n",
    "\n",
    "print(get_comments(\"casey\", \"\"))\n",
    "print(get_comments(\"casey\", \"1016\"))"
   ]
  },
  {
   "cell_type": "code",
   "execution_count": 15,
   "metadata": {},
   "outputs": [
    {
     "name": "stdout",
     "output_type": "stream",
     "text": [
      "Not Authorized!\n",
      "comments\n",
      "\n",
      "Not Authorized!\n",
      "blogs\n"
     ]
    }
   ],
   "source": [
    "@authorized\n",
    "def get_comments(username, password):\n",
    "    return \"comments\"\n",
    "\n",
    "@authorized\n",
    "def get_blogs(username, password):\n",
    "    return \"blogs\"\n",
    "\n",
    "def authorized(func):\n",
    "    \n",
    "    #Wrapper function.\n",
    "    def wrapper(username, password):\n",
    "        if username in authorized_users.keys():\n",
    "            if password == authorized_users[username]:\n",
    "                return func(username, password)\n",
    "        return \"Not Authorized!\"\n",
    "    \n",
    "    # return wrapper function.\n",
    "    return wrapper\n",
    "\n",
    "print(get_comments(\"casey\", \"\"))\n",
    "print(get_comments(\"casey\", \"1016\"))\n",
    "print()\n",
    "print(get_blogs(\"casey\", \"\"))\n",
    "print(get_blogs(\"casey\", \"1016\"))"
   ]
  },
  {
   "cell_type": "markdown",
   "metadata": {},
   "source": [
    "## Decorators - Dynamically Alter The Functionality Of Your Functions\n",
    "[YouTube](https://www.youtube.com/watch?v=FsAPt_9Bf3U)"
   ]
  },
  {
   "cell_type": "code",
   "execution_count": null,
   "metadata": {},
   "outputs": [],
   "source": [
    "# Decorators\n",
    "\n",
    "def outer_function():\n",
    "    message = \"Hi\"\n",
    "    \n",
    "    def inner_function():\n",
    "        print(message)\n",
    "    \n",
    "    return inner-function()\n",
    "\n",
    "outer_function()"
   ]
  }
 ],
 "metadata": {
  "kernelspec": {
   "display_name": "Python 3",
   "language": "python",
   "name": "python3"
  },
  "language_info": {
   "codemirror_mode": {
    "name": "ipython",
    "version": 3
   },
   "file_extension": ".py",
   "mimetype": "text/x-python",
   "name": "python",
   "nbconvert_exporter": "python",
   "pygments_lexer": "ipython3",
   "version": "3.7.5"
  }
 },
 "nbformat": 4,
 "nbformat_minor": 2
}
