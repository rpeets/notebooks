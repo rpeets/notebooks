{
 "cells": [
  {
   "attachments": {},
   "cell_type": "markdown",
   "metadata": {},
   "source": [
    "## Classmethods and Staticmethods\n",
    "\n",
    "### Regular Method.\n",
    "\n",
    "    Regular methods in a class, automatically takes the instance as the 1st argument, and by convension its called, \"self\".\n",
    "    \n",
    "### @classmethod.\n",
    "\n",
    "    If regular method automatically take the instance as the 1st argument. We can change this so that, instead it automatically take the class as the 1st argument. To do that, we going to use '@classmethod' decerator, that turn a regular method in to a class method\n",
    "    \n",
    "    By using the @classmethod python decorator, it altering the functionality of the method. It receives the class as the argument, instead of the instance. There is common conversion for class variables, that is 'cls'\n",
    "    \n",
    "[YouTube](https://www.youtube.com/watch?v=rq8cL2XMM5M)"
   ]
  },
  {
   "cell_type": "code",
   "execution_count": 4,
   "metadata": {},
   "outputs": [
    {
     "name": "stdout",
     "output_type": "stream",
     "text": [
      "1.04\n",
      "1.04\n",
      "1.04\n",
      "\n",
      "1.05\n",
      "1.05\n",
      "1.05\n"
     ]
    }
   ],
   "source": [
    "class Employee:\n",
    "\n",
    "    # Class Variables / Class attribute\n",
    "    # Class Variables are variables that are shared among all instances of a class.\n",
    "    raise_amount = 1.04\n",
    "    num_of_employee = 0\n",
    "\n",
    "    def __init__(self, first, last, pay):\n",
    "        # Instance Variables / instance attribute\n",
    "        # Instance variables contains data thats unique to each instance.\n",
    "        self.first = first\n",
    "        self.last = last\n",
    "        self.pay = pay\n",
    "        self.email = first + '.' + last + '@example.com' \n",
    "\n",
    "        Employee.num_of_employee += 1\n",
    "\n",
    "    # method\n",
    "    def fullname(self):\n",
    "        return '{} {}'.format(self.first, self.last)\n",
    "\n",
    "    # method\n",
    "    def apply_raise(self):\n",
    "        self.pay = int(self.pay * self.raise_amount)\n",
    "\n",
    "    # classmethod\n",
    "    @classmethod\n",
    "    def set_raise_amount(cls, amount):\n",
    "        cls.raise_amount = amount\n",
    " \n",
    "# Instance.\n",
    "emp_1 = Employee('Robin', 'Peter', 5000)\n",
    "emp_2 = Employee('Casey', 'Boy', 6000)\n",
    "\n",
    "print(Employee.raise_amount)\n",
    "print(emp_1.raise_amount)\n",
    "print(emp_2.raise_amount)\n",
    "print()\n",
    "\n",
    "# Using the classmethods, which effect all instances of that class.\n",
    "Employee.set_raise_amount(1.05)\n",
    "# The above line is equal to the one below. by changing class attributes.\n",
    "# Employee.raise_amount = 1.05\n",
    "\n",
    "print(Employee.raise_amount)\n",
    "print(emp_1.raise_amount)\n",
    "print(emp_2.raise_amount)"
   ]
  },
  {
   "attachments": {},
   "cell_type": "markdown",
   "metadata": {},
   "source": [
    "    Now we can see the raise_amount for all instances are 1.05 the reason all those are 1.05, because we ran the 'set_raise_amount' classmethod. which mean we are working with a class instead of an instance. And we are setting the class variable equal to the amount we passwd in (1.05)"
   ]
  },
  {
   "attachments": {},
   "cell_type": "markdown",
   "metadata": {},
   "source": [
    " ### Alternative Constructers.\n",
    " \n",
    "     Class Methods can be used as alternative constructers. we can use this class methods in order to provide multiple way to creating objects."
   ]
  },
  {
   "cell_type": "code",
   "execution_count": 5,
   "metadata": {},
   "outputs": [
    {
     "name": "stdout",
     "output_type": "stream",
     "text": [
      "John.Doe@example.com\n",
      "70000\n"
     ]
    }
   ],
   "source": [
    "class Employee:\n",
    "\n",
    "    # Class Variables / Class attribute\n",
    "    # Class Variables are variables that are shared among all instances of a class.\n",
    "    raise_amount = 1.04\n",
    "    num_of_employee = 0\n",
    "\n",
    "    def __init__(self, first, last, pay):\n",
    "        # Instance Variables / instance attribute\n",
    "        # Instance variables contains data thats unique to each instance.\n",
    "        self.first = first\n",
    "        self.last = last\n",
    "        self.pay = pay\n",
    "        self.email = first + '.' + last + '@example.com' \n",
    "\n",
    "        Employee.num_of_employee += 1\n",
    "\n",
    "    # method\n",
    "    def fullname(self):\n",
    "        return '{} {}'.format(self.first, self.last)\n",
    "\n",
    "    # method\n",
    "    def apply_raise(self):\n",
    "        self.pay = int(self.pay * self.raise_amount)\n",
    "\n",
    "    # classmethod\n",
    "    @classmethod\n",
    "    def set_raise_amount(cls, amount):\n",
    "        cls.raise_amount = amount\n",
    "        \n",
    " \n",
    "# Instance.\n",
    "emp_1 = Employee('Robin', 'Peter', 5000)\n",
    "emp_2 = Employee('Casey', 'Boy', 6000)\n",
    "\n",
    "emp_str_1 = \"John-Doe-70000\"\n",
    "first, last, pay = emp_str_1.split('-')\n",
    "\n",
    "new_emp_1 = Employee(first, last, pay)\n",
    "print(new_emp_1.email)\n",
    "print(new_emp_1.pay)"
   ]
  },
  {
   "cell_type": "markdown",
   "metadata": {},
   "source": [
    "    To avoid parsing this string every time, we can use classmethod as alternative constructer. usually these methods starts with 'from' (its a convention)"
   ]
  },
  {
   "cell_type": "code",
   "execution_count": 7,
   "metadata": {},
   "outputs": [
    {
     "name": "stdout",
     "output_type": "stream",
     "text": [
      "John.Doe@example.com\n",
      "70000\n",
      "\n",
      "Steve.Smith@example.com\n",
      "30000\n",
      "\n",
      "Jane.Doe@example.com\n",
      "90000\n",
      "\n"
     ]
    }
   ],
   "source": [
    "class Employee:\n",
    "\n",
    "    # Class Variables / Class attribute\n",
    "    # Class Variables are variables that are shared among all instances of a class.\n",
    "    raise_amount = 1.04\n",
    "    num_of_employee = 0\n",
    "\n",
    "    def __init__(self, first, last, pay):\n",
    "        # Instance Variables / instance attribute\n",
    "        # Instance variables contains data thats unique to each instance.\n",
    "        self.first = first\n",
    "        self.last = last\n",
    "        self.pay = pay\n",
    "        self.email = first + '.' + last + '@example.com' \n",
    "\n",
    "        Employee.num_of_employee += 1\n",
    "\n",
    "    # method\n",
    "    def fullname(self):\n",
    "        return '{} {}'.format(self.first, self.last)\n",
    "\n",
    "    # method\n",
    "    def apply_raise(self):\n",
    "        self.pay = int(self.pay * self.raise_amount)\n",
    "\n",
    "    # classmethod\n",
    "    @classmethod\n",
    "    def set_raise_amount(cls, amount):\n",
    "        cls.raise_amount = amount\n",
    "        \n",
    "    # Classmethod as Alternative constructor \n",
    "    @classmethod\n",
    "    def from_ftring(cls, emp_str):\n",
    "        first, last, pay = emp_str.split('-')\n",
    "        return cls(first, last, pay)\n",
    "\n",
    " \n",
    "# Instance.\n",
    "emp_1 = Employee('Robin', 'Peter', 5000)\n",
    "emp_2 = Employee('Casey', 'Boy', 6000)\n",
    "\n",
    "emp_str_1 = \"John-Doe-70000\"\n",
    "emp_str_2 = 'Steve-Smith-30000'\n",
    "emp_str_3 = 'Jane-Doe-90000'\n",
    "\n",
    "new_emp_1 = Employee.from_ftring(emp_str_1)\n",
    "print(new_emp_1.email)\n",
    "print(new_emp_1.pay)\n",
    "print()\n",
    "\n",
    "new_emp_2 = Employee.from_ftring(emp_str_2)\n",
    "print(new_emp_2.email)\n",
    "print(new_emp_2.pay)\n",
    "print()\n",
    "\n",
    "new_emp_3 = Employee.from_ftring(emp_str_3)\n",
    "print(new_emp_3.email)\n",
    "print(new_emp_3.pay)\n",
    "print()\n"
   ]
  },
  {
   "cell_type": "markdown",
   "metadata": {},
   "source": [
    "### @staticmethod\n",
    "\n",
    "    While we work with method in a class, regular methods automatically pass the instance as 1st argument and we call it 'self', And classmethod automatically pass class as the 1st argument and we call it 'cls'. Static methods don't pass anything automatically. They don't pass instance or the class. We use '@staticmethod' decorator to specify a static method class. We include them in out classes because they have some logical connections with the class.\n",
    "    \n",
    "    If you dont access the instance or the class anywhere with in the function, its an ideal candidate to be a staticmethod."
   ]
  },
  {
   "cell_type": "code",
   "execution_count": 10,
   "metadata": {},
   "outputs": [
    {
     "name": "stdout",
     "output_type": "stream",
     "text": [
      "False\n",
      "True\n"
     ]
    }
   ],
   "source": [
    "import datetime\n",
    "\n",
    "class Employee:\n",
    "\n",
    "    # Class Variables / Class attribute\n",
    "    # Class Variables are variables that are shared among all instances of a class.\n",
    "    raise_amount = 1.04\n",
    "    num_of_employee = 0\n",
    "\n",
    "    def __init__(self, first, last, pay):\n",
    "        # Instance Variables / instance attribute\n",
    "        # Instance variables contains data thats unique to each instance.\n",
    "        self.first = first\n",
    "        self.last = last\n",
    "        self.pay = pay\n",
    "        self.email = first + '.' + last + '@example.com' \n",
    "\n",
    "        Employee.num_of_employee += 1\n",
    "\n",
    "    # method\n",
    "    def fullname(self):\n",
    "        return '{} {}'.format(self.first, self.last)\n",
    "\n",
    "    # method\n",
    "    def apply_raise(self):\n",
    "        self.pay = int(self.pay * self.raise_amount)\n",
    "\n",
    "    # classmethod\n",
    "    @classmethod\n",
    "    def set_raise_amount(cls, amount):\n",
    "        cls.raise_amount = amount\n",
    "        \n",
    "    # Classmethod as Alternative constructor \n",
    "    @classmethod\n",
    "    def from_ftring(cls, emp_str):\n",
    "        first, last, pay = emp_str.split('-')\n",
    "        return cls(first, last, pay)\n",
    "\n",
    "    # Staticmethod\n",
    "    # We checking a day is work day or not. That has a logical connection to Employee \n",
    "    # Class. But it dosen't actually depends on any instance or class attributes.\n",
    "    @staticmethod\n",
    "    def is_workday(day):\n",
    "        if day.weekday() == 5 or day.weekday() == 6:\n",
    "            return False\n",
    "        return True\n",
    "\n",
    " \n",
    "# Instance.\n",
    "emp_1 = Employee('Robin', 'Peter', 5000)\n",
    "emp_2 = Employee('Casey', 'Boy', 6000)\n",
    "\n",
    "my_date_1 = datetime.date(2020, 1, 18)\n",
    "my_date_2 = datetime.date(2019, 10, 14)\n",
    "\n",
    "print(Employee.is_workday(my_date_1))\n",
    "print(Employee.is_workday(my_date_2))"
   ]
  },
  {
   "cell_type": "code",
   "execution_count": null,
   "metadata": {},
   "outputs": [],
   "source": []
  }
 ],
 "metadata": {
  "kernelspec": {
   "display_name": "Python 3",
   "language": "python",
   "name": "python3"
  },
  "language_info": {
   "codemirror_mode": {
    "name": "ipython",
    "version": 3
   },
   "file_extension": ".py",
   "mimetype": "text/x-python",
   "name": "python",
   "nbconvert_exporter": "python",
   "pygments_lexer": "ipython3",
   "version": "3.7.5"
  }
 },
 "nbformat": 4,
 "nbformat_minor": 2
}
