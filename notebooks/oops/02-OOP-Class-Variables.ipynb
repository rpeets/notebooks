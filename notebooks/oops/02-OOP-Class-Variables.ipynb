{
 "cells": [
  {
   "attachments": {},
   "cell_type": "markdown",
   "metadata": {},
   "source": [
    "## Class Variables (Class Attributes)\n",
    "\n",
    "    While instance attributes are uniq to each object, class attributes are the same for all instances of that class.\n",
    "\n",
    "[YouTube]()"
   ]
  },
  {
   "cell_type": "code",
   "execution_count": 2,
   "metadata": {},
   "outputs": [
    {
     "name": "stdout",
     "output_type": "stream",
     "text": [
      "80000\n",
      "83200\n"
     ]
    }
   ],
   "source": [
    "class Employee():\n",
    "    \n",
    "    def __init__(self, first, last, pay):\n",
    "        # Instance Variables / instance attribute\n",
    "        # Instance variables contains data thats unique to each instance.\n",
    "        self.first = first\n",
    "        self.last = last\n",
    "        self.pay = pay\n",
    "        self.email = first + '.' + last + '@example.com' \n",
    "\n",
    "    # method\n",
    "    def fullname(self):\n",
    "        return '{} {}'.format(self.first, self.last)\n",
    "\n",
    "    # method\n",
    "    def apply_raise(self):\n",
    "        self.pay = int(self.pay * 1.04)\n",
    "    \n",
    "emp_1 = Employee('Casey', 'Boy', 80000)\n",
    "emp_2 = Employee('Test', 'user', 70000)\n",
    "\n",
    "print(emp_1.pay)\n",
    "emp_1.apply_raise()\n",
    "print(emp_1.pay)"
   ]
  },
  {
   "cell_type": "markdown",
   "metadata": {},
   "source": [
    "## Using Class Attribute\n",
    "\n",
    "    When we try to access an attribute of an instance, it first check the instance containing that attribute, and if doesn't then it will check if the class or any class it inherit from contains that attribute."
   ]
  },
  {
   "cell_type": "code",
   "execution_count": 6,
   "metadata": {},
   "outputs": [
    {
     "name": "stdout",
     "output_type": "stream",
     "text": [
      "emp_1    :  {'first': 'Casey', 'last': 'Boy', 'pay': 80000, 'email': 'Casey.Boy@example.com'}\n",
      "Employee :  {'__module__': '__main__', 'raise_amount': 1.04, '__init__': <function Employee.__init__ at 0x7ffaa8465290>, 'fullname': <function Employee.fullname at 0x7ffaa8465320>, 'apply_raise': <function Employee.apply_raise at 0x7ffaa84653b0>, '__dict__': <attribute '__dict__' of 'Employee' objects>, '__weakref__': <attribute '__weakref__' of 'Employee' objects>, '__doc__': None}\n",
      "\n",
      "80000\n",
      "83200\n"
     ]
    }
   ],
   "source": [
    "class Employee():\n",
    "    \n",
    "    # Class Variables / Class attribute\n",
    "    # Class Variables are variables that are shared among all instances of a class.\n",
    "    raise_amount = 1.04\n",
    "    \n",
    "    def __init__(self, first, last, pay):\n",
    "        # Instance Variables / instance attribute\n",
    "        # Instance variables contains data thats unique to each instance.\n",
    "        self.first = first\n",
    "        self.last = last\n",
    "        self.pay = pay\n",
    "        self.email = first + '.' + last + '@example.com' \n",
    "\n",
    "    # method\n",
    "    def fullname(self):\n",
    "        return '{} {}'.format(self.first, self.last)\n",
    "\n",
    "    # method\n",
    "    def apply_raise(self):\n",
    "        self.pay = int(self.pay * self.raise_amount)\n",
    "    \n",
    "emp_1 = Employee('Casey', 'Boy', 80000)\n",
    "emp_2 = Employee('Test', 'user', 70000)\n",
    "\n",
    "# in this case the instance does not contain the attribute \"raise_amount\", \n",
    "# its contained in the class Employee.\n",
    "print(\"emp_1    : \", emp_1.__dict__)\n",
    "print(\"Employee : \", Employee.__dict__)\n",
    "print()\n",
    "\n",
    "print(emp_1.pay)\n",
    "emp_1.apply_raise()\n",
    "print(emp_1.pay)"
   ]
  },
  {
   "cell_type": "markdown",
   "metadata": {},
   "source": [
    "### Changing the Class attributes will effect all instances of that class."
   ]
  },
  {
   "cell_type": "code",
   "execution_count": 9,
   "metadata": {},
   "outputs": [
    {
     "name": "stdout",
     "output_type": "stream",
     "text": [
      "1.04\n",
      "1.04\n",
      "1.04\n",
      "\n",
      "1.05\n",
      "1.05\n",
      "1.05\n"
     ]
    }
   ],
   "source": [
    "class Employee():\n",
    "    \n",
    "    # Class Variables / Class attribute\n",
    "    # Class Variables are variables that are shared among all instances of a class.\n",
    "    raise_amount = 1.04\n",
    "    \n",
    "    def __init__(self, first, last, pay):\n",
    "        # Instance Variables / instance attribute\n",
    "        # Instance variables contains data thats unique to each instance.\n",
    "        self.first = first\n",
    "        self.last = last\n",
    "        self.pay = pay\n",
    "        self.email = first + '.' + last + '@example.com' \n",
    "\n",
    "    # method\n",
    "    def fullname(self):\n",
    "        return '{} {}'.format(self.first, self.last)\n",
    "\n",
    "    # method\n",
    "    def apply_raise(self):\n",
    "        self.pay = int(self.pay * self.raise_amount)\n",
    "    \n",
    "emp_1 = Employee('Casey', 'Boy', 80000)\n",
    "emp_2 = Employee('Test', 'user', 70000)\n",
    "\n",
    "print(Employee.raise_amount)\n",
    "print(emp_1.raise_amount)\n",
    "print(emp_2.raise_amount)\n",
    "print()\n",
    "\n",
    "# Changing the Class attributes will effect all instances of that class.\n",
    "Employee.raise_amount = 1.05\n",
    "\n",
    "print(Employee.raise_amount)\n",
    "print(emp_1.raise_amount)\n",
    "print(emp_2.raise_amount)"
   ]
  },
  {
   "cell_type": "markdown",
   "metadata": {},
   "source": [
    "### Chaning only for One Instance."
   ]
  },
  {
   "cell_type": "code",
   "execution_count": 11,
   "metadata": {},
   "outputs": [
    {
     "name": "stdout",
     "output_type": "stream",
     "text": [
      "1.04\n",
      "1.04\n",
      "1.04\n",
      "\n",
      "emp_1    :  {'first': 'Casey', 'last': 'Boy', 'pay': 80000, 'email': 'Casey.Boy@example.com', 'raise_amount': 1.05}\n",
      "\n",
      "1.04\n",
      "1.05\n",
      "1.04\n"
     ]
    }
   ],
   "source": [
    "class Employee():\n",
    "    \n",
    "    # Class Variables / Class attribute\n",
    "    # Class Variables are variables that are shared among all instances of a class.\n",
    "    raise_amount = 1.04\n",
    "    \n",
    "    def __init__(self, first, last, pay):\n",
    "        # Instance Variables / instance attribute\n",
    "        # Instance variables contains data thats unique to each instance.\n",
    "        self.first = first\n",
    "        self.last = last\n",
    "        self.pay = pay\n",
    "        self.email = first + '.' + last + '@example.com' \n",
    "\n",
    "    # method\n",
    "    def fullname(self):\n",
    "        return '{} {}'.format(self.first, self.last)\n",
    "\n",
    "    # method\n",
    "    def apply_raise(self):\n",
    "        self.pay = int(self.pay * self.raise_amount)\n",
    "    \n",
    "emp_1 = Employee('Casey', 'Boy', 80000)\n",
    "emp_2 = Employee('Test', 'user', 70000)\n",
    "\n",
    "print(Employee.raise_amount)\n",
    "print(emp_1.raise_amount)\n",
    "print(emp_2.raise_amount)\n",
    "print()\n",
    "\n",
    "# Changing only for One instance.\n",
    "emp_1.raise_amount = 1.05\n",
    "print(\"emp_1    : \", emp_1.__dict__)\n",
    "print()\n",
    "\n",
    "print(Employee.raise_amount)\n",
    "print(emp_1.raise_amount)\n",
    "print(emp_2.raise_amount)"
   ]
  },
  {
   "attachments": {},
   "cell_type": "markdown",
   "metadata": {},
   "source": [
    "### Class Variable with out using \"self\"\n",
    "\n",
    "    Class variable where it wouldn't really make sense to use 'self'. We want to keep track of how many employees we have, Number of employee should be equal of all instances of our class. So create a class variable 'num_of_employee' and each time we create an employee we going to increment that by one. we can do that in __init__ method (because it run automatically each time) we create an employee instance.\n",
    "    \n",
    "    Eg: 'Employee.num_of_employee += 1' note that we using the class name instead of \"self\" because its nice to have that constant class value that can be over written if needed to be."
   ]
  },
  {
   "cell_type": "code",
   "execution_count": 14,
   "metadata": {},
   "outputs": [
    {
     "name": "stdout",
     "output_type": "stream",
     "text": [
      "2\n"
     ]
    }
   ],
   "source": [
    "# Class is basically a blue print for creating Instances\n",
    "# Each Unique employee(object) we create using employee class\n",
    "# will be an instance of that class.\n",
    "\n",
    "class Employee:\n",
    "\n",
    "    # Class Variables / Class attribute\n",
    "    # Class Variables are variables that are shared among all instances of a class.\n",
    "    raise_amount = 1.04\n",
    "    num_of_employee = 0\n",
    "\n",
    "    def __init__(self, first, last, pay):\n",
    "        # Instance Variables / instance attribute\n",
    "        # Instance variables contains data thats unique to each instance.\n",
    "        self.first = first\n",
    "        self.last = last\n",
    "        self.pay = pay\n",
    "        self.email = first + '.' + last + '@example.com' \n",
    "\n",
    "        Employee.num_of_employee += 1\n",
    "\n",
    "    # method\n",
    "    def fullname(self):\n",
    "        return '{} {}'.format(self.first, self.last)\n",
    "\n",
    "    # method\n",
    "    def apply_raise(self):\n",
    "        self.pay = int(self.pay * self.raise_amount)\n",
    "\n",
    "# Instance.\n",
    "emp_1 = Employee('Robin', 'Peter', 5000)\n",
    "emp_2 = Employee('Casey', 'Boy', 6000)\n",
    "\n",
    "print(Employee.num_of_employee)"
   ]
  }
 ],
 "metadata": {
  "kernelspec": {
   "display_name": "Python 3",
   "language": "python",
   "name": "python3"
  },
  "language_info": {
   "codemirror_mode": {
    "name": "ipython",
    "version": 3
   },
   "file_extension": ".py",
   "mimetype": "text/x-python",
   "name": "python",
   "nbconvert_exporter": "python",
   "pygments_lexer": "ipython3",
   "version": "3.7.5"
  }
 },
 "nbformat": 4,
 "nbformat_minor": 2
}
