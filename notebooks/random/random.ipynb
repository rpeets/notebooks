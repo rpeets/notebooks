{
 "cells": [
  {
   "cell_type": "markdown",
   "metadata": {},
   "source": [
    "### random\n",
    "\n",
    "    This module implements pseudo-random number generators for various distributions.\n",
    "\n",
    "[YouTube](https://www.youtube.com/watch?v=KzqSDvzOFNA)"
   ]
  },
  {
   "cell_type": "code",
   "execution_count": 1,
   "metadata": {},
   "outputs": [],
   "source": [
    "import random"
   ]
  },
  {
   "cell_type": "markdown",
   "metadata": {},
   "source": [
    "**Generate a random floating point value**"
   ]
  },
  {
   "cell_type": "code",
   "execution_count": 2,
   "metadata": {},
   "outputs": [
    {
     "name": "stdout",
     "output_type": "stream",
     "text": [
      "0.36468278501372764\n"
     ]
    }
   ],
   "source": [
    "value = random.random()\n",
    "print(value)"
   ]
  },
  {
   "cell_type": "code",
   "execution_count": 3,
   "metadata": {},
   "outputs": [
    {
     "name": "stdout",
     "output_type": "stream",
     "text": [
      "0.09131572149080225\n"
     ]
    }
   ],
   "source": [
    "value = random.random()\n",
    "print(value)"
   ]
  },
  {
   "cell_type": "markdown",
   "metadata": {},
   "source": [
    "**Generate Random floting point value between two numbers**"
   ]
  },
  {
   "cell_type": "code",
   "execution_count": 4,
   "metadata": {},
   "outputs": [
    {
     "name": "stdout",
     "output_type": "stream",
     "text": [
      "8.685568670683793\n"
     ]
    }
   ],
   "source": [
    "value = random.uniform(1, 10)\n",
    "print(value)"
   ]
  },
  {
   "cell_type": "markdown",
   "metadata": {},
   "source": [
    "**Generate Random integers between two numbers (including those numbers)**"
   ]
  },
  {
   "cell_type": "code",
   "execution_count": 12,
   "metadata": {},
   "outputs": [
    {
     "name": "stdout",
     "output_type": "stream",
     "text": [
      "6\n"
     ]
    }
   ],
   "source": [
    "value = random.randint(1, 6)\n",
    "print(value)"
   ]
  },
  {
   "cell_type": "code",
   "execution_count": 13,
   "metadata": {},
   "outputs": [
    {
     "name": "stdout",
     "output_type": "stream",
     "text": [
      "2\n"
     ]
    }
   ],
   "source": [
    "value = random.randint(1, 6)\n",
    "print(value)"
   ]
  },
  {
   "cell_type": "markdown",
   "metadata": {},
   "source": [
    "**Simulate Head or Tail**"
   ]
  },
  {
   "cell_type": "code",
   "execution_count": 17,
   "metadata": {},
   "outputs": [
    {
     "name": "stdout",
     "output_type": "stream",
     "text": [
      "Head\n"
     ]
    }
   ],
   "source": [
    "value = random.randint(0, 1)\n",
    "if value == 0:\n",
    "    print(\"Head\")\n",
    "else:\n",
    "    print(\"Tail\")"
   ]
  },
  {
   "cell_type": "code",
   "execution_count": 20,
   "metadata": {},
   "outputs": [
    {
     "name": "stdout",
     "output_type": "stream",
     "text": [
      "Tail\n"
     ]
    }
   ],
   "source": [
    "value = random.randint(0, 1)\n",
    "if value == 0:\n",
    "    print(\"Head\")\n",
    "else:\n",
    "    print(\"Tail\")"
   ]
  },
  {
   "cell_type": "markdown",
   "metadata": {},
   "source": [
    "**Random values from a list**"
   ]
  },
  {
   "cell_type": "code",
   "execution_count": 22,
   "metadata": {},
   "outputs": [
    {
     "name": "stdout",
     "output_type": "stream",
     "text": [
      "Hola Casey Boy!\n"
     ]
    }
   ],
   "source": [
    "greetings = [\"Hello\", \"Hi\", \"Hey\", \"Howdy\", \"Hola\"]\n",
    "\n",
    "value = random.choice(greetings)\n",
    "print(f\"{value} Casey Boy!\")"
   ]
  },
  {
   "cell_type": "code",
   "execution_count": 35,
   "metadata": {},
   "outputs": [
    {
     "name": "stdout",
     "output_type": "stream",
     "text": [
      "Hello Casey Boy!\n"
     ]
    }
   ],
   "source": [
    "greetings = [\"Hello\", \"Hi\", \"Hey\", \"Howdy\", \"Hola\"]\n",
    "\n",
    "value = random.choice(greetings)\n",
    "print(f\"{value} Casey Boy!\")"
   ]
  },
  {
   "cell_type": "markdown",
   "metadata": {},
   "source": [
    "**Multiple random values from a list**"
   ]
  },
  {
   "cell_type": "code",
   "execution_count": 38,
   "metadata": {},
   "outputs": [
    {
     "name": "stdout",
     "output_type": "stream",
     "text": [
      "['Blue', 'Red', 'Green', 'Green', 'Blue', 'Green', 'Red', 'Blue']\n"
     ]
    }
   ],
   "source": [
    "colors = [\"Red\", \"Green\", \"Blue\"]\n",
    "\n",
    "results = random.choices(colors, k=8)\n",
    "print(results)"
   ]
  },
  {
   "cell_type": "markdown",
   "metadata": {},
   "source": [
    "**Setup Weight, lower the number, less likely to be selected in random list, Total should be equal to 38**"
   ]
  },
  {
   "cell_type": "code",
   "execution_count": 40,
   "metadata": {},
   "outputs": [
    {
     "name": "stdout",
     "output_type": "stream",
     "text": [
      "['Blue', 'Green', 'Blue', 'Blue', 'Blue', 'Blue', 'Red', 'Green', 'Green', 'Green']\n"
     ]
    }
   ],
   "source": [
    "colors = [\"Red\", \"Green\", \"Blue\"]\n",
    "\n",
    "results = random.choices(colors, weights=[2, 18, 18], k=10)\n",
    "print(results)"
   ]
  },
  {
   "cell_type": "markdown",
   "metadata": {},
   "source": [
    "**Randomly shuffle a list of values**"
   ]
  },
  {
   "cell_type": "code",
   "execution_count": 42,
   "metadata": {},
   "outputs": [
    {
     "name": "stdout",
     "output_type": "stream",
     "text": [
      "[11, 32, 13, 23, 14, 30, 1, 22, 31, 34, 27, 46, 5, 49, 42, 29, 52, 36, 39, 41, 48, 21, 8, 6, 20, 50, 43, 2, 24, 44, 19, 45, 3, 38, 7, 10, 37, 28, 33, 25, 17, 18, 9, 12, 51, 47, 15, 16, 35, 40, 4, 26]\n"
     ]
    }
   ],
   "source": [
    "deck = list(range(1, 53))\n",
    "\n",
    "random.shuffle(deck)\n",
    "print(deck)"
   ]
  },
  {
   "cell_type": "markdown",
   "metadata": {},
   "source": [
    "**Seclect Uniq values from a list**"
   ]
  },
  {
   "cell_type": "code",
   "execution_count": 44,
   "metadata": {},
   "outputs": [
    {
     "name": "stdout",
     "output_type": "stream",
     "text": [
      "[34, 10, 50, 27, 20]\n"
     ]
    }
   ],
   "source": [
    "deck = list(range(1, 53))\n",
    "\n",
    "hand = random.sample(deck, k=5)\n",
    "print(hand)"
   ]
  },
  {
   "cell_type": "markdown",
   "metadata": {},
   "source": [
    "**Random Seed**\n",
    "\n",
    "    random() function is used to generate random numbers in Python. Not actually random, rather this is used to generate pseudo-random numbers. That implies that these randomly generated numbers can be determined.\n",
    "    \n",
    "    Pseudo-random number generators work by performing some operation on a value. Generally this value is the previous number generated by the generator. However, the first time you use the generator, there is no previous value.\n",
    "\n",
    "    Seeding a pseudo-random number generator gives it its first \"previous\" value. Each seed value will correspond to a sequence of generated values for a given random number generator. That is, if you provide the same seed twice, you get the same sequence of numbers twice.\n",
    "\n",
    "    Generally, you want to seed your random number generator with some value that will change each execution of the program. For instance, the current time is a frequently-used seed. The reason why this doesn't happen automatically is so that if you want, you can provide a specific seed to get a known sequence of numbers."
   ]
  },
  {
   "cell_type": "code",
   "execution_count": 64,
   "metadata": {},
   "outputs": [
    {
     "name": "stdout",
     "output_type": "stream",
     "text": [
      "865\n",
      "865\n",
      "865\n",
      "865\n",
      "865\n"
     ]
    }
   ],
   "source": [
    "for i in range(5):\n",
    "    random.seed(a=0, version=2)\n",
    "    print(random.randint(1,1000))"
   ]
  },
  {
   "cell_type": "code",
   "execution_count": 65,
   "metadata": {},
   "outputs": [
    {
     "name": "stdout",
     "output_type": "stream",
     "text": [
      "244\n",
      "244\n",
      "244\n",
      "244\n",
      "244\n"
     ]
    }
   ],
   "source": [
    "for i in range(5):\n",
    "    random.seed(a=3, version=2)\n",
    "    print(random.randint(1,1000))"
   ]
  },
  {
   "cell_type": "code",
   "execution_count": 68,
   "metadata": {},
   "outputs": [
    {
     "name": "stdout",
     "output_type": "stream",
     "text": [
      "242\n",
      "242\n",
      "311\n"
     ]
    }
   ],
   "source": [
    "random.seed(a=4, version=2)\n",
    "print(random.randint(1,1000))\n",
    "\n",
    "random.seed(a=4, version=2)\n",
    "print(random.randint(1,1000))\n",
    "\n",
    "print(random.randint(1,1000))\n"
   ]
  },
  {
   "cell_type": "code",
   "execution_count": null,
   "metadata": {},
   "outputs": [],
   "source": []
  },
  {
   "cell_type": "code",
   "execution_count": 45,
   "metadata": {
    "scrolled": false
   },
   "outputs": [
    {
     "name": "stdout",
     "output_type": "stream",
     "text": [
      "Robert Williams\n",
      "453-555-6724\n",
      "558 Oak St., Mordor MS 74784\n",
      "robertwilliams@bogusemail.com\n",
      "\n",
      "Charles Wright\n",
      "231-555-8334\n",
      "549 Lake St., Winterfell VA 76281\n",
      "charleswright@bogusemail.com\n",
      "\n",
      "James Davis\n",
      "213-555-2811\n",
      "535 Oak St., Springfield MA 49906\n",
      "jamesdavis@bogusemail.com\n",
      "\n",
      "Elizabeth Stuart\n",
      "791-555-3701\n",
      "767 Elm St., Epicburg ID 73438\n",
      "elizabethstuart@bogusemail.com\n",
      "\n",
      "Jane Arnold\n",
      "192-555-5459\n",
      "542 Park St., Lakeview GA 22048\n",
      "janearnold@bogusemail.com\n",
      "\n",
      "Neil Anderson\n",
      "291-555-7109\n",
      "476 Main St., Eerie DE 55610\n",
      "neilanderson@bogusemail.com\n",
      "\n",
      "Dave Stuart\n",
      "667-555-1972\n",
      "278 Pine St., Gotham VT 75769\n",
      "davestuart@bogusemail.com\n",
      "\n",
      "Elizabeth Stuart\n",
      "860-555-1351\n",
      "855 Park St., Metropolis AZ 88577\n",
      "elizabethstuart@bogusemail.com\n",
      "\n",
      "Neil Taylor\n",
      "778-555-9948\n",
      "817 Park St., Sunnydale AZ 12444\n",
      "neiltaylor@bogusemail.com\n",
      "\n",
      "Nicole Martin\n",
      "248-555-3246\n",
      "144 Park St., King's Landing MA 68927\n",
      "nicolemartin@bogusemail.com\n",
      "\n",
      "Laura Brown\n",
      "958-555-1556\n",
      "373 High St., Valyria NJ 96148\n",
      "laurabrown@bogusemail.com\n",
      "\n",
      "Steve Jones\n",
      "521-555-5136\n",
      "984 Oak St., Quahog ME 85868\n",
      "stevejones@bogusemail.com\n",
      "\n",
      "Joe Jones\n",
      "666-555-3169\n",
      "745 Elm St., Mordor ND 98126\n",
      "joejones@bogusemail.com\n",
      "\n",
      "Robert Anderson\n",
      "957-555-2051\n",
      "795 Washington St., Braavos‎ CO 96140\n",
      "robertanderson@bogusemail.com\n",
      "\n",
      "Nicole Wright\n",
      "197-555-2402\n",
      "665 Hill St., Dawnstar HI 78204\n",
      "nicolewright@bogusemail.com\n",
      "\n",
      "Jane Jefferson\n",
      "227-555-1839\n",
      "267 Maple St., Vice City NH 54348\n",
      "janejefferson@bogusemail.com\n",
      "\n",
      "Linda Wright\n",
      "473-555-4584\n",
      "940 Pine St., Winterfell CT 35005\n",
      "lindawright@bogusemail.com\n",
      "\n",
      "Maggie Jackson\n",
      "137-555-6298\n",
      "502 Hill St., Quahog OK 79045\n",
      "maggiejackson@bogusemail.com\n",
      "\n",
      "Michael Jenkins\n",
      "627-555-1719\n",
      "677 Elm St., Olympus MO 11419\n",
      "michaeljenkins@bogusemail.com\n",
      "\n",
      "Linda Johnson\n",
      "772-555-4255\n",
      "524 Pine St., Mordor IL 46219\n",
      "lindajohnson@bogusemail.com\n",
      "\n",
      "Joe Robinson\n",
      "221-555-3276\n",
      "732 Park St., Smalltown TX 28517\n",
      "joerobinson@bogusemail.com\n",
      "\n",
      "Travis Thomas\n",
      "688-555-5442\n",
      "347 Oak St., Faketown NJ 99899\n",
      "travisthomas@bogusemail.com\n",
      "\n",
      "Patricia Davis\n",
      "749-555-5146\n",
      "417 Oak St., Quahog NC 79165\n",
      "patriciadavis@bogusemail.com\n",
      "\n",
      "Jane Miller\n",
      "231-555-6537\n",
      "216 Hill St., Faketown SC 37780\n",
      "janemiller@bogusemail.com\n",
      "\n",
      "Joe Jones\n",
      "814-555-8166\n",
      "307 Cedar St., Smalltown HI 64607\n",
      "joejones@bogusemail.com\n",
      "\n",
      "Maggie Robinson\n",
      "720-555-9868\n",
      "883 Park St., Springfield CO 48807\n",
      "maggierobinson@bogusemail.com\n",
      "\n",
      "Laura Wright\n",
      "883-555-4525\n",
      "108 Lake St., Metropolis DC 83669\n",
      "laurawright@bogusemail.com\n",
      "\n",
      "Patricia Miller\n",
      "130-555-5271\n",
      "983 Cedar St., Quahog MN 21790\n",
      "patriciamiller@bogusemail.com\n",
      "\n",
      "Linda Taylor\n",
      "862-555-7931\n",
      "588 Pine St., Balmora LA 23579\n",
      "lindataylor@bogusemail.com\n",
      "\n",
      "Tom Jackson\n",
      "524-555-4593\n",
      "745 Pine St., Mordor NJ 87101\n",
      "tomjackson@bogusemail.com\n",
      "\n",
      "Barbara Smith\n",
      "854-555-5995\n",
      "462 Park St., Epicburg ME 45656\n",
      "barbarasmith@bogusemail.com\n",
      "\n",
      "Dave Moore\n",
      "334-555-1136\n",
      "432 Park St., Mordor TN 29667\n",
      "davemoore@bogusemail.com\n",
      "\n",
      "Maggie Arnold\n",
      "617-555-3570\n",
      "809 Park St., Faketown OK 80478\n",
      "maggiearnold@bogusemail.com\n",
      "\n",
      "Dave Moore\n",
      "776-555-4159\n",
      "299 Cedar St., Springfield UT 22560\n",
      "davemoore@bogusemail.com\n",
      "\n",
      "Charles Arnold\n",
      "780-555-8197\n",
      "930 Main St., Metropolis MN 94854\n",
      "charlesarnold@bogusemail.com\n",
      "\n",
      "Elizabeth Williams\n",
      "668-555-2723\n",
      "999 Cedar St., Lakeview ND 66000\n",
      "elizabethwilliams@bogusemail.com\n",
      "\n",
      "Corey Arnold\n",
      "826-555-5906\n",
      "197 Lake St., Olympus OK 85650\n",
      "coreyarnold@bogusemail.com\n",
      "\n",
      "Nicole Martin\n",
      "972-555-6190\n",
      "631 Pearl St., Vice City TX 46524\n",
      "nicolemartin@bogusemail.com\n",
      "\n",
      "Mary Jackson\n",
      "453-555-5375\n",
      "180 Park St., South Park UT 81418\n",
      "maryjackson@bogusemail.com\n",
      "\n",
      "Steve Taylor\n",
      "840-555-3399\n",
      "568 Pearl St., Oldtown WV 49671\n",
      "stevetaylor@bogusemail.com\n",
      "\n",
      "Kurt Arnold\n",
      "673-555-8884\n",
      "200 Maple St., Mordor NH 29604\n",
      "kurtarnold@bogusemail.com\n",
      "\n",
      "Travis White\n",
      "490-555-1093\n",
      "590 Main St., Eerie IL 31252\n",
      "traviswhite@bogusemail.com\n",
      "\n",
      "Maria Smith\n",
      "108-555-1649\n",
      "875 Hill St., Lakeview MS 25067\n",
      "mariasmith@bogusemail.com\n",
      "\n",
      "Patricia Johnson\n",
      "418-555-6599\n",
      "162 Pine St., Faketown KY 14894\n",
      "patriciajohnson@bogusemail.com\n",
      "\n",
      "Barbara Johnson\n",
      "188-555-3195\n",
      "215 Cedar St., Oldtown TN 19417\n",
      "barbarajohnson@bogusemail.com\n",
      "\n",
      "Elizabeth Johnson\n",
      "143-555-6156\n",
      "348 Lake St., Westworld IA 82649\n",
      "elizabethjohnson@bogusemail.com\n",
      "\n",
      "Joe Doe\n",
      "196-555-6992\n",
      "197 Hill St., Bedrock NV 45613\n",
      "joedoe@bogusemail.com\n",
      "\n",
      "Tom Johnson\n",
      "511-555-7043\n",
      "191 Washington St., Vice City NC 95035\n",
      "tomjohnson@bogusemail.com\n",
      "\n",
      "Sam Stuart\n",
      "205-555-9799\n",
      "506 Lake St., Westworld MD 41668\n",
      "samstuart@bogusemail.com\n",
      "\n",
      "Elizabeth Taylor\n",
      "315-555-8589\n",
      "713 High St., Blackwater WA 66316\n",
      "elizabethtaylor@bogusemail.com\n",
      "\n",
      "Kurt Doe\n",
      "893-555-5513\n",
      "933 High St., Atlantis OR 39821\n",
      "kurtdoe@bogusemail.com\n",
      "\n",
      "Maggie Jefferson\n",
      "967-555-4942\n",
      "686 Main St., Blackwater NJ 66366\n",
      "maggiejefferson@bogusemail.com\n",
      "\n",
      "Corey Davis\n",
      "417-555-4428\n",
      "473 Maple St., Gotham HI 58607\n",
      "coreydavis@bogusemail.com\n",
      "\n",
      "Nicole Arnold\n",
      "899-555-2631\n",
      "428 Maple St., Lakeview TN 32859\n",
      "nicolearnold@bogusemail.com\n",
      "\n",
      "Kurt Doe\n",
      "126-555-6837\n",
      "431 Elm St., Gotham DC 57211\n",
      "kurtdoe@bogusemail.com\n",
      "\n",
      "Patricia Jackson\n",
      "476-555-7717\n",
      "227 Hill St., Faketown CA 71905\n",
      "patriciajackson@bogusemail.com\n",
      "\n",
      "Steve Wilks\n",
      "732-555-5519\n",
      "756 Elm St., Springfield NJ 28193\n",
      "stevewilks@bogusemail.com\n",
      "\n",
      "Linda Williams\n",
      "398-555-4313\n",
      "627 Pine St., Vice City AK 67863\n",
      "lindawilliams@bogusemail.com\n",
      "\n",
      "Neil Wilks\n",
      "318-555-6767\n",
      "333 Oak St., Oldtown SC 69949\n",
      "neilwilks@bogusemail.com\n",
      "\n",
      "Maria Anderson\n",
      "523-555-6506\n",
      "420 Maple St., Atlantis MD 29194\n",
      "mariaanderson@bogusemail.com\n",
      "\n",
      "Jennifer Doe\n",
      "442-555-8988\n",
      "743 Lake St., King's Landing MT 21887\n",
      "jenniferdoe@bogusemail.com\n",
      "\n",
      "Maria Johnson\n",
      "748-555-4696\n",
      "157 Cedar St., Westworld NH 18971\n",
      "mariajohnson@bogusemail.com\n",
      "\n",
      "Jennifer Jacobs\n",
      "781-555-6027\n",
      "711 Oak St., Balmora OH 86995\n",
      "jenniferjacobs@bogusemail.com\n",
      "\n",
      "Patricia Williams\n",
      "265-555-5478\n",
      "150 Oak St., Bedrock LA 90124\n",
      "patriciawilliams@bogusemail.com\n",
      "\n",
      "Corey Brown\n",
      "349-555-4415\n",
      "545 Oak St., Gotham WI 93946\n",
      "coreybrown@bogusemail.com\n",
      "\n",
      "Kurt Davis\n",
      "975-555-5376\n",
      "645 Washington St., Olympus OH 47484\n",
      "kurtdavis@bogusemail.com\n",
      "\n",
      "James Miller\n",
      "423-555-9479\n",
      "152 Pearl St., Smalltown MN 40483\n",
      "jamesmiller@bogusemail.com\n",
      "\n",
      "Corey Doe\n",
      "488-555-2925\n",
      "764 Hill St., Dawnstar OR 53040\n",
      "coreydoe@bogusemail.com\n",
      "\n",
      "Dave Taylor\n",
      "351-555-6201\n",
      "166 Washington St., Atlantis DC 38486\n",
      "davetaylor@bogusemail.com\n",
      "\n",
      "Tom Jefferson\n",
      "239-555-3547\n",
      "869 Oak St., Balmora GA 62385\n",
      "tomjefferson@bogusemail.com\n",
      "\n",
      "Patricia Jenkins\n",
      "410-555-6969\n",
      "332 Hill St., Eerie IL 88051\n",
      "patriciajenkins@bogusemail.com\n",
      "\n",
      "Elizabeth Jefferson\n",
      "961-555-2902\n",
      "612 Oak St., Lakeview MA 99821\n",
      "elizabethjefferson@bogusemail.com\n",
      "\n",
      "Corey Smith\n",
      "917-555-6891\n",
      "777 Lake St., Smalltown IN 55950\n",
      "coreysmith@bogusemail.com\n",
      "\n",
      "Charles Arnold\n",
      "625-555-4158\n",
      "182 Main St., Epicburg MA 35875\n",
      "charlesarnold@bogusemail.com\n",
      "\n",
      "Charles Jackson\n",
      "594-555-4679\n",
      "806 Park St., Vice City SD 52458\n",
      "charlesjackson@bogusemail.com\n",
      "\n",
      "Jennifer Anderson\n",
      "495-555-5316\n",
      "864 Park St., Vice City NV 62170\n",
      "jenniferanderson@bogusemail.com\n",
      "\n",
      "Nicole Jenkins\n",
      "248-555-8366\n",
      "716 Pearl St., Olympus NM 44709\n",
      "nicolejenkins@bogusemail.com\n",
      "\n",
      "Dave Jenkins\n",
      "288-555-5129\n",
      "327 Elm St., King's Landing TN 56632\n",
      "davejenkins@bogusemail.com\n",
      "\n",
      "Jane Jefferson\n",
      "469-555-8376\n",
      "630 Hill St., South Park IA 72413\n",
      "janejefferson@bogusemail.com\n",
      "\n",
      "Laura Patterson\n",
      "284-555-3634\n",
      "183 Oak St., Oldtown CO 18831\n",
      "laurapatterson@bogusemail.com\n",
      "\n",
      "Laura White\n",
      "467-555-1183\n",
      "108 High St., Dawnstar SC 68453\n",
      "laurawhite@bogusemail.com\n",
      "\n",
      "Joe Moore\n",
      "919-555-9527\n",
      "143 Hill St., Lakeview WI 92097\n",
      "joemoore@bogusemail.com\n",
      "\n",
      "Charles Stuart\n",
      "356-555-2636\n",
      "510 Oak St., Atlantis CO 92143\n",
      "charlesstuart@bogusemail.com\n",
      "\n",
      "Robert Doe\n",
      "894-555-6637\n",
      "301 High St., Dawnstar VA 83193\n",
      "robertdoe@bogusemail.com\n",
      "\n",
      "Maggie Taylor\n",
      "896-555-5884\n",
      "404 Washington St., Smalltown NY 51018\n",
      "maggietaylor@bogusemail.com\n",
      "\n",
      "Patricia Martin\n",
      "113-555-6617\n",
      "562 Maple St., Oldtown NY 20999\n",
      "patriciamartin@bogusemail.com\n",
      "\n",
      "Robert Robinson\n",
      "236-555-7178\n",
      "136 Cedar St., Mordor HI 87041\n",
      "robertrobinson@bogusemail.com\n",
      "\n",
      "John Jefferson\n",
      "778-555-6602\n",
      "762 Elm St., Valyria MD 22030\n",
      "johnjefferson@bogusemail.com\n",
      "\n",
      "Steve Johnson\n",
      "144-555-3224\n",
      "712 Lake St., Valyria CO 74284\n",
      "stevejohnson@bogusemail.com\n",
      "\n",
      "Nicole Jefferson\n",
      "563-555-4218\n",
      "575 Pine St., King's Landing WI 76347\n",
      "nicolejefferson@bogusemail.com\n",
      "\n",
      "Maria Williams\n",
      "279-555-8538\n",
      "297 High St., Westworld GA 56986\n",
      "mariawilliams@bogusemail.com\n",
      "\n",
      "Elizabeth Jacobs\n",
      "772-555-4678\n",
      "781 Washington St., Eerie ID 79166\n",
      "elizabethjacobs@bogusemail.com\n",
      "\n",
      "Elizabeth Jackson\n",
      "858-555-8729\n",
      "244 High St., Faketown WI 66586\n",
      "elizabethjackson@bogusemail.com\n",
      "\n",
      "Joe Jackson\n",
      "332-555-7489\n",
      "568 Elm St., Mordor PA 50974\n",
      "joejackson@bogusemail.com\n",
      "\n",
      "Joe Robinson\n",
      "593-555-7168\n",
      "595 Elm St., Valyria PA 31779\n",
      "joerobinson@bogusemail.com\n",
      "\n",
      "James Stuart\n",
      "279-555-5602\n",
      "527 High St., Oldtown SD 18948\n",
      "jamesstuart@bogusemail.com\n",
      "\n",
      "Elizabeth Jones\n",
      "571-555-1711\n",
      "576 Pine St., Winterfell HI 97004\n",
      "elizabethjones@bogusemail.com\n",
      "\n",
      "Kurt Miller\n",
      "455-555-4786\n",
      "178 Washington St., Atlantis TN 60389\n",
      "kurtmiller@bogusemail.com\n",
      "\n",
      "Travis Harris\n",
      "546-555-3038\n",
      "823 Park St., Gotham MD 31527\n",
      "travisharris@bogusemail.com\n",
      "\n",
      "Kurt Wilson\n",
      "176-555-5533\n",
      "370 Lake St., Braavos‎ DC 24796\n",
      "kurtwilson@bogusemail.com\n",
      "\n"
     ]
    }
   ],
   "source": [
    "import random\n",
    "\n",
    "first_names = ['John', 'Jane', 'Corey', 'Travis', 'Dave', 'Kurt', 'Neil', 'Sam', 'Steve', 'Tom', 'James', 'Robert', 'Michael', 'Charles', 'Joe', 'Mary', 'Maggie', 'Nicole', 'Patricia', 'Linda', 'Barbara', 'Elizabeth', 'Laura', 'Jennifer', 'Maria']\n",
    "last_names = ['Smith', 'Doe', 'Jenkins', 'Robinson', 'Davis', 'Stuart', 'Jefferson', 'Jacobs', 'Wright', 'Patterson', 'Wilks', 'Arnold', 'Johnson', 'Williams', 'Jones', 'Brown', 'Davis', 'Miller', 'Wilson', 'Moore', 'Taylor', 'Anderson', 'Thomas', 'Jackson', 'White', 'Harris', 'Martin']\n",
    "street_names = ['Main', 'High', 'Pearl', 'Maple', 'Park', 'Oak', 'Pine', 'Cedar', 'Elm', 'Washington', 'Lake', 'Hill']\n",
    "fake_cities = ['Metropolis', 'Eerie', \"King's Landing\", 'Sunnydale', 'Bedrock', 'South Park', 'Atlantis', 'Mordor', 'Olympus', 'Dawnstar', 'Balmora', 'Gotham', 'Springfield', 'Quahog', 'Smalltown', 'Epicburg', 'Pythonville', 'Faketown', 'Westworld', 'Thundera', 'Vice City', 'Blackwater', 'Oldtown', 'Valyria', 'Winterfell', 'Braavos‎', 'Lakeview']\n",
    "states = ['AL', 'AK', 'AZ', 'AR', 'CA', 'CO', 'CT', 'DC', 'DE', 'FL', 'GA', 'HI', 'ID', 'IL', 'IN', 'IA', 'KS', 'KY', 'LA', 'ME', 'MD', 'MA', 'MI', 'MN', 'MS', 'MO', 'MT', 'NE', 'NV', 'NH', 'NJ', 'NM', 'NY', 'NC', 'ND', 'OH', 'OK', 'OR', 'PA', 'RI', 'SC', 'SD', 'TN', 'TX', 'UT', 'VT', 'VA', 'WA', 'WV', 'WI', 'WY']\n",
    "\n",
    "for num in range(100):\n",
    "    first = random.choice(first_names)\n",
    "    last = random.choice(last_names)\n",
    "\n",
    "    phone = f'{random.randint(100, 999)}-555-{random.randint(1000,9999)}'\n",
    "    email = first.lower() + last.lower() + '@bogusemail.com'\n",
    "    \n",
    "    street_num = random.randint(100, 999)\n",
    "    street = random.choice(street_names)\n",
    "    city = random.choice(fake_cities)\n",
    "    state = random.choice(states)\n",
    "    zip_code = random.randint(10000, 99999)\n",
    "    address = f'{street_num} {street} St., {city} {state} {zip_code}'\n",
    "\n",
    "    print(f'{first} {last}\\n{phone}\\n{address}\\n{email}\\n')"
   ]
  },
  {
   "cell_type": "code",
   "execution_count": null,
   "metadata": {},
   "outputs": [],
   "source": []
  }
 ],
 "metadata": {
  "kernelspec": {
   "display_name": "Python 3",
   "language": "python",
   "name": "python3"
  },
  "language_info": {
   "codemirror_mode": {
    "name": "ipython",
    "version": 3
   },
   "file_extension": ".py",
   "mimetype": "text/x-python",
   "name": "python",
   "nbconvert_exporter": "python",
   "pygments_lexer": "ipython3",
   "version": "3.7.5"
  }
 },
 "nbformat": 4,
 "nbformat_minor": 2
}
