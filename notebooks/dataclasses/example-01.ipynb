{
 "cells": [
  {
   "cell_type": "markdown",
   "metadata": {},
   "source": [
    "### Working example using dataclass and request_html\n",
    "\n",
    "    Using request_html for the web scrapping and dataclass to create objects."
   ]
  },
  {
   "cell_type": "code",
   "execution_count": 1,
   "metadata": {},
   "outputs": [
    {
     "name": "stdout",
     "output_type": "stream",
     "text": [
      "Code(code='%a', meaning='Weekday as locale’s abbreviated name.', example='Mon')\n",
      "Code(code='%A', meaning='Weekday as locale’s full name.', example='Monday')\n",
      "Code(code='%w', meaning='Weekday as a decimal number, where 0 is Sunday and 6 is Saturday.', example='1')\n",
      "Code(code='%d', meaning='Day of the month as a zero-padded decimal number.', example='30')\n",
      "Code(code='%-d', meaning='Day of the month as a decimal number. (Platform specific)', example='30')\n",
      "Code(code='%b', meaning='Month as locale’s abbreviated name.', example='Sep')\n",
      "Code(code='%B', meaning='Month as locale’s full name.', example='September')\n",
      "Code(code='%m', meaning='Month as a zero-padded decimal number.', example='09')\n",
      "Code(code='%-m', meaning='Month as a decimal number. (Platform specific)', example='9')\n",
      "Code(code='%y', meaning='Year without century as a zero-padded decimal number.', example='13')\n",
      "Code(code='%Y', meaning='Year with century as a decimal number.', example='2013')\n",
      "Code(code='%H', meaning='Hour (24-hour clock) as a zero-padded decimal number.', example='07')\n",
      "Code(code='%-H', meaning='Hour (24-hour clock) as a decimal number. (Platform specific)', example='7')\n",
      "Code(code='%I', meaning='Hour (12-hour clock) as a zero-padded decimal number.', example='07')\n",
      "Code(code='%-I', meaning='Hour (12-hour clock) as a decimal number. (Platform specific)', example='7')\n",
      "Code(code='%p', meaning='Locale’s equivalent of either AM or PM.', example='AM')\n",
      "Code(code='%M', meaning='Minute as a zero-padded decimal number.', example='06')\n",
      "Code(code='%-M', meaning='Minute as a decimal number. (Platform specific)', example='6')\n",
      "Code(code='%S', meaning='Second as a zero-padded decimal number.', example='05')\n",
      "Code(code='%-S', meaning='Second as a decimal number. (Platform specific)', example='5')\n",
      "Code(code='%f', meaning='Microsecond as a decimal number, zero-padded on the left.', example='000000')\n",
      "Code(code='%z', meaning='UTC offset in the form +HHMM or -HHMM (empty string if the the object is naive).', example='')\n",
      "Code(code='%Z', meaning='Time zone name (empty string if the object is naive).', example='')\n",
      "Code(code='%j', meaning='Day of the year as a zero-padded decimal number.', example='273')\n",
      "Code(code='%-j', meaning='Day of the year as a decimal number. (Platform specific)', example='273')\n",
      "Code(code='%U', meaning='Week number of the year (Sunday as the first day of the week) as a zero padded decimal number. All days in a new year preceding the first Sunday are considered to be in week 0.', example='39')\n",
      "Code(code='%W', meaning='Week number of the year (Monday as the first day of the week) as a decimal number. All days in a new year preceding the first Monday are considered to be in week 0.', example='39')\n",
      "Code(code='%c', meaning='Locale’s appropriate date and time representation.', example='Mon Sep 30 07:06:05 2013')\n",
      "Code(code='%x', meaning='Locale’s appropriate date representation.', example='09/30/13')\n",
      "Code(code='%X', meaning='Locale’s appropriate time representation.', example='07:06:05')\n",
      "Code(code='%%', meaning=\"A literal '%' character.\", example='%')\n"
     ]
    }
   ],
   "source": [
    "import json\n",
    "from requests_html import HTMLSession\n",
    "from dataclasses import dataclass\n",
    "\n",
    "@dataclass\n",
    "class Code():\n",
    "    code: str\n",
    "    meaning: str\n",
    "    example: str\n",
    "\n",
    "def get_table():\n",
    "    url = 'https://strftime.org'\n",
    "    r = HTMLSession().get(url)\n",
    "    code_list = []\n",
    "\n",
    "    table = r.html.find('table', first=True)\n",
    "    tbody = table.find('tbody', first=True)\n",
    "    trs = tbody.find('tr')\n",
    "    for tr in trs:\n",
    "        tds = tr.find('td')\n",
    "        data = []\n",
    "        for td in tds:\n",
    "            data.append(td.text)\n",
    "        code_list.append(Code(data[0], data[1], data[2]))\n",
    "    return code_list\n",
    "\n",
    "def main():\n",
    "    codelist = get_table()\n",
    "    for code in codelist:\n",
    "        print(code)\n",
    "\n",
    "main()"
   ]
  },
  {
   "cell_type": "code",
   "execution_count": null,
   "metadata": {},
   "outputs": [],
   "source": []
  }
 ],
 "metadata": {
  "kernelspec": {
   "display_name": "Python 3",
   "language": "python",
   "name": "python3"
  },
  "language_info": {
   "codemirror_mode": {
    "name": "ipython",
    "version": 3
   },
   "file_extension": ".py",
   "mimetype": "text/x-python",
   "name": "python",
   "nbconvert_exporter": "python",
   "pygments_lexer": "ipython3",
   "version": "3.7.5"
  }
 },
 "nbformat": 4,
 "nbformat_minor": 2
}
