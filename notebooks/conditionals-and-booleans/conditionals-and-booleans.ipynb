{
 "cells": [
  {
   "cell_type": "code",
   "execution_count": 1,
   "metadata": {},
   "outputs": [
    {
     "name": "stdout",
     "output_type": "stream",
     "text": [
      "Conditional was True\n"
     ]
    }
   ],
   "source": [
    "if True:\n",
    "    print(\"Conditional was True\")"
   ]
  },
  {
   "cell_type": "code",
   "execution_count": 2,
   "metadata": {},
   "outputs": [],
   "source": [
    "if False:\n",
    "    print(\"Conditional was True\")"
   ]
  },
  {
   "cell_type": "code",
   "execution_count": 3,
   "metadata": {},
   "outputs": [
    {
     "name": "stdout",
     "output_type": "stream",
     "text": [
      "Conditional was True\n"
     ]
    }
   ],
   "source": [
    "language = 'Python'\n",
    "if language == 'Python':\n",
    "    print(\"Conditional was True\")"
   ]
  },
  {
   "cell_type": "markdown",
   "metadata": {},
   "source": [
    "**Comparisons:**\n",
    "\n",
    "    Equal             : ==\n",
    "    Not Equal         : !=\n",
    "    Greater Than      : >\n",
    "    Less Than         : <\n",
    "    Greater or Equal  : >=\n",
    "    Less or Equal     : >=\n",
    "    Object Identity   : is"
   ]
  },
  {
   "cell_type": "code",
   "execution_count": 7,
   "metadata": {},
   "outputs": [
    {
     "name": "stdout",
     "output_type": "stream",
     "text": [
      "Language is Python\n"
     ]
    }
   ],
   "source": [
    "language = 'Python'\n",
    "if language == 'Python':\n",
    "    print(\"Language is Python\")\n",
    "else:\n",
    "    print(\"No Match\")"
   ]
  },
  {
   "cell_type": "code",
   "execution_count": 8,
   "metadata": {},
   "outputs": [
    {
     "name": "stdout",
     "output_type": "stream",
     "text": [
      "No Match\n"
     ]
    }
   ],
   "source": [
    "language = 'Java'\n",
    "if language == 'Python':\n",
    "    print(\"Language is Python\")\n",
    "else:\n",
    "    print(\"No Match\")"
   ]
  },
  {
   "cell_type": "code",
   "execution_count": 10,
   "metadata": {},
   "outputs": [
    {
     "name": "stdout",
     "output_type": "stream",
     "text": [
      "Language is Java\n"
     ]
    }
   ],
   "source": [
    "language = 'Java'\n",
    "if language == 'Python':\n",
    "    print(\"Language is Python\")\n",
    "elif language == 'Java':\n",
    "    print(\"Language is Java\")\n",
    "else:\n",
    "    print(\"No Match\")"
   ]
  },
  {
   "cell_type": "code",
   "execution_count": 11,
   "metadata": {},
   "outputs": [
    {
     "name": "stdout",
     "output_type": "stream",
     "text": [
      "Language is Java\n"
     ]
    }
   ],
   "source": [
    "language = 'Java'\n",
    "if language == 'Python':\n",
    "    print(\"Language is Python\")\n",
    "elif language == 'Java':\n",
    "    print(\"Language is Java\")\n",
    "elif language == 'JavaScript':\n",
    "    print(\"Language is JavaScript\")\n",
    "else:\n",
    "    print(\"No Match\")"
   ]
  },
  {
   "cell_type": "markdown",
   "metadata": {},
   "source": [
    "**Boolian Operator:**\n",
    "\n",
    "    and\n",
    "    or\n",
    "    not"
   ]
  },
  {
   "cell_type": "code",
   "execution_count": 12,
   "metadata": {},
   "outputs": [
    {
     "name": "stdout",
     "output_type": "stream",
     "text": [
      "Admin Page\n"
     ]
    }
   ],
   "source": [
    "user = 'Admin'\n",
    "logged_in = True\n",
    "\n",
    "if user == 'Admin' and logged_in:\n",
    "    print('Admin Page')\n",
    "else:\n",
    "    print('Bad Creds')"
   ]
  },
  {
   "cell_type": "code",
   "execution_count": 13,
   "metadata": {},
   "outputs": [
    {
     "name": "stdout",
     "output_type": "stream",
     "text": [
      "Bad Creds\n"
     ]
    }
   ],
   "source": [
    "user = 'Admin'\n",
    "logged_in = False\n",
    "\n",
    "if user == 'Admin' and logged_in:\n",
    "    print('Admin Page')\n",
    "else:\n",
    "    print('Bad Creds')"
   ]
  },
  {
   "cell_type": "code",
   "execution_count": 15,
   "metadata": {},
   "outputs": [
    {
     "name": "stdout",
     "output_type": "stream",
     "text": [
      "Admin Page\n"
     ]
    }
   ],
   "source": [
    "user = 'Admin'\n",
    "logged_in = False\n",
    "\n",
    "if user == 'Admin' or logged_in:\n",
    "    print('Admin Page')\n",
    "else:\n",
    "    print('Bad Creds')"
   ]
  },
  {
   "cell_type": "code",
   "execution_count": 16,
   "metadata": {},
   "outputs": [
    {
     "name": "stdout",
     "output_type": "stream",
     "text": [
      "Please Log In\n"
     ]
    }
   ],
   "source": [
    "user = 'Admin'\n",
    "logged_in = False\n",
    "\n",
    "if not logged_in:\n",
    "    print('Please Log In')\n",
    "else:\n",
    "    print('Welcome')"
   ]
  },
  {
   "cell_type": "code",
   "execution_count": 17,
   "metadata": {},
   "outputs": [
    {
     "name": "stdout",
     "output_type": "stream",
     "text": [
      "True\n"
     ]
    }
   ],
   "source": [
    "a = [1, 2, 3]\n",
    "b = [1, 2, 3]\n",
    "print(a == b)"
   ]
  },
  {
   "cell_type": "code",
   "execution_count": 18,
   "metadata": {},
   "outputs": [
    {
     "name": "stdout",
     "output_type": "stream",
     "text": [
      "False\n"
     ]
    }
   ],
   "source": [
    "a = [1, 2, 3]\n",
    "b = [1, 2, 3]\n",
    "print(a is b)"
   ]
  },
  {
   "cell_type": "code",
   "execution_count": 19,
   "metadata": {},
   "outputs": [
    {
     "name": "stdout",
     "output_type": "stream",
     "text": [
      "140044870832208\n",
      "140044870888976\n",
      "False\n"
     ]
    }
   ],
   "source": [
    "a = [1, 2, 3]\n",
    "b = [1, 2, 3]\n",
    "\n",
    "print(id(a))\n",
    "print(id(b))\n",
    "\n",
    "print(a is b)"
   ]
  },
  {
   "cell_type": "code",
   "execution_count": 20,
   "metadata": {},
   "outputs": [
    {
     "name": "stdout",
     "output_type": "stream",
     "text": [
      "140044870658800\n",
      "140044870658800\n",
      "True\n"
     ]
    }
   ],
   "source": [
    "a = [1, 2, 3]\n",
    "b = a\n",
    "\n",
    "print(id(a))\n",
    "print(id(b))\n",
    "\n",
    "print(a is b)"
   ]
  },
  {
   "cell_type": "code",
   "execution_count": 22,
   "metadata": {},
   "outputs": [
    {
     "name": "stdout",
     "output_type": "stream",
     "text": [
      "140044870691008\n",
      "140044870691008\n",
      "True\n"
     ]
    }
   ],
   "source": [
    "a = [1, 2, 3]\n",
    "b = a\n",
    "\n",
    "print(id(a))\n",
    "print(id(b))\n",
    "\n",
    "print(id(a) == id(b))"
   ]
  },
  {
   "cell_type": "markdown",
   "metadata": {},
   "source": [
    "**False Values**\n",
    "\n",
    "    False\n",
    "    None\n",
    "    Zero of any Numeric Type\n",
    "    Any empty sequence. for example '', (), []\n",
    "    Any empty mappting. For example {}"
   ]
  },
  {
   "cell_type": "code",
   "execution_count": 23,
   "metadata": {},
   "outputs": [
    {
     "name": "stdout",
     "output_type": "stream",
     "text": [
      "Evaluated to Flase\n"
     ]
    }
   ],
   "source": [
    "condition = False\n",
    "\n",
    "if condition:\n",
    "    print(\"Evaluated to True\")\n",
    "else:\n",
    "    print(\"Evaluated to Flase\")"
   ]
  },
  {
   "cell_type": "code",
   "execution_count": 24,
   "metadata": {},
   "outputs": [
    {
     "name": "stdout",
     "output_type": "stream",
     "text": [
      "Evaluated to Flase\n"
     ]
    }
   ],
   "source": [
    "condition = None\n",
    "\n",
    "if condition:\n",
    "    print(\"Evaluated to True\")\n",
    "else:\n",
    "    print(\"Evaluated to Flase\")"
   ]
  },
  {
   "cell_type": "code",
   "execution_count": 25,
   "metadata": {},
   "outputs": [
    {
     "name": "stdout",
     "output_type": "stream",
     "text": [
      "Evaluated to Flase\n"
     ]
    }
   ],
   "source": [
    "condition = 0\n",
    "\n",
    "if condition:\n",
    "    print(\"Evaluated to True\")\n",
    "else:\n",
    "    print(\"Evaluated to Flase\")"
   ]
  },
  {
   "cell_type": "code",
   "execution_count": 26,
   "metadata": {},
   "outputs": [
    {
     "name": "stdout",
     "output_type": "stream",
     "text": [
      "Evaluated to True\n"
     ]
    }
   ],
   "source": [
    "condition = 10\n",
    "\n",
    "if condition:\n",
    "    print(\"Evaluated to True\")\n",
    "else:\n",
    "    print(\"Evaluated to Flase\")"
   ]
  },
  {
   "cell_type": "code",
   "execution_count": 27,
   "metadata": {},
   "outputs": [
    {
     "name": "stdout",
     "output_type": "stream",
     "text": [
      "Evaluated to Flase\n"
     ]
    }
   ],
   "source": [
    "condition = ''\n",
    "\n",
    "if condition:\n",
    "    print(\"Evaluated to True\")\n",
    "else:\n",
    "    print(\"Evaluated to Flase\")"
   ]
  },
  {
   "cell_type": "code",
   "execution_count": 28,
   "metadata": {},
   "outputs": [
    {
     "name": "stdout",
     "output_type": "stream",
     "text": [
      "Evaluated to Flase\n"
     ]
    }
   ],
   "source": [
    "condition = []\n",
    "\n",
    "if condition:\n",
    "    print(\"Evaluated to True\")\n",
    "else:\n",
    "    print(\"Evaluated to Flase\")"
   ]
  },
  {
   "cell_type": "code",
   "execution_count": 29,
   "metadata": {},
   "outputs": [
    {
     "name": "stdout",
     "output_type": "stream",
     "text": [
      "Evaluated to Flase\n"
     ]
    }
   ],
   "source": [
    "condition = ()\n",
    "\n",
    "if condition:\n",
    "    print(\"Evaluated to True\")\n",
    "else:\n",
    "    print(\"Evaluated to Flase\")"
   ]
  },
  {
   "cell_type": "code",
   "execution_count": 30,
   "metadata": {},
   "outputs": [
    {
     "name": "stdout",
     "output_type": "stream",
     "text": [
      "Evaluated to Flase\n"
     ]
    }
   ],
   "source": [
    "condition = {}\n",
    "\n",
    "if condition:\n",
    "    print(\"Evaluated to True\")\n",
    "else:\n",
    "    print(\"Evaluated to Flase\")"
   ]
  },
  {
   "cell_type": "code",
   "execution_count": 31,
   "metadata": {},
   "outputs": [
    {
     "name": "stdout",
     "output_type": "stream",
     "text": [
      "Evaluated to True\n"
     ]
    }
   ],
   "source": [
    "condition = 'Test'\n",
    "\n",
    "if condition:\n",
    "    print(\"Evaluated to True\")\n",
    "else:\n",
    "    print(\"Evaluated to Flase\")"
   ]
  },
  {
   "cell_type": "code",
   "execution_count": null,
   "metadata": {},
   "outputs": [],
   "source": []
  }
 ],
 "metadata": {
  "kernelspec": {
   "display_name": "Python 3",
   "language": "python",
   "name": "python3"
  },
  "language_info": {
   "codemirror_mode": {
    "name": "ipython",
    "version": 3
   },
   "file_extension": ".py",
   "mimetype": "text/x-python",
   "name": "python",
   "nbconvert_exporter": "python",
   "pygments_lexer": "ipython3",
   "version": "3.7.5"
  }
 },
 "nbformat": 4,
 "nbformat_minor": 2
}
