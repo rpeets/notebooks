{
 "cells": [
  {
   "cell_type": "markdown",
   "metadata": {},
   "source": [
    "### Working with mongoDB Atlas using Python\n",
    "\n",
    "    Install PyMongo\n",
    "        pip install pymongo\n",
    "        pip install dnspython\n",
    "\n",
    "[Documentation](https://pymongo.readthedocs.io/en/stable/api/index.html)<br>\n",
    "[YouTube](https://www.youtube.com/watch?v=VQnmcBnguPY)"
   ]
  },
  {
   "cell_type": "code",
   "execution_count": 1,
   "metadata": {},
   "outputs": [
    {
     "name": "stdout",
     "output_type": "stream",
     "text": [
      "pymongo==3.9.0\r\n"
     ]
    }
   ],
   "source": [
    "!pip freeze|grep pymongo"
   ]
  },
  {
   "cell_type": "code",
   "execution_count": 2,
   "metadata": {},
   "outputs": [],
   "source": [
    "from pymongo import MongoClient"
   ]
  },
  {
   "cell_type": "markdown",
   "metadata": {},
   "source": [
    "**Connect to Atles MongoDB**"
   ]
  },
  {
   "cell_type": "code",
   "execution_count": 3,
   "metadata": {},
   "outputs": [],
   "source": [
    "client = MongoClient(\"mongodb+srv://caseyboy:<password>@cluster01-z10d8.mongodb.net/test?retryWrites=true&w=majority\")"
   ]
  },
  {
   "cell_type": "code",
   "execution_count": 4,
   "metadata": {},
   "outputs": [],
   "source": [
    "db = client.get_database('myatlesdb')"
   ]
  },
  {
   "cell_type": "code",
   "execution_count": 5,
   "metadata": {},
   "outputs": [
    {
     "name": "stdout",
     "output_type": "stream",
     "text": [
      "['_BaseObject__codec_options', '_BaseObject__read_concern', '_BaseObject__read_preference', '_BaseObject__write_concern', '_Database__client', '_Database__incoming_copying_manipulators', '_Database__incoming_manipulators', '_Database__name', '_Database__outgoing_copying_manipulators', '_Database__outgoing_manipulators', '__call__', '__class__', '__delattr__', '__dict__', '__dir__', '__doc__', '__eq__', '__format__', '__ge__', '__getattr__', '__getattribute__', '__getitem__', '__gt__', '__hash__', '__init__', '__init_subclass__', '__iter__', '__le__', '__lt__', '__module__', '__ne__', '__new__', '__next__', '__reduce__', '__reduce_ex__', '__repr__', '__setattr__', '__sizeof__', '__str__', '__subclasshook__', '__weakref__', '_apply_incoming_copying_manipulators', '_apply_incoming_manipulators', '_command', '_create_or_update_user', '_current_op', '_default_role', '_fix_incoming', '_fix_outgoing', '_list_collections', '_read_preference_for', '_retryable_read_command', '_write_concern_for', 'add_son_manipulator', 'add_user', 'aggregate', 'authenticate', 'client', 'codec_options', 'collection_names', 'command', 'create_collection', 'current_op', 'dereference', 'drop_collection', 'error', 'eval', 'get_collection', 'incoming_copying_manipulators', 'incoming_manipulators', 'last_status', 'list_collection_names', 'list_collections', 'logout', 'name', 'next', 'outgoing_copying_manipulators', 'outgoing_manipulators', 'previous_error', 'profiling_info', 'profiling_level', 'read_concern', 'read_preference', 'remove_user', 'reset_error_history', 'set_profiling_level', 'system_js', 'validate_collection', 'watch', 'with_options', 'write_concern']\n"
     ]
    }
   ],
   "source": [
    "print(dir(db))"
   ]
  },
  {
   "cell_type": "code",
   "execution_count": 6,
   "metadata": {},
   "outputs": [],
   "source": [
    "records = db.dogbreed"
   ]
  },
  {
   "cell_type": "code",
   "execution_count": 7,
   "metadata": {},
   "outputs": [
    {
     "name": "stdout",
     "output_type": "stream",
     "text": [
      "['_BaseObject__codec_options', '_BaseObject__read_concern', '_BaseObject__read_preference', '_BaseObject__write_concern', '_Collection__create', '_Collection__create_index', '_Collection__database', '_Collection__find_and_modify', '_Collection__full_name', '_Collection__name', '_Collection__write_response_codec_options', '__call__', '__class__', '__delattr__', '__dict__', '__dir__', '__doc__', '__eq__', '__format__', '__ge__', '__getattr__', '__getattribute__', '__getitem__', '__gt__', '__hash__', '__init__', '__init_subclass__', '__iter__', '__le__', '__lt__', '__module__', '__ne__', '__new__', '__next__', '__reduce__', '__reduce_ex__', '__repr__', '__setattr__', '__sizeof__', '__str__', '__subclasshook__', '__weakref__', '_aggregate', '_aggregate_one_result', '_command', '_count', '_delete', '_delete_retryable', '_insert', '_insert_one', '_legacy_write', '_map_reduce', '_read_preference_for', '_socket_for_reads', '_socket_for_writes', '_update', '_update_retryable', '_write_concern_for', '_write_concern_for_cmd', 'aggregate', 'aggregate_raw_batches', 'bulk_write', 'codec_options', 'count', 'count_documents', 'create_index', 'create_indexes', 'database', 'delete_many', 'delete_one', 'distinct', 'drop', 'drop_index', 'drop_indexes', 'ensure_index', 'estimated_document_count', 'find', 'find_and_modify', 'find_one', 'find_one_and_delete', 'find_one_and_replace', 'find_one_and_update', 'find_raw_batches', 'full_name', 'group', 'index_information', 'initialize_ordered_bulk_op', 'initialize_unordered_bulk_op', 'inline_map_reduce', 'insert', 'insert_many', 'insert_one', 'list_indexes', 'map_reduce', 'name', 'next', 'options', 'parallel_scan', 'read_concern', 'read_preference', 'reindex', 'remove', 'rename', 'replace_one', 'save', 'update', 'update_many', 'update_one', 'watch', 'with_options', 'write_concern']\n"
     ]
    }
   ],
   "source": [
    "print(dir(records))"
   ]
  },
  {
   "cell_type": "markdown",
   "metadata": {},
   "source": [
    "**Get number of existing Documents**"
   ]
  },
  {
   "cell_type": "code",
   "execution_count": 8,
   "metadata": {},
   "outputs": [
    {
     "data": {
      "text/plain": [
       "0"
      ]
     },
     "execution_count": 8,
     "metadata": {},
     "output_type": "execute_result"
    }
   ],
   "source": [
    "records.count_documents({})"
   ]
  },
  {
   "cell_type": "markdown",
   "metadata": {},
   "source": [
    "**insert_one()**\n",
    "    \n",
    "    Insert a single document.\n",
    "    \n",
    "    insert_one(document, bypass_document_validation=False, session=None)"
   ]
  },
  {
   "cell_type": "code",
   "execution_count": 9,
   "metadata": {},
   "outputs": [
    {
     "data": {
      "text/plain": [
       "<pymongo.results.InsertOneResult at 0x7ff948137730>"
      ]
     },
     "execution_count": 9,
     "metadata": {},
     "output_type": "execute_result"
    }
   ],
   "source": [
    "akita = {'breed': 'Akita', \n",
    "         'height_low_inches': '26', \n",
    "         'height_high_inches': '28', \n",
    "         'weight_low_lbs': '80', \n",
    "         'weight_high_lbs': '120'}\n",
    "records.insert_one(akita)"
   ]
  },
  {
   "cell_type": "code",
   "execution_count": 10,
   "metadata": {},
   "outputs": [
    {
     "data": {
      "text/plain": [
       "1"
      ]
     },
     "execution_count": 10,
     "metadata": {},
     "output_type": "execute_result"
    }
   ],
   "source": [
    "records.count_documents({})"
   ]
  },
  {
   "cell_type": "markdown",
   "metadata": {},
   "source": [
    "**insert_many()**\n",
    "\n",
    "    Insert an iterable of documents.\n",
    "    \n",
    "    insert_many(documents, ordered=True, bypass_document_validation=False, session=None)\n"
   ]
  },
  {
   "cell_type": "code",
   "execution_count": 12,
   "metadata": {
    "scrolled": true
   },
   "outputs": [],
   "source": [
    "import csv\n",
    "\n",
    "with open('breedinfo.csv', 'r') as f:\n",
    "    csv_reader = csv.DictReader(f)\n",
    "    records.insert_many(csv_reader)"
   ]
  },
  {
   "cell_type": "code",
   "execution_count": 13,
   "metadata": {},
   "outputs": [
    {
     "data": {
      "text/plain": [
       "151"
      ]
     },
     "execution_count": 13,
     "metadata": {},
     "output_type": "execute_result"
    }
   ],
   "source": [
    "records.count_documents({})"
   ]
  },
  {
   "cell_type": "markdown",
   "metadata": {},
   "source": [
    "**find()**\n",
    "    \n",
    "    Query the database.\n",
    "    \n",
    "    find(filter=None, projection=None, skip=0, limit=0, no_cursor_timeout=False, cursor_type=CursorType.NON_TAILABLE, sort=None, allow_partial_results=False, oplog_replay=False, modifiers=None, batch_size=0, manipulate=True, collation=None, hint=None, max_scan=None, max_time_ms=None, max=None, min=None, return_key=False, show_record_id=False, snapshot=False, comment=None, session=None)"
   ]
  },
  {
   "cell_type": "code",
   "execution_count": 14,
   "metadata": {},
   "outputs": [
    {
     "name": "stdout",
     "output_type": "stream",
     "text": [
      "{'_id': ObjectId('5ddb6d4ebe12f31e801264a7'), 'breed': 'Akita', 'height_low_inches': '26', 'height_high_inches': '28', 'weight_low_lbs': '80', 'weight_high_lbs': '120'}\n",
      "{'_id': ObjectId('5ddb6d89be12f31e801264a8'), 'breed': 'Akita', 'height_low_inches': '26', 'height_high_inches': '28', 'weight_low_lbs': '80', 'weight_high_lbs': '120'}\n",
      "{'_id': ObjectId('5ddb6d89be12f31e801264a9'), 'breed': 'Anatolian Sheepdog', 'height_low_inches': '27', 'height_high_inches': '29', 'weight_low_lbs': '100', 'weight_high_lbs': '150'}\n",
      "{'_id': ObjectId('5ddb6d89be12f31e801264aa'), 'breed': 'Bernese Mountain Dog', 'height_low_inches': '23', 'height_high_inches': '27', 'weight_low_lbs': '85', 'weight_high_lbs': '110'}\n",
      "{'_id': ObjectId('5ddb6d89be12f31e801264ab'), 'breed': 'Bloodhound', 'height_low_inches': '24', 'height_high_inches': '26', 'weight_low_lbs': '80', 'weight_high_lbs': '120'}\n",
      "{'_id': ObjectId('5ddb6d89be12f31e801264ac'), 'breed': 'Borzoi', 'height_low_inches': '26', 'height_high_inches': '28', 'weight_low_lbs': '70', 'weight_high_lbs': '100'}\n",
      "{'_id': ObjectId('5ddb6d89be12f31e801264ad'), 'breed': 'Bullmastiff', 'height_low_inches': '25', 'height_high_inches': '27', 'weight_low_lbs': '100', 'weight_high_lbs': '130'}\n",
      "{'_id': ObjectId('5ddb6d89be12f31e801264ae'), 'breed': 'Great Dane', 'height_low_inches': '32', 'height_high_inches': '32', 'weight_low_lbs': '120', 'weight_high_lbs': '160'}\n",
      "{'_id': ObjectId('5ddb6d89be12f31e801264af'), 'breed': 'Great Pyrenees', 'height_low_inches': '27', 'height_high_inches': '32', 'weight_low_lbs': '95', 'weight_high_lbs': '120'}\n",
      "{'_id': ObjectId('5ddb6d89be12f31e801264b0'), 'breed': 'Great Swiss Mountain Dog', 'height_low_inches': '23', 'height_high_inches': '28', 'weight_low_lbs': '130', 'weight_high_lbs': '150'}\n",
      "{'_id': ObjectId('5ddb6d89be12f31e801264b1'), 'breed': 'Irish Wolfhound', 'height_low_inches': '28', 'height_high_inches': '35', 'weight_low_lbs': '90', 'weight_high_lbs': '150'}\n",
      "{'_id': ObjectId('5ddb6d89be12f31e801264b2'), 'breed': 'Kuvasz', 'height_low_inches': '28', 'height_high_inches': '30', 'weight_low_lbs': '70', 'weight_high_lbs': '120'}\n",
      "{'_id': ObjectId('5ddb6d89be12f31e801264b3'), 'breed': 'Mastiff', 'height_low_inches': '27', 'height_high_inches': '30', 'weight_low_lbs': '175', 'weight_high_lbs': '190'}\n",
      "{'_id': ObjectId('5ddb6d89be12f31e801264b4'), 'breed': 'Neopolitan Mastiff', 'height_low_inches': '24', 'height_high_inches': '30', 'weight_low_lbs': '100', 'weight_high_lbs': '150'}\n",
      "{'_id': ObjectId('5ddb6d89be12f31e801264b5'), 'breed': 'Newfoundland', 'height_low_inches': '26', 'height_high_inches': '28', 'weight_low_lbs': '100', 'weight_high_lbs': '150'}\n",
      "{'_id': ObjectId('5ddb6d89be12f31e801264b6'), 'breed': 'Otter Hound', 'height_low_inches': '24', 'height_high_inches': '26', 'weight_low_lbs': '65', 'weight_high_lbs': '110'}\n",
      "{'_id': ObjectId('5ddb6d89be12f31e801264b7'), 'breed': 'Rottweiler', 'height_low_inches': '22', 'height_high_inches': '27', 'weight_low_lbs': '90', 'weight_high_lbs': '110'}\n",
      "{'_id': ObjectId('5ddb6d89be12f31e801264b8'), 'breed': 'Saint Bernard', 'height_low_inches': '25', 'height_high_inches': '28', 'weight_low_lbs': '110', 'weight_high_lbs': '190'}\n",
      "{'_id': ObjectId('5ddb6d89be12f31e801264b9'), 'breed': 'Afghan Hound', 'height_low_inches': '25', 'height_high_inches': '27', 'weight_low_lbs': '50', 'weight_high_lbs': '60'}\n",
      "{'_id': ObjectId('5ddb6d89be12f31e801264ba'), 'breed': 'Alaskan Malamute', 'height_low_inches': 'na', 'height_high_inches': 'na', 'weight_low_lbs': 'na', 'weight_high_lbs': 'na'}\n",
      "{'_id': ObjectId('5ddb6d89be12f31e801264bb'), 'breed': 'American Foxhound', 'height_low_inches': '22', 'height_high_inches': '25', 'weight_low_lbs': '65', 'weight_high_lbs': '70'}\n",
      "{'_id': ObjectId('5ddb6d89be12f31e801264bc'), 'breed': 'Beauceron', 'height_low_inches': '24', 'height_high_inches': '27', 'weight_low_lbs': '100', 'weight_high_lbs': '120'}\n",
      "{'_id': ObjectId('5ddb6d89be12f31e801264bd'), 'breed': 'Belgian Malinois', 'height_low_inches': '22', 'height_high_inches': '26', 'weight_low_lbs': '60', 'weight_high_lbs': '65'}\n",
      "{'_id': ObjectId('5ddb6d89be12f31e801264be'), 'breed': 'Belgian Sheepdog', 'height_low_inches': '22', 'height_high_inches': '26', 'weight_low_lbs': '60', 'weight_high_lbs': '75'}\n",
      "{'_id': ObjectId('5ddb6d89be12f31e801264bf'), 'breed': 'Belgian Tervuren', 'height_low_inches': '22', 'height_high_inches': '26', 'weight_low_lbs': '60', 'weight_high_lbs': '75'}\n",
      "{'_id': ObjectId('5ddb6d89be12f31e801264c0'), 'breed': 'Black And Tan Coonhound', 'height_low_inches': '23', 'height_high_inches': '27', 'weight_low_lbs': '50', 'weight_high_lbs': '75'}\n",
      "{'_id': ObjectId('5ddb6d89be12f31e801264c1'), 'breed': 'Black Russian Terrier', 'height_low_inches': '25', 'height_high_inches': '29', 'weight_low_lbs': '80', 'weight_high_lbs': '140'}\n",
      "{'_id': ObjectId('5ddb6d89be12f31e801264c2'), 'breed': 'Bouvier Des Flandres', 'height_low_inches': '23', 'height_high_inches': '27', 'weight_low_lbs': '75', 'weight_high_lbs': '95'}\n",
      "{'_id': ObjectId('5ddb6d89be12f31e801264c3'), 'breed': 'Boxer', 'height_low_inches': '21', 'height_high_inches': '25', 'weight_low_lbs': '65', 'weight_high_lbs': '70'}\n",
      "{'_id': ObjectId('5ddb6d89be12f31e801264c4'), 'breed': 'Briard', 'height_low_inches': '23', 'height_high_inches': '27', 'weight_low_lbs': '74', 'weight_high_lbs': '76'}\n",
      "{'_id': ObjectId('5ddb6d89be12f31e801264c5'), 'breed': 'Chesapeake Bay Retriever', 'height_low_inches': '21', 'height_high_inches': '26', 'weight_low_lbs': '55', 'weight_high_lbs': '75'}\n",
      "{'_id': ObjectId('5ddb6d89be12f31e801264c6'), 'breed': 'Clumber Spaniel', 'height_low_inches': '19', 'height_high_inches': '20', 'weight_low_lbs': '35', 'weight_high_lbs': '65'}\n",
      "{'_id': ObjectId('5ddb6d89be12f31e801264c7'), 'breed': 'Collie (Rough) & (Smooth)', 'height_low_inches': '22', 'height_high_inches': '26', 'weight_low_lbs': '50', 'weight_high_lbs': '75'}\n",
      "{'_id': ObjectId('5ddb6d89be12f31e801264c8'), 'breed': 'Curly Coated Retriever', 'height_low_inches': '25', 'height_high_inches': '27', 'weight_low_lbs': '65', 'weight_high_lbs': '80'}\n",
      "{'_id': ObjectId('5ddb6d89be12f31e801264c9'), 'breed': 'Doberman Pinscher', 'height_low_inches': '26', 'height_high_inches': '28', 'weight_low_lbs': '60', 'weight_high_lbs': '100'}\n",
      "{'_id': ObjectId('5ddb6d89be12f31e801264ca'), 'breed': 'English Foxhound', 'height_low_inches': '22', 'height_high_inches': '25', 'weight_low_lbs': '65', 'weight_high_lbs': '70'}\n",
      "{'_id': ObjectId('5ddb6d89be12f31e801264cb'), 'breed': 'English Setter', 'height_low_inches': '23', 'height_high_inches': '27', 'weight_low_lbs': '45', 'weight_high_lbs': '80'}\n",
      "{'_id': ObjectId('5ddb6d89be12f31e801264cc'), 'breed': 'German Shepherd Dog', 'height_low_inches': '22', 'height_high_inches': '26', 'weight_low_lbs': '75', 'weight_high_lbs': '90'}\n",
      "{'_id': ObjectId('5ddb6d89be12f31e801264cd'), 'breed': 'German Shorthaired Pointer', 'height_low_inches': '20', 'height_high_inches': '27', 'weight_low_lbs': '50', 'weight_high_lbs': '80'}\n",
      "{'_id': ObjectId('5ddb6d89be12f31e801264ce'), 'breed': 'German Wirehaired Pointer', 'height_low_inches': '22', 'height_high_inches': '26', 'weight_low_lbs': '60', 'weight_high_lbs': '70'}\n",
      "{'_id': ObjectId('5ddb6d89be12f31e801264cf'), 'breed': 'Giant Schnauzer', 'height_low_inches': '25', 'height_high_inches': '28', 'weight_low_lbs': '70', 'weight_high_lbs': '75'}\n",
      "{'_id': ObjectId('5ddb6d89be12f31e801264d0'), 'breed': 'Golden Retriever', 'height_low_inches': '21', 'height_high_inches': '24', 'weight_low_lbs': '55', 'weight_high_lbs': '75'}\n",
      "{'_id': ObjectId('5ddb6d89be12f31e801264d1'), 'breed': 'Gordon Setter', 'height_low_inches': '23', 'height_high_inches': '27', 'weight_low_lbs': '45', 'weight_high_lbs': '80'}\n",
      "{'_id': ObjectId('5ddb6d89be12f31e801264d2'), 'breed': 'Greyhound', 'height_low_inches': '27', 'height_high_inches': '30', 'weight_low_lbs': '60', 'weight_high_lbs': '70'}\n",
      "{'_id': ObjectId('5ddb6d89be12f31e801264d3'), 'breed': 'Irish Setter', 'height_low_inches': '25', 'height_high_inches': '27', 'weight_low_lbs': '60', 'weight_high_lbs': '70'}\n",
      "{'_id': ObjectId('5ddb6d89be12f31e801264d4'), 'breed': 'Komondor', 'height_low_inches': '26.5', 'height_high_inches': '35.5', 'weight_low_lbs': '80', 'weight_high_lbs': '135'}\n",
      "{'_id': ObjectId('5ddb6d89be12f31e801264d5'), 'breed': 'Labrador Retriever', 'height_low_inches': '21', 'height_high_inches': '24', 'weight_low_lbs': '55', 'weight_high_lbs': '80'}\n",
      "{'_id': ObjectId('5ddb6d89be12f31e801264d6'), 'breed': 'Old English Sheepdog (Bobtail)', 'height_low_inches': '20', 'height_high_inches': '24', 'weight_low_lbs': '60', 'weight_high_lbs': '65'}\n",
      "{'_id': ObjectId('5ddb6d89be12f31e801264d7'), 'breed': 'Poodle Standard', 'height_low_inches': '15', 'height_high_inches': '25', 'weight_low_lbs': '45', 'weight_high_lbs': '45'}\n",
      "{'_id': ObjectId('5ddb6d89be12f31e801264d8'), 'breed': 'Rhodesian Ridgeback', 'height_low_inches': '24', 'height_high_inches': '27', 'weight_low_lbs': '70', 'weight_high_lbs': '85'}\n",
      "{'_id': ObjectId('5ddb6d89be12f31e801264d9'), 'breed': 'Scottish Deerhound', 'height_low_inches': '28', 'height_high_inches': '32', 'weight_low_lbs': '75', 'weight_high_lbs': '110'}\n",
      "{'_id': ObjectId('5ddb6d89be12f31e801264da'), 'breed': 'Spinone Italiano', 'height_low_inches': '23', 'height_high_inches': '28', 'weight_low_lbs': '65', 'weight_high_lbs': '80'}\n",
      "{'_id': ObjectId('5ddb6d89be12f31e801264db'), 'breed': 'Tibetan Mastiff', 'height_low_inches': '24', 'height_high_inches': '26', 'weight_low_lbs': '140', 'weight_high_lbs': '170'}\n",
      "{'_id': ObjectId('5ddb6d89be12f31e801264dc'), 'breed': 'Weimaraner', 'height_low_inches': '25', 'height_high_inches': '27', 'weight_low_lbs': '70', 'weight_high_lbs': '85'}\n",
      "{'_id': ObjectId('5ddb6d89be12f31e801264dd'), 'breed': 'Airdale Terrier', 'height_low_inches': '22', 'height_high_inches': '24', 'weight_low_lbs': '45', 'weight_high_lbs': '45'}\n",
      "{'_id': ObjectId('5ddb6d89be12f31e801264de'), 'breed': 'American Staffordshire Terrier', 'height_low_inches': '17', 'height_high_inches': '19', 'weight_low_lbs': '40', 'weight_high_lbs': '50'}\n",
      "{'_id': ObjectId('5ddb6d89be12f31e801264df'), 'breed': 'American Water Spaniel', 'height_low_inches': '15', 'height_high_inches': '18', 'weight_low_lbs': '25', 'weight_high_lbs': '45'}\n",
      "{'_id': ObjectId('5ddb6d89be12f31e801264e0'), 'breed': 'Australian Cattle Dog', 'height_low_inches': '17', 'height_high_inches': '20', 'weight_low_lbs': '35', 'weight_high_lbs': '45'}\n",
      "{'_id': ObjectId('5ddb6d89be12f31e801264e1'), 'breed': 'Australian Shepherd', 'height_low_inches': '18', 'height_high_inches': '23', 'weight_low_lbs': '40', 'weight_high_lbs': '60'}\n",
      "{'_id': ObjectId('5ddb6d89be12f31e801264e2'), 'breed': 'Basset Hound', 'height_low_inches': '14', 'height_high_inches': '14', 'weight_low_lbs': '40', 'weight_high_lbs': '50'}\n",
      "{'_id': ObjectId('5ddb6d89be12f31e801264e3'), 'breed': 'Bearded Collie', 'height_low_inches': '20', 'height_high_inches': '22', 'weight_low_lbs': '40', 'weight_high_lbs': '60'}\n",
      "{'_id': ObjectId('5ddb6d89be12f31e801264e4'), 'breed': 'Border Collie', 'height_low_inches': '19', 'height_high_inches': '21', 'weight_low_lbs': '40', 'weight_high_lbs': '40'}\n",
      "{'_id': ObjectId('5ddb6d89be12f31e801264e5'), 'breed': 'Brittany', 'height_low_inches': '17', 'height_high_inches': '21', 'weight_low_lbs': '30', 'weight_high_lbs': '40'}\n",
      "{'_id': ObjectId('5ddb6d89be12f31e801264e6'), 'breed': 'Bull Dog', 'height_low_inches': '12', 'height_high_inches': '16', 'weight_low_lbs': '50', 'weight_high_lbs': '60'}\n",
      "{'_id': ObjectId('5ddb6d89be12f31e801264e7'), 'breed': 'Bull Terrier', 'height_low_inches': '21', 'height_high_inches': '22', 'weight_low_lbs': '50', 'weight_high_lbs': '70'}\n",
      "{'_id': ObjectId('5ddb6d89be12f31e801264e8'), 'breed': 'Canaan Dog', 'height_low_inches': '19', 'height_high_inches': '24', 'weight_low_lbs': '35', 'weight_high_lbs': '55'}\n",
      "{'_id': ObjectId('5ddb6d89be12f31e801264e9'), 'breed': 'Chinese Shar Pei', 'height_low_inches': '18', 'height_high_inches': '20', 'weight_low_lbs': '45', 'weight_high_lbs': '55'}\n",
      "{'_id': ObjectId('5ddb6d89be12f31e801264ea'), 'breed': 'Chow Chow', 'height_low_inches': '19', 'height_high_inches': '22', 'weight_low_lbs': '45', 'weight_high_lbs': '55'}\n",
      "{'_id': ObjectId('5ddb6d89be12f31e801264eb'), 'breed': 'Cocker Spaniel-American', 'height_low_inches': '15', 'height_high_inches': '16', 'weight_low_lbs': '22', 'weight_high_lbs': '28'}\n",
      "{'_id': ObjectId('5ddb6d89be12f31e801264ec'), 'breed': 'Cocker Spaniel-English', 'height_low_inches': '15', 'height_high_inches': '17', 'weight_low_lbs': '25', 'weight_high_lbs': '35'}\n",
      "{'_id': ObjectId('5ddb6d89be12f31e801264ed'), 'breed': 'Dalmatian', 'height_low_inches': '19', 'height_high_inches': '23', 'weight_low_lbs': '45', 'weight_high_lbs': '70'}\n",
      "{'_id': ObjectId('5ddb6d89be12f31e801264ee'), 'breed': 'English Springer Spaniel', 'height_low_inches': '20', 'height_high_inches': '20', 'weight_low_lbs': '45', 'weight_high_lbs': '55'}\n",
      "{'_id': ObjectId('5ddb6d89be12f31e801264ef'), 'breed': 'Field Spaniel', 'height_low_inches': '18', 'height_high_inches': '18', 'weight_low_lbs': '35', 'weight_high_lbs': '50'}\n",
      "{'_id': ObjectId('5ddb6d89be12f31e801264f0'), 'breed': 'Flat Coated Retriever', 'height_low_inches': '22', 'height_high_inches': '23', 'weight_low_lbs': '60', 'weight_high_lbs': '70'}\n",
      "{'_id': ObjectId('5ddb6d89be12f31e801264f1'), 'breed': 'Finnish Spitz', 'height_low_inches': '15', 'height_high_inches': '20', 'weight_low_lbs': '31', 'weight_high_lbs': '35'}\n",
      "{'_id': ObjectId('5ddb6d89be12f31e801264f2'), 'breed': 'Harrier', 'height_low_inches': '19', 'height_high_inches': '21', 'weight_low_lbs': '40', 'weight_high_lbs': '60'}\n",
      "{'_id': ObjectId('5ddb6d89be12f31e801264f3'), 'breed': 'Ibizan Hound', 'height_low_inches': '22', 'height_high_inches': '29', 'weight_low_lbs': '42', 'weight_high_lbs': '55'}\n",
      "{'_id': ObjectId('5ddb6d89be12f31e801264f4'), 'breed': 'Irish Terrier', 'height_low_inches': '18', 'height_high_inches': '19', 'weight_low_lbs': '25', 'weight_high_lbs': '27'}\n",
      "{'_id': ObjectId('5ddb6d89be12f31e801264f5'), 'breed': 'Irish Water Spaniel', 'height_low_inches': '10', 'height_high_inches': '23', 'weight_low_lbs': '45', 'weight_high_lbs': '65'}\n",
      "{'_id': ObjectId('5ddb6d89be12f31e801264f6'), 'breed': 'Keeshond', 'height_low_inches': '17', 'height_high_inches': '19', 'weight_low_lbs': '35', 'weight_high_lbs': '50'}\n",
      "{'_id': ObjectId('5ddb6d89be12f31e801264f7'), 'breed': 'Kerry Blue Terrier', 'height_low_inches': '17', 'height_high_inches': '21', 'weight_low_lbs': '30', 'weight_high_lbs': '45'}\n",
      "{'_id': ObjectId('5ddb6d89be12f31e801264f8'), 'breed': 'Norwegian Elkhound', 'height_low_inches': '19', 'height_high_inches': '20', 'weight_low_lbs': '40', 'weight_high_lbs': '60'}\n",
      "{'_id': ObjectId('5ddb6d89be12f31e801264f9'), 'breed': 'Nova Scotia Duck Tolling Retriever', 'height_low_inches': '17', 'height_high_inches': '21', 'weight_low_lbs': '35', 'weight_high_lbs': '50'}\n",
      "{'_id': ObjectId('5ddb6d89be12f31e801264fa'), 'breed': 'Petit Basset Griffon Vendeen', 'height_low_inches': '13', 'height_high_inches': '15', 'weight_low_lbs': '30', 'weight_high_lbs': '40'}\n",
      "{'_id': ObjectId('5ddb6d89be12f31e801264fb'), 'breed': 'Pharaoh Hound', 'height_low_inches': '21', 'height_high_inches': '25', 'weight_low_lbs': '45', 'weight_high_lbs': '55'}\n",
      "{'_id': ObjectId('5ddb6d89be12f31e801264fc'), 'breed': 'Plott Hound', 'height_low_inches': '20', 'height_high_inches': '24', 'weight_low_lbs': '45', 'weight_high_lbs': '55'}\n",
      "{'_id': ObjectId('5ddb6d89be12f31e801264fd'), 'breed': 'Pointer', 'height_low_inches': '21', 'height_high_inches': '24', 'weight_low_lbs': '44', 'weight_high_lbs': '66'}\n",
      "{'_id': ObjectId('5ddb6d89be12f31e801264fe'), 'breed': 'Polish Lowland Sheepdog', 'height_low_inches': '16', 'height_high_inches': '20', 'weight_low_lbs': '30', 'weight_high_lbs': '35'}\n",
      "{'_id': ObjectId('5ddb6d89be12f31e801264ff'), 'breed': 'Portuguese Water Dog', 'height_low_inches': '20', 'height_high_inches': '23', 'weight_low_lbs': '42', 'weight_high_lbs': '60'}\n",
      "{'_id': ObjectId('5ddb6d89be12f31e80126500'), 'breed': 'Redbone Coonhound', 'height_low_inches': '21', 'height_high_inches': '27', 'weight_low_lbs': '50', 'weight_high_lbs': '70'}\n",
      "{'_id': ObjectId('5ddb6d89be12f31e80126501'), 'breed': 'Saluki', 'height_low_inches': '23', 'height_high_inches': '28', 'weight_low_lbs': '35', 'weight_high_lbs': '70'}\n",
      "{'_id': ObjectId('5ddb6d89be12f31e80126502'), 'breed': 'Samoyed', 'height_low_inches': '19', 'height_high_inches': '24', 'weight_low_lbs': '50', 'weight_high_lbs': '65'}\n",
      "{'_id': ObjectId('5ddb6d89be12f31e80126503'), 'breed': 'Siberian Husky', 'height_low_inches': '20', 'height_high_inches': '23', 'weight_low_lbs': '40', 'weight_high_lbs': '60'}\n",
      "{'_id': ObjectId('5ddb6d89be12f31e80126504'), 'breed': 'Soft-Coated Wheaten Terrier', 'height_low_inches': '18', 'height_high_inches': '20', 'weight_low_lbs': '35', 'weight_high_lbs': '45'}\n",
      "{'_id': ObjectId('5ddb6d89be12f31e80126505'), 'breed': 'Staffordshire Bull Terrier', 'height_low_inches': '14', 'height_high_inches': '16', 'weight_low_lbs': '24', 'weight_high_lbs': '28'}\n",
      "{'_id': ObjectId('5ddb6d89be12f31e80126506'), 'breed': 'Standard Schnauzer', 'height_low_inches': '17', 'height_high_inches': '19', 'weight_low_lbs': '33', 'weight_high_lbs': '33'}\n",
      "{'_id': ObjectId('5ddb6d89be12f31e80126507'), 'breed': 'Sussex Spaniel', 'height_low_inches': '15', 'height_high_inches': '16', 'weight_low_lbs': '40', 'weight_high_lbs': '45'}\n",
      "{'_id': ObjectId('5ddb6d89be12f31e80126508'), 'breed': 'Vizsla', 'height_low_inches': '48', 'height_high_inches': '66', 'weight_low_lbs': '22', 'weight_high_lbs': '25'}\n",
      "{'_id': ObjectId('5ddb6d89be12f31e80126509'), 'breed': 'Welsh Springer Spaniel', 'height_low_inches': '16', 'height_high_inches': '19', 'weight_low_lbs': '35', 'weight_high_lbs': '45'}\n",
      "{'_id': ObjectId('5ddb6d89be12f31e8012650a'), 'breed': 'Wirehaired Pointing Griffon', 'height_low_inches': '20', 'height_high_inches': '24', 'weight_low_lbs': '45', 'weight_high_lbs': '60'}\n",
      "{'_id': ObjectId('5ddb6d89be12f31e8012650b'), 'breed': 'American Eskimo', 'height_low_inches': '9', 'height_high_inches': '19', 'weight_low_lbs': '25', 'weight_high_lbs': '30'}\n",
      "{'_id': ObjectId('5ddb6d89be12f31e8012650c'), 'breed': 'Australian Terrier', 'height_low_inches': '10', 'height_high_inches': '10', 'weight_low_lbs': '10', 'weight_high_lbs': '14'}\n",
      "{'_id': ObjectId('5ddb6d89be12f31e8012650d'), 'breed': 'Basenji', 'height_low_inches': '17', 'height_high_inches': '17', 'weight_low_lbs': '20', 'weight_high_lbs': '22'}\n",
      "{'_id': ObjectId('5ddb6d89be12f31e8012650e'), 'breed': 'Beagle', 'height_low_inches': '13', 'height_high_inches': '16', 'weight_low_lbs': '18', 'weight_high_lbs': '30'}\n",
      "{'_id': ObjectId('5ddb6d89be12f31e8012650f'), 'breed': 'Bedlington Terrier', 'height_low_inches': '15', 'height_high_inches': '16', 'weight_low_lbs': '18', 'weight_high_lbs': '23'}\n",
      "{'_id': ObjectId('5ddb6d89be12f31e80126510'), 'breed': 'Bichon Frise', 'height_low_inches': '9.5', 'height_high_inches': '11.5', 'weight_low_lbs': '10', 'weight_high_lbs': '18'}\n",
      "{'_id': ObjectId('5ddb6d89be12f31e80126511'), 'breed': 'Border Terrier', 'height_low_inches': '12', 'height_high_inches': '15', 'weight_low_lbs': '12', 'weight_high_lbs': '15'}\n",
      "{'_id': ObjectId('5ddb6d89be12f31e80126512'), 'breed': 'Boston Terrier', 'height_low_inches': '14', 'height_high_inches': '15', 'weight_low_lbs': '15', 'weight_high_lbs': '25'}\n",
      "{'_id': ObjectId('5ddb6d89be12f31e80126513'), 'breed': 'Brussels Griffon', 'height_low_inches': '7', 'height_high_inches': '8', 'weight_low_lbs': '6', 'weight_high_lbs': '12'}\n",
      "{'_id': ObjectId('5ddb6d89be12f31e80126514'), 'breed': 'Cairn Terrier', 'height_low_inches': '9', 'height_high_inches': '10', 'weight_low_lbs': '14', 'weight_high_lbs': '14'}\n",
      "{'_id': ObjectId('5ddb6d89be12f31e80126515'), 'breed': 'Cardigan Welsh Corgi', 'height_low_inches': '10', 'height_high_inches': '12', 'weight_low_lbs': '25', 'weight_high_lbs': '35'}\n",
      "{'_id': ObjectId('5ddb6d89be12f31e80126516'), 'breed': 'Cavalier King Charles Spaniel', 'height_low_inches': '10', 'height_high_inches': '15', 'weight_low_lbs': '15', 'weight_high_lbs': '20'}\n",
      "{'_id': ObjectId('5ddb6d89be12f31e80126517'), 'breed': 'Coton de Tulear', 'height_low_inches': 'not found', 'height_high_inches': 'not found', 'weight_low_lbs': 'not found', 'weight_high_lbs': 'not found'}\n",
      "{'_id': ObjectId('5ddb6d89be12f31e80126518'), 'breed': 'Dachshund', 'height_low_inches': '7', 'height_high_inches': '10', 'weight_low_lbs': '16', 'weight_high_lbs': '32'}\n",
      "{'_id': ObjectId('5ddb6d89be12f31e80126519'), 'breed': 'Dandie Dinmont Terrier', 'height_low_inches': '18', 'height_high_inches': '24', 'weight_low_lbs': '8', 'weight_high_lbs': '11'}\n",
      "{'_id': ObjectId('5ddb6d89be12f31e8012651a'), 'breed': 'English Toy Spaniel', 'height_low_inches': '10', 'height_high_inches': '10', 'weight_low_lbs': '9', 'weight_high_lbs': '15'}\n",
      "{'_id': ObjectId('5ddb6d89be12f31e8012651b'), 'breed': 'Fox Terrier â€“ Smooth', 'height_low_inches': '13', 'height_high_inches': '16', 'weight_low_lbs': '15', 'weight_high_lbs': '20'}\n",
      "{'_id': ObjectId('5ddb6d89be12f31e8012651c'), 'breed': 'Fox Terrier â€“ Wirehair', 'height_low_inches': '13', 'height_high_inches': '16', 'weight_low_lbs': '15', 'weight_high_lbs': '20'}\n",
      "{'_id': ObjectId('5ddb6d89be12f31e8012651d'), 'breed': 'French Bulldog', 'height_low_inches': '11', 'height_high_inches': '12', 'weight_low_lbs': '17', 'weight_high_lbs': '28'}\n",
      "{'_id': ObjectId('5ddb6d89be12f31e8012651e'), 'breed': 'German Pinscher', 'height_low_inches': '16', 'height_high_inches': '19', 'weight_low_lbs': '25', 'weight_high_lbs': '35'}\n",
      "{'_id': ObjectId('5ddb6d89be12f31e8012651f'), 'breed': 'Glen Imaal Terrier', 'height_low_inches': '14', 'height_high_inches': '14', 'weight_low_lbs': '34', 'weight_high_lbs': '36'}\n",
      "{'_id': ObjectId('5ddb6d89be12f31e80126520'), 'breed': 'Lakeland Terrier', 'height_low_inches': '13', 'height_high_inches': '14', 'weight_low_lbs': '15', 'weight_high_lbs': '17'}\n",
      "{'_id': ObjectId('5ddb6d89be12f31e80126521'), 'breed': 'Manchester Terrier (Standard)', 'height_low_inches': '15', 'height_high_inches': '16', 'weight_low_lbs': '17', 'weight_high_lbs': '18'}\n",
      "{'_id': ObjectId('5ddb6d89be12f31e80126522'), 'breed': 'Poodle Miniature', 'height_low_inches': '10', 'height_high_inches': '15', 'weight_low_lbs': '20', 'weight_high_lbs': '20'}\n",
      "{'_id': ObjectId('5ddb6d89be12f31e80126523'), 'breed': 'Pug', 'height_low_inches': '10', 'height_high_inches': '11', 'weight_low_lbs': '14', 'weight_high_lbs': '22'}\n",
      "{'_id': ObjectId('5ddb6d89be12f31e80126524'), 'breed': 'Puli', 'height_low_inches': '16', 'height_high_inches': '17', 'weight_low_lbs': '29', 'weight_high_lbs': '33'}\n",
      "{'_id': ObjectId('5ddb6d89be12f31e80126525'), 'breed': 'Schipperke', 'height_low_inches': '10', 'height_high_inches': '13', 'weight_low_lbs': '12', 'weight_high_lbs': '18'}\n",
      "{'_id': ObjectId('5ddb6d89be12f31e80126526'), 'breed': 'Scottish Terrier', 'height_low_inches': '10', 'height_high_inches': '12', 'weight_low_lbs': '18', 'weight_high_lbs': '22'}\n",
      "{'_id': ObjectId('5ddb6d89be12f31e80126527'), 'breed': 'Sealyham Terrier', 'height_low_inches': '12', 'height_high_inches': '12', 'weight_low_lbs': '18', 'weight_high_lbs': '20'}\n",
      "{'_id': ObjectId('5ddb6d89be12f31e80126528'), 'breed': 'Shetland Sheepdog (Sheltie)', 'height_low_inches': '13', 'height_high_inches': '16', 'weight_low_lbs': '14', 'weight_high_lbs': '20'}\n",
      "{'_id': ObjectId('5ddb6d89be12f31e80126529'), 'breed': 'Shiba Inu', 'height_low_inches': '13', 'height_high_inches': '16', 'weight_low_lbs': '15', 'weight_high_lbs': '30'}\n",
      "{'_id': ObjectId('5ddb6d89be12f31e8012652a'), 'breed': 'Shih Tzu', 'height_low_inches': '8', 'height_high_inches': '11', 'weight_low_lbs': '9', 'weight_high_lbs': '16'}\n",
      "{'_id': ObjectId('5ddb6d89be12f31e8012652b'), 'breed': 'Silky Terrier', 'height_low_inches': '9', 'height_high_inches': '10', 'weight_low_lbs': '8', 'weight_high_lbs': '11'}\n",
      "{'_id': ObjectId('5ddb6d89be12f31e8012652c'), 'breed': 'Skye Terrier', 'height_low_inches': '10', 'height_high_inches': '10', 'weight_low_lbs': '25', 'weight_high_lbs': '25'}\n",
      "{'_id': ObjectId('5ddb6d89be12f31e8012652d'), 'breed': 'Tibetan Spaniel', 'height_low_inches': '10', 'height_high_inches': '10', 'weight_low_lbs': '9', 'weight_high_lbs': '15'}\n",
      "{'_id': ObjectId('5ddb6d89be12f31e8012652e'), 'breed': 'Tibetan Terrier', 'height_low_inches': '14', 'height_high_inches': '17', 'weight_low_lbs': '20', 'weight_high_lbs': '30'}\n",
      "{'_id': ObjectId('5ddb6d89be12f31e8012652f'), 'breed': 'Welsh Terrier', 'height_low_inches': '15', 'height_high_inches': '15', 'weight_low_lbs': '20', 'weight_high_lbs': '21'}\n",
      "{'_id': ObjectId('5ddb6d89be12f31e80126530'), 'breed': 'West Highland White Terrier', 'height_low_inches': '11', 'height_high_inches': '11', 'weight_low_lbs': '13', 'weight_high_lbs': '15'}\n",
      "{'_id': ObjectId('5ddb6d89be12f31e80126531'), 'breed': 'Whippet', 'height_low_inches': '18', 'height_high_inches': '22', 'weight_low_lbs': '27', 'weight_high_lbs': '30'}\n",
      "{'_id': ObjectId('5ddb6d89be12f31e80126532'), 'breed': 'Affenpinscher', 'height_low_inches': '9', 'height_high_inches': '12', 'weight_low_lbs': '8', 'weight_high_lbs': '12'}\n",
      "{'_id': ObjectId('5ddb6d89be12f31e80126533'), 'breed': 'Chihuahua', 'height_low_inches': '6', 'height_high_inches': '9', 'weight_low_lbs': '2', 'weight_high_lbs': '5'}\n",
      "{'_id': ObjectId('5ddb6d89be12f31e80126534'), 'breed': 'Chinese Crested', 'height_low_inches': '11', 'height_high_inches': '13', 'weight_low_lbs': '5', 'weight_high_lbs': '12'}\n",
      "{'_id': ObjectId('5ddb6d89be12f31e80126535'), 'breed': 'Italian Greyhound', 'height_low_inches': '12', 'height_high_inches': '15', 'weight_low_lbs': '6', 'weight_high_lbs': '10'}\n",
      "{'_id': ObjectId('5ddb6d89be12f31e80126536'), 'breed': 'Japanese Chin', 'height_low_inches': '8', 'height_high_inches': '11', 'weight_low_lbs': '4', 'weight_high_lbs': '11'}\n",
      "{'_id': ObjectId('5ddb6d89be12f31e80126537'), 'breed': 'Maltese', 'height_low_inches': '8', 'height_high_inches': '10', 'weight_low_lbs': '4', 'weight_high_lbs': '6'}\n",
      "{'_id': ObjectId('5ddb6d89be12f31e80126538'), 'breed': 'Manchester Terrier (Toy)', 'height_low_inches': '10', 'height_high_inches': '12', 'weight_low_lbs': '6', 'weight_high_lbs': '8'}\n",
      "{'_id': ObjectId('5ddb6d89be12f31e80126539'), 'breed': 'Papillon', 'height_low_inches': '8', 'height_high_inches': '11', 'weight_low_lbs': '5', 'weight_high_lbs': '10'}\n",
      "{'_id': ObjectId('5ddb6d89be12f31e8012653a'), 'breed': 'Pomeranian', 'height_low_inches': '12', 'height_high_inches': '12', 'weight_low_lbs': '3', 'weight_high_lbs': '7'}\n",
      "{'_id': ObjectId('5ddb6d89be12f31e8012653b'), 'breed': 'Poodle Toy', 'height_low_inches': '10', 'height_high_inches': '10', 'weight_low_lbs': '10', 'weight_high_lbs': '10'}\n",
      "{'_id': ObjectId('5ddb6d89be12f31e8012653c'), 'breed': 'Toy Fox Terrier', 'height_low_inches': '10', 'height_high_inches': '10', 'weight_low_lbs': '4', 'weight_high_lbs': '7'}\n",
      "{'_id': ObjectId('5ddb6d89be12f31e8012653d'), 'breed': 'Yorkshire Terrier', 'height_low_inches': '8', 'height_high_inches': '8', 'weight_low_lbs': '3', 'weight_high_lbs': '7'}\n"
     ]
    }
   ],
   "source": [
    "dogsinfo = records.find()\n",
    "for dog in dogsinfo:\n",
    "    print(dog)"
   ]
  },
  {
   "cell_type": "markdown",
   "metadata": {},
   "source": [
    "**find_one()**\n",
    "\n",
    "    Get a single document from the database.\n",
    "    \n",
    "    find_one(filter=None, *args, **kwargs)"
   ]
  },
  {
   "cell_type": "code",
   "execution_count": 15,
   "metadata": {},
   "outputs": [
    {
     "name": "stdout",
     "output_type": "stream",
     "text": [
      "{'_id': ObjectId('5ddb6d89be12f31e801264ff'), 'breed': 'Portuguese Water Dog', 'height_low_inches': '20', 'height_high_inches': '23', 'weight_low_lbs': '42', 'weight_high_lbs': '60'}\n"
     ]
    }
   ],
   "source": [
    "print(records.find_one({'breed': 'Portuguese Water Dog'}))"
   ]
  },
  {
   "cell_type": "markdown",
   "metadata": {},
   "source": [
    "**update_one()**\n",
    "    \n",
    "    Update a single document matching the filter.\n",
    "    \n",
    "    update_one(filter, update, upsert=False, bypass_document_validation=False, collation=None, array_filters=None, session=None)"
   ]
  },
  {
   "cell_type": "code",
   "execution_count": 16,
   "metadata": {},
   "outputs": [
    {
     "data": {
      "text/plain": [
       "<pymongo.results.UpdateResult at 0x7ff948151460>"
      ]
     },
     "execution_count": 16,
     "metadata": {},
     "output_type": "execute_result"
    }
   ],
   "source": [
    "dog_updates = {'weight_high_lbs': '65'}\n",
    "records.update_one({'breed': 'Portuguese Water Dog'}, {'$set': dog_updates})"
   ]
  },
  {
   "cell_type": "code",
   "execution_count": 17,
   "metadata": {},
   "outputs": [
    {
     "name": "stdout",
     "output_type": "stream",
     "text": [
      "{'_id': ObjectId('5ddb6d89be12f31e801264ff'), 'breed': 'Portuguese Water Dog', 'height_low_inches': '20', 'height_high_inches': '23', 'weight_low_lbs': '42', 'weight_high_lbs': '65'}\n"
     ]
    }
   ],
   "source": [
    "print(records.find_one({'breed': 'Portuguese Water Dog'}))"
   ]
  },
  {
   "cell_type": "markdown",
   "metadata": {},
   "source": [
    "**update_many()**\n",
    "\n",
    "    Update one or more documents that match the filter.\n",
    "    \n",
    "    update_many(filter, update, upsert=False, array_filters=None, bypass_document_validation=False, collation=None, session=None)"
   ]
  },
  {
   "cell_type": "code",
   "execution_count": 18,
   "metadata": {},
   "outputs": [
    {
     "data": {
      "text/plain": [
       "<pymongo.results.UpdateResult at 0x7ff9480d6320>"
      ]
     },
     "execution_count": 18,
     "metadata": {},
     "output_type": "execute_result"
    }
   ],
   "source": [
    "dog_updates = {'weight_high_lbs': '100'}\n",
    "records.update_many({'height_high_inches': '23'}, {'$set': dog_updates})"
   ]
  },
  {
   "cell_type": "code",
   "execution_count": 19,
   "metadata": {},
   "outputs": [
    {
     "name": "stdout",
     "output_type": "stream",
     "text": [
      "{'_id': ObjectId('5ddb6d89be12f31e801264e1'), 'breed': 'Australian Shepherd', 'height_low_inches': '18', 'height_high_inches': '23', 'weight_low_lbs': '40', 'weight_high_lbs': '100'}\n",
      "{'_id': ObjectId('5ddb6d89be12f31e801264ed'), 'breed': 'Dalmatian', 'height_low_inches': '19', 'height_high_inches': '23', 'weight_low_lbs': '45', 'weight_high_lbs': '100'}\n",
      "{'_id': ObjectId('5ddb6d89be12f31e801264f0'), 'breed': 'Flat Coated Retriever', 'height_low_inches': '22', 'height_high_inches': '23', 'weight_low_lbs': '60', 'weight_high_lbs': '100'}\n",
      "{'_id': ObjectId('5ddb6d89be12f31e801264f5'), 'breed': 'Irish Water Spaniel', 'height_low_inches': '10', 'height_high_inches': '23', 'weight_low_lbs': '45', 'weight_high_lbs': '100'}\n",
      "{'_id': ObjectId('5ddb6d89be12f31e801264ff'), 'breed': 'Portuguese Water Dog', 'height_low_inches': '20', 'height_high_inches': '23', 'weight_low_lbs': '42', 'weight_high_lbs': '100'}\n",
      "{'_id': ObjectId('5ddb6d89be12f31e80126503'), 'breed': 'Siberian Husky', 'height_low_inches': '20', 'height_high_inches': '23', 'weight_low_lbs': '40', 'weight_high_lbs': '100'}\n"
     ]
    }
   ],
   "source": [
    "dogsinfo = records.find({'height_high_inches': '23'})\n",
    "for dog in dogsinfo:\n",
    "    print(dog)"
   ]
  },
  {
   "cell_type": "markdown",
   "metadata": {},
   "source": [
    "**delete_one()**\n",
    "\n",
    "    Delete a single document matching the filter.\n",
    "    \n",
    "    delete_one(filter, collation=None, session=None)"
   ]
  },
  {
   "cell_type": "code",
   "execution_count": 20,
   "metadata": {},
   "outputs": [
    {
     "data": {
      "text/plain": [
       "6"
      ]
     },
     "execution_count": 20,
     "metadata": {},
     "output_type": "execute_result"
    }
   ],
   "source": [
    "records.count_documents({'height_high_inches': '23'})"
   ]
  },
  {
   "cell_type": "code",
   "execution_count": 21,
   "metadata": {},
   "outputs": [
    {
     "data": {
      "text/plain": [
       "<pymongo.results.DeleteResult at 0x7ff948158af0>"
      ]
     },
     "execution_count": 21,
     "metadata": {},
     "output_type": "execute_result"
    }
   ],
   "source": [
    "records.delete_one({'breed': 'Dalmatian'})"
   ]
  },
  {
   "cell_type": "code",
   "execution_count": 22,
   "metadata": {},
   "outputs": [
    {
     "data": {
      "text/plain": [
       "5"
      ]
     },
     "execution_count": 22,
     "metadata": {},
     "output_type": "execute_result"
    }
   ],
   "source": [
    "records.count_documents({'height_high_inches': '23'})"
   ]
  },
  {
   "cell_type": "markdown",
   "metadata": {},
   "source": [
    "**delete_many()**\n",
    "\n",
    "    Delete one or more documents matching the filter.\n",
    "    \n",
    "    delete_many(filter, collation=None, session=None)"
   ]
  },
  {
   "cell_type": "code",
   "execution_count": 23,
   "metadata": {},
   "outputs": [
    {
     "data": {
      "text/plain": [
       "7"
      ]
     },
     "execution_count": 23,
     "metadata": {},
     "output_type": "execute_result"
    }
   ],
   "source": [
    "records.count_documents({'weight_high_lbs': '100'})"
   ]
  },
  {
   "cell_type": "code",
   "execution_count": 24,
   "metadata": {},
   "outputs": [
    {
     "data": {
      "text/plain": [
       "<pymongo.results.DeleteResult at 0x7ff94806c9b0>"
      ]
     },
     "execution_count": 24,
     "metadata": {},
     "output_type": "execute_result"
    }
   ],
   "source": [
    "records.delete_many({'weight_high_lbs': '100'})"
   ]
  },
  {
   "cell_type": "code",
   "execution_count": 25,
   "metadata": {},
   "outputs": [
    {
     "data": {
      "text/plain": [
       "0"
      ]
     },
     "execution_count": 25,
     "metadata": {},
     "output_type": "execute_result"
    }
   ],
   "source": [
    "records.count_documents({'weight_high_lbs': '100'})"
   ]
  },
  {
   "cell_type": "markdown",
   "metadata": {},
   "source": [
    "**Delete all Documents**"
   ]
  },
  {
   "cell_type": "code",
   "execution_count": 26,
   "metadata": {},
   "outputs": [
    {
     "data": {
      "text/plain": [
       "143"
      ]
     },
     "execution_count": 26,
     "metadata": {},
     "output_type": "execute_result"
    }
   ],
   "source": [
    "records.count_documents({})"
   ]
  },
  {
   "cell_type": "code",
   "execution_count": 27,
   "metadata": {},
   "outputs": [
    {
     "data": {
      "text/plain": [
       "<pymongo.results.DeleteResult at 0x7ff94807e5f0>"
      ]
     },
     "execution_count": 27,
     "metadata": {},
     "output_type": "execute_result"
    }
   ],
   "source": [
    "records.delete_many({})"
   ]
  },
  {
   "cell_type": "code",
   "execution_count": 28,
   "metadata": {},
   "outputs": [
    {
     "data": {
      "text/plain": [
       "0"
      ]
     },
     "execution_count": 28,
     "metadata": {},
     "output_type": "execute_result"
    }
   ],
   "source": [
    "records.count_documents({})"
   ]
  },
  {
   "cell_type": "markdown",
   "metadata": {},
   "source": [
    "**Adding Multiple Document by specifying _id**"
   ]
  },
  {
   "cell_type": "code",
   "execution_count": 29,
   "metadata": {},
   "outputs": [
    {
     "name": "stdout",
     "output_type": "stream",
     "text": [
      "['Akita', 'Anatolian Sheepdog', 'Bernese Mountain Dog', 'Bloodhound', 'Borzoi', 'Bullmastiff', 'Great Dane', 'Great Pyrenees', 'Great Swiss Mountain Dog', 'Irish Wolfhound', 'Kuvasz', 'Mastiff', 'Neopolitan Mastiff', 'Newfoundland', 'Otter Hound', 'Rottweiler', 'Saint Bernard', 'Afghan Hound', 'Alaskan Malamute', 'American Foxhound', 'Beauceron', 'Belgian Malinois', 'Belgian Sheepdog', 'Belgian Tervuren', 'Black And Tan Coonhound', 'Black Russian Terrier', 'Bouvier Des Flandres', 'Boxer', 'Briard', 'Chesapeake Bay Retriever', 'Clumber Spaniel', 'Collie (Rough) & (Smooth)', 'Curly Coated Retriever', 'Doberman Pinscher', 'English Foxhound', 'English Setter', 'German Shepherd Dog', 'German Shorthaired Pointer', 'German Wirehaired Pointer', 'Giant Schnauzer', 'Golden Retriever', 'Gordon Setter', 'Greyhound', 'Irish Setter', 'Komondor', 'Labrador Retriever', 'Old English Sheepdog (Bobtail)', 'Poodle Standard', 'Rhodesian Ridgeback', 'Scottish Deerhound', 'Spinone Italiano', 'Tibetan Mastiff', 'Weimaraner', 'Airdale Terrier', 'American Staffordshire Terrier', 'American Water Spaniel', 'Australian Cattle Dog', 'Australian Shepherd', 'Basset Hound', 'Bearded Collie', 'Border Collie', 'Brittany', 'Bull Dog', 'Bull Terrier', 'Canaan Dog', 'Chinese Shar Pei', 'Chow Chow', 'Cocker Spaniel-American', 'Cocker Spaniel-English', 'Dalmatian', 'English Springer Spaniel', 'Field Spaniel', 'Flat Coated Retriever', 'Finnish Spitz', 'Harrier', 'Ibizan Hound', 'Irish Terrier', 'Irish Water Spaniel', 'Keeshond', 'Kerry Blue Terrier', 'Norwegian Elkhound', 'Nova Scotia Duck Tolling Retriever', 'Petit Basset Griffon Vendeen', 'Pharaoh Hound', 'Plott Hound', 'Pointer', 'Polish Lowland Sheepdog', 'Portuguese Water Dog', 'Redbone Coonhound', 'Saluki', 'Samoyed', 'Siberian Husky', 'Soft-Coated Wheaten Terrier', 'Staffordshire Bull Terrier', 'Standard Schnauzer', 'Sussex Spaniel', 'Vizsla', 'Welsh Springer Spaniel', 'Wirehaired Pointing Griffon', 'American Eskimo', 'Australian Terrier', 'Basenji', 'Beagle', 'Bedlington Terrier', 'Bichon Frise', 'Border Terrier', 'Boston Terrier', 'Brussels Griffon', 'Cairn Terrier', 'Cardigan Welsh Corgi', 'Cavalier King Charles Spaniel', 'Coton de Tulear', 'Dachshund', 'Dandie Dinmont Terrier', 'English Toy Spaniel', 'Fox Terrier â€“ Smooth', 'Fox Terrier â€“ Wirehair', 'French Bulldog', 'German Pinscher', 'Glen Imaal Terrier', 'Lakeland Terrier', 'Manchester Terrier (Standard)', 'Poodle Miniature', 'Pug', 'Puli', 'Schipperke', 'Scottish Terrier', 'Sealyham Terrier', 'Shetland Sheepdog (Sheltie)', 'Shiba Inu', 'Shih Tzu', 'Silky Terrier', 'Skye Terrier', 'Tibetan Spaniel', 'Tibetan Terrier', 'Welsh Terrier', 'West Highland White Terrier', 'Whippet', 'Affenpinscher', 'Chihuahua', 'Chinese Crested', 'Italian Greyhound', 'Japanese Chin', 'Maltese', 'Manchester Terrier (Toy)', 'Papillon', 'Pomeranian', 'Poodle Toy', 'Toy Fox Terrier', 'Yorkshire Terrier'] True\n"
     ]
    }
   ],
   "source": [
    "import csv\n",
    "\n",
    "with open('breedinfo.csv', 'r') as f:\n",
    "    csvreader  = list(csv.DictReader(f))\n",
    "    for i in csvreader:\n",
    "        i['_id'] = i['breed']\n",
    "    result = records.insert_many(csvreader)\n",
    "    print(result.inserted_ids, result.acknowledged)"
   ]
  },
  {
   "cell_type": "code",
   "execution_count": 30,
   "metadata": {},
   "outputs": [
    {
     "data": {
      "text/plain": [
       "150"
      ]
     },
     "execution_count": 30,
     "metadata": {},
     "output_type": "execute_result"
    }
   ],
   "source": [
    "records.count_documents({})"
   ]
  },
  {
   "cell_type": "markdown",
   "metadata": {},
   "source": [
    "**Insert/Update Document**"
   ]
  },
  {
   "cell_type": "code",
   "execution_count": 31,
   "metadata": {},
   "outputs": [
    {
     "data": {
      "text/plain": [
       "<pymongo.results.DeleteResult at 0x7ff94807aa00>"
      ]
     },
     "execution_count": 31,
     "metadata": {},
     "output_type": "execute_result"
    }
   ],
   "source": [
    "records.delete_many({})"
   ]
  },
  {
   "cell_type": "code",
   "execution_count": 32,
   "metadata": {},
   "outputs": [
    {
     "data": {
      "text/plain": [
       "0"
      ]
     },
     "execution_count": 32,
     "metadata": {},
     "output_type": "execute_result"
    }
   ],
   "source": [
    "records.count_documents({})"
   ]
  },
  {
   "cell_type": "code",
   "execution_count": 33,
   "metadata": {},
   "outputs": [],
   "source": [
    "import csv\n",
    "\n",
    "with open('breedinfo.csv', 'r') as f:\n",
    "    csvreader  = list(csv.DictReader(f))\n",
    "    for i in csvreader:\n",
    "        i['_id'] = i['breed'] \n",
    "        result = records.update_many({'_id': i['breed']}, {'$set': i}, upsert=True)\n",
    "        if result.raw_result['nModified'] > 0:\n",
    "            print(result.raw_result)"
   ]
  },
  {
   "cell_type": "code",
   "execution_count": 34,
   "metadata": {},
   "outputs": [
    {
     "data": {
      "text/plain": [
       "150"
      ]
     },
     "execution_count": 34,
     "metadata": {},
     "output_type": "execute_result"
    }
   ],
   "source": [
    "records.count_documents({})"
   ]
  },
  {
   "cell_type": "code",
   "execution_count": 35,
   "metadata": {},
   "outputs": [
    {
     "name": "stdout",
     "output_type": "stream",
     "text": [
      "{'_id': 'Portuguese Water Dog', 'breed': 'Portuguese Water Dog', 'height_high_inches': '23', 'height_low_inches': '20', 'weight_high_lbs': '60', 'weight_low_lbs': '42'}\n"
     ]
    }
   ],
   "source": [
    "print(records.find_one({'_id': 'Portuguese Water Dog'}))"
   ]
  },
  {
   "cell_type": "markdown",
   "metadata": {},
   "source": []
  }
 ],
 "metadata": {
  "kernelspec": {
   "display_name": "Python 3",
   "language": "python",
   "name": "python3"
  },
  "language_info": {
   "codemirror_mode": {
    "name": "ipython",
    "version": 3
   },
   "file_extension": ".py",
   "mimetype": "text/x-python",
   "name": "python",
   "nbconvert_exporter": "python",
   "pygments_lexer": "ipython3",
   "version": "3.7.5"
  }
 },
 "nbformat": 4,
 "nbformat_minor": 2
}
