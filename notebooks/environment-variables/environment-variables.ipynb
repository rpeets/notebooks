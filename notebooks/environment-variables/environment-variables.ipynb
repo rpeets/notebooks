{
 "cells": [
  {
   "cell_type": "markdown",
   "metadata": {},
   "source": [
    "## Python Environment Variables\n",
    "\n",
    "**Hiding secret info in Python using environment variables**\n",
    "\n",
    "    If you’ve worked on software engineering or data science projects that require some form of API keys, you would’ve noticed a flaw in sharing the code online: the secret information will be out there for everyone to see and possibly misuse! A classic example is a pair of a username and a password for a database. We certainly don’t want that to leak. How do we prevent this?\n",
    "    \n",
    "**Environment variables are the answer!**\n",
    "\n",
    "**What is an Environment Variable?**\n",
    "\n",
    "    An environment variable is a variable whose value is set outside the program, typically through functionality built into the operating system or microservice. An environment variable is made up of a name/value pair, and any number may be created and available for reference at a point in time.\n",
    "    \n",
    "    The “environment” in “environment variable” refers to the environment your program is running in (either your computer (local) or server (remote)). As you can guess, an environment variable has something to do with the environment the program is running in. Thus, unlike a variable of a programming language, the environment variable is tied to your environment (of your operating system) and not any particular programming language. Thus, you can reuse them in different languages.\n",
    "    \n",
    "[YouTube](https://www.youtube.com/watch?v=5iWhQWVXosU)"
   ]
  },
  {
   "cell_type": "markdown",
   "metadata": {},
   "source": [
    "**Insecure way of storing secret info in python code**"
   ]
  },
  {
   "cell_type": "code",
   "execution_count": 3,
   "metadata": {},
   "outputs": [
    {
     "name": "stdout",
     "output_type": "stream",
     "text": [
      "my_db_user\n",
      "my_db_pass_123\n"
     ]
    }
   ],
   "source": [
    "db_user = 'my_db_user'\n",
    "db_password = 'my_db_pass_123'\n",
    "\n",
    "print(db_user)\n",
    "print(db_password)"
   ]
  },
  {
   "cell_type": "markdown",
   "metadata": {},
   "source": [
    "**Display current system Environment Variables**"
   ]
  },
  {
   "cell_type": "code",
   "execution_count": 1,
   "metadata": {},
   "outputs": [
    {
     "data": {
      "text/plain": [
       "{'HOSTNAME': '73db554b10f2',\n",
       " 'PYTHON_PIP_VERSION': '19.3.1',\n",
       " 'HOME': '/root',\n",
       " 'GPG_KEY': '<hidden>',\n",
       " 'PYTHON_GET_PIP_URL': 'https://github.com/pypa/get-pip/raw/ffe826207a010164265d9cc807978e3604d18ca0/get-pip.py',\n",
       " 'PATH': '/usr/local/bin:/usr/local/sbin:/usr/local/bin:/usr/sbin:/usr/bin:/sbin:/bin',\n",
       " 'LANG': 'C.UTF-8',\n",
       " 'PYTHON_VERSION': '3.7.5',\n",
       " 'PWD': '/',\n",
       " 'PYTHON_GET_PIP_SHA256': 'b86f36cc4345ae87bfd4f10ef6b2dbfa7a872fbff70608a1e43944d283fd0eee',\n",
       " 'KERNEL_LAUNCH_TIMEOUT': '40',\n",
       " 'JPY_PARENT_PID': '6',\n",
       " 'TERM': 'xterm-color',\n",
       " 'CLICOLOR': '1',\n",
       " 'PAGER': 'cat',\n",
       " 'GIT_PAGER': 'cat',\n",
       " 'MPLBACKEND': 'module://ipykernel.pylab.backend_inline'}"
      ]
     },
     "execution_count": 1,
     "metadata": {},
     "output_type": "execute_result"
    }
   ],
   "source": [
    "%reset -f\n",
    "%env"
   ]
  },
  {
   "cell_type": "markdown",
   "metadata": {},
   "source": [
    "**Add new environment variable**\n",
    "\n",
    "    As the environment variable is tied to the environment, creation depends on your operating system and its usage depends on the programming language you want to use it in."
   ]
  },
  {
   "cell_type": "code",
   "execution_count": 6,
   "metadata": {},
   "outputs": [
    {
     "name": "stdout",
     "output_type": "stream",
     "text": [
      "env: DB_USER=\"my_db_user\"\n",
      "env: DB_PASS=\"my_db_pass_123\"\n"
     ]
    },
    {
     "data": {
      "text/plain": [
       "{'HOSTNAME': '73db554b10f2',\n",
       " 'PYTHON_PIP_VERSION': '19.3.1',\n",
       " 'HOME': '/root',\n",
       " 'GPG_KEY': '<hidden>',\n",
       " 'PYTHON_GET_PIP_URL': 'https://github.com/pypa/get-pip/raw/ffe826207a010164265d9cc807978e3604d18ca0/get-pip.py',\n",
       " 'PATH': '/usr/local/bin:/usr/local/sbin:/usr/local/bin:/usr/sbin:/usr/bin:/sbin:/bin',\n",
       " 'LANG': 'C.UTF-8',\n",
       " 'PYTHON_VERSION': '3.7.5',\n",
       " 'PWD': '/',\n",
       " 'PYTHON_GET_PIP_SHA256': 'b86f36cc4345ae87bfd4f10ef6b2dbfa7a872fbff70608a1e43944d283fd0eee',\n",
       " 'KERNEL_LAUNCH_TIMEOUT': '40',\n",
       " 'JPY_PARENT_PID': '6',\n",
       " 'TERM': 'xterm-color',\n",
       " 'CLICOLOR': '1',\n",
       " 'PAGER': 'cat',\n",
       " 'GIT_PAGER': 'cat',\n",
       " 'MPLBACKEND': 'module://ipykernel.pylab.backend_inline',\n",
       " 'DB_USER': '\"my_db_user\"',\n",
       " 'DB_PASS': '\"my_db_pass_123\"'}"
      ]
     },
     "execution_count": 6,
     "metadata": {},
     "output_type": "execute_result"
    }
   ],
   "source": [
    "%set_env DB_USER=\"my_db_user\"\n",
    "%set_env DB_PASS=\"my_db_pass_123\"\n",
    "%env"
   ]
  },
  {
   "cell_type": "code",
   "execution_count": 7,
   "metadata": {},
   "outputs": [
    {
     "name": "stdout",
     "output_type": "stream",
     "text": [
      "\"my_db_user\"\n",
      "\"my_db_pass_123\"\n"
     ]
    }
   ],
   "source": [
    "import os\n",
    "\n",
    "db_user = os.environ.get('DB_USER')\n",
    "db_password = os.environ.get('DB_PASS')\n",
    "\n",
    "print(db_user)\n",
    "print(db_password)"
   ]
  },
  {
   "cell_type": "markdown",
   "metadata": {},
   "source": [
    "**Adding Environment Variables in Docker Images**"
   ]
  },
  {
   "cell_type": "markdown",
   "metadata": {},
   "source": [
    "`FROM busybox\n",
    "ENV foo /bar`"
   ]
  },
  {
   "cell_type": "markdown",
   "metadata": {},
   "source": [
    "**Environment variables supported in the Dockerfile:**\n",
    "\n",
    "    Environment variables (declared with the ENV statement) can also be used in certain instructions as variables to be interpreted by the Dockerfile. Escapes are also handled for including variable-like syntax into a statement literally.\n",
    "\n",
    "Example (parsed representation is displayed after the #):\n",
    "\n",
    "`FROM busybox\n",
    "ENV foo /bar\n",
    "WORKDIR ${foo}   # WORKDIR /bar\n",
    "ADD . $foo       # ADD . /bar\n",
    "COPY \\$foo /quux # COPY $foo /quux`\n",
    "\n",
    "* ADD\n",
    "* COPY\n",
    "* ENV\n",
    "* EXPOSE\n",
    "* FROM\n",
    "* LABEL\n",
    "* STOPSIGNAL\n",
    "* USER\n",
    "* VOLUME\n",
    "* WORKDIR"
   ]
  },
  {
   "cell_type": "markdown",
   "metadata": {},
   "source": [
    "**Example**\n",
    "\n",
    "`:➜  cat Dockerfile\n",
    "FROM busybox\n",
    "ENV foo CaseyBoy\n",
    ":➜\n",
    ":➜  docker build -f Dockerfile -t testimage .\n",
    ":➜\n",
    ":➜  docker container run --rm -it testimage sh\n",
    "/ # env\n",
    "HOSTNAME=a65fe3665224\n",
    "SHLVL=1\n",
    "foo=CaseyBoy\n",
    "HOME=/root\n",
    "TERM=xterm\n",
    "PATH=/usr/local/sbin:/usr/local/bin:/usr/sbin:/usr/bin:/sbin:/bin\n",
    "PWD=/\n",
    ":➜\n",
    "`"
   ]
  },
  {
   "cell_type": "markdown",
   "metadata": {},
   "source": [
    "**Environment Valriables During Docker Build**\n",
    "\n",
    "    ARG is for setting environment variables which are used during the docker build process - they are not present in the final image, which is why you don't see them when you use docker run.\n",
    "\n",
    "    You use ARG for settings that are only relevant when the image is being built, and aren't needed by containers which you run from the image. You can use ENV for evnvironment variables to use during the build and in containers.\n",
    "\n",
    "Dockerfile:\n",
    "\n",
    "`FROM ubuntu                                                                                                            \n",
    "ARG BUILD_TIME=abc                                                                                                     \n",
    "ENV RUN_TIME=123                                                                                                       \n",
    "RUN touch /env.txt                                                                                                     \n",
    "RUN printenv > /env.txt`\n",
    "\n",
    "    You can override the build arg as you have done with \"docker build -t temp --build-arg BUILD_TIME=def .\"\n",
    "    \n",
    "`> docker run temp cat /env.txt                                                                                         \n",
    "HOSTNAME=b18b9cafe0e0                                                                                                  \n",
    "RUN_TIME=123                                                                                                           \n",
    "HOME=/root                                                                                                             \n",
    "PATH=/usr/local/sbin:/usr/local/bin:/usr/sbin:/usr/bin:/sbin:/bin                                                      \n",
    "BUILD_TIME=def                                                                                                         \n",
    "PWD=/` "
   ]
  },
  {
   "cell_type": "code",
   "execution_count": null,
   "metadata": {},
   "outputs": [],
   "source": []
  }
 ],
 "metadata": {
  "kernelspec": {
   "display_name": "Python 3",
   "language": "python",
   "name": "python3"
  },
  "language_info": {
   "codemirror_mode": {
    "name": "ipython",
    "version": 3
   },
   "file_extension": ".py",
   "mimetype": "text/x-python",
   "name": "python",
   "nbconvert_exporter": "python",
   "pygments_lexer": "ipython3",
   "version": "3.7.5"
  }
 },
 "nbformat": 4,
 "nbformat_minor": 2
}
