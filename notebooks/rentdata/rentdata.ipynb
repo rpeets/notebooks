{
 "cells": [
  {
   "cell_type": "code",
   "execution_count": 1,
   "metadata": {
    "scrolled": true
   },
   "outputs": [],
   "source": [
    "from dataclasses import dataclass\n",
    "from requests_html import HTML, HTMLSession\n",
    "\n",
    "@dataclass\n",
    "class Country():\n",
    "    name: str\n",
    "    br0: int\n",
    "    br1: int\n",
    "    br2: int\n",
    "    br3: int\n",
    "    br4: int\n",
    "    population: int\n",
    "    year: int\n",
    "\n",
    "def get_rentdata():\n",
    "    rentdata = []\n",
    "    years = range(2006, 2020)\n",
    "    #years = range(2006, 2007)\n",
    "    for year in years:\n",
    "\n",
    "        # Build the URL\n",
    "        url = f\"https://www.rentdata.org/states/california/{year}\"\n",
    "        #print(url)\n",
    "        session = HTMLSession()\n",
    "        r = session.get(url)\n",
    "\n",
    "        #Find the correct able for data collection.\n",
    "        table = r.html.find('#state_table', first=True)\n",
    "\n",
    "        # Get table data and store in a list.\n",
    "        tbody = table.find('tbody', first=True)\n",
    "        table_rows = tbody.find('tr')\n",
    "        for rows in table_rows:\n",
    "            trow = []\n",
    "            row_data = rows.find('td')\n",
    "            for rd in row_data:\n",
    "                #print(rd.text)\n",
    "                trow.append(rd.text.lstrip(\"$\").replace(',',\"\").rstrip(\" Metro\"))\n",
    "            #trow.append(year)\n",
    "            cdata = Country(trow[0], int(trow[1]), int(trow[2]), int(trow[3]), \n",
    "                            int(trow[4]), int(trow[4]), int(trow[6]), year)\n",
    "            rentdata.append(cdata)\n",
    "            #print(trow)\n",
    "    return rentdata\n",
    "\n",
    "rent_data = get_rentdata()\n"
   ]
  },
  {
   "cell_type": "code",
   "execution_count": 2,
   "metadata": {
    "scrolled": true
   },
   "outputs": [
    {
     "name": "stdout",
     "output_type": "stream",
     "text": [
      "                 name   br0   br1   br2   br3   br4  population  year\n",
      "0      Alameda County   865  1045  1238  1679  1679     1443741  2006\n",
      "1       Alpine County   498   559   713  1017  1017        1208  2006\n",
      "2       Amador County   537   629   826  1200  1200       35100  2006\n",
      "3        Butte County   473   562   678   956   956      203171  2006\n",
      "4    Calaveras County   548   548   659   961   961       40554  2006\n",
      "..                ...   ...   ...   ...   ...   ...         ...   ...\n",
      "807     Tulare County   695   699   925  1291  1291      442179  2019\n",
      "808   Tuolumne County   660   797   992  1365  1365       55365  2019\n",
      "809    Ventura County  1153  1362  1795  2518  2518      823318  2019\n",
      "810       Yolo County   953  1015  1342  1935  1935      200849  2019\n",
      "811       Yuba County   670   674   878  1269  1269       72155  2019\n",
      "\n",
      "[812 rows x 8 columns]\n"
     ]
    }
   ],
   "source": [
    "import pandas as pd\n",
    "\n",
    "df = pd.DataFrame([vars(s) for s in rent_data])\n",
    "print(df)"
   ]
  },
  {
   "cell_type": "code",
   "execution_count": null,
   "metadata": {},
   "outputs": [],
   "source": [
    "import plotly.express as px\n",
    "\n",
    "fig = px.scatter(df, x=\"name\", y=\"br3\", size=\"population\", color=\"name\", animation_frame=\"year\", range_y=[800,4100])\n",
    "fig.update_layout(showlegend=False)\n",
    "fig.show()"
   ]
  },
  {
   "cell_type": "markdown",
   "metadata": {},
   "source": [
    "**Output Image**\n",
    "\n",
    "![Output](rentdata.jpg \"weather\")"
   ]
  },
  {
   "cell_type": "code",
   "execution_count": null,
   "metadata": {},
   "outputs": [],
   "source": []
  }
 ],
 "metadata": {
  "kernelspec": {
   "display_name": "Python 3",
   "language": "python",
   "name": "python3"
  },
  "language_info": {
   "codemirror_mode": {
    "name": "ipython",
    "version": 3
   },
   "file_extension": ".py",
   "mimetype": "text/x-python",
   "name": "python",
   "nbconvert_exporter": "python",
   "pygments_lexer": "ipython3",
   "version": "3.7.5"
  }
 },
 "nbformat": 4,
 "nbformat_minor": 2
}
