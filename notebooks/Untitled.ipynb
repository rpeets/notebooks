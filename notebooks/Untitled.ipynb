{
 "cells": [
  {
   "cell_type": "code",
   "execution_count": 75,
   "id": "aab980ef",
   "metadata": {},
   "outputs": [],
   "source": [
    "a = [3, 7, 4, 7, 2, 8, 1, 6, 4, 7, 3, 9, 5, 1]"
   ]
  },
  {
   "cell_type": "code",
   "execution_count": 70,
   "id": "37710eaa",
   "metadata": {},
   "outputs": [
    {
     "data": {
      "text/plain": [
       "[3, 7, 4, 7, 2, 8, 1, 6, 4, 7, 3, 9, 5, 1]"
      ]
     },
     "execution_count": 70,
     "metadata": {},
     "output_type": "execute_result"
    }
   ],
   "source": [
    "a"
   ]
  },
  {
   "cell_type": "code",
   "execution_count": 26,
   "id": "7a81c716",
   "metadata": {},
   "outputs": [
    {
     "name": "stdout",
     "output_type": "stream",
     "text": [
      "3\n",
      "0\n",
      "7\n",
      "0\n",
      "4\n",
      "0\n",
      "7\n",
      "1\n",
      "2\n",
      "0\n",
      "8\n",
      "0\n",
      "1\n",
      "0\n",
      "6\n",
      "0\n",
      "4\n",
      "1\n",
      "7\n",
      "2\n",
      "3\n",
      "1\n",
      "9\n",
      "0\n",
      "5\n",
      "0\n"
     ]
    }
   ],
   "source": [
    "b = {}\n",
    "for i in a:\n",
    "    print(i)\n",
    "    count = b.get(i, 0)\n",
    "    print(count)\n",
    "    b[i] = count+1 "
   ]
  },
  {
   "cell_type": "code",
   "execution_count": 27,
   "id": "e496cf67",
   "metadata": {},
   "outputs": [
    {
     "data": {
      "text/plain": [
       "{3: 2, 7: 3, 4: 2, 2: 1, 8: 1, 1: 1, 6: 1, 9: 1, 5: 1}"
      ]
     },
     "execution_count": 27,
     "metadata": {},
     "output_type": "execute_result"
    }
   ],
   "source": [
    "b"
   ]
  },
  {
   "cell_type": "code",
   "execution_count": 28,
   "id": "749a4c0a",
   "metadata": {},
   "outputs": [
    {
     "data": {
      "text/plain": [
       "{2: 1, 8: 1, 1: 1, 6: 1, 9: 1, 5: 1, 3: 2, 4: 2, 7: 3}"
      ]
     },
     "execution_count": 28,
     "metadata": {},
     "output_type": "execute_result"
    }
   ],
   "source": [
    "{k: v for k, v in sorted(b.items(), key=lambda item: item[1])}"
   ]
  },
  {
   "cell_type": "code",
   "execution_count": 32,
   "id": "4d67626a",
   "metadata": {},
   "outputs": [],
   "source": [
    "c = list(b.keys())"
   ]
  },
  {
   "cell_type": "code",
   "execution_count": 33,
   "id": "90ba7f5a",
   "metadata": {},
   "outputs": [
    {
     "data": {
      "text/plain": [
       "[3, 7, 4, 2, 8, 1, 6, 9, 5]"
      ]
     },
     "execution_count": 33,
     "metadata": {},
     "output_type": "execute_result"
    }
   ],
   "source": [
    "c"
   ]
  },
  {
   "cell_type": "code",
   "execution_count": 59,
   "id": "7f06aef9",
   "metadata": {},
   "outputs": [
    {
     "data": {
      "text/plain": [
       "[3, 7, 4, 7, 2, 8, 1, 6, 4, 7, 3, 9, 5, 1]"
      ]
     },
     "execution_count": 59,
     "metadata": {},
     "output_type": "execute_result"
    }
   ],
   "source": [
    "a"
   ]
  },
  {
   "cell_type": "code",
   "execution_count": 67,
   "id": "2930a209",
   "metadata": {},
   "outputs": [
    {
     "name": "stdout",
     "output_type": "stream",
     "text": [
      "[1, 1, 2, 3, 3, 4, 4, 5, 6, 7, 7, 7, 8, 9]\n"
     ]
    }
   ],
   "source": [
    "for i in range(len(a)-1, 0, -1):\n",
    "    for j in range(i):\n",
    "        # print(i,\":\", a[i], \"<=>\", j, \":\", a[j])\n",
    "        if a[j] > a[j+1]:\n",
    "            temp = a[j]\n",
    "            a[j] = a[j+1]\n",
    "            a[j+1] = temp\n",
    "print(a)"
   ]
  },
  {
   "cell_type": "code",
   "execution_count": 44,
   "id": "19bf692b",
   "metadata": {},
   "outputs": [
    {
     "data": {
      "text/plain": [
       "12"
      ]
     },
     "execution_count": 44,
     "metadata": {},
     "output_type": "execute_result"
    }
   ],
   "source": [
    "len(a)-1"
   ]
  },
  {
   "cell_type": "code",
   "execution_count": 81,
   "id": "7f03ba45",
   "metadata": {},
   "outputs": [],
   "source": [
    "a = [3, 7, 4, 7, 2, 8, 1, 6, 4, 7, 3, 9, 5, 1]"
   ]
  },
  {
   "cell_type": "code",
   "execution_count": 82,
   "id": "5592a396",
   "metadata": {},
   "outputs": [
    {
     "data": {
      "text/plain": [
       "[3, 7, 4, 7, 2, 8, 1, 6, 4, 7, 3, 9, 5, 1]"
      ]
     },
     "execution_count": 82,
     "metadata": {},
     "output_type": "execute_result"
    }
   ],
   "source": [
    "a"
   ]
  },
  {
   "cell_type": "code",
   "execution_count": 83,
   "id": "8855ac90",
   "metadata": {},
   "outputs": [],
   "source": [
    "for i in range(len(a)-1, 0, -1):\n",
    "    for j in range(i):\n",
    "        if a[j] > a[j+1]:\n",
    "            temp = a[j]\n",
    "            a[j] = a[j + 1]\n",
    "            a[j + 1] = temp"
   ]
  },
  {
   "cell_type": "code",
   "execution_count": 84,
   "id": "2b5800c4",
   "metadata": {},
   "outputs": [
    {
     "data": {
      "text/plain": [
       "[1, 1, 2, 3, 3, 4, 4, 5, 6, 7, 7, 7, 8, 9]"
      ]
     },
     "execution_count": 84,
     "metadata": {},
     "output_type": "execute_result"
    }
   ],
   "source": [
    "a"
   ]
  },
  {
   "cell_type": "code",
   "execution_count": null,
   "id": "37f80849",
   "metadata": {},
   "outputs": [],
   "source": []
  }
 ],
 "metadata": {
  "kernelspec": {
   "display_name": "Python 3",
   "language": "python",
   "name": "python3"
  },
  "language_info": {
   "codemirror_mode": {
    "name": "ipython",
    "version": 3
   },
   "file_extension": ".py",
   "mimetype": "text/x-python",
   "name": "python",
   "nbconvert_exporter": "python",
   "pygments_lexer": "ipython3",
   "version": "3.8.8"
  }
 },
 "nbformat": 4,
 "nbformat_minor": 5
}
