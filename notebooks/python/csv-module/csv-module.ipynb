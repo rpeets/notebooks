{
 "cells": [
  {
   "cell_type": "markdown",
   "metadata": {},
   "source": [
    "### CSV File Reading and Writing\n",
    "    The so-called CSV (Comma Separated Values) format is the most common import and export format for spreadsheets and databases.\n",
    "\n",
    "[YouTube](https://www.youtube.com/watch?v=q5uM4VKywbA)"
   ]
  },
  {
   "cell_type": "code",
   "execution_count": 1,
   "metadata": {},
   "outputs": [
    {
     "name": "stdout",
     "output_type": "stream",
     "text": [
      "-rw-r--r-- 1 root root 4371 Nov 11 05:59 breedinfo.csv\r\n",
      "-rw-r--r-- 1 root root 1817 Nov 12 02:55 names.csv\r\n"
     ]
    }
   ],
   "source": [
    "ls -al *.csv"
   ]
  },
  {
   "cell_type": "markdown",
   "metadata": {},
   "source": [
    "Reading a CSV file."
   ]
  },
  {
   "cell_type": "code",
   "execution_count": 2,
   "metadata": {},
   "outputs": [
    {
     "name": "stdout",
     "output_type": "stream",
     "text": [
      "<_csv.reader object at 0x7f82f02909d0>\n"
     ]
    }
   ],
   "source": [
    "import csv\n",
    "\n",
    "with open('names.csv') as csv_file:\n",
    "    csv_reader = csv.reader(csv_file)\n",
    "    print(csv_reader)"
   ]
  },
  {
   "cell_type": "code",
   "execution_count": 3,
   "metadata": {},
   "outputs": [
    {
     "name": "stdout",
     "output_type": "stream",
     "text": [
      "['first_name', 'last_name', 'email']\n",
      "['John', 'Doe', 'john-doe@bogusemail.com']\n",
      "['Mary', 'Smith-Robinson', 'maryjacobs@bogusemail.com']\n",
      "['Dave', 'Smith', 'davesmith@bogusemail.com']\n",
      "['Jane', 'Stuart', 'janestuart@bogusemail.com']\n",
      "['Tom', 'Wright', 'tomwright@bogusemail.com']\n",
      "['Steve', 'Robinson', 'steverobinson@bogusemail.com']\n",
      "['Nicole', 'Jacobs', 'nicolejacobs@bogusemail.com']\n",
      "['Jane', 'Wright', 'janewright@bogusemail.com']\n",
      "['Jane', 'Doe', 'janedoe@bogusemail.com']\n",
      "['Kurt', 'Wright', 'kurtwright@bogusemail.com']\n",
      "['Kurt', 'Robinson', 'kurtrobinson@bogusemail.com']\n",
      "['Jane', 'Jenkins', 'janejenkins@bogusemail.com']\n",
      "['Neil', 'Robinson', 'neilrobinson@bogusemail.com']\n",
      "['Tom', 'Patterson', 'tompatterson@bogusemail.com']\n",
      "['Sam', 'Jenkins', 'samjenkins@bogusemail.com']\n",
      "['Steve', 'Stuart', 'stevestuart@bogusemail.com']\n",
      "['Maggie', 'Patterson', 'maggiepatterson@bogusemail.com']\n",
      "['Maggie', 'Stuart', 'maggiestuart@bogusemail.com']\n",
      "['Jane', 'Doe', 'janedoe@bogusemail.com']\n",
      "['Steve', 'Patterson', 'stevepatterson@bogusemail.com']\n",
      "['Dave', 'Smith', 'davesmith@bogusemail.com']\n",
      "['Sam', 'Wilks', 'samwilks@bogusemail.com']\n",
      "['Kurt', 'Jefferson', 'kurtjefferson@bogusemail.com']\n",
      "['Sam', 'Stuart', 'samstuart@bogusemail.com']\n",
      "['Jane', 'Stuart', 'janestuart@bogusemail.com']\n",
      "['Dave', 'Davis', 'davedavis@bogusemail.com']\n",
      "['Sam', 'Patterson', 'sampatterson@bogusemail.com']\n",
      "['Tom', 'Jefferson', 'tomjefferson@bogusemail.com']\n",
      "['Jane', 'Stuart', 'janestuart@bogusemail.com']\n",
      "['Maggie', 'Jefferson', 'maggiejefferson@bogusemail.com']\n",
      "['Mary', 'Wilks', 'marywilks@bogusemail.com']\n",
      "['Neil', 'Patterson', 'neilpatterson@bogusemail.com']\n",
      "['Corey', 'Davis', 'coreydavis@bogusemail.com']\n",
      "['Steve', 'Jacobs', 'stevejacobs@bogusemail.com']\n",
      "['Jane', 'Jenkins', 'janejenkins@bogusemail.com']\n",
      "['John', 'Jacobs', 'johnjacobs@bogusemail.com']\n",
      "['Neil', 'Smith', 'neilsmith@bogusemail.com']\n",
      "['Corey', 'Wilks', 'coreywilks@bogusemail.com']\n",
      "['Corey', 'Smith', 'coreysmith@bogusemail.com']\n",
      "['Mary', 'Patterson', 'marypatterson@bogusemail.com']\n",
      "['Jane', 'Stuart', 'janestuart@bogusemail.com']\n",
      "['Travis', 'Arnold', 'travisarnold@bogusemail.com']\n",
      "['John', 'Robinson', 'johnrobinson@bogusemail.com']\n",
      "['Travis', 'Arnold', 'travisarnold@bogusemail.com']\n"
     ]
    }
   ],
   "source": [
    "import csv\n",
    "\n",
    "with open('names.csv') as csv_file:\n",
    "    csv_reader = csv.reader(csv_file)\n",
    "\n",
    "    for line in csv_reader:\n",
    "        print(line)"
   ]
  },
  {
   "cell_type": "markdown",
   "metadata": {},
   "source": [
    "Print only a column"
   ]
  },
  {
   "cell_type": "code",
   "execution_count": 4,
   "metadata": {},
   "outputs": [
    {
     "name": "stdout",
     "output_type": "stream",
     "text": [
      "email\n",
      "john-doe@bogusemail.com\n",
      "maryjacobs@bogusemail.com\n",
      "davesmith@bogusemail.com\n",
      "janestuart@bogusemail.com\n",
      "tomwright@bogusemail.com\n",
      "steverobinson@bogusemail.com\n",
      "nicolejacobs@bogusemail.com\n",
      "janewright@bogusemail.com\n",
      "janedoe@bogusemail.com\n",
      "kurtwright@bogusemail.com\n",
      "kurtrobinson@bogusemail.com\n",
      "janejenkins@bogusemail.com\n",
      "neilrobinson@bogusemail.com\n",
      "tompatterson@bogusemail.com\n",
      "samjenkins@bogusemail.com\n",
      "stevestuart@bogusemail.com\n",
      "maggiepatterson@bogusemail.com\n",
      "maggiestuart@bogusemail.com\n",
      "janedoe@bogusemail.com\n",
      "stevepatterson@bogusemail.com\n",
      "davesmith@bogusemail.com\n",
      "samwilks@bogusemail.com\n",
      "kurtjefferson@bogusemail.com\n",
      "samstuart@bogusemail.com\n",
      "janestuart@bogusemail.com\n",
      "davedavis@bogusemail.com\n",
      "sampatterson@bogusemail.com\n",
      "tomjefferson@bogusemail.com\n",
      "janestuart@bogusemail.com\n",
      "maggiejefferson@bogusemail.com\n",
      "marywilks@bogusemail.com\n",
      "neilpatterson@bogusemail.com\n",
      "coreydavis@bogusemail.com\n",
      "stevejacobs@bogusemail.com\n",
      "janejenkins@bogusemail.com\n",
      "johnjacobs@bogusemail.com\n",
      "neilsmith@bogusemail.com\n",
      "coreywilks@bogusemail.com\n",
      "coreysmith@bogusemail.com\n",
      "marypatterson@bogusemail.com\n",
      "janestuart@bogusemail.com\n",
      "travisarnold@bogusemail.com\n",
      "johnrobinson@bogusemail.com\n",
      "travisarnold@bogusemail.com\n"
     ]
    }
   ],
   "source": [
    "import csv\n",
    "\n",
    "with open('names.csv') as csv_file:\n",
    "    csv_reader = csv.reader(csv_file)\n",
    "\n",
    "    for line in csv_reader:\n",
    "        print(line[2])"
   ]
  },
  {
   "cell_type": "markdown",
   "metadata": {},
   "source": [
    "To loop over the title, use next(), So we dont process the title line (row 1)"
   ]
  },
  {
   "cell_type": "code",
   "execution_count": 5,
   "metadata": {},
   "outputs": [
    {
     "name": "stdout",
     "output_type": "stream",
     "text": [
      "['John', 'Doe', 'john-doe@bogusemail.com']\n",
      "['Mary', 'Smith-Robinson', 'maryjacobs@bogusemail.com']\n",
      "['Dave', 'Smith', 'davesmith@bogusemail.com']\n",
      "['Jane', 'Stuart', 'janestuart@bogusemail.com']\n",
      "['Tom', 'Wright', 'tomwright@bogusemail.com']\n",
      "['Steve', 'Robinson', 'steverobinson@bogusemail.com']\n",
      "['Nicole', 'Jacobs', 'nicolejacobs@bogusemail.com']\n",
      "['Jane', 'Wright', 'janewright@bogusemail.com']\n",
      "['Jane', 'Doe', 'janedoe@bogusemail.com']\n",
      "['Kurt', 'Wright', 'kurtwright@bogusemail.com']\n",
      "['Kurt', 'Robinson', 'kurtrobinson@bogusemail.com']\n",
      "['Jane', 'Jenkins', 'janejenkins@bogusemail.com']\n",
      "['Neil', 'Robinson', 'neilrobinson@bogusemail.com']\n",
      "['Tom', 'Patterson', 'tompatterson@bogusemail.com']\n",
      "['Sam', 'Jenkins', 'samjenkins@bogusemail.com']\n",
      "['Steve', 'Stuart', 'stevestuart@bogusemail.com']\n",
      "['Maggie', 'Patterson', 'maggiepatterson@bogusemail.com']\n",
      "['Maggie', 'Stuart', 'maggiestuart@bogusemail.com']\n",
      "['Jane', 'Doe', 'janedoe@bogusemail.com']\n",
      "['Steve', 'Patterson', 'stevepatterson@bogusemail.com']\n",
      "['Dave', 'Smith', 'davesmith@bogusemail.com']\n",
      "['Sam', 'Wilks', 'samwilks@bogusemail.com']\n",
      "['Kurt', 'Jefferson', 'kurtjefferson@bogusemail.com']\n",
      "['Sam', 'Stuart', 'samstuart@bogusemail.com']\n",
      "['Jane', 'Stuart', 'janestuart@bogusemail.com']\n",
      "['Dave', 'Davis', 'davedavis@bogusemail.com']\n",
      "['Sam', 'Patterson', 'sampatterson@bogusemail.com']\n",
      "['Tom', 'Jefferson', 'tomjefferson@bogusemail.com']\n",
      "['Jane', 'Stuart', 'janestuart@bogusemail.com']\n",
      "['Maggie', 'Jefferson', 'maggiejefferson@bogusemail.com']\n",
      "['Mary', 'Wilks', 'marywilks@bogusemail.com']\n",
      "['Neil', 'Patterson', 'neilpatterson@bogusemail.com']\n",
      "['Corey', 'Davis', 'coreydavis@bogusemail.com']\n",
      "['Steve', 'Jacobs', 'stevejacobs@bogusemail.com']\n",
      "['Jane', 'Jenkins', 'janejenkins@bogusemail.com']\n",
      "['John', 'Jacobs', 'johnjacobs@bogusemail.com']\n",
      "['Neil', 'Smith', 'neilsmith@bogusemail.com']\n",
      "['Corey', 'Wilks', 'coreywilks@bogusemail.com']\n",
      "['Corey', 'Smith', 'coreysmith@bogusemail.com']\n",
      "['Mary', 'Patterson', 'marypatterson@bogusemail.com']\n",
      "['Jane', 'Stuart', 'janestuart@bogusemail.com']\n",
      "['Travis', 'Arnold', 'travisarnold@bogusemail.com']\n",
      "['John', 'Robinson', 'johnrobinson@bogusemail.com']\n",
      "['Travis', 'Arnold', 'travisarnold@bogusemail.com']\n"
     ]
    }
   ],
   "source": [
    "import csv\n",
    "\n",
    "with open('names.csv') as csv_file:\n",
    "    csv_reader = csv.reader(csv_file)\n",
    "\n",
    "    next(csv_reader)\n",
    "    \n",
    "    for line in csv_reader:\n",
    "        print(line)"
   ]
  },
  {
   "cell_type": "markdown",
   "metadata": {},
   "source": [
    "Reading from a file and Writing to a csv file."
   ]
  },
  {
   "cell_type": "code",
   "execution_count": 6,
   "metadata": {},
   "outputs": [],
   "source": [
    "import csv\n",
    "\n",
    "with open('names.csv') as csv_file:\n",
    "    csv_reader = csv.reader(csv_file)\n",
    "\n",
    "    next(csv_reader)\n",
    "    with open('new_names.csv', 'w') as new_file:\n",
    "        csv_writer = csv.writer(new_file, delimiter='-') \n",
    "    \n",
    "        for line in csv_reader:\n",
    "            csv_writer.writerow(line)"
   ]
  },
  {
   "cell_type": "code",
   "execution_count": 7,
   "metadata": {},
   "outputs": [
    {
     "name": "stdout",
     "output_type": "stream",
     "text": [
      "\r\n",
      "\r\n",
      "\r\n",
      "\r\n",
      "\r\n",
      "\r\n",
      "\r\n",
      "\r\n",
      "\r\n",
      "\r\n",
      "\r\n",
      "\r\n",
      "\r\n",
      "\r\n",
      "\r\n",
      "\r\n",
      "\r\n",
      "\r\n",
      "\r\n",
      "\r\n",
      "\r\n",
      "\r\n",
      "\r\n",
      "\r\n",
      "\r\n",
      "\r\n",
      "\r\n",
      "\r\n",
      "\r\n",
      "\r\n",
      "\r\n",
      "\r\n",
      "\r\n",
      "\r\n",
      "\r\n",
      "\r\n",
      "\r\n",
      "\r\n",
      "\r\n",
      "\r\n",
      "\r\n",
      "\r\n",
      "\r\n",
      "\r\n"
     ]
    }
   ],
   "source": [
    "!cat new_names.csv"
   ]
  },
  {
   "cell_type": "markdown",
   "metadata": {},
   "source": [
    "Using \"tabs\" to seperate fields."
   ]
  },
  {
   "cell_type": "code",
   "execution_count": 8,
   "metadata": {},
   "outputs": [],
   "source": [
    "import csv\n",
    "\n",
    "with open('names.csv') as csv_file:\n",
    "    csv_reader = csv.reader(csv_file)\n",
    "\n",
    "    next(csv_reader)\n",
    "    with open('new_names02.csv', 'w') as new_file:\n",
    "        csv_writer = csv.writer(new_file, delimiter='\\t') \n",
    "    \n",
    "        for line in csv_reader:\n",
    "            csv_writer.writerow(line)"
   ]
  },
  {
   "cell_type": "code",
   "execution_count": 9,
   "metadata": {},
   "outputs": [
    {
     "name": "stdout",
     "output_type": "stream",
     "text": [
      "\r\n",
      "\r\n",
      "\r\n",
      "\r\n",
      "\r\n",
      "\r\n",
      "\r\n",
      "\r\n",
      "\r\n",
      "\r\n",
      "\r\n",
      "\r\n",
      "\r\n",
      "\r\n",
      "\r\n",
      "\r\n",
      "\r\n",
      "\r\n",
      "\r\n",
      "\r\n",
      "\r\n",
      "\r\n",
      "\r\n",
      "\r\n",
      "\r\n",
      "\r\n",
      "\r\n",
      "\r\n",
      "\r\n",
      "\r\n",
      "\r\n",
      "\r\n",
      "\r\n",
      "\r\n",
      "\r\n",
      "\r\n",
      "\r\n",
      "\r\n",
      "\r\n",
      "\r\n",
      "\r\n",
      "\r\n",
      "\r\n",
      "\r\n"
     ]
    }
   ],
   "source": [
    "!cat new_names02.csv"
   ]
  },
  {
   "cell_type": "markdown",
   "metadata": {},
   "source": [
    "Reading from tab delimited file, by Specifying delimiter (or in case the delimiter is other then comma)\n",
    "\n",
    "##### Wrong way"
   ]
  },
  {
   "cell_type": "code",
   "execution_count": 10,
   "metadata": {},
   "outputs": [
    {
     "name": "stdout",
     "output_type": "stream",
     "text": [
      "['John\\tDoe\\tjohn-doe@bogusemail.com']\n",
      "['Mary\\tSmith-Robinson\\tmaryjacobs@bogusemail.com']\n",
      "['Dave\\tSmith\\tdavesmith@bogusemail.com']\n",
      "['Jane\\tStuart\\tjanestuart@bogusemail.com']\n",
      "['Tom\\tWright\\ttomwright@bogusemail.com']\n",
      "['Steve\\tRobinson\\tsteverobinson@bogusemail.com']\n",
      "['Nicole\\tJacobs\\tnicolejacobs@bogusemail.com']\n",
      "['Jane\\tWright\\tjanewright@bogusemail.com']\n",
      "['Jane\\tDoe\\tjanedoe@bogusemail.com']\n",
      "['Kurt\\tWright\\tkurtwright@bogusemail.com']\n",
      "['Kurt\\tRobinson\\tkurtrobinson@bogusemail.com']\n",
      "['Jane\\tJenkins\\tjanejenkins@bogusemail.com']\n",
      "['Neil\\tRobinson\\tneilrobinson@bogusemail.com']\n",
      "['Tom\\tPatterson\\ttompatterson@bogusemail.com']\n",
      "['Sam\\tJenkins\\tsamjenkins@bogusemail.com']\n",
      "['Steve\\tStuart\\tstevestuart@bogusemail.com']\n",
      "['Maggie\\tPatterson\\tmaggiepatterson@bogusemail.com']\n",
      "['Maggie\\tStuart\\tmaggiestuart@bogusemail.com']\n",
      "['Jane\\tDoe\\tjanedoe@bogusemail.com']\n",
      "['Steve\\tPatterson\\tstevepatterson@bogusemail.com']\n",
      "['Dave\\tSmith\\tdavesmith@bogusemail.com']\n",
      "['Sam\\tWilks\\tsamwilks@bogusemail.com']\n",
      "['Kurt\\tJefferson\\tkurtjefferson@bogusemail.com']\n",
      "['Sam\\tStuart\\tsamstuart@bogusemail.com']\n",
      "['Jane\\tStuart\\tjanestuart@bogusemail.com']\n",
      "['Dave\\tDavis\\tdavedavis@bogusemail.com']\n",
      "['Sam\\tPatterson\\tsampatterson@bogusemail.com']\n",
      "['Tom\\tJefferson\\ttomjefferson@bogusemail.com']\n",
      "['Jane\\tStuart\\tjanestuart@bogusemail.com']\n",
      "['Maggie\\tJefferson\\tmaggiejefferson@bogusemail.com']\n",
      "['Mary\\tWilks\\tmarywilks@bogusemail.com']\n",
      "['Neil\\tPatterson\\tneilpatterson@bogusemail.com']\n",
      "['Corey\\tDavis\\tcoreydavis@bogusemail.com']\n",
      "['Steve\\tJacobs\\tstevejacobs@bogusemail.com']\n",
      "['Jane\\tJenkins\\tjanejenkins@bogusemail.com']\n",
      "['John\\tJacobs\\tjohnjacobs@bogusemail.com']\n",
      "['Neil\\tSmith\\tneilsmith@bogusemail.com']\n",
      "['Corey\\tWilks\\tcoreywilks@bogusemail.com']\n",
      "['Corey\\tSmith\\tcoreysmith@bogusemail.com']\n",
      "['Mary\\tPatterson\\tmarypatterson@bogusemail.com']\n",
      "['Jane\\tStuart\\tjanestuart@bogusemail.com']\n",
      "['Travis\\tArnold\\ttravisarnold@bogusemail.com']\n",
      "['John\\tRobinson\\tjohnrobinson@bogusemail.com']\n",
      "['Travis\\tArnold\\ttravisarnold@bogusemail.com']\n"
     ]
    }
   ],
   "source": [
    "import csv\n",
    "\n",
    "with open('new_names02.csv') as csv_file:\n",
    "    csv_reader = csv.reader(csv_file)\n",
    "    \n",
    "    for line in csv_reader:\n",
    "        print(line)"
   ]
  },
  {
   "cell_type": "markdown",
   "metadata": {},
   "source": [
    "##### Correct way"
   ]
  },
  {
   "cell_type": "code",
   "execution_count": 11,
   "metadata": {},
   "outputs": [
    {
     "name": "stdout",
     "output_type": "stream",
     "text": [
      "['John', 'Doe', 'john-doe@bogusemail.com']\n",
      "['Mary', 'Smith-Robinson', 'maryjacobs@bogusemail.com']\n",
      "['Dave', 'Smith', 'davesmith@bogusemail.com']\n",
      "['Jane', 'Stuart', 'janestuart@bogusemail.com']\n",
      "['Tom', 'Wright', 'tomwright@bogusemail.com']\n",
      "['Steve', 'Robinson', 'steverobinson@bogusemail.com']\n",
      "['Nicole', 'Jacobs', 'nicolejacobs@bogusemail.com']\n",
      "['Jane', 'Wright', 'janewright@bogusemail.com']\n",
      "['Jane', 'Doe', 'janedoe@bogusemail.com']\n",
      "['Kurt', 'Wright', 'kurtwright@bogusemail.com']\n",
      "['Kurt', 'Robinson', 'kurtrobinson@bogusemail.com']\n",
      "['Jane', 'Jenkins', 'janejenkins@bogusemail.com']\n",
      "['Neil', 'Robinson', 'neilrobinson@bogusemail.com']\n",
      "['Tom', 'Patterson', 'tompatterson@bogusemail.com']\n",
      "['Sam', 'Jenkins', 'samjenkins@bogusemail.com']\n",
      "['Steve', 'Stuart', 'stevestuart@bogusemail.com']\n",
      "['Maggie', 'Patterson', 'maggiepatterson@bogusemail.com']\n",
      "['Maggie', 'Stuart', 'maggiestuart@bogusemail.com']\n",
      "['Jane', 'Doe', 'janedoe@bogusemail.com']\n",
      "['Steve', 'Patterson', 'stevepatterson@bogusemail.com']\n",
      "['Dave', 'Smith', 'davesmith@bogusemail.com']\n",
      "['Sam', 'Wilks', 'samwilks@bogusemail.com']\n",
      "['Kurt', 'Jefferson', 'kurtjefferson@bogusemail.com']\n",
      "['Sam', 'Stuart', 'samstuart@bogusemail.com']\n",
      "['Jane', 'Stuart', 'janestuart@bogusemail.com']\n",
      "['Dave', 'Davis', 'davedavis@bogusemail.com']\n",
      "['Sam', 'Patterson', 'sampatterson@bogusemail.com']\n",
      "['Tom', 'Jefferson', 'tomjefferson@bogusemail.com']\n",
      "['Jane', 'Stuart', 'janestuart@bogusemail.com']\n",
      "['Maggie', 'Jefferson', 'maggiejefferson@bogusemail.com']\n",
      "['Mary', 'Wilks', 'marywilks@bogusemail.com']\n",
      "['Neil', 'Patterson', 'neilpatterson@bogusemail.com']\n",
      "['Corey', 'Davis', 'coreydavis@bogusemail.com']\n",
      "['Steve', 'Jacobs', 'stevejacobs@bogusemail.com']\n",
      "['Jane', 'Jenkins', 'janejenkins@bogusemail.com']\n",
      "['John', 'Jacobs', 'johnjacobs@bogusemail.com']\n",
      "['Neil', 'Smith', 'neilsmith@bogusemail.com']\n",
      "['Corey', 'Wilks', 'coreywilks@bogusemail.com']\n",
      "['Corey', 'Smith', 'coreysmith@bogusemail.com']\n",
      "['Mary', 'Patterson', 'marypatterson@bogusemail.com']\n",
      "['Jane', 'Stuart', 'janestuart@bogusemail.com']\n",
      "['Travis', 'Arnold', 'travisarnold@bogusemail.com']\n",
      "['John', 'Robinson', 'johnrobinson@bogusemail.com']\n",
      "['Travis', 'Arnold', 'travisarnold@bogusemail.com']\n"
     ]
    }
   ],
   "source": [
    "import csv\n",
    "\n",
    "with open('new_names02.csv') as csv_file:\n",
    "    csv_reader = csv.reader(csv_file, delimiter='\\t')\n",
    "    \n",
    "    for line in csv_reader:\n",
    "        print(line)"
   ]
  },
  {
   "cell_type": "markdown",
   "metadata": {},
   "source": [
    "Working with .csv file using dictionary reader and dictionary writer."
   ]
  },
  {
   "cell_type": "code",
   "execution_count": 12,
   "metadata": {},
   "outputs": [
    {
     "name": "stdout",
     "output_type": "stream",
     "text": [
      "OrderedDict([('first_name', 'John'), ('last_name', 'Doe'), ('email', 'john-doe@bogusemail.com')])\n",
      "OrderedDict([('first_name', 'Mary'), ('last_name', 'Smith-Robinson'), ('email', 'maryjacobs@bogusemail.com')])\n",
      "OrderedDict([('first_name', 'Dave'), ('last_name', 'Smith'), ('email', 'davesmith@bogusemail.com')])\n",
      "OrderedDict([('first_name', 'Jane'), ('last_name', 'Stuart'), ('email', 'janestuart@bogusemail.com')])\n",
      "OrderedDict([('first_name', 'Tom'), ('last_name', 'Wright'), ('email', 'tomwright@bogusemail.com')])\n",
      "OrderedDict([('first_name', 'Steve'), ('last_name', 'Robinson'), ('email', 'steverobinson@bogusemail.com')])\n",
      "OrderedDict([('first_name', 'Nicole'), ('last_name', 'Jacobs'), ('email', 'nicolejacobs@bogusemail.com')])\n",
      "OrderedDict([('first_name', 'Jane'), ('last_name', 'Wright'), ('email', 'janewright@bogusemail.com')])\n",
      "OrderedDict([('first_name', 'Jane'), ('last_name', 'Doe'), ('email', 'janedoe@bogusemail.com')])\n",
      "OrderedDict([('first_name', 'Kurt'), ('last_name', 'Wright'), ('email', 'kurtwright@bogusemail.com')])\n",
      "OrderedDict([('first_name', 'Kurt'), ('last_name', 'Robinson'), ('email', 'kurtrobinson@bogusemail.com')])\n",
      "OrderedDict([('first_name', 'Jane'), ('last_name', 'Jenkins'), ('email', 'janejenkins@bogusemail.com')])\n",
      "OrderedDict([('first_name', 'Neil'), ('last_name', 'Robinson'), ('email', 'neilrobinson@bogusemail.com')])\n",
      "OrderedDict([('first_name', 'Tom'), ('last_name', 'Patterson'), ('email', 'tompatterson@bogusemail.com')])\n",
      "OrderedDict([('first_name', 'Sam'), ('last_name', 'Jenkins'), ('email', 'samjenkins@bogusemail.com')])\n",
      "OrderedDict([('first_name', 'Steve'), ('last_name', 'Stuart'), ('email', 'stevestuart@bogusemail.com')])\n",
      "OrderedDict([('first_name', 'Maggie'), ('last_name', 'Patterson'), ('email', 'maggiepatterson@bogusemail.com')])\n",
      "OrderedDict([('first_name', 'Maggie'), ('last_name', 'Stuart'), ('email', 'maggiestuart@bogusemail.com')])\n",
      "OrderedDict([('first_name', 'Jane'), ('last_name', 'Doe'), ('email', 'janedoe@bogusemail.com')])\n",
      "OrderedDict([('first_name', 'Steve'), ('last_name', 'Patterson'), ('email', 'stevepatterson@bogusemail.com')])\n",
      "OrderedDict([('first_name', 'Dave'), ('last_name', 'Smith'), ('email', 'davesmith@bogusemail.com')])\n",
      "OrderedDict([('first_name', 'Sam'), ('last_name', 'Wilks'), ('email', 'samwilks@bogusemail.com')])\n",
      "OrderedDict([('first_name', 'Kurt'), ('last_name', 'Jefferson'), ('email', 'kurtjefferson@bogusemail.com')])\n",
      "OrderedDict([('first_name', 'Sam'), ('last_name', 'Stuart'), ('email', 'samstuart@bogusemail.com')])\n",
      "OrderedDict([('first_name', 'Jane'), ('last_name', 'Stuart'), ('email', 'janestuart@bogusemail.com')])\n",
      "OrderedDict([('first_name', 'Dave'), ('last_name', 'Davis'), ('email', 'davedavis@bogusemail.com')])\n",
      "OrderedDict([('first_name', 'Sam'), ('last_name', 'Patterson'), ('email', 'sampatterson@bogusemail.com')])\n",
      "OrderedDict([('first_name', 'Tom'), ('last_name', 'Jefferson'), ('email', 'tomjefferson@bogusemail.com')])\n",
      "OrderedDict([('first_name', 'Jane'), ('last_name', 'Stuart'), ('email', 'janestuart@bogusemail.com')])\n",
      "OrderedDict([('first_name', 'Maggie'), ('last_name', 'Jefferson'), ('email', 'maggiejefferson@bogusemail.com')])\n",
      "OrderedDict([('first_name', 'Mary'), ('last_name', 'Wilks'), ('email', 'marywilks@bogusemail.com')])\n",
      "OrderedDict([('first_name', 'Neil'), ('last_name', 'Patterson'), ('email', 'neilpatterson@bogusemail.com')])\n",
      "OrderedDict([('first_name', 'Corey'), ('last_name', 'Davis'), ('email', 'coreydavis@bogusemail.com')])\n",
      "OrderedDict([('first_name', 'Steve'), ('last_name', 'Jacobs'), ('email', 'stevejacobs@bogusemail.com')])\n",
      "OrderedDict([('first_name', 'Jane'), ('last_name', 'Jenkins'), ('email', 'janejenkins@bogusemail.com')])\n",
      "OrderedDict([('first_name', 'John'), ('last_name', 'Jacobs'), ('email', 'johnjacobs@bogusemail.com')])\n",
      "OrderedDict([('first_name', 'Neil'), ('last_name', 'Smith'), ('email', 'neilsmith@bogusemail.com')])\n",
      "OrderedDict([('first_name', 'Corey'), ('last_name', 'Wilks'), ('email', 'coreywilks@bogusemail.com')])\n",
      "OrderedDict([('first_name', 'Corey'), ('last_name', 'Smith'), ('email', 'coreysmith@bogusemail.com')])\n",
      "OrderedDict([('first_name', 'Mary'), ('last_name', 'Patterson'), ('email', 'marypatterson@bogusemail.com')])\n",
      "OrderedDict([('first_name', 'Jane'), ('last_name', 'Stuart'), ('email', 'janestuart@bogusemail.com')])\n",
      "OrderedDict([('first_name', 'Travis'), ('last_name', 'Arnold'), ('email', 'travisarnold@bogusemail.com')])\n",
      "OrderedDict([('first_name', 'John'), ('last_name', 'Robinson'), ('email', 'johnrobinson@bogusemail.com')])\n",
      "OrderedDict([('first_name', 'Travis'), ('last_name', 'Arnold'), ('email', 'travisarnold@bogusemail.com')])\n"
     ]
    }
   ],
   "source": [
    "import csv\n",
    "\n",
    "with open('names.csv') as csv_file:\n",
    "    csv_reader = csv.DictReader(csv_file)\n",
    "    \n",
    "    for line in csv_reader:\n",
    "        print(line)"
   ]
  },
  {
   "cell_type": "code",
   "execution_count": 13,
   "metadata": {
    "scrolled": false
   },
   "outputs": [
    {
     "name": "stdout",
     "output_type": "stream",
     "text": [
      "john-doe@bogusemail.com\n",
      "maryjacobs@bogusemail.com\n",
      "davesmith@bogusemail.com\n",
      "janestuart@bogusemail.com\n",
      "tomwright@bogusemail.com\n",
      "steverobinson@bogusemail.com\n",
      "nicolejacobs@bogusemail.com\n",
      "janewright@bogusemail.com\n",
      "janedoe@bogusemail.com\n",
      "kurtwright@bogusemail.com\n",
      "kurtrobinson@bogusemail.com\n",
      "janejenkins@bogusemail.com\n",
      "neilrobinson@bogusemail.com\n",
      "tompatterson@bogusemail.com\n",
      "samjenkins@bogusemail.com\n",
      "stevestuart@bogusemail.com\n",
      "maggiepatterson@bogusemail.com\n",
      "maggiestuart@bogusemail.com\n",
      "janedoe@bogusemail.com\n",
      "stevepatterson@bogusemail.com\n",
      "davesmith@bogusemail.com\n",
      "samwilks@bogusemail.com\n",
      "kurtjefferson@bogusemail.com\n",
      "samstuart@bogusemail.com\n",
      "janestuart@bogusemail.com\n",
      "davedavis@bogusemail.com\n",
      "sampatterson@bogusemail.com\n",
      "tomjefferson@bogusemail.com\n",
      "janestuart@bogusemail.com\n",
      "maggiejefferson@bogusemail.com\n",
      "marywilks@bogusemail.com\n",
      "neilpatterson@bogusemail.com\n",
      "coreydavis@bogusemail.com\n",
      "stevejacobs@bogusemail.com\n",
      "janejenkins@bogusemail.com\n",
      "johnjacobs@bogusemail.com\n",
      "neilsmith@bogusemail.com\n",
      "coreywilks@bogusemail.com\n",
      "coreysmith@bogusemail.com\n",
      "marypatterson@bogusemail.com\n",
      "janestuart@bogusemail.com\n",
      "travisarnold@bogusemail.com\n",
      "johnrobinson@bogusemail.com\n",
      "travisarnold@bogusemail.com\n"
     ]
    }
   ],
   "source": [
    "import csv\n",
    "\n",
    "with open('names.csv') as csv_file:\n",
    "    csv_reader = csv.DictReader(csv_file)\n",
    "    \n",
    "    for line in csv_reader:\n",
    "        print(line['email'])"
   ]
  },
  {
   "cell_type": "code",
   "execution_count": 14,
   "metadata": {},
   "outputs": [],
   "source": [
    "import csv\n",
    "\n",
    "with open('names.csv') as csv_file:\n",
    "    csv_reader = csv.DictReader(csv_file)\n",
    "\n",
    "    with open('new_names03.csv', 'w') as new_file:\n",
    "        field_names = ['first_name', 'last_name', 'email']\n",
    "        csv_writer = csv.DictWriter(new_file, fieldnames=field_names, delimiter='\\t')\n",
    "        csv_writer.writeheader()\n",
    "    \n",
    "        for line in csv_reader:\n",
    "            csv_writer.writerow(line)"
   ]
  },
  {
   "cell_type": "code",
   "execution_count": 15,
   "metadata": {},
   "outputs": [
    {
     "name": "stdout",
     "output_type": "stream",
     "text": [
      "\r\n",
      "\r\n",
      "\r\n",
      "\r\n",
      "\r\n",
      "\r\n",
      "\r\n",
      "\r\n",
      "\r\n",
      "\r\n",
      "\r\n",
      "\r\n",
      "\r\n",
      "\r\n",
      "\r\n",
      "\r\n",
      "\r\n",
      "\r\n",
      "\r\n",
      "\r\n",
      "\r\n",
      "\r\n",
      "\r\n",
      "\r\n",
      "\r\n",
      "\r\n",
      "\r\n",
      "\r\n",
      "\r\n",
      "\r\n",
      "\r\n",
      "\r\n",
      "\r\n",
      "\r\n",
      "\r\n",
      "\r\n",
      "\r\n",
      "\r\n",
      "\r\n",
      "\r\n",
      "\r\n",
      "\r\n",
      "\r\n",
      "\r\n",
      "\r\n"
     ]
    }
   ],
   "source": [
    "!cat new_names03.csv"
   ]
  },
  {
   "cell_type": "markdown",
   "metadata": {},
   "source": [
    "Removing fields dictionary before writing. (removing email)"
   ]
  },
  {
   "cell_type": "code",
   "execution_count": 16,
   "metadata": {},
   "outputs": [],
   "source": [
    "import csv\n",
    "\n",
    "with open('names.csv') as csv_file:\n",
    "    csv_reader = csv.DictReader(csv_file)\n",
    "\n",
    "    with open('new_names04.csv', 'w') as new_file:\n",
    "        field_names = ['first_name', 'last_name']\n",
    "        csv_writer = csv.DictWriter(new_file, fieldnames=field_names, delimiter='\\t')\n",
    "        csv_writer.writeheader()\n",
    "    \n",
    "        for line in csv_reader:\n",
    "            del line['email']\n",
    "            csv_writer.writerow(line)"
   ]
  },
  {
   "cell_type": "code",
   "execution_count": 17,
   "metadata": {},
   "outputs": [
    {
     "name": "stdout",
     "output_type": "stream",
     "text": [
      "\r\n",
      "\r\n",
      "\r\n",
      "\r\n",
      "\r\n",
      "\r\n",
      "\r\n",
      "\r\n",
      "\r\n",
      "\r\n",
      "\r\n",
      "\r\n",
      "\r\n",
      "\r\n",
      "\r\n",
      "\r\n",
      "\r\n",
      "\r\n",
      "\r\n",
      "\r\n",
      "\r\n",
      "\r\n",
      "\r\n",
      "\r\n",
      "\r\n",
      "\r\n",
      "\r\n",
      "\r\n",
      "\r\n",
      "\r\n",
      "\r\n",
      "\r\n",
      "\r\n",
      "\r\n",
      "\r\n",
      "\r\n",
      "\r\n",
      "\r\n",
      "\r\n",
      "\r\n",
      "\r\n",
      "\r\n",
      "\r\n",
      "\r\n",
      "\r\n"
     ]
    }
   ],
   "source": [
    "!cat new_names04.csv"
   ]
  },
  {
   "cell_type": "code",
   "execution_count": null,
   "metadata": {},
   "outputs": [],
   "source": []
  }
 ],
 "metadata": {
  "kernelspec": {
   "display_name": "Python 3",
   "language": "python",
   "name": "python3"
  },
  "language_info": {
   "codemirror_mode": {
    "name": "ipython",
    "version": 3
   },
   "file_extension": ".py",
   "mimetype": "text/x-python",
   "name": "python",
   "nbconvert_exporter": "python",
   "pygments_lexer": "ipython3",
   "version": "3.7.5"
  }
 },
 "nbformat": 4,
 "nbformat_minor": 2
}
