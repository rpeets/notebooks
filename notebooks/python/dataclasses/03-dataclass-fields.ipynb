{
 "cells": [
  {
   "cell_type": "markdown",
   "metadata": {},
   "source": [
    "#### field()\n",
    "\n",
    "```\n",
    "For common and simple use cases, no other functionality is required. There are, however, some dataclass features that require additional per-field information. To satisfy this need for additional information, you can replace the default field value with a call to the provided field() function.\n",
    "\n",
    "dataclasses.field(*, default=MISSING, default_factory=MISSING, repr=True, hash=None, init=True, compare=True, metadata=None)\n",
    "\n",
    "default\n",
    "default_factory\n",
    "init\n",
    "repr \n",
    "compare\n",
    "hash\n",
    "metadata\n",
    "```"
   ]
  },
  {
   "cell_type": "code",
   "execution_count": 1,
   "metadata": {},
   "outputs": [],
   "source": [
    "from dataclasses import dataclass\n",
    "\n",
    "@dataclass\n",
    "class Person():\n",
    "    name: str\n",
    "    age: int\n",
    "    city: str\n",
    "\n",
    "p1 = Person('Casey', 3, 'Redwood City')"
   ]
  },
  {
   "cell_type": "markdown",
   "metadata": {},
   "source": [
    "dataclass inbuilt attribute '__dataclass_fields__' provides all the attributes dataclass it is managing."
   ]
  },
  {
   "cell_type": "code",
   "execution_count": 2,
   "metadata": {},
   "outputs": [
    {
     "data": {
      "text/plain": [
       "{'name': Field(name='name',type=<class 'str'>,default=<dataclasses._MISSING_TYPE object at 0x7fce7458df90>,default_factory=<dataclasses._MISSING_TYPE object at 0x7fce7458df90>,init=True,repr=True,hash=None,compare=True,metadata=mappingproxy({}),_field_type=_FIELD),\n",
       " 'age': Field(name='age',type=<class 'int'>,default=<dataclasses._MISSING_TYPE object at 0x7fce7458df90>,default_factory=<dataclasses._MISSING_TYPE object at 0x7fce7458df90>,init=True,repr=True,hash=None,compare=True,metadata=mappingproxy({}),_field_type=_FIELD),\n",
       " 'city': Field(name='city',type=<class 'str'>,default=<dataclasses._MISSING_TYPE object at 0x7fce7458df90>,default_factory=<dataclasses._MISSING_TYPE object at 0x7fce7458df90>,init=True,repr=True,hash=None,compare=True,metadata=mappingproxy({}),_field_type=_FIELD)}"
      ]
     },
     "execution_count": 2,
     "metadata": {},
     "output_type": "execute_result"
    }
   ],
   "source": [
    "p1.__dataclass_fields__"
   ]
  },
  {
   "cell_type": "markdown",
   "metadata": {},
   "source": [
    "We can import the **field** function to customize these dataclass fields."
   ]
  },
  {
   "cell_type": "code",
   "execution_count": 3,
   "metadata": {},
   "outputs": [],
   "source": [
    "from dataclasses import dataclass, field\n",
    "\n",
    "@dataclass\n",
    "class Person():\n",
    "    name: str\n",
    "    age: int\n",
    "    city: str\n",
    "\n",
    "p1 = Person('Casey', 3, 'Redwood City')"
   ]
  },
  {
   "cell_type": "markdown",
   "metadata": {},
   "source": [
    "#### default()\n",
    "```\n",
    "If provided, this will be the default value for this field. This is needed because the field() call itself replaces the normal position of the default value.```"
   ]
  },
  {
   "cell_type": "code",
   "execution_count": 4,
   "metadata": {},
   "outputs": [
    {
     "data": {
      "text/plain": [
       "Person(name='Casey', age=3, city='Redwood City')"
      ]
     },
     "execution_count": 4,
     "metadata": {},
     "output_type": "execute_result"
    }
   ],
   "source": [
    "from dataclasses import dataclass, field\n",
    "\n",
    "@dataclass\n",
    "class Person():\n",
    "    name: str\n",
    "    age: int \n",
    "    city: str = field(default='Redwood City')\n",
    "\n",
    "p1 = Person('Casey', 3)\n",
    "p1"
   ]
  },
  {
   "cell_type": "markdown",
   "metadata": {},
   "source": [
    "We can also use a shortcut."
   ]
  },
  {
   "cell_type": "code",
   "execution_count": 5,
   "metadata": {},
   "outputs": [
    {
     "data": {
      "text/plain": [
       "Person(name='Casey', age=3, city='Redwood City')"
      ]
     },
     "execution_count": 5,
     "metadata": {},
     "output_type": "execute_result"
    }
   ],
   "source": [
    "from dataclasses import dataclass, field\n",
    "\n",
    "@dataclass\n",
    "class Person():\n",
    "    name: str\n",
    "    age: int \n",
    "    city: str = 'Redwood City'\n",
    "\n",
    "p1 = Person('Casey', 3)\n",
    "p1"
   ]
  },
  {
   "cell_type": "markdown",
   "metadata": {},
   "source": [
    "#### default_factory()\n",
    "```\n",
    "If provided, it must be a zero-argument callable that will be called when a default value is needed for this field. Among other purposes, this can be used to specify fields with mutable default values, as discussed below. It is an error to specify both default and default_factory.\n",
    "\n",
    "default_factory can take only a function name without any arguments. \n",
    "```"
   ]
  },
  {
   "cell_type": "code",
   "execution_count": 6,
   "metadata": {},
   "outputs": [
    {
     "data": {
      "text/plain": [
       "Person(name='Casey', city='Redwood City', age=18)"
      ]
     },
     "execution_count": 6,
     "metadata": {},
     "output_type": "execute_result"
    }
   ],
   "source": [
    "from dataclasses import dataclass, field\n",
    "\n",
    "def get_default_age():\n",
    "    ages = [10, 11, 15, 18, 12, 44]\n",
    "    return sum(ages)//len(ages)\n",
    "\n",
    "@dataclass\n",
    "class Person():\n",
    "    name: str\n",
    "    city: str\n",
    "    age: int = field(default_factory=get_default_age)\n",
    "\n",
    "p1 = Person('Casey', 'Redwood City')\n",
    "p1"
   ]
  },
  {
   "cell_type": "markdown",
   "metadata": {},
   "source": [
    "#### init() \n",
    "```\n",
    "If true (the default), this field is included as a parameter to the generated __init__() method.\n",
    "IF we set init=false and pass the argument, we get 'positional arguments' error.\n",
    "```"
   ]
  },
  {
   "cell_type": "code",
   "execution_count": 7,
   "metadata": {},
   "outputs": [
    {
     "data": {
      "text/plain": [
       "Person(name='Casey', age=20, city='Redwood City')"
      ]
     },
     "execution_count": 7,
     "metadata": {},
     "output_type": "execute_result"
    }
   ],
   "source": [
    "from dataclasses import dataclass, field\n",
    "\n",
    "@dataclass\n",
    "class Person():\n",
    "    name: str\n",
    "    age: int = field(init=False, default=20)\n",
    "    city: str \n",
    "\n",
    "p1 = Person('Casey', 'Redwood City')\n",
    "p1"
   ]
  },
  {
   "cell_type": "markdown",
   "metadata": {},
   "source": [
    "If we try to pass the argument we get an error."
   ]
  },
  {
   "cell_type": "code",
   "execution_count": 8,
   "metadata": {},
   "outputs": [
    {
     "ename": "TypeError",
     "evalue": "__init__() takes 3 positional arguments but 4 were given",
     "output_type": "error",
     "traceback": [
      "\u001b[0;31m---------------------------------------------------------------------------\u001b[0m",
      "\u001b[0;31mTypeError\u001b[0m                                 Traceback (most recent call last)",
      "\u001b[0;32m<ipython-input-8-c9d6e6aa2d82>\u001b[0m in \u001b[0;36m<module>\u001b[0;34m\u001b[0m\n\u001b[1;32m      7\u001b[0m     \u001b[0mcity\u001b[0m\u001b[0;34m:\u001b[0m \u001b[0mstr\u001b[0m\u001b[0;34m\u001b[0m\u001b[0;34m\u001b[0m\u001b[0m\n\u001b[1;32m      8\u001b[0m \u001b[0;34m\u001b[0m\u001b[0m\n\u001b[0;32m----> 9\u001b[0;31m \u001b[0mp2\u001b[0m \u001b[0;34m=\u001b[0m \u001b[0mPerson\u001b[0m\u001b[0;34m(\u001b[0m\u001b[0;34m'Casey'\u001b[0m\u001b[0;34m,\u001b[0m \u001b[0;36m3\u001b[0m\u001b[0;34m,\u001b[0m \u001b[0;34m'Redwood City'\u001b[0m\u001b[0;34m)\u001b[0m\u001b[0;34m\u001b[0m\u001b[0;34m\u001b[0m\u001b[0m\n\u001b[0m",
      "\u001b[0;31mTypeError\u001b[0m: __init__() takes 3 positional arguments but 4 were given"
     ]
    }
   ],
   "source": [
    "from dataclasses import dataclass, field\n",
    "\n",
    "@dataclass\n",
    "class Person():\n",
    "    name: str\n",
    "    age: int = field(init=False, default=20)\n",
    "    city: str \n",
    "        \n",
    "p2 = Person('Casey', 3, 'Redwood City')"
   ]
  },
  {
   "cell_type": "markdown",
   "metadata": {},
   "source": [
    "#### repr: \n",
    "\n",
    "```\n",
    "If true (the default), this field is included in the string returned by the generated __repr__() method.```"
   ]
  },
  {
   "cell_type": "code",
   "execution_count": 9,
   "metadata": {},
   "outputs": [
    {
     "data": {
      "text/plain": [
       "Person(name='Casey', age=3, city='Redwood City')"
      ]
     },
     "execution_count": 9,
     "metadata": {},
     "output_type": "execute_result"
    }
   ],
   "source": [
    "from dataclasses import dataclass, field\n",
    "\n",
    "@dataclass\n",
    "class Person():\n",
    "    name: str\n",
    "    age: int\n",
    "    city: str \n",
    "\n",
    "p1 = Person('Casey', 3, 'Redwood City')\n",
    "p1"
   ]
  },
  {
   "cell_type": "markdown",
   "metadata": {},
   "source": [
    "If we set the **repr=false**, that attribute will not be part of class representation."
   ]
  },
  {
   "cell_type": "code",
   "execution_count": 10,
   "metadata": {},
   "outputs": [
    {
     "data": {
      "text/plain": [
       "Person(name='Casey', city='Redwood City')"
      ]
     },
     "execution_count": 10,
     "metadata": {},
     "output_type": "execute_result"
    }
   ],
   "source": [
    "from dataclasses import dataclass, field\n",
    "\n",
    "@dataclass\n",
    "class Person():\n",
    "    name: str\n",
    "    age: int = field(repr=False)\n",
    "    city: str \n",
    "\n",
    "p1 = Person('Casey', 3, 'Redwood City')\n",
    "p1"
   ]
  },
  {
   "cell_type": "markdown",
   "metadata": {},
   "source": [
    "#### hash()\n",
    "```\n",
    "This can be a bool or None. If true, this field is included in the generated __hash__() method. If None (the default), use the value of compare: this would normally be the expected behavior. A field should be considered in the hash if it’s used for comparisons. Setting this value to anything other than None is discouraged.\n",
    "\n",
    "One possible reason to set hash=False but compare=True would be if a field is expensive to compute a hash value for, that field is needed for equality testing, and there are other fields that contribute to the type’s hash value. Even if a field is excluded from the hash, it will still be used for comparisons.\n",
    "```"
   ]
  },
  {
   "cell_type": "code",
   "execution_count": 11,
   "metadata": {},
   "outputs": [
    {
     "data": {
      "text/plain": [
       "5596840205019813929"
      ]
     },
     "execution_count": 11,
     "metadata": {},
     "output_type": "execute_result"
    }
   ],
   "source": [
    "from dataclasses import dataclass, field\n",
    "\n",
    "@dataclass(unsafe_hash=True)\n",
    "class Person():\n",
    "    name: str\n",
    "    age: int\n",
    "    city: str \n",
    "\n",
    "p1 = Person('Casey', 3, 'Redwood City')\n",
    "hash(p1)"
   ]
  },
  {
   "cell_type": "markdown",
   "metadata": {},
   "source": [
    "If we don't want to incluse 'city' while calculating hash we can use the filed(hash=False)"
   ]
  },
  {
   "cell_type": "code",
   "execution_count": 12,
   "metadata": {},
   "outputs": [
    {
     "data": {
      "text/plain": [
       "6328510546231632723"
      ]
     },
     "execution_count": 12,
     "metadata": {},
     "output_type": "execute_result"
    }
   ],
   "source": [
    "from dataclasses import dataclass, field\n",
    "\n",
    "@dataclass(unsafe_hash=True)\n",
    "class Person():\n",
    "    name: str\n",
    "    age: int\n",
    "    city: str =field(hash=False)\n",
    "\n",
    "p1 = Person('Casey', 3, 'Redwood City')\n",
    "hash(p1)"
   ]
  },
  {
   "cell_type": "markdown",
   "metadata": {},
   "source": [
    "#### compare()\n",
    "```\n",
    "If true (the default), this field is included in the generated equality and comparison methods (__eq__(), __gt__(), et al.).```"
   ]
  },
  {
   "cell_type": "code",
   "execution_count": 13,
   "metadata": {},
   "outputs": [
    {
     "data": {
      "text/plain": [
       "False"
      ]
     },
     "execution_count": 13,
     "metadata": {},
     "output_type": "execute_result"
    }
   ],
   "source": [
    "from dataclasses import dataclass, field\n",
    "\n",
    "@dataclass\n",
    "class Person():\n",
    "    name: str\n",
    "    age: int\n",
    "    city: str \n",
    "\n",
    "p1 = Person('Casey', 3, 'Redwood City')\n",
    "p2 = Person('Casey', 4, 'Redwood City')\n",
    "p1 == p2"
   ]
  },
  {
   "cell_type": "markdown",
   "metadata": {},
   "source": [
    "If we dont wan't to use the **age** for the camparison operation."
   ]
  },
  {
   "cell_type": "code",
   "execution_count": 14,
   "metadata": {},
   "outputs": [
    {
     "data": {
      "text/plain": [
       "True"
      ]
     },
     "execution_count": 14,
     "metadata": {},
     "output_type": "execute_result"
    }
   ],
   "source": [
    "from dataclasses import dataclass, field\n",
    "\n",
    "@dataclass\n",
    "class Person():\n",
    "    name: str\n",
    "    age: int =field(compare=False)\n",
    "    city: str \n",
    "\n",
    "p1 = Person('Casey', 3, 'Redwood City')\n",
    "p2 = Person('Casey', 4, 'Redwood City')\n",
    "p1 == p2"
   ]
  },
  {
   "cell_type": "markdown",
   "metadata": {},
   "source": [
    "#### metadata: \n",
    "```\n",
    "This can be a mapping or None. None is treated as an empty dict. This value is wrapped in MappingProxyType() to make it read-only, and exposed on the Field object. It is not used at all by Data Classes, and is provided as a third-party extension mechanism. Multiple third-parties can each have their own key, to use as a namespace in the metadata.```"
   ]
  },
  {
   "cell_type": "code",
   "execution_count": 15,
   "metadata": {},
   "outputs": [
    {
     "data": {
      "text/plain": [
       "{'name': Field(name='name',type=<class 'str'>,default=<dataclasses._MISSING_TYPE object at 0x7fce7458df90>,default_factory=<dataclasses._MISSING_TYPE object at 0x7fce7458df90>,init=True,repr=True,hash=None,compare=True,metadata=mappingproxy({}),_field_type=_FIELD),\n",
       " 'age': Field(name='age',type=<class 'int'>,default=<dataclasses._MISSING_TYPE object at 0x7fce7458df90>,default_factory=<dataclasses._MISSING_TYPE object at 0x7fce7458df90>,init=True,repr=True,hash=None,compare=True,metadata=mappingproxy({}),_field_type=_FIELD),\n",
       " 'city': Field(name='city',type=<class 'str'>,default=<dataclasses._MISSING_TYPE object at 0x7fce7458df90>,default_factory=<dataclasses._MISSING_TYPE object at 0x7fce7458df90>,init=True,repr=True,hash=None,compare=True,metadata=mappingproxy({}),_field_type=_FIELD)}"
      ]
     },
     "execution_count": 15,
     "metadata": {},
     "output_type": "execute_result"
    }
   ],
   "source": [
    "from dataclasses import dataclass, field\n",
    "\n",
    "@dataclass\n",
    "class Person():\n",
    "    name: str\n",
    "    age: int \n",
    "    city: str \n",
    "\n",
    "p1 = Person('Casey', 3, 'Redwood City')\n",
    "p1.__dataclass_fields__"
   ]
  },
  {
   "cell_type": "markdown",
   "metadata": {},
   "source": [
    "If we use the **metadata** it will be part of the attribute information for reference."
   ]
  },
  {
   "cell_type": "code",
   "execution_count": 16,
   "metadata": {},
   "outputs": [
    {
     "data": {
      "text/plain": [
       "{'name': Field(name='name',type=<class 'str'>,default=<dataclasses._MISSING_TYPE object at 0x7fce7458df90>,default_factory=<dataclasses._MISSING_TYPE object at 0x7fce7458df90>,init=True,repr=True,hash=None,compare=True,metadata=mappingproxy({}),_field_type=_FIELD),\n",
       " 'age': Field(name='age',type=<class 'int'>,default=<dataclasses._MISSING_TYPE object at 0x7fce7458df90>,default_factory=<dataclasses._MISSING_TYPE object at 0x7fce7458df90>,init=True,repr=True,hash=None,compare=True,metadata=mappingproxy({'format': 'year'}),_field_type=_FIELD),\n",
       " 'city': Field(name='city',type=<class 'str'>,default=<dataclasses._MISSING_TYPE object at 0x7fce7458df90>,default_factory=<dataclasses._MISSING_TYPE object at 0x7fce7458df90>,init=True,repr=True,hash=None,compare=True,metadata=mappingproxy({}),_field_type=_FIELD)}"
      ]
     },
     "execution_count": 16,
     "metadata": {},
     "output_type": "execute_result"
    }
   ],
   "source": [
    "from dataclasses import dataclass, field\n",
    "\n",
    "@dataclass\n",
    "class Person():\n",
    "    name: str\n",
    "    age: int = field(metadata={'format':'year'})\n",
    "    city: str \n",
    "\n",
    "p1 = Person('Casey', 3, 'Redwood City')\n",
    "p1.__dataclass_fields__"
   ]
  },
  {
   "cell_type": "markdown",
   "metadata": {},
   "source": [
    "Or we can display just the age."
   ]
  },
  {
   "cell_type": "code",
   "execution_count": 17,
   "metadata": {},
   "outputs": [
    {
     "data": {
      "text/plain": [
       "'year'"
      ]
     },
     "execution_count": 17,
     "metadata": {},
     "output_type": "execute_result"
    }
   ],
   "source": [
    "p1.__dataclass_fields__['age'].metadata['format']"
   ]
  },
  {
   "cell_type": "code",
   "execution_count": null,
   "metadata": {},
   "outputs": [],
   "source": []
  }
 ],
 "metadata": {
  "kernelspec": {
   "display_name": "Python 3",
   "language": "python",
   "name": "python3"
  },
  "language_info": {
   "codemirror_mode": {
    "name": "ipython",
    "version": 3
   },
   "file_extension": ".py",
   "mimetype": "text/x-python",
   "name": "python",
   "nbconvert_exporter": "python",
   "pygments_lexer": "ipython3",
   "version": "3.7.5"
  }
 },
 "nbformat": 4,
 "nbformat_minor": 2
}
