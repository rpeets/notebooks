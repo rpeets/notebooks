{
 "cells": [
  {
   "cell_type": "markdown",
   "metadata": {},
   "source": [
    "### File Objects - Reading and Writing to Files\n",
    "\n",
    "[YouTube](https://www.youtube.com/watch?v=Uh2ebFW8OYM)"
   ]
  },
  {
   "cell_type": "code",
   "execution_count": 1,
   "metadata": {
    "scrolled": true
   },
   "outputs": [
    {
     "name": "stdout",
     "output_type": "stream",
     "text": [
      "/home/python\n",
      "-rw-rw-r-- 1 8888 8888 28 Nov 20 06:29 ../work/filename.txt\n",
      "Casey 3 Porty\n",
      "Hank 2 Westie\n"
     ]
    }
   ],
   "source": [
    "!pwd\n",
    "!ls -al ../work/filename.txt\n",
    "!cat /home/work/filename.txt"
   ]
  },
  {
   "cell_type": "markdown",
   "metadata": {},
   "source": [
    "First look at the non-recommended (or old) way to Reading and Writing to Files.\n",
    "Later we will look in to a context manager **with** for Reading and Writing to Files"
   ]
  },
  {
   "cell_type": "code",
   "execution_count": 2,
   "metadata": {},
   "outputs": [],
   "source": [
    "f = open('../work/filename.txt')"
   ]
  },
  {
   "cell_type": "markdown",
   "metadata": {},
   "source": [
    "You can also pass the full path of the file."
   ]
  },
  {
   "cell_type": "code",
   "execution_count": 3,
   "metadata": {},
   "outputs": [],
   "source": [
    "f = open('/home/work/filename.txt')"
   ]
  },
  {
   "cell_type": "markdown",
   "metadata": {},
   "source": [
    "Open command allows us to specify we want to be reading, writing, appending or reading&writing. if we dont specify anything it defaults to opening the files for reading. Its a good practice to be explict for readbility."
   ]
  },
  {
   "cell_type": "code",
   "execution_count": 4,
   "metadata": {},
   "outputs": [],
   "source": [
    "f = open('/home/work/filename.txt', 'r')"
   ]
  },
  {
   "cell_type": "markdown",
   "metadata": {},
   "source": [
    "```\n",
    "r  = for reading from a file\n",
    "w  = for writing to a file \n",
    "a  = for appending to a file \n",
    "r+ = for read and write to a file```"
   ]
  },
  {
   "cell_type": "code",
   "execution_count": 5,
   "metadata": {},
   "outputs": [],
   "source": [
    "f = open('/home/work/testfile.txt', 'w')"
   ]
  },
  {
   "cell_type": "markdown",
   "metadata": {},
   "source": [
    "We can see all the inbuild functions with **dir() or .\\__dir\\__()**"
   ]
  },
  {
   "cell_type": "code",
   "execution_count": 6,
   "metadata": {},
   "outputs": [
    {
     "name": "stdout",
     "output_type": "stream",
     "text": [
      "['_CHUNK_SIZE', '__class__', '__del__', '__delattr__', '__dict__', '__dir__', '__doc__', '__enter__', '__eq__', '__exit__', '__format__', '__ge__', '__getattribute__', '__getstate__', '__gt__', '__hash__', '__init__', '__init_subclass__', '__iter__', '__le__', '__lt__', '__ne__', '__new__', '__next__', '__reduce__', '__reduce_ex__', '__repr__', '__setattr__', '__sizeof__', '__str__', '__subclasshook__', '_checkClosed', '_checkReadable', '_checkSeekable', '_checkWritable', '_finalizing', 'buffer', 'close', 'closed', 'detach', 'encoding', 'errors', 'fileno', 'flush', 'isatty', 'line_buffering', 'mode', 'name', 'newlines', 'read', 'readable', 'readline', 'readlines', 'reconfigure', 'seek', 'seekable', 'tell', 'truncate', 'writable', 'write', 'write_through', 'writelines']\n"
     ]
    }
   ],
   "source": [
    "f = open('/home/work/filename.txt', 'r')\n",
    "print(dir(f))"
   ]
  },
  {
   "cell_type": "markdown",
   "metadata": {},
   "source": [
    "if we open a file, we suppose to explicilty close the file with **.close()**. If we dont close the file, we may run over the maximum opened files limit set by Operating system."
   ]
  },
  {
   "cell_type": "code",
   "execution_count": 7,
   "metadata": {},
   "outputs": [
    {
     "name": "stdout",
     "output_type": "stream",
     "text": [
      "/home/work/filename.txt\n"
     ]
    }
   ],
   "source": [
    "f = open('/home/work/filename.txt', 'r')\n",
    "print(f.name)\n",
    "f.close()"
   ]
  },
  {
   "cell_type": "markdown",
   "metadata": {},
   "source": [
    "```\n",
    "f.readline() reads a single line from the file; a newline character (\\n) is left at the end of the string, and is only omitted on the last line of the file if the file doesn’t end in a newline. This makes the return value unambiguous; if f.readline() returns an empty string, the end of the file has been reached, while a blank line is represented by '\\n', a string containing only a single newline.```"
   ]
  },
  {
   "cell_type": "code",
   "execution_count": 8,
   "metadata": {},
   "outputs": [
    {
     "name": "stdout",
     "output_type": "stream",
     "text": [
      "Name of the file:  /home/work/filename.txt\n",
      "Read Line:  Casey 3 Porty\n",
      "\n"
     ]
    }
   ],
   "source": [
    "f = open('/home/work/filename.txt')\n",
    "print(\"Name of the file: \", f.name)\n",
    "line = f.readline()\n",
    "print(\"Read Line: \", line)\n",
    "f.close()"
   ]
  },
  {
   "cell_type": "markdown",
   "metadata": {},
   "source": [
    "```\n",
    "If you want to read all the lines of a file in a list you can also use list(f) or f.readlines().```"
   ]
  },
  {
   "cell_type": "code",
   "execution_count": 9,
   "metadata": {},
   "outputs": [
    {
     "name": "stdout",
     "output_type": "stream",
     "text": [
      "Name of the file:  /home/work/filename.txt\n",
      "Line 0 : Casey 3 Porty\n",
      "Line 1 : Hank 2 Westie\n"
     ]
    }
   ],
   "source": [
    "file = open('/home/work/filename.txt')\n",
    "print(\"Name of the file: \", file.name)\n",
    "for n,line in enumerate(file.readlines()):\n",
    "    print(f\"Line {n} : {line.rstrip()}\")\n",
    "file.close()"
   ]
  },
  {
   "cell_type": "markdown",
   "metadata": {},
   "source": [
    "Checking file is readable or writable."
   ]
  },
  {
   "cell_type": "code",
   "execution_count": 10,
   "metadata": {},
   "outputs": [
    {
     "name": "stdout",
     "output_type": "stream",
     "text": [
      "Name of the file:  /home/work/filename.txt\n",
      "Writable : False\n",
      "Readable : True\n"
     ]
    }
   ],
   "source": [
    "file = open('/home/work/filename.txt')\n",
    "print(\"Name of the file: \", file.name)\n",
    "print(f'Writable : {file.writable()}')\n",
    "print(f'Readable : {file.readable()}')\n",
    "file.close()"
   ]
  },
  {
   "cell_type": "markdown",
   "metadata": {},
   "source": [
    "### Using Context Manager\n",
    "\n",
    "Using context manager **with** for Reading and Writing to Files. Context Manager (**with**) close the file as soon we exit the 'with' code block."
   ]
  },
  {
   "cell_type": "code",
   "execution_count": 11,
   "metadata": {},
   "outputs": [
    {
     "name": "stdout",
     "output_type": "stream",
     "text": [
      "Casey 3 Porty\n",
      "Hank 2 Westie\n",
      "\n"
     ]
    }
   ],
   "source": [
    "with open('/home/work/filename.txt') as file:\n",
    "    content = file.read()\n",
    "    print(content)"
   ]
  },
  {
   "cell_type": "markdown",
   "metadata": {},
   "source": [
    "Reading line by line."
   ]
  },
  {
   "cell_type": "code",
   "execution_count": 12,
   "metadata": {},
   "outputs": [
    {
     "name": "stdout",
     "output_type": "stream",
     "text": [
      "Line 0 : Casey 3 Porty\n",
      "Line 1 : Hank 2 Westie\n"
     ]
    }
   ],
   "source": [
    "with open('/home/work/filename.txt') as file:\n",
    "    for n,line in enumerate(file.readlines()):\n",
    "        print(f\"Line {n} : {line.rstrip()}\")"
   ]
  },
  {
   "cell_type": "markdown",
   "metadata": {},
   "source": [
    "Checking file is closed!"
   ]
  },
  {
   "cell_type": "code",
   "execution_count": 13,
   "metadata": {},
   "outputs": [
    {
     "name": "stdout",
     "output_type": "stream",
     "text": [
      "Line 0 : Casey 3 Porty\n",
      "Line 1 : Hank 2 Westie\n",
      "True\n"
     ]
    }
   ],
   "source": [
    "with open('/home/work/filename.txt') as file:\n",
    "    for n,line in enumerate(file.readlines()):\n",
    "        print(f\"Line {n} : {line.rstrip()}\")\n",
    "print(file.closed)"
   ]
  },
  {
   "cell_type": "markdown",
   "metadata": {},
   "source": [
    "If the file is too big, its efficient to read one line at a time than reading everying at once to system memory.\n",
    "using the following way we are reading one line at a time."
   ]
  },
  {
   "cell_type": "code",
   "execution_count": 14,
   "metadata": {},
   "outputs": [
    {
     "name": "stdout",
     "output_type": "stream",
     "text": [
      "Casey 3 Porty\n",
      "Hank 2 Westie\n"
     ]
    }
   ],
   "source": [
    "with open('/home/work/filename.txt') as file:\n",
    "    for line in file:\n",
    "        print(line.rstrip())"
   ]
  },
  {
   "cell_type": "markdown",
   "metadata": {},
   "source": [
    "Read the curser position using **.tell()** method."
   ]
  },
  {
   "cell_type": "code",
   "execution_count": 15,
   "metadata": {},
   "outputs": [
    {
     "name": "stdout",
     "output_type": "stream",
     "text": [
      "14\n"
     ]
    }
   ],
   "source": [
    "with open('/home/work/filename.txt') as file:\n",
    "    content = file.readline()\n",
    "    print(file.tell())"
   ]
  },
  {
   "cell_type": "markdown",
   "metadata": {},
   "source": [
    "You can manupulate the curser position using **.seek()** method."
   ]
  },
  {
   "cell_type": "code",
   "execution_count": 16,
   "metadata": {},
   "outputs": [
    {
     "name": "stdout",
     "output_type": "stream",
     "text": [
      "Casey 3 Porty\n",
      "14\n",
      "Porty\n",
      "13\n"
     ]
    }
   ],
   "source": [
    "with open('/home/work/filename.txt') as file:\n",
    "    print(file.readline().rstrip())\n",
    "    print(file.tell())\n",
    "    file.seek(8)\n",
    "    print(file.read(5).rstrip())\n",
    "    print(file.tell())"
   ]
  },
  {
   "cell_type": "code",
   "execution_count": 17,
   "metadata": {},
   "outputs": [
    {
     "name": "stdout",
     "output_type": "stream",
     "text": [
      "-rw-r--r-- 1 root root 0 Nov 20 07:05 /home/work/testfile.txt\r\n"
     ]
    }
   ],
   "source": [
    "!rm -f /home/work/testfile.txt \n",
    "!touch /home/work/testfile.txt\n",
    "!ls -al /home/work/testfile.txt\n",
    "!cat /home/work/testfile.txt"
   ]
  },
  {
   "cell_type": "markdown",
   "metadata": {},
   "source": [
    "Writing to a file. (if we did not open the file with approptiate mode (using w) we get **UnsupportedOperation: not writable** error."
   ]
  },
  {
   "cell_type": "code",
   "execution_count": 18,
   "metadata": {},
   "outputs": [
    {
     "ename": "UnsupportedOperation",
     "evalue": "not writable",
     "output_type": "error",
     "traceback": [
      "\u001b[0;31m---------------------------------------------------------------------------\u001b[0m",
      "\u001b[0;31mUnsupportedOperation\u001b[0m                      Traceback (most recent call last)",
      "\u001b[0;32m<ipython-input-18-4d5557a141fc>\u001b[0m in \u001b[0;36m<module>\u001b[0;34m\u001b[0m\n\u001b[1;32m      1\u001b[0m \u001b[0;32mwith\u001b[0m \u001b[0mopen\u001b[0m\u001b[0;34m(\u001b[0m\u001b[0;34m'/home/work/testfile.txt'\u001b[0m\u001b[0;34m,\u001b[0m \u001b[0;34m'r'\u001b[0m\u001b[0;34m)\u001b[0m \u001b[0;32mas\u001b[0m \u001b[0mfile\u001b[0m\u001b[0;34m:\u001b[0m\u001b[0;34m\u001b[0m\u001b[0;34m\u001b[0m\u001b[0m\n\u001b[0;32m----> 2\u001b[0;31m     \u001b[0mfile\u001b[0m\u001b[0;34m.\u001b[0m\u001b[0mwrite\u001b[0m\u001b[0;34m(\u001b[0m\u001b[0;34m'Test'\u001b[0m\u001b[0;34m)\u001b[0m\u001b[0;34m\u001b[0m\u001b[0;34m\u001b[0m\u001b[0m\n\u001b[0m",
      "\u001b[0;31mUnsupportedOperation\u001b[0m: not writable"
     ]
    }
   ],
   "source": [
    "with open('/home/work/testfile.txt', 'r') as file:\n",
    "    file.write('Test')"
   ]
  },
  {
   "cell_type": "markdown",
   "metadata": {},
   "source": [
    "option **w** will overwrite an existing file, if the file does not exists it will create a new file."
   ]
  },
  {
   "cell_type": "code",
   "execution_count": 19,
   "metadata": {},
   "outputs": [
    {
     "name": "stdout",
     "output_type": "stream",
     "text": [
      "removed '/home/work/testfile.txt'\r\n"
     ]
    }
   ],
   "source": [
    "!rm -fv /home/work/testfile.txt"
   ]
  },
  {
   "cell_type": "code",
   "execution_count": 20,
   "metadata": {},
   "outputs": [
    {
     "name": "stdout",
     "output_type": "stream",
     "text": [
      "/home/work/testfile.txt w\n"
     ]
    }
   ],
   "source": [
    "with open('/home/work/testfile.txt', 'w') as file:\n",
    "    print(file.name, file.mode)\n",
    "    file.write('Test')"
   ]
  },
  {
   "cell_type": "code",
   "execution_count": 21,
   "metadata": {},
   "outputs": [
    {
     "name": "stdout",
     "output_type": "stream",
     "text": [
      "Test"
     ]
    }
   ],
   "source": [
    "!cat /home/work/testfile.txt"
   ]
  },
  {
   "cell_type": "markdown",
   "metadata": {},
   "source": [
    "Reading from a file and writing to a another file."
   ]
  },
  {
   "cell_type": "code",
   "execution_count": 22,
   "metadata": {},
   "outputs": [
    {
     "name": "stdout",
     "output_type": "stream",
     "text": [
      "/home/work/filename.txt r\n",
      "/home/work/newfile.txt w\n"
     ]
    }
   ],
   "source": [
    "with open('/home/work/filename.txt', 'r') as rfile:\n",
    "    with open('/home/work/newfile.txt', 'w') as wfile:\n",
    "        print(rfile.name, rfile.mode)\n",
    "        print(wfile.name, wfile.mode)\n",
    "        for line in rfile:\n",
    "            wfile.write(line)"
   ]
  },
  {
   "cell_type": "code",
   "execution_count": 23,
   "metadata": {},
   "outputs": [
    {
     "name": "stdout",
     "output_type": "stream",
     "text": [
      "Casey 3 Porty\r\n",
      "Hank 2 Westie\r\n"
     ]
    }
   ],
   "source": [
    "!cat /home/work/newfile.txt"
   ]
  },
  {
   "cell_type": "markdown",
   "metadata": {},
   "source": [
    "Reading and Writing .jpg Image (Binary file)"
   ]
  },
  {
   "cell_type": "code",
   "execution_count": 24,
   "metadata": {},
   "outputs": [
    {
     "name": "stdout",
     "output_type": "stream",
     "text": [
      "-rw-r--r-- 1 root root      0 Nov 20 07:03 /home/work/pwd-new.jpg\r\n",
      "-rw-r--r-- 1 root root 132064 Nov 20 07:02 /home/work/pwd-new02.jpg\r\n",
      "-rw-rw-r-- 1 8888 8888 132064 Mar 11  2018 /home/work/pwd.jpg\r\n"
     ]
    }
   ],
   "source": [
    "!ls -al /home/work/*.jpg"
   ]
  },
  {
   "cell_type": "code",
   "execution_count": 25,
   "metadata": {},
   "outputs": [
    {
     "name": "stdout",
     "output_type": "stream",
     "text": [
      "/home/work/pwd.jpg r\n",
      "/home/work/pwd-new.jpg w\n"
     ]
    },
    {
     "ename": "UnicodeDecodeError",
     "evalue": "'utf-8' codec can't decode byte 0xff in position 0: invalid start byte",
     "output_type": "error",
     "traceback": [
      "\u001b[0;31m---------------------------------------------------------------------------\u001b[0m",
      "\u001b[0;31mUnicodeDecodeError\u001b[0m                        Traceback (most recent call last)",
      "\u001b[0;32m<ipython-input-25-656b8308cbca>\u001b[0m in \u001b[0;36m<module>\u001b[0;34m\u001b[0m\n\u001b[1;32m      3\u001b[0m         \u001b[0mprint\u001b[0m\u001b[0;34m(\u001b[0m\u001b[0mrfile\u001b[0m\u001b[0;34m.\u001b[0m\u001b[0mname\u001b[0m\u001b[0;34m,\u001b[0m \u001b[0mrfile\u001b[0m\u001b[0;34m.\u001b[0m\u001b[0mmode\u001b[0m\u001b[0;34m)\u001b[0m\u001b[0;34m\u001b[0m\u001b[0;34m\u001b[0m\u001b[0m\n\u001b[1;32m      4\u001b[0m         \u001b[0mprint\u001b[0m\u001b[0;34m(\u001b[0m\u001b[0mwfile\u001b[0m\u001b[0;34m.\u001b[0m\u001b[0mname\u001b[0m\u001b[0;34m,\u001b[0m \u001b[0mwfile\u001b[0m\u001b[0;34m.\u001b[0m\u001b[0mmode\u001b[0m\u001b[0;34m)\u001b[0m\u001b[0;34m\u001b[0m\u001b[0;34m\u001b[0m\u001b[0m\n\u001b[0;32m----> 5\u001b[0;31m         \u001b[0;32mfor\u001b[0m \u001b[0mline\u001b[0m \u001b[0;32min\u001b[0m \u001b[0mrfile\u001b[0m\u001b[0;34m:\u001b[0m\u001b[0;34m\u001b[0m\u001b[0;34m\u001b[0m\u001b[0m\n\u001b[0m\u001b[1;32m      6\u001b[0m             \u001b[0mwfile\u001b[0m\u001b[0;34m.\u001b[0m\u001b[0mwrite\u001b[0m\u001b[0;34m(\u001b[0m\u001b[0mline\u001b[0m\u001b[0;34m)\u001b[0m\u001b[0;34m\u001b[0m\u001b[0;34m\u001b[0m\u001b[0m\n",
      "\u001b[0;32m/usr/local/lib/python3.7/codecs.py\u001b[0m in \u001b[0;36mdecode\u001b[0;34m(self, input, final)\u001b[0m\n\u001b[1;32m    320\u001b[0m         \u001b[0;31m# decode input (taking the buffer into account)\u001b[0m\u001b[0;34m\u001b[0m\u001b[0;34m\u001b[0m\u001b[0;34m\u001b[0m\u001b[0m\n\u001b[1;32m    321\u001b[0m         \u001b[0mdata\u001b[0m \u001b[0;34m=\u001b[0m \u001b[0mself\u001b[0m\u001b[0;34m.\u001b[0m\u001b[0mbuffer\u001b[0m \u001b[0;34m+\u001b[0m \u001b[0minput\u001b[0m\u001b[0;34m\u001b[0m\u001b[0;34m\u001b[0m\u001b[0m\n\u001b[0;32m--> 322\u001b[0;31m         \u001b[0;34m(\u001b[0m\u001b[0mresult\u001b[0m\u001b[0;34m,\u001b[0m \u001b[0mconsumed\u001b[0m\u001b[0;34m)\u001b[0m \u001b[0;34m=\u001b[0m \u001b[0mself\u001b[0m\u001b[0;34m.\u001b[0m\u001b[0m_buffer_decode\u001b[0m\u001b[0;34m(\u001b[0m\u001b[0mdata\u001b[0m\u001b[0;34m,\u001b[0m \u001b[0mself\u001b[0m\u001b[0;34m.\u001b[0m\u001b[0merrors\u001b[0m\u001b[0;34m,\u001b[0m \u001b[0mfinal\u001b[0m\u001b[0;34m)\u001b[0m\u001b[0;34m\u001b[0m\u001b[0;34m\u001b[0m\u001b[0m\n\u001b[0m\u001b[1;32m    323\u001b[0m         \u001b[0;31m# keep undecoded input until the next call\u001b[0m\u001b[0;34m\u001b[0m\u001b[0;34m\u001b[0m\u001b[0;34m\u001b[0m\u001b[0m\n\u001b[1;32m    324\u001b[0m         \u001b[0mself\u001b[0m\u001b[0;34m.\u001b[0m\u001b[0mbuffer\u001b[0m \u001b[0;34m=\u001b[0m \u001b[0mdata\u001b[0m\u001b[0;34m[\u001b[0m\u001b[0mconsumed\u001b[0m\u001b[0;34m:\u001b[0m\u001b[0;34m]\u001b[0m\u001b[0;34m\u001b[0m\u001b[0;34m\u001b[0m\u001b[0m\n",
      "\u001b[0;31mUnicodeDecodeError\u001b[0m: 'utf-8' codec can't decode byte 0xff in position 0: invalid start byte"
     ]
    }
   ],
   "source": [
    "with open('/home/work/pwd.jpg', 'r') as rfile:\n",
    "    with open('/home/work/pwd-new.jpg', 'w') as wfile:\n",
    "        print(rfile.name, rfile.mode)\n",
    "        print(wfile.name, wfile.mode)\n",
    "        for line in rfile:\n",
    "            wfile.write(line)"
   ]
  },
  {
   "cell_type": "code",
   "execution_count": 26,
   "metadata": {},
   "outputs": [
    {
     "name": "stdout",
     "output_type": "stream",
     "text": [
      "-rw-rw-r-- 1 8888 8888 132064 Mar 11  2018 /home/work/pwd.jpg\r\n"
     ]
    }
   ],
   "source": [
    "!rm -rf /home/work/pwd-new.jpg\n",
    "!rm -rf /home/work/pwd-new02.jpg\n",
    "!ls -al /home/work/*.jpg"
   ]
  },
  {
   "cell_type": "markdown",
   "metadata": {},
   "source": [
    "While dealing with binary files, we need to use rb, and wb to read and write."
   ]
  },
  {
   "cell_type": "code",
   "execution_count": 27,
   "metadata": {},
   "outputs": [
    {
     "name": "stdout",
     "output_type": "stream",
     "text": [
      "/home/work/pwd.jpg rb\n",
      "/home/work/pwd-new.jpg wb\n"
     ]
    }
   ],
   "source": [
    "with open('/home/work/pwd.jpg', 'rb') as rfile:\n",
    "    with open('/home/work/pwd-new.jpg', 'wb') as wfile:\n",
    "        print(rfile.name, rfile.mode)\n",
    "        print(wfile.name, wfile.mode)\n",
    "        for line in rfile:\n",
    "            wfile.write(line)"
   ]
  },
  {
   "cell_type": "code",
   "execution_count": 28,
   "metadata": {},
   "outputs": [
    {
     "name": "stdout",
     "output_type": "stream",
     "text": [
      "-rw-r--r-- 1 root root 132064 Nov 20 07:05 /home/work/pwd-new.jpg\r\n",
      "-rw-rw-r-- 1 8888 8888 132064 Mar 11  2018 /home/work/pwd.jpg\r\n"
     ]
    }
   ],
   "source": [
    "!ls -al /home/work/*.jpg"
   ]
  },
  {
   "cell_type": "markdown",
   "metadata": {},
   "source": [
    "Reading and wring large images as chunks to limit memory usage."
   ]
  },
  {
   "cell_type": "code",
   "execution_count": 29,
   "metadata": {},
   "outputs": [],
   "source": [
    "with open('/home/work/pwd.jpg', 'rb') as rfile:\n",
    "    with open('/home/work/pwd-new02.jpg', 'wb') as wfile:\n",
    "        chunk_size = 4096\n",
    "        rfile_chunk = rfile.read(chunk_size)\n",
    "        while len(rfile_chunk) > 0:\n",
    "            wfile.write(rfile_chunk)\n",
    "            rfile_chunk = rfile.read(chunk_size)"
   ]
  },
  {
   "cell_type": "code",
   "execution_count": 30,
   "metadata": {},
   "outputs": [
    {
     "name": "stdout",
     "output_type": "stream",
     "text": [
      "-rw-r--r-- 1 root root 132064 Nov 20 07:05 /home/work/pwd-new.jpg\r\n",
      "-rw-r--r-- 1 root root 132064 Nov 20 07:05 /home/work/pwd-new02.jpg\r\n",
      "-rw-rw-r-- 1 8888 8888 132064 Mar 11  2018 /home/work/pwd.jpg\r\n"
     ]
    }
   ],
   "source": [
    "!ls -al /home/work/*.jpg"
   ]
  },
  {
   "cell_type": "code",
   "execution_count": null,
   "metadata": {},
   "outputs": [],
   "source": []
  }
 ],
 "metadata": {
  "kernelspec": {
   "display_name": "Python 3",
   "language": "python",
   "name": "python3"
  },
  "language_info": {
   "codemirror_mode": {
    "name": "ipython",
    "version": 3
   },
   "file_extension": ".py",
   "mimetype": "text/x-python",
   "name": "python",
   "nbconvert_exporter": "python",
   "pygments_lexer": "ipython3",
   "version": "3.7.5"
  }
 },
 "nbformat": 4,
 "nbformat_minor": 2
}
