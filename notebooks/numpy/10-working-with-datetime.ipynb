{
 "cells": [
  {
   "cell_type": "markdown",
   "metadata": {},
   "source": [
    "## Working with datetime\n",
    "[YouTube](https://www.youtube.com/watch?v=qSwdeqeHmRY)\n",
    "\n",
    "---\n",
    "Numpy has core array data types which natively support datetime functionality. The data type is called “datetime64”, so named because “datetime” is already taken by the datetime library included in Python.\n"
   ]
  },
  {
   "cell_type": "code",
   "execution_count": 1,
   "metadata": {},
   "outputs": [],
   "source": [
    "import numpy as np"
   ]
  },
  {
   "cell_type": "code",
   "execution_count": 2,
   "metadata": {},
   "outputs": [],
   "source": [
    "# Create a date Object.\n",
    "today = np.datetime64(\"2018-08-04\")"
   ]
  },
  {
   "cell_type": "code",
   "execution_count": 3,
   "metadata": {},
   "outputs": [
    {
     "data": {
      "text/plain": [
       "numpy.datetime64('2018-08-04')"
      ]
     },
     "execution_count": 3,
     "metadata": {},
     "output_type": "execute_result"
    }
   ],
   "source": [
    "today"
   ]
  },
  {
   "cell_type": "code",
   "execution_count": 5,
   "metadata": {},
   "outputs": [
    {
     "data": {
      "text/plain": [
       "numpy.datetime64('2018')"
      ]
     },
     "execution_count": 5,
     "metadata": {},
     "output_type": "execute_result"
    }
   ],
   "source": [
    "# Get the year from the numpy datetime object.\n",
    "np.datetime64(today, 'Y')"
   ]
  },
  {
   "cell_type": "markdown",
   "metadata": {},
   "source": [
    "**numpy.arange([start, ]stop, [step, ]dtype=None)**\n",
    "- Return evenly spaced values within a given interval.\n",
    "\n",
    "    - Values are generated within the half-open interval [start, stop) (in other words, the interval including start but excluding stop). For integer arguments the function is equivalent to the Python built-in range function, but returns an ndarray rather than a list.\n",
    "\n",
    "    When using a non-integer step, such as 0.1, the results will often not be consistent. It is better to use numpy.linspace for these cases.\n",
    "\n",
    "\n",
    "- Parameters: start : number, optional\n",
    "    - Start of interval. The interval includes this value. The default start value is 0.\n",
    "\n",
    "- stop : number\n",
    "    - End of interval. The interval does not include this value, except in some cases where step is not an integer and floating point round-off affects the length of out.\n",
    "\n",
    "- step : number, optional\n",
    "    - Spacing between values. For any output out, this is the distance between two adjacent values, out[i+1] - out[i]. The default step size is 1. If step is specified as a position argument, start must also be given.\n",
    "\n",
    "- dtype : dtype\n",
    "The type of the output array. If dtype is not given, infer the data type from the other input arguments.\n",
    "\n",
    "- Returns: arange : ndarray\n",
    "    - Array of evenly spaced values.\n",
    "    - For floating point arguments, the length of the result is ceil((stop - start)/step). Because of floating point overflow, this rule may result in the last element of out being greater than stop."
   ]
  },
  {
   "cell_type": "code",
   "execution_count": 9,
   "metadata": {},
   "outputs": [],
   "source": [
    "# Createing a 1D array of dates.\n",
    "dates = np.arange('2019-01', '2019-04', dtype='datetime64[D]')"
   ]
  },
  {
   "cell_type": "code",
   "execution_count": 8,
   "metadata": {},
   "outputs": [
    {
     "data": {
      "text/plain": [
       "array(['2019-01-01', '2019-01-02', '2019-01-03', '2019-01-04',\n",
       "       '2019-01-05', '2019-01-06', '2019-01-07', '2019-01-08',\n",
       "       '2019-01-09', '2019-01-10', '2019-01-11', '2019-01-12',\n",
       "       '2019-01-13', '2019-01-14', '2019-01-15', '2019-01-16',\n",
       "       '2019-01-17', '2019-01-18', '2019-01-19', '2019-01-20',\n",
       "       '2019-01-21', '2019-01-22', '2019-01-23', '2019-01-24',\n",
       "       '2019-01-25', '2019-01-26', '2019-01-27', '2019-01-28',\n",
       "       '2019-01-29', '2019-01-30', '2019-01-31', '2019-02-01',\n",
       "       '2019-02-02', '2019-02-03', '2019-02-04', '2019-02-05',\n",
       "       '2019-02-06', '2019-02-07', '2019-02-08', '2019-02-09',\n",
       "       '2019-02-10', '2019-02-11', '2019-02-12', '2019-02-13',\n",
       "       '2019-02-14', '2019-02-15', '2019-02-16', '2019-02-17',\n",
       "       '2019-02-18', '2019-02-19', '2019-02-20', '2019-02-21',\n",
       "       '2019-02-22', '2019-02-23', '2019-02-24', '2019-02-25',\n",
       "       '2019-02-26', '2019-02-27', '2019-02-28', '2019-03-01',\n",
       "       '2019-03-02', '2019-03-03', '2019-03-04', '2019-03-05',\n",
       "       '2019-03-06', '2019-03-07', '2019-03-08', '2019-03-09',\n",
       "       '2019-03-10', '2019-03-11', '2019-03-12', '2019-03-13',\n",
       "       '2019-03-14', '2019-03-15', '2019-03-16', '2019-03-17',\n",
       "       '2019-03-18', '2019-03-19', '2019-03-20', '2019-03-21',\n",
       "       '2019-03-22', '2019-03-23', '2019-03-24', '2019-03-25',\n",
       "       '2019-03-26', '2019-03-27', '2019-03-28', '2019-03-29',\n",
       "       '2019-03-30', '2019-03-31'], dtype='datetime64[D]')"
      ]
     },
     "execution_count": 8,
     "metadata": {},
     "output_type": "execute_result"
    }
   ],
   "source": [
    "dates"
   ]
  },
  {
   "cell_type": "code",
   "execution_count": 11,
   "metadata": {},
   "outputs": [],
   "source": [
    "# Createing a 1D array of months.\n",
    "months = np.arange('2019-01', '2020-04', dtype='datetime64[M]')"
   ]
  },
  {
   "cell_type": "code",
   "execution_count": 12,
   "metadata": {},
   "outputs": [
    {
     "data": {
      "text/plain": [
       "array(['2019-01', '2019-02', '2019-03', '2019-04', '2019-05', '2019-06',\n",
       "       '2019-07', '2019-08', '2019-09', '2019-10', '2019-11', '2019-12',\n",
       "       '2020-01', '2020-02', '2020-03'], dtype='datetime64[M]')"
      ]
     },
     "execution_count": 12,
     "metadata": {},
     "output_type": "execute_result"
    }
   ],
   "source": [
    "months"
   ]
  },
  {
   "cell_type": "code",
   "execution_count": 14,
   "metadata": {},
   "outputs": [],
   "source": [
    "years = np.arange('1990-01', '2020-04', dtype='datetime64[Y]')"
   ]
  },
  {
   "cell_type": "code",
   "execution_count": 15,
   "metadata": {},
   "outputs": [
    {
     "data": {
      "text/plain": [
       "array(['1990', '1991', '1992', '1993', '1994', '1995', '1996', '1997',\n",
       "       '1998', '1999', '2000', '2001', '2002', '2003', '2004', '2005',\n",
       "       '2006', '2007', '2008', '2009', '2010', '2011', '2012', '2013',\n",
       "       '2014', '2015', '2016', '2017', '2018', '2019'],\n",
       "      dtype='datetime64[Y]')"
      ]
     },
     "execution_count": 15,
     "metadata": {},
     "output_type": "execute_result"
    }
   ],
   "source": [
    "years"
   ]
  },
  {
   "cell_type": "code",
   "execution_count": 18,
   "metadata": {},
   "outputs": [
    {
     "data": {
      "text/plain": [
       "numpy.timedelta64(346,'D')"
      ]
     },
     "execution_count": 18,
     "metadata": {},
     "output_type": "execute_result"
    }
   ],
   "source": [
    "# Arethematic operations on dates\n",
    "\n",
    "dur = np.datetime64('2019-12-21') - np.datetime64('2019-01-09')\n",
    "dur"
   ]
  },
  {
   "cell_type": "code",
   "execution_count": 19,
   "metadata": {},
   "outputs": [
    {
     "data": {
      "text/plain": [
       "True"
      ]
     },
     "execution_count": 19,
     "metadata": {},
     "output_type": "execute_result"
    }
   ],
   "source": [
    "np.datetime64('2019-12-21') > np.datetime64('2019-01-09')"
   ]
  },
  {
   "cell_type": "code",
   "execution_count": 20,
   "metadata": {},
   "outputs": [
    {
     "data": {
      "text/plain": [
       "numpy.timedelta64(49,'W')"
      ]
     },
     "execution_count": 20,
     "metadata": {},
     "output_type": "execute_result"
    }
   ],
   "source": [
    "np.timedelta64(dur, 'W')"
   ]
  },
  {
   "cell_type": "code",
   "execution_count": 28,
   "metadata": {},
   "outputs": [
    {
     "name": "stdout",
     "output_type": "stream",
     "text": [
      "['1979-01-09' '1982-08-10' '2016-10-15']\n"
     ]
    }
   ],
   "source": [
    "#Sorting Dates\n",
    "\n",
    "a = np.array(['2016-10-15', '1982-08-10', '1979-01-09'], dtype='datetime64')\n",
    "a.sort()\n",
    "print(a)"
   ]
  },
  {
   "cell_type": "code",
   "execution_count": null,
   "metadata": {},
   "outputs": [],
   "source": []
  }
 ],
 "metadata": {
  "kernelspec": {
   "display_name": "Python 3",
   "language": "python",
   "name": "python3"
  },
  "language_info": {
   "codemirror_mode": {
    "name": "ipython",
    "version": 3
   },
   "file_extension": ".py",
   "mimetype": "text/x-python",
   "name": "python",
   "nbconvert_exporter": "python",
   "pygments_lexer": "ipython3",
   "version": "3.7.5"
  }
 },
 "nbformat": 4,
 "nbformat_minor": 2
}
