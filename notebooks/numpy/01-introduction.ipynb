{
 "cells": [
  {
   "cell_type": "markdown",
   "metadata": {},
   "source": [
    "![](https://bids.berkeley.edu/sites/default/files/styles/400x225/public/projects/numpy_project_page.jpg?itok=flrdydei)\n",
    "\n",
    "------------\n",
    "# What is Numpy?\n",
    "NumPy is a general-purpose array-processing package which provides a high-performance, homogenous, multidimensional array object, and tools for working with these arrays.\n",
    "\n",
    "It is the fundamental package for scientific computing with Python. It contains among other things:\n",
    "- A powerful N-dimensional array object\n",
    "- Sophisticated (broadcasting) functions\n",
    "- Tools for integrating C/C++ and Fortran code\n",
    "- Useful linear algebra, Fourier transform, and random number capabilities\n",
    "\n",
    "Besides its obvious scientific uses, NumPy can also be used as an efficient multi-dimensional container of generic data.\n",
    "Arbitrary data-types can be defined. This allows NumPy to seamlessly and speedily integrate with a wide variety of databases.\n",
    "    \n",
    "Using numpy we ca create 1 Dimensional array, 2 Dimensional array, and 3 Dimensional array\n",
    "    \n",
    "Advantages os NumPy over List.\n",
    "- NumPy is very fast.\n",
    "- Numpy uses fixed type.\n",
    "- NumPy's arrays are more compact than Python lists.\n",
    "- Uses less system memory.\n",
    "- No type checking when iterating through objects.\n",
    "- NumPy uses continus memory.\n",
    "    * Uses SIMD Vector Processing.\n",
    "    * Effective Cache Utilization\n",
    "\n",
    "Applications of NumPy.\n",
    "- Mathematics(MatLAB Replacement)\n",
    "- Plotting(Matplotlib)\n",
    "- Backend(Pandas, Connect 4, Digital Photography)\n",
    "- Machine Learning\n",
    "\n",
    "\n",
    "\n",
    "[YouTube](https://www.youtube.com/watch?v=cymDVY_pkYo)"
   ]
  },
  {
   "cell_type": "markdown",
   "metadata": {},
   "source": [
    "-----------\n",
    "\n",
    "# Python Lists vs. Numpy Arrays\n",
    "![](https://memegenerator.net/img/instances/400x/74259368.jpg)\n",
    "\n",
    "- **Size** - Numpy data structures take up less space\n",
    "    ## Storing List\n",
    "<img height=500 width=500 src=\"https://webcourses.ucf.edu/courses/1249560/files/64324060/download?wrap=1\">\n",
    "\n",
    "    ## Storing Array\n",
    "<img height=500 width=500 src=\"https://webcourses.ucf.edu/courses/1249560/files/64324040/download?wrap=1\">\n",
    "\n",
    "- **Performance** - they have a need for speed and are faster than lists\n",
    "\n",
    "- **Functionality** - SciPy and NumPy have optimized functions such as linear algebra operations built-in."
   ]
  },
  {
   "cell_type": "markdown",
   "metadata": {},
   "source": [
    "# Installation\n",
    "\n",
    "```\n",
    "pip install numpy\n",
    "```"
   ]
  },
  {
   "cell_type": "code",
   "execution_count": null,
   "metadata": {},
   "outputs": [],
   "source": []
  }
 ],
 "metadata": {
  "kernelspec": {
   "display_name": "Python 3",
   "language": "python",
   "name": "python3"
  },
  "language_info": {
   "codemirror_mode": {
    "name": "ipython",
    "version": 3
   },
   "file_extension": ".py",
   "mimetype": "text/x-python",
   "name": "python",
   "nbconvert_exporter": "python",
   "pygments_lexer": "ipython3",
   "version": "3.7.5"
  }
 },
 "nbformat": 4,
 "nbformat_minor": 2
}
