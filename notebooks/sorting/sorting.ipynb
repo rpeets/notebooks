{
 "cells": [
  {
   "cell_type": "markdown",
   "metadata": {},
   "source": [
    "### Sorting in Python\n",
    "\n",
    "    Learn how to sort lists, tuples, and other objects in Python.\n",
    "\n",
    "[YouTube](https://www.youtube.com/watch?v=D3JvDWO-BY4)"
   ]
  },
  {
   "cell_type": "markdown",
   "metadata": {},
   "source": [
    "**sorted() Function**\n",
    "\n",
    "   * Create a new sorted object.\n",
    "   * Works with any interable."
   ]
  },
  {
   "cell_type": "code",
   "execution_count": 1,
   "metadata": {},
   "outputs": [
    {
     "name": "stdout",
     "output_type": "stream",
     "text": [
      "Sorted List  : [1, 2, 3, 4, 5, 6, 7, 8, 9]\n",
      "original List: [9, 1, 8, 2, 7, 3, 6, 4, 5]\n"
     ]
    }
   ],
   "source": [
    "list1 = [9, 1, 8, 2, 7, 3, 6, 4, 5]\n",
    "sorted_list1 = sorted(list1)\n",
    "\n",
    "print(f\"Sorted List  : {sorted_list1}\")\n",
    "print(f\"original List: {list1}\")"
   ]
  },
  {
   "cell_type": "markdown",
   "metadata": {},
   "source": [
    "**.sort() Method**\n",
    "\n",
    "   * Inplace Sort\n",
    "   * Work Specifically with list."
   ]
  },
  {
   "cell_type": "code",
   "execution_count": 2,
   "metadata": {},
   "outputs": [
    {
     "name": "stdout",
     "output_type": "stream",
     "text": [
      "Sorted List  : [1, 2, 3, 4, 5, 6, 7, 8, 9]\n",
      "original List: [1, 2, 3, 4, 5, 6, 7, 8, 9]\n"
     ]
    }
   ],
   "source": [
    "list1 = [9, 1, 8, 2, 7, 3, 6, 4, 5]\n",
    "\n",
    "sorted_list1 = sorted(list1)\n",
    "print(f\"Sorted List  : {sorted_list1}\")\n",
    "\n",
    "list1.sort()\n",
    "print(f\"original List: {list1}\")"
   ]
  },
  {
   "cell_type": "markdown",
   "metadata": {},
   "source": [
    "**Sort Decending Order using sorted() Function**"
   ]
  },
  {
   "cell_type": "code",
   "execution_count": 3,
   "metadata": {},
   "outputs": [
    {
     "name": "stdout",
     "output_type": "stream",
     "text": [
      "Sorted List  : [9, 8, 7, 6, 5, 4, 3, 2, 1]\n",
      "original List: [9, 1, 8, 2, 7, 3, 6, 4, 5]\n"
     ]
    }
   ],
   "source": [
    "list1 = [9, 1, 8, 2, 7, 3, 6, 4, 5]\n",
    "sorted_list1 = sorted(list1, reverse=True)\n",
    "\n",
    "print(f\"Sorted List  : {sorted_list1}\")\n",
    "print(f\"original List: {list1}\")"
   ]
  },
  {
   "cell_type": "markdown",
   "metadata": {},
   "source": [
    "**Sort Decending using .sort() method**"
   ]
  },
  {
   "cell_type": "code",
   "execution_count": 4,
   "metadata": {},
   "outputs": [
    {
     "name": "stdout",
     "output_type": "stream",
     "text": [
      "original List: [9, 8, 7, 6, 5, 4, 3, 2, 1]\n"
     ]
    }
   ],
   "source": [
    "list1 = [9, 1, 8, 2, 7, 3, 6, 4, 5]\n",
    "\n",
    "list1.sort(reverse=True)\n",
    "print(f\"original List: {list1}\")"
   ]
  },
  {
   "cell_type": "markdown",
   "metadata": {},
   "source": [
    "**Working with Tuple**"
   ]
  },
  {
   "cell_type": "code",
   "execution_count": 5,
   "metadata": {},
   "outputs": [
    {
     "ename": "AttributeError",
     "evalue": "'tuple' object has no attribute 'sort'",
     "output_type": "error",
     "traceback": [
      "\u001b[0;31m---------------------------------------------------------------------------\u001b[0m",
      "\u001b[0;31mAttributeError\u001b[0m                            Traceback (most recent call last)",
      "\u001b[0;32m<ipython-input-5-3a606624c9c7>\u001b[0m in \u001b[0;36m<module>\u001b[0;34m\u001b[0m\n\u001b[1;32m      3\u001b[0m \u001b[0mtup1\u001b[0m \u001b[0;34m=\u001b[0m \u001b[0;34m(\u001b[0m\u001b[0;36m9\u001b[0m\u001b[0;34m,\u001b[0m \u001b[0;36m1\u001b[0m\u001b[0;34m,\u001b[0m \u001b[0;36m8\u001b[0m\u001b[0;34m,\u001b[0m \u001b[0;36m2\u001b[0m\u001b[0;34m,\u001b[0m \u001b[0;36m7\u001b[0m\u001b[0;34m,\u001b[0m \u001b[0;36m3\u001b[0m\u001b[0;34m,\u001b[0m \u001b[0;36m6\u001b[0m\u001b[0;34m,\u001b[0m \u001b[0;36m4\u001b[0m\u001b[0;34m,\u001b[0m \u001b[0;36m5\u001b[0m\u001b[0;34m)\u001b[0m\u001b[0;34m\u001b[0m\u001b[0;34m\u001b[0m\u001b[0m\n\u001b[1;32m      4\u001b[0m \u001b[0;34m\u001b[0m\u001b[0m\n\u001b[0;32m----> 5\u001b[0;31m \u001b[0mtup1\u001b[0m\u001b[0;34m.\u001b[0m\u001b[0msort\u001b[0m\u001b[0;34m(\u001b[0m\u001b[0;34m)\u001b[0m\u001b[0;34m\u001b[0m\u001b[0;34m\u001b[0m\u001b[0m\n\u001b[0m",
      "\u001b[0;31mAttributeError\u001b[0m: 'tuple' object has no attribute 'sort'"
     ]
    }
   ],
   "source": [
    "# Tuple have no sort method\n",
    "\n",
    "tup1 = (9, 1, 8, 2, 7, 3, 6, 4, 5)\n",
    "\n",
    "tup1.sort()"
   ]
  },
  {
   "cell_type": "code",
   "execution_count": 6,
   "metadata": {},
   "outputs": [
    {
     "name": "stdout",
     "output_type": "stream",
     "text": [
      "Sorted Tuple : [1, 2, 3, 4, 5, 6, 7, 8, 9]\n"
     ]
    }
   ],
   "source": [
    "tup1 = (9, 1, 8, 2, 7, 3, 6, 4, 5)\n",
    "\n",
    "sorted_tup1 = sorted(tup1)\n",
    "print(f\"Sorted Tuple : {sorted_tup1}\")"
   ]
  },
  {
   "cell_type": "markdown",
   "metadata": {},
   "source": [
    "**Working with Dictionary**"
   ]
  },
  {
   "cell_type": "code",
   "execution_count": 7,
   "metadata": {},
   "outputs": [
    {
     "name": "stdout",
     "output_type": "stream",
     "text": [
      "Sorted Dictionary : ['age', 'job', 'name', 'os']\n"
     ]
    }
   ],
   "source": [
    "# Default behavior of sorted with dictionary.\n",
    "\n",
    "di = {'name': 'Casey', 'job': 'being cute', 'age' : 3, 'os': 'ios'}\n",
    "\n",
    "s_di = sorted(di)\n",
    "print(f\"Sorted Dictionary : {s_di}\")"
   ]
  },
  {
   "cell_type": "code",
   "execution_count": 8,
   "metadata": {},
   "outputs": [
    {
     "name": "stdout",
     "output_type": "stream",
     "text": [
      "[-6, -5, -4, 1, 2, 3]\n"
     ]
    }
   ],
   "source": [
    "li = [ -6, -5, -4, 1, 2, 3]\n",
    "s_li = sorted(li)\n",
    "print(s_li)"
   ]
  },
  {
   "cell_type": "code",
   "execution_count": 9,
   "metadata": {},
   "outputs": [
    {
     "name": "stdout",
     "output_type": "stream",
     "text": [
      "[1, 2, 3, -4, -5, -6]\n"
     ]
    }
   ],
   "source": [
    "li = [ -6, -5, -4, 1, 2, 3]\n",
    "s_li = sorted(li, key=abs)\n",
    "print(s_li)"
   ]
  },
  {
   "cell_type": "markdown",
   "metadata": {},
   "source": [
    "**Sorting Class Object**"
   ]
  },
  {
   "cell_type": "code",
   "execution_count": 10,
   "metadata": {},
   "outputs": [
    {
     "name": "stdout",
     "output_type": "stream",
     "text": [
      "[(Carl, 37, $7000), (Sarah, 29, $8000), (Casey, 3, $9999)]\n"
     ]
    },
    {
     "ename": "TypeError",
     "evalue": "'<' not supported between instances of 'Employee' and 'Employee'",
     "output_type": "error",
     "traceback": [
      "\u001b[0;31m---------------------------------------------------------------------------\u001b[0m",
      "\u001b[0;31mTypeError\u001b[0m                                 Traceback (most recent call last)",
      "\u001b[0;32m<ipython-input-10-7113b7258c85>\u001b[0m in \u001b[0;36m<module>\u001b[0;34m\u001b[0m\n\u001b[1;32m     17\u001b[0m \u001b[0mprint\u001b[0m\u001b[0;34m(\u001b[0m\u001b[0memployees\u001b[0m\u001b[0;34m)\u001b[0m\u001b[0;34m\u001b[0m\u001b[0;34m\u001b[0m\u001b[0m\n\u001b[1;32m     18\u001b[0m \u001b[0;34m\u001b[0m\u001b[0m\n\u001b[0;32m---> 19\u001b[0;31m \u001b[0ms_employees\u001b[0m \u001b[0;34m=\u001b[0m \u001b[0msorted\u001b[0m\u001b[0;34m(\u001b[0m\u001b[0memployees\u001b[0m\u001b[0;34m)\u001b[0m\u001b[0;34m\u001b[0m\u001b[0;34m\u001b[0m\u001b[0m\n\u001b[0m\u001b[1;32m     20\u001b[0m \u001b[0mprint\u001b[0m\u001b[0;34m(\u001b[0m\u001b[0ms_employees\u001b[0m\u001b[0;34m)\u001b[0m\u001b[0;34m\u001b[0m\u001b[0;34m\u001b[0m\u001b[0m\n",
      "\u001b[0;31mTypeError\u001b[0m: '<' not supported between instances of 'Employee' and 'Employee'"
     ]
    }
   ],
   "source": [
    "# this is expected to fail\n",
    "\n",
    "class Employee():\n",
    "    def __init__(self, name, age, salary):\n",
    "        self.name = name\n",
    "        self.age = age\n",
    "        self.salary = salary\n",
    "    \n",
    "    def __repr__(self):\n",
    "        return f\"({self.name}, {self.age}, ${self.salary})\"\n",
    "    \n",
    "e1 = Employee('Carl', 37, 7000)\n",
    "e2 = Employee('Sarah', 29, 8000)\n",
    "e3 = Employee('Casey', 3, 9999)\n",
    "\n",
    "employees = [e1, e2, e3]\n",
    "print(employees)\n",
    "\n",
    "s_employees = sorted(employees)\n",
    "print(s_employees)"
   ]
  },
  {
   "cell_type": "markdown",
   "metadata": {},
   "source": [
    "**Sort based on Name**"
   ]
  },
  {
   "cell_type": "code",
   "execution_count": 11,
   "metadata": {},
   "outputs": [
    {
     "name": "stdout",
     "output_type": "stream",
     "text": [
      "[(Carl, 37, $7000), (Sarah, 29, $8000), (Casey, 3, $9999)]\n",
      "[(Carl, 37, $7000), (Casey, 3, $9999), (Sarah, 29, $8000)]\n"
     ]
    }
   ],
   "source": [
    "class Employee():\n",
    "    def __init__(self, name, age, salary):\n",
    "        self.name = name\n",
    "        self.age = age\n",
    "        self.salary = salary\n",
    "    \n",
    "    def __repr__(self):\n",
    "        return f\"({self.name}, {self.age}, ${self.salary})\"\n",
    "    \n",
    "e1 = Employee('Carl', 37, 7000)\n",
    "e2 = Employee('Sarah', 29, 8000)\n",
    "e3 = Employee('Casey', 3, 9999)\n",
    "\n",
    "employees = [e1, e2, e3]\n",
    "print(employees)\n",
    "\n",
    "def e_sort(emp):\n",
    "    return emp.name\n",
    "\n",
    "s_employees = sorted(employees, key=e_sort)\n",
    "print(s_employees)"
   ]
  },
  {
   "cell_type": "markdown",
   "metadata": {},
   "source": [
    "**Sort based on Age**"
   ]
  },
  {
   "cell_type": "code",
   "execution_count": 12,
   "metadata": {},
   "outputs": [
    {
     "name": "stdout",
     "output_type": "stream",
     "text": [
      "[(Carl, 37, $7000), (Sarah, 29, $8000), (Casey, 3, $9999)]\n",
      "[(Casey, 3, $9999), (Sarah, 29, $8000), (Carl, 37, $7000)]\n"
     ]
    }
   ],
   "source": [
    "class Employee():\n",
    "    def __init__(self, name, age, salary):\n",
    "        self.name = name\n",
    "        self.age = age\n",
    "        self.salary = salary\n",
    "    \n",
    "    def __repr__(self):\n",
    "        return f\"({self.name}, {self.age}, ${self.salary})\"\n",
    "    \n",
    "e1 = Employee('Carl', 37, 7000)\n",
    "e2 = Employee('Sarah', 29, 8000)\n",
    "e3 = Employee('Casey', 3, 9999)\n",
    "\n",
    "employees = [e1, e2, e3]\n",
    "print(employees)\n",
    "\n",
    "def e_sort(emp):\n",
    "    return emp.age\n",
    "\n",
    "s_employees = sorted(employees, key=e_sort)\n",
    "print(s_employees)"
   ]
  },
  {
   "cell_type": "markdown",
   "metadata": {},
   "source": [
    "**Sort based on Salary**"
   ]
  },
  {
   "cell_type": "code",
   "execution_count": 13,
   "metadata": {},
   "outputs": [
    {
     "name": "stdout",
     "output_type": "stream",
     "text": [
      "[(Carl, 37, $7000), (Sarah, 29, $8000), (Casey, 3, $9999)]\n",
      "[(Carl, 37, $7000), (Sarah, 29, $8000), (Casey, 3, $9999)]\n"
     ]
    }
   ],
   "source": [
    "class Employee():\n",
    "    def __init__(self, name, age, salary):\n",
    "        self.name = name\n",
    "        self.age = age\n",
    "        self.salary = salary\n",
    "    \n",
    "    def __repr__(self):\n",
    "        return f\"({self.name}, {self.age}, ${self.salary})\"\n",
    "    \n",
    "e1 = Employee('Carl', 37, 7000)\n",
    "e2 = Employee('Sarah', 29, 8000)\n",
    "e3 = Employee('Casey', 3, 9999)\n",
    "\n",
    "employees = [e1, e2, e3]\n",
    "print(employees)\n",
    "\n",
    "def e_sort(emp):\n",
    "    return emp.salary\n",
    "\n",
    "s_employees = sorted(employees, key=e_sort)\n",
    "print(s_employees)"
   ]
  },
  {
   "cell_type": "markdown",
   "metadata": {},
   "source": [
    "**Sorting in Reverse Order**"
   ]
  },
  {
   "cell_type": "code",
   "execution_count": 14,
   "metadata": {},
   "outputs": [
    {
     "name": "stdout",
     "output_type": "stream",
     "text": [
      "[(Carl, 37, $7000), (Sarah, 29, $8000), (Casey, 3, $9999)]\n",
      "[(Casey, 3, $9999), (Sarah, 29, $8000), (Carl, 37, $7000)]\n"
     ]
    }
   ],
   "source": [
    "class Employee():\n",
    "    def __init__(self, name, age, salary):\n",
    "        self.name = name\n",
    "        self.age = age\n",
    "        self.salary = salary\n",
    "    \n",
    "    def __repr__(self):\n",
    "        return f\"({self.name}, {self.age}, ${self.salary})\"\n",
    "    \n",
    "e1 = Employee('Carl', 37, 7000)\n",
    "e2 = Employee('Sarah', 29, 8000)\n",
    "e3 = Employee('Casey', 3, 9999)\n",
    "\n",
    "employees = [e1, e2, e3]\n",
    "print(employees)\n",
    "\n",
    "def e_sort(emp):\n",
    "    return emp.salary\n",
    "\n",
    "s_employees = sorted(employees, key=e_sort, reverse=True)\n",
    "print(s_employees)"
   ]
  },
  {
   "cell_type": "markdown",
   "metadata": {},
   "source": [
    "**Using Lambda function for sorting**"
   ]
  },
  {
   "cell_type": "code",
   "execution_count": 15,
   "metadata": {},
   "outputs": [
    {
     "name": "stdout",
     "output_type": "stream",
     "text": [
      "[(Carl, 37, $7000), (Sarah, 29, $8000), (Casey, 3, $9999)]\n",
      "[(Casey, 3, $9999), (Sarah, 29, $8000), (Carl, 37, $7000)]\n"
     ]
    }
   ],
   "source": [
    "class Employee():\n",
    "    def __init__(self, name, age, salary):\n",
    "        self.name = name\n",
    "        self.age = age\n",
    "        self.salary = salary\n",
    "    \n",
    "    def __repr__(self):\n",
    "        return f\"({self.name}, {self.age}, ${self.salary})\"\n",
    "    \n",
    "e1 = Employee('Carl', 37, 7000)\n",
    "e2 = Employee('Sarah', 29, 8000)\n",
    "e3 = Employee('Casey', 3, 9999)\n",
    "\n",
    "employees = [e1, e2, e3]\n",
    "print(employees)\n",
    "\n",
    "# def e_sort(emp):\n",
    "#     return emp.salary\n",
    "\n",
    "s_employees = sorted(employees, key=lambda e: e.salary, reverse=True)\n",
    "print(s_employees)"
   ]
  },
  {
   "cell_type": "markdown",
   "metadata": {},
   "source": [
    "**Using attrgetter from Operator Module**"
   ]
  },
  {
   "cell_type": "code",
   "execution_count": 16,
   "metadata": {},
   "outputs": [
    {
     "name": "stdout",
     "output_type": "stream",
     "text": [
      "[(Carl, 37, $7000), (Sarah, 29, $8000), (Casey, 3, $9999)]\n",
      "[(Carl, 37, $7000), (Sarah, 29, $8000), (Casey, 3, $9999)]\n"
     ]
    }
   ],
   "source": [
    "from operator import attrgetter\n",
    "\n",
    "class Employee():\n",
    "    def __init__(self, name, age, salary):\n",
    "        self.name = name\n",
    "        self.age = age\n",
    "        self.salary = salary\n",
    "    \n",
    "    def __repr__(self):\n",
    "        return f\"({self.name}, {self.age}, ${self.salary})\"\n",
    "    \n",
    "e1 = Employee('Carl', 37, 7000)\n",
    "e2 = Employee('Sarah', 29, 8000)\n",
    "e3 = Employee('Casey', 3, 9999)\n",
    "\n",
    "employees = [e1, e2, e3]\n",
    "print(employees)\n",
    "\n",
    "# def e_sort(emp):\n",
    "#     return emp.salary\n",
    "\n",
    "s_employees = sorted(employees, key=attrgetter('age'), reverse=True)\n",
    "print(s_employees)"
   ]
  },
  {
   "cell_type": "code",
   "execution_count": null,
   "metadata": {},
   "outputs": [],
   "source": []
  }
 ],
 "metadata": {
  "kernelspec": {
   "display_name": "Python 3",
   "language": "python",
   "name": "python3"
  },
  "language_info": {
   "codemirror_mode": {
    "name": "ipython",
    "version": 3
   },
   "file_extension": ".py",
   "mimetype": "text/x-python",
   "name": "python",
   "nbconvert_exporter": "python",
   "pygments_lexer": "ipython3",
   "version": "3.7.5"
  }
 },
 "nbformat": 4,
 "nbformat_minor": 2
}
