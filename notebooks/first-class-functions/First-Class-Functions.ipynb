{
 "cells": [
  {
   "cell_type": "markdown",
   "metadata": {},
   "source": [
    "## First-Class Functions\n",
    "\n",
    "- A programming language is said to have first-class function if it treat function as first-class citizens.\n",
    "\n",
    "### First-Class Citizen (Programming)\n",
    "\n",
    "- A first-class citizen (sometimes called first-class objects) in programming language is an entity which supports all the operations generally available to other entities. These operations typically include being passed as an argument, returned from a function, and assigned to a variable. \n",
    "\n",
    "[YouTube](https://www.youtube.com/watch?v=kr0mpwqttM0)"
   ]
  },
  {
   "cell_type": "markdown",
   "metadata": {},
   "source": [
    "### Assign a function to a variable\n",
    "\n",
    "- We are not assigning the result of the function to a variable. (we are assigning the function to a variable)"
   ]
  },
  {
   "cell_type": "code",
   "execution_count": 3,
   "metadata": {},
   "outputs": [
    {
     "name": "stdout",
     "output_type": "stream",
     "text": [
      "<function square at 0x7fcb288448c0>\n",
      "25\n"
     ]
    }
   ],
   "source": [
    "# Assigning function result to a variable  f = square(5)\n",
    "\n",
    "def square(x):\n",
    "    return x * x\n",
    "\n",
    "f = square(5)\n",
    "\n",
    "print(square)\n",
    "print(f)"
   ]
  },
  {
   "cell_type": "code",
   "execution_count": 4,
   "metadata": {},
   "outputs": [
    {
     "name": "stdout",
     "output_type": "stream",
     "text": [
      "<function square at 0x7fcb288449e0>\n",
      "<function square at 0x7fcb288449e0>\n"
     ]
    }
   ],
   "source": [
    "# Assigning function to a variable  f = square\n",
    "# Now we are treat the variable f as a function.\n",
    "\n",
    "def square(x):\n",
    "    return x * x\n",
    "\n",
    "f = square\n",
    "\n",
    "print(square)\n",
    "print(f)"
   ]
  },
  {
   "cell_type": "code",
   "execution_count": 5,
   "metadata": {},
   "outputs": [
    {
     "name": "stdout",
     "output_type": "stream",
     "text": [
      "<function square at 0x7fcb28844320>\n",
      "25\n"
     ]
    }
   ],
   "source": [
    "# executing the function variable print(f(5))\n",
    "\n",
    "def square(x):\n",
    "    return x * x\n",
    "\n",
    "f = square\n",
    "\n",
    "print(square)\n",
    "print(f(5))"
   ]
  },
  {
   "cell_type": "markdown",
   "metadata": {},
   "source": [
    "### Pass functions as arguments and return function as the results of other functions.\n",
    "\n",
    "- if a function accepts other functions as an arguments or return a functions as the result, its called higher order functions."
   ]
  },
  {
   "cell_type": "code",
   "execution_count": 8,
   "metadata": {},
   "outputs": [
    {
     "name": "stdout",
     "output_type": "stream",
     "text": [
      "[1, 4, 9, 16, 25]\n"
     ]
    }
   ],
   "source": [
    "# Pass function as an argument. example 01\n",
    "\n",
    "def square(x):\n",
    "    return x * x\n",
    "\n",
    "def my_map(func, arg_list):\n",
    "    result = []\n",
    "    for i in arg_list:\n",
    "        result.append(func(i))\n",
    "    return result\n",
    "\n",
    "output = my_map(square, [1, 2, 3, 4, 5])\n",
    "\n",
    "print(output)"
   ]
  },
  {
   "cell_type": "code",
   "execution_count": 9,
   "metadata": {},
   "outputs": [
    {
     "name": "stdout",
     "output_type": "stream",
     "text": [
      "[1, 8, 27, 64, 125]\n"
     ]
    }
   ],
   "source": [
    "# Pass function as an argument. example 02\n",
    "\n",
    "def square(x):\n",
    "    return x * x\n",
    "\n",
    "\n",
    "def cube(x):\n",
    "    return x * x * x\n",
    "\n",
    "def my_map(func, arg_list):\n",
    "    result = []\n",
    "    for i in arg_list:\n",
    "        result.append(func(i))\n",
    "    return result\n",
    "\n",
    "output = my_map(cube, [1, 2, 3, 4, 5])\n",
    "\n",
    "print(output)"
   ]
  },
  {
   "cell_type": "code",
   "execution_count": 13,
   "metadata": {},
   "outputs": [
    {
     "name": "stdout",
     "output_type": "stream",
     "text": [
      "--------\n",
      "Log: Hi!\n",
      "--------\n"
     ]
    }
   ],
   "source": [
    "# Return a function from another function.\n",
    "\n",
    "def logger(msg):\n",
    "    \n",
    "    def log_message():\n",
    "        print('Log:', msg)\n",
    "        \n",
    "    return log_message\n",
    "\n",
    "log_hi = logger('Hi!')\n",
    "print(\"--------\")\n",
    "log_hi()\n",
    "print(\"--------\")"
   ]
  },
  {
   "cell_type": "code",
   "execution_count": 15,
   "metadata": {},
   "outputs": [
    {
     "name": "stdout",
     "output_type": "stream",
     "text": [
      "<h1>Test Headline!</h1>\n",
      "<h1>Another headline!</h1>\n",
      "\n",
      "<p>Test Paragraph!</p>\n"
     ]
    }
   ],
   "source": [
    "# Another practical example of returning a function from another function.\n",
    "\n",
    "def html_tag(tag):\n",
    "    \n",
    "    def wrap_text(msg):\n",
    "        print('<{0}>{1}</{0}>'.format(tag, msg))\n",
    "        \n",
    "    return wrap_text\n",
    "\n",
    "print_h1 = html_tag('h1')\n",
    "print_h1('Test Headline!')\n",
    "print_h1('Another headline!')\n",
    "\n",
    "print()\n",
    "print_p = html_tag('p')\n",
    "print_p('Test Paragraph!')"
   ]
  },
  {
   "cell_type": "code",
   "execution_count": null,
   "metadata": {},
   "outputs": [],
   "source": []
  }
 ],
 "metadata": {
  "kernelspec": {
   "display_name": "Python 3",
   "language": "python",
   "name": "python3"
  },
  "language_info": {
   "codemirror_mode": {
    "name": "ipython",
    "version": 3
   },
   "file_extension": ".py",
   "mimetype": "text/x-python",
   "name": "python",
   "nbconvert_exporter": "python",
   "pygments_lexer": "ipython3",
   "version": "3.7.5"
  }
 },
 "nbformat": 4,
 "nbformat_minor": 2
}
