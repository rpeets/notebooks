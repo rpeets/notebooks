{
 "cells": [
  {
   "cell_type": "markdown",
   "metadata": {},
   "source": [
    "## User defined exceptions\n",
    "\n",
    "[YouTube](https://www.youtube.com/watch?v=2tWDA7SclXk)"
   ]
  },
  {
   "cell_type": "code",
   "execution_count": 2,
   "metadata": {},
   "outputs": [
    {
     "name": "stdout",
     "output_type": "stream",
     "text": [
      "Invalid level: -1\n"
     ]
    }
   ],
   "source": [
    "class InvalidLevelError(Exception):\n",
    "    def __init__(self, message):\n",
    "        self.message = message\n",
    "\n",
    "# setting the level manually for the stest\n",
    "level = -1\n",
    "\n",
    "try:\n",
    "    if level < 1:\n",
    "        raise InvalidLevelError(f\"Invalid level: {level}\")\n",
    "except InvalidLevelError as e:\n",
    "    print(e.message)\n",
    "    "
   ]
  },
  {
   "cell_type": "code",
   "execution_count": null,
   "metadata": {},
   "outputs": [],
   "source": []
  }
 ],
 "metadata": {
  "kernelspec": {
   "display_name": "Python 3",
   "language": "python",
   "name": "python3"
  },
  "language_info": {
   "codemirror_mode": {
    "name": "ipython",
    "version": 3
   },
   "file_extension": ".py",
   "mimetype": "text/x-python",
   "name": "python",
   "nbconvert_exporter": "python",
   "pygments_lexer": "ipython3",
   "version": "3.7.5"
  }
 },
 "nbformat": 4,
 "nbformat_minor": 2
}
