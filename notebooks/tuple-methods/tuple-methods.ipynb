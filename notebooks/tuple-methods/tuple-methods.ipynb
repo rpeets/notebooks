{
 "cells": [
  {
   "cell_type": "markdown",
   "metadata": {},
   "source": [
    "### Tuple:\n",
    "\n",
    "\t• Immutable (can't add/change)\n",
    "\t• Useful for fixed data\n",
    "\t• Faster than lists\n",
    "\t• Sequence type\n",
    "\t\n",
    "    A Tuple is a collection of Python objects separated by commas. In someway a tuple is similar to a list in terms of indexing, nested objects and repetition but a tuple is immutable unlike lists which are mutable.\n",
    "\n",
    "[Tuple Methods](https://www.programiz.com/python-programming/methods/tuple)<br>\n",
    "[YouTube Link](https://www.youtube.com/watch?v=W8KRzm-HUcc&feature=youtu.be&t=1219)"
   ]
  },
  {
   "cell_type": "markdown",
   "metadata": {},
   "source": [
    "**Mutable (List) vs Immutable (Tuple)**\n",
    "\n",
    "**Using List**"
   ]
  },
  {
   "cell_type": "code",
   "execution_count": 1,
   "metadata": {},
   "outputs": [
    {
     "name": "stdout",
     "output_type": "stream",
     "text": [
      "['History', 'Math', 'Physics', 'CompSci']\n",
      "['History', 'Math', 'Physics', 'CompSci']\n",
      "['Art', 'Math', 'Physics', 'CompSci']\n",
      "['Art', 'Math', 'Physics', 'CompSci']\n"
     ]
    }
   ],
   "source": [
    "list_1 = ['History', 'Math', 'Physics', 'CompSci']\n",
    "list_2 = list_1\n",
    "print(list_1)\n",
    "print(list_2)\n",
    "list_1[0] = 'Art'\n",
    "print(list_1)\n",
    "print(list_2)"
   ]
  },
  {
   "cell_type": "markdown",
   "metadata": {},
   "source": [
    "**Using Tuple**"
   ]
  },
  {
   "cell_type": "code",
   "execution_count": 2,
   "metadata": {},
   "outputs": [
    {
     "name": "stdout",
     "output_type": "stream",
     "text": [
      "('History', 'Math', 'Physics', 'CompSci')\n",
      "('History', 'Math', 'Physics', 'CompSci')\n"
     ]
    },
    {
     "ename": "TypeError",
     "evalue": "'tuple' object does not support item assignment",
     "output_type": "error",
     "traceback": [
      "\u001b[0;31m---------------------------------------------------------------------------\u001b[0m",
      "\u001b[0;31mTypeError\u001b[0m                                 Traceback (most recent call last)",
      "\u001b[0;32m<ipython-input-2-c809d5fae344>\u001b[0m in \u001b[0;36m<module>\u001b[0;34m\u001b[0m\n\u001b[1;32m      3\u001b[0m \u001b[0mprint\u001b[0m\u001b[0;34m(\u001b[0m\u001b[0mtuple_1\u001b[0m\u001b[0;34m)\u001b[0m\u001b[0;34m\u001b[0m\u001b[0;34m\u001b[0m\u001b[0m\n\u001b[1;32m      4\u001b[0m \u001b[0mprint\u001b[0m\u001b[0;34m(\u001b[0m\u001b[0mtuple_2\u001b[0m\u001b[0;34m)\u001b[0m\u001b[0;34m\u001b[0m\u001b[0;34m\u001b[0m\u001b[0m\n\u001b[0;32m----> 5\u001b[0;31m \u001b[0mtuple_1\u001b[0m\u001b[0;34m[\u001b[0m\u001b[0;36m0\u001b[0m\u001b[0;34m]\u001b[0m \u001b[0;34m=\u001b[0m \u001b[0;34m'Art'\u001b[0m\u001b[0;34m\u001b[0m\u001b[0;34m\u001b[0m\u001b[0m\n\u001b[0m\u001b[1;32m      6\u001b[0m \u001b[0mprint\u001b[0m\u001b[0;34m(\u001b[0m\u001b[0mtuple_1\u001b[0m\u001b[0;34m)\u001b[0m\u001b[0;34m\u001b[0m\u001b[0;34m\u001b[0m\u001b[0m\n\u001b[1;32m      7\u001b[0m \u001b[0mprint\u001b[0m\u001b[0;34m(\u001b[0m\u001b[0mtuple_2\u001b[0m\u001b[0;34m)\u001b[0m\u001b[0;34m\u001b[0m\u001b[0;34m\u001b[0m\u001b[0m\n",
      "\u001b[0;31mTypeError\u001b[0m: 'tuple' object does not support item assignment"
     ]
    }
   ],
   "source": [
    "tuple_1 = ('History', 'Math', 'Physics', 'CompSci')\n",
    "tuple_2 = tuple_1\n",
    "print(tuple_1)\n",
    "print(tuple_2)\n",
    "tuple_1[0] = 'Art'\n",
    "print(tuple_1)\n",
    "print(tuple_2)"
   ]
  },
  {
   "cell_type": "markdown",
   "metadata": {},
   "source": [
    "**Tuple count()**\n",
    "\n",
    "    In simple terms, count() method searches the given element in a tuple and returns how many times the element has occurred in it.\n",
    "    \n",
    "    The syntax of count() method is:\n",
    "\n",
    "    tuple.count(element)"
   ]
  },
  {
   "cell_type": "code",
   "execution_count": 3,
   "metadata": {},
   "outputs": [
    {
     "data": {
      "text/plain": [
       "3"
      ]
     },
     "execution_count": 3,
     "metadata": {},
     "output_type": "execute_result"
    }
   ],
   "source": [
    "vowels = ('a', 'e', 'i', 'o', 'i', 'o', 'e', 'i', 'u')\n",
    "vowels.count('i')"
   ]
  },
  {
   "cell_type": "markdown",
   "metadata": {},
   "source": [
    "**Count the occurrences of tuple and list inside a tuple**"
   ]
  },
  {
   "cell_type": "code",
   "execution_count": 4,
   "metadata": {},
   "outputs": [
    {
     "data": {
      "text/plain": [
       "2"
      ]
     },
     "execution_count": 4,
     "metadata": {},
     "output_type": "execute_result"
    }
   ],
   "source": [
    "random = ('a', ('a', 'b'), ('a', 'b'), [3, 4])\n",
    "random.count(('a','b'))"
   ]
  },
  {
   "cell_type": "code",
   "execution_count": 5,
   "metadata": {},
   "outputs": [
    {
     "data": {
      "text/plain": [
       "1"
      ]
     },
     "execution_count": 5,
     "metadata": {},
     "output_type": "execute_result"
    }
   ],
   "source": [
    "random = ('a', ('a', 'b'), ('a', 'b'), [3, 4])\n",
    "random.count([3, 4])"
   ]
  },
  {
   "cell_type": "markdown",
   "metadata": {},
   "source": [
    "**Tuple Index**\n",
    "\n",
    "    In simple terms, index() method searches for the given element in a tuple and returns its position. However, if the same element is present more than once, the first/smallest position is returned.\n",
    "    \n",
    "    The syntax of index() method for Tuple is:\n",
    "\n",
    "    tuple.index(element)"
   ]
  },
  {
   "cell_type": "code",
   "execution_count": 6,
   "metadata": {},
   "outputs": [
    {
     "data": {
      "text/plain": [
       "1"
      ]
     },
     "execution_count": 6,
     "metadata": {},
     "output_type": "execute_result"
    }
   ],
   "source": [
    "vowels = ('a', 'e', 'i', 'o', 'i', 'u')\n",
    "vowels.index('e')"
   ]
  },
  {
   "cell_type": "code",
   "execution_count": 9,
   "metadata": {},
   "outputs": [
    {
     "data": {
      "text/plain": [
       "2"
      ]
     },
     "execution_count": 9,
     "metadata": {},
     "output_type": "execute_result"
    }
   ],
   "source": [
    "my_tuple = ('a', 'w', 'q', 'r', 'c', 'w', 'q','s', 'g', 'x', 'w' )\n",
    "my_tuple.index('q')"
   ]
  },
  {
   "cell_type": "markdown",
   "metadata": {},
   "source": [
    "**Tuple any()**\n",
    "\n",
    "    The any() method returns True if any element of an iterable is True. If not, any() returns False.\n",
    "    The syntax of any() is:\n",
    "    any(iterable)\n",
    "    \n",
    "    any() returns:\n",
    "    True if at least one element of an iterable is true\n",
    "    False if all elements are false or if an iterable is empty"
   ]
  },
  {
   "cell_type": "code",
   "execution_count": 14,
   "metadata": {},
   "outputs": [
    {
     "name": "stdout",
     "output_type": "stream",
     "text": [
      "True\n"
     ]
    }
   ],
   "source": [
    "l = (1, 3, 4, 0)\n",
    "print(any(l))"
   ]
  },
  {
   "cell_type": "code",
   "execution_count": 19,
   "metadata": {},
   "outputs": [
    {
     "name": "stdout",
     "output_type": "stream",
     "text": [
      "False\n",
      "False\n"
     ]
    }
   ],
   "source": [
    "l = (0, 0, 0, 0)\n",
    "print(any(l))\n",
    "\n",
    "l = (0, False)\n",
    "print(any(l))"
   ]
  },
  {
   "cell_type": "code",
   "execution_count": 17,
   "metadata": {},
   "outputs": [
    {
     "name": "stdout",
     "output_type": "stream",
     "text": [
      "False\n"
     ]
    }
   ],
   "source": []
  },
  {
   "cell_type": "code",
   "execution_count": 23,
   "metadata": {},
   "outputs": [
    {
     "name": "stdout",
     "output_type": "stream",
     "text": [
      "True\n",
      "False\n"
     ]
    }
   ],
   "source": [
    "l = (0, False, 5)\n",
    "print(any(l))\n",
    "\n",
    "l = ()\n",
    "print(any(l))"
   ]
  },
  {
   "cell_type": "markdown",
   "metadata": {},
   "source": [
    "**Tuple all()**\n",
    "    \n",
    "    The all() method returns True when all elements in the given iterable are true. If not, it returns False.\n",
    "    The syntax of all() method is:\n",
    "    all(iterable)\n",
    "    \n",
    "    The all() method returns:\n",
    "    True - If all elements in an iterable are true\n",
    "    False - If any element in an iterable is false"
   ]
  },
  {
   "cell_type": "code",
   "execution_count": 22,
   "metadata": {},
   "outputs": [
    {
     "name": "stdout",
     "output_type": "stream",
     "text": [
      "True\n",
      "False\n",
      "False\n",
      "False\n",
      "True\n"
     ]
    }
   ],
   "source": [
    "# all values true\n",
    "l = (1, 3, 4, 5)\n",
    "print(all(l))\n",
    "\n",
    "# all values false\n",
    "l = (0, False)\n",
    "print(all(l))\n",
    "\n",
    "# one false value\n",
    "l = (1, 3, 4, 0)\n",
    "print(all(l))\n",
    "\n",
    "# one true value\n",
    "l = (0, False, 5)\n",
    "print(all(l))\n",
    "\n",
    "# empty iterable\n",
    "l = ()\n",
    "print(all(l))"
   ]
  },
  {
   "cell_type": "markdown",
   "metadata": {},
   "source": [
    "**Tuple ascii()**\n",
    "\n",
    "    The ascii() method returns a string containing a printable representation of an object. It escapes the non-ASCII characters in the string using \\x, \\u or \\U escapes.\n",
    "    \n",
    "    The syntax of ascii() is:\n",
    "    ascii(object)"
   ]
  },
  {
   "cell_type": "code",
   "execution_count": 5,
   "metadata": {},
   "outputs": [
    {
     "name": "stdout",
     "output_type": "stream",
     "text": [
      "'Python is interesting'\n",
      "Python is interesting\n",
      "'Pyth\\xf6n is interesting'\n",
      "Pythön is interesting\n"
     ]
    }
   ],
   "source": [
    "normalText = \"Python is interesting\"\n",
    "print(ascii(normalText))\n",
    "print(normalText)\n",
    "\n",
    "otherText = 'Pythön is interesting'\n",
    "print(ascii(otherText))\n",
    "\n",
    "print('Pyth\\xf6n is interesting')"
   ]
  },
  {
   "cell_type": "code",
   "execution_count": 6,
   "metadata": {},
   "outputs": [
    {
     "name": "stdout",
     "output_type": "stream",
     "text": [
      "['Python', 'Pyth\\xf6n', 5]\n"
     ]
    }
   ],
   "source": [
    "randomList = ['Python', 'Pythön', 5]\n",
    "print(ascii(randomList))"
   ]
  },
  {
   "cell_type": "markdown",
   "metadata": {},
   "source": [
    "**Tuple bool()**\n",
    "\n",
    "    The bool() method converts a value to Boolean (True or False) using the standard truth testing procedure.\n",
    "    \n",
    "    The syntax of bool is:\n",
    "        bool([value])\n",
    "    \n",
    "    The following values are considered false in Python:\n",
    "        None\n",
    "        False\n",
    "        Zero of any numeric type. For example, 0, 0.0, 0j\n",
    "        Empty sequence. For example, (), [], ''.\n",
    "        Empty mapping. For example, {}\n",
    "        objects of Classes which has __bool__() or __len()__ method which returns 0 or False\n",
    "        All other values except these values are considered true."
   ]
  },
  {
   "cell_type": "code",
   "execution_count": 7,
   "metadata": {},
   "outputs": [
    {
     "name": "stdout",
     "output_type": "stream",
     "text": [
      "() is False\n",
      "0 is False\n",
      "0.0 is False\n",
      "None is False\n",
      "True is True\n",
      "Easy string is True\n"
     ]
    }
   ],
   "source": [
    "test = ()\n",
    "print(test,'is',bool(test))\n",
    "\n",
    "test = (0)\n",
    "print(test,'is',bool(test))\n",
    "\n",
    "test = 0.0\n",
    "print(test,'is',bool(test))\n",
    "\n",
    "test = None\n",
    "print(test,'is',bool(test))\n",
    "\n",
    "test = True\n",
    "print(test,'is',bool(test))\n",
    "\n",
    "test = 'Easy string'\n",
    "print(test,'is',bool(test))"
   ]
  },
  {
   "cell_type": "markdown",
   "metadata": {},
   "source": [
    "**Tuple enumerate()**\n",
    "\n",
    "    The enumerate() method adds counter to an iterable and returns it (the enumerate object).\n",
    "    \n",
    "    The syntax of enumerate() is:\n",
    "        enumerate(iterable, start=0)"
   ]
  },
  {
   "cell_type": "code",
   "execution_count": 12,
   "metadata": {},
   "outputs": [
    {
     "name": "stdout",
     "output_type": "stream",
     "text": [
      "Item 0 is: bread\n",
      "Item 1 is: milk\n",
      "Item 2 is: butter\n"
     ]
    }
   ],
   "source": [
    "grocery = ('bread', 'milk', 'butter')\n",
    "for index,item in enumerate(grocery):\n",
    "    print(f\"Item {index} is: {item}\")"
   ]
  },
  {
   "cell_type": "code",
   "execution_count": 14,
   "metadata": {},
   "outputs": [
    {
     "name": "stdout",
     "output_type": "stream",
     "text": [
      "101 bread\n",
      "102 milk\n",
      "103 butter\n",
      "104 cream\n",
      "105 icecream\n"
     ]
    }
   ],
   "source": [
    "grocery = ('bread', 'milk', 'butter', 'cream', 'icecream')\n",
    "for count, item in enumerate(grocery, 101):\n",
    "  print(count, item)"
   ]
  },
  {
   "cell_type": "markdown",
   "metadata": {},
   "source": [
    "**Tuple iter()**\n",
    "\n",
    "    The iter() method returns an iterator for the given object. The iter() method creates an object which can be iterated one element at a time. These objects are useful when coupled with loops like for loop, while loop.\n",
    "    \n",
    "    The syntax of iter() method is:\n",
    "        iter(object[, sentinel])"
   ]
  },
  {
   "cell_type": "code",
   "execution_count": 23,
   "metadata": {},
   "outputs": [
    {
     "name": "stdout",
     "output_type": "stream",
     "text": [
      "a\n",
      "e\n",
      "i\n",
      "o\n",
      "u\n"
     ]
    }
   ],
   "source": [
    "vowels = ('a', 'e', 'i', 'o', 'u')\n",
    "vowelsIter = iter(vowels)\n",
    "\n",
    "# prints 'a'\n",
    "print(next(vowelsIter))\n",
    "\n",
    "# prints 'e'\n",
    "print(next(vowelsIter))\n",
    "\n",
    "# prints 'i'\n",
    "print(next(vowelsIter))\n",
    "\n",
    "# prints 'o'\n",
    "print(next(vowelsIter))\n",
    "\n",
    "# prints 'u'\n",
    "print(next(vowelsIter))"
   ]
  },
  {
   "cell_type": "markdown",
   "metadata": {},
   "source": [
    "**Tuple len()**\n",
    "\n",
    "    The len() function returns the number of items (length) in an object.\n",
    "    \n",
    "    The syntax of len() is:\n",
    "        len(s)"
   ]
  },
  {
   "cell_type": "code",
   "execution_count": 25,
   "metadata": {},
   "outputs": [
    {
     "name": "stdout",
     "output_type": "stream",
     "text": [
      "() length is 0\n",
      "(1, 2, 3) length is 3\n",
      "('a', 'b', 'c', 'd', 'e', 'f', 'g', 'h') length is 8\n",
      "Length of range(1, 10) is 9\n"
     ]
    }
   ],
   "source": [
    "test_tuple = ()\n",
    "print(testList, 'length is', len(testList))\n",
    "\n",
    "test_tuple = (1, 2, 3)\n",
    "print(testList, 'length is', len(testList))\n",
    "\n",
    "test_tuple = ('a', 'b', 'c', 'd', 'e', 'f', 'g', 'h')\n",
    "print(testTuple, 'length is', len(testTuple))\n",
    "\n",
    "test_range = range(1, 10)\n",
    "print('Length of', testRange, 'is', len(testRange))"
   ]
  },
  {
   "cell_type": "markdown",
   "metadata": {},
   "source": [
    "**Tuple max()**\n",
    "\n",
    "    The max() method returns the largest element in an iterable or largest of two or more parameters.\n",
    "    \n",
    "    Differnt syntaxes of max() are:\n",
    "        max(iterable, *iterables[,key, default])\n",
    "        max(arg1, arg2, *args[, key])"
   ]
  },
  {
   "cell_type": "code",
   "execution_count": 28,
   "metadata": {},
   "outputs": [
    {
     "name": "stdout",
     "output_type": "stream",
     "text": [
      "Maximum is: 5\n",
      "Maximum is: 10\n"
     ]
    }
   ],
   "source": [
    "print('Maximum is:', max(1, 3, 2, 5, 4))\n",
    "\n",
    "num = (1, 3, 2, 8, 5, 10, 6)\n",
    "print('Maximum is:', max(num))"
   ]
  },
  {
   "cell_type": "code",
   "execution_count": 31,
   "metadata": {},
   "outputs": [
    {
     "name": "stdout",
     "output_type": "stream",
     "text": [
      "Maximum is: 267\n",
      "Maximum is: 821\n"
     ]
    }
   ],
   "source": [
    "def sumDigit(num):\n",
    "    sum = 0\n",
    "    while(num):\n",
    "        sum += num % 10\n",
    "        num = int(num / 10)\n",
    "    return sum\n",
    "\n",
    "print('Maximum is:', max(100, 321, 267, 59, 40, key=sumDigit))\n",
    "\n",
    "# using max(iterable, key)\n",
    "num = (15, 300, 2700, 821, 52, 10, 6)\n",
    "print('Maximum is:', max(num, key=sumDigit))"
   ]
  },
  {
   "cell_type": "code",
   "execution_count": 37,
   "metadata": {},
   "outputs": [
    {
     "name": "stdout",
     "output_type": "stream",
     "text": [
      "Maximum is: 88\n"
     ]
    }
   ],
   "source": [
    "def mod_ten(n):\n",
    "    return (n % 10)\n",
    "\n",
    "num = (15, 300, 2700, 821, 88, 52, 10, 6)\n",
    "print('Maximum is:', max(num, key=mod_ten))"
   ]
  },
  {
   "cell_type": "markdown",
   "metadata": {},
   "source": [
    "**Tuple min()**\n",
    "\n",
    "    The min() method returns the smallest element in an iterable or smallest of two or more parameters.\n",
    "    \n",
    "    Differnt syntaxes of min() are:\n",
    "        min(iterable, *iterables[,key, default])\n",
    "        min(arg1, arg2, *args[, key])"
   ]
  },
  {
   "cell_type": "code",
   "execution_count": 38,
   "metadata": {},
   "outputs": [
    {
     "name": "stdout",
     "output_type": "stream",
     "text": [
      "Minimum is: 1\n",
      "Minimum is: 2\n"
     ]
    }
   ],
   "source": [
    "# using min(arg1, arg2, *args)\n",
    "print('Minimum is:', min(1, 3, 2, 5, 4))\n",
    "\n",
    "# using min(iterable)\n",
    "num = [3, 2, 8, 5, 10, 6]\n",
    "print('Minimum is:', min(num))"
   ]
  },
  {
   "cell_type": "code",
   "execution_count": 40,
   "metadata": {},
   "outputs": [
    {
     "name": "stdout",
     "output_type": "stream",
     "text": [
      "Maximum is: 100\n",
      "Maximum is: 10\n"
     ]
    }
   ],
   "source": [
    "def sumDigit(num):\n",
    "    sum = 0\n",
    "    while(num):\n",
    "        sum += num % 10\n",
    "        num = int(num / 10)\n",
    "    return sum\n",
    "\n",
    "print('Maximum is:', min(100, 321, 267, 59, 40, key=sumDigit))\n",
    "\n",
    "# using max(iterable, key)\n",
    "num = (15, 300, 2700, 821, 52, 10, 6)\n",
    "print('Maximum is:', min(num, key=sumDigit))"
   ]
  },
  {
   "cell_type": "code",
   "execution_count": 42,
   "metadata": {},
   "outputs": [
    {
     "name": "stdout",
     "output_type": "stream",
     "text": [
      "Maximum is: 300\n"
     ]
    }
   ],
   "source": [
    "def mod_ten(n):\n",
    "    return (n % 10)\n",
    "\n",
    "num = (15, 300, 2700, 821, 88, 52, 10, 6)\n",
    "print('Maximum is:', min(num, key=mod_ten))"
   ]
  },
  {
   "cell_type": "markdown",
   "metadata": {},
   "source": [
    "**Tuple reversed()**\n",
    "\n",
    "    The reversed() method returns the reversed iterator of the given sequence.\n",
    "    \n",
    "    The syntax of reversed() is:\n",
    "        reversed(seq)"
   ]
  },
  {
   "cell_type": "code",
   "execution_count": 48,
   "metadata": {},
   "outputs": [
    {
     "name": "stdout",
     "output_type": "stream",
     "text": [
      "['n', 'o', 'h', 't', 'y', 'P']\n",
      "['n', 'o', 'h', 't', 'y', 'P']\n",
      "[8, 7, 6, 5]\n"
     ]
    }
   ],
   "source": [
    "# for string\n",
    "seqString = 'Python'\n",
    "print(list(reversed(seqString)))\n",
    "\n",
    "# for tuple\n",
    "seq_tuple = ('P', 'y', 't', 'h', 'o', 'n')\n",
    "print(list(reversed(seq_tuple)))\n",
    "\n",
    "# for range\n",
    "seqRange = range(5, 9)\n",
    "print(list(reversed(seqRange)))"
   ]
  },
  {
   "cell_type": "markdown",
   "metadata": {},
   "source": [
    "**Tuple slice**\n",
    "\n",
    "    The slice() constructor creates a slice object representing the set of indices specified by range(start, stop, step).\n",
    "    \n",
    "    The syntax of slice() are:\n",
    "        slice(stop)\n",
    "        slice(start, stop, step)"
   ]
  },
  {
   "cell_type": "code",
   "execution_count": 72,
   "metadata": {},
   "outputs": [
    {
     "name": "stdout",
     "output_type": "stream",
     "text": [
      "<class 'slice'>\n",
      "(1, 3, 2)\n"
     ]
    }
   ],
   "source": [
    "# Create a slice object for slicing contains indices (0, 1, 2)\n",
    "sObject = slice(3)\n",
    "print(type(slice(3)))\n",
    "\n",
    "my_tuple = (1, 3, 2, 8, 5, 10, 6)\n",
    "print(my_tuple[sObject])"
   ]
  },
  {
   "cell_type": "code",
   "execution_count": 74,
   "metadata": {},
   "outputs": [
    {
     "name": "stdout",
     "output_type": "stream",
     "text": [
      "(1, 6, 8, 3, 4, 9, 5, 8)\n"
     ]
    }
   ],
   "source": [
    "print((2, 4, 5, 1, 6, 8, 3, 4, 9, 5, 8, 2, 1, 9, 0)[slice(3, 11, 1)])"
   ]
  },
  {
   "cell_type": "code",
   "execution_count": 75,
   "metadata": {},
   "outputs": [
    {
     "name": "stdout",
     "output_type": "stream",
     "text": [
      "(1, 8, 4, 5, 2)\n"
     ]
    }
   ],
   "source": [
    "print((2, 4, 5, 1, 6, 8, 3, 4, 9, 5, 8, 2, 1, 9, 0)[slice(3, 13, 2)])"
   ]
  },
  {
   "cell_type": "markdown",
   "metadata": {},
   "source": [
    "**Tuple sorted()**\n",
    "\n",
    "    The sorted() method returns a sorted list from the given iterable.\n",
    "    \n",
    "    The syntax of sorted() method is:\n",
    "        sorted(iterable[, key][, reverse])"
   ]
  },
  {
   "cell_type": "code",
   "execution_count": 77,
   "metadata": {},
   "outputs": [
    {
     "name": "stdout",
     "output_type": "stream",
     "text": [
      "['a', 'e', 'i', 'o', 'u']\n",
      "('e', 'a', 'u', 'o', 'i')\n"
     ]
    }
   ],
   "source": [
    "# vowels tuple, Note: Tuple if immutable.\n",
    "my_tuple = ('e', 'a', 'u', 'o', 'i')\n",
    "print(sorted(my_tuple ))\n",
    "print(my_tuple)"
   ]
  },
  {
   "cell_type": "code",
   "execution_count": 85,
   "metadata": {},
   "outputs": [
    {
     "name": "stdout",
     "output_type": "stream",
     "text": [
      "140122190717120\n",
      "('e', 'a', 'u', 'o', 'i')\n",
      "140122190717120\n",
      "('a', 'e', 'i', 'o', 'u')\n"
     ]
    }
   ],
   "source": [
    "my_tuple = ('e', 'a', 'u', 'o', 'i')\n",
    "print(id(tuple))\n",
    "print(my_tuple)\n",
    "\n",
    "my_tuple = tuple(sorted(my_tuple))\n",
    "print(id(tuple))\n",
    "print(my_tuple)"
   ]
  },
  {
   "cell_type": "code",
   "execution_count": 86,
   "metadata": {},
   "outputs": [
    {
     "name": "stdout",
     "output_type": "stream",
     "text": [
      "['u', 'o', 'i', 'e', 'a']\n"
     ]
    }
   ],
   "source": [
    "my_tuple = ('e', 'a', 'u', 'o', 'i')\n",
    "print(sorted(my_tuple, reverse=True))"
   ]
  },
  {
   "cell_type": "code",
   "execution_count": 111,
   "metadata": {},
   "outputs": [
    {
     "name": "stdout",
     "output_type": "stream",
     "text": [
      "['Hank', 'Casey', 'Robin', 'Nicole']\n"
     ]
    }
   ],
   "source": [
    "tup = ('Casey', 'Hank', 'Nicole', 'Robin')\n",
    "print(sorted(tup, key=len))"
   ]
  },
  {
   "cell_type": "code",
   "execution_count": 116,
   "metadata": {},
   "outputs": [
    {
     "name": "stdout",
     "output_type": "stream",
     "text": [
      "[('a', 1), ('a', 2), ('b', 2)]\n"
     ]
    }
   ],
   "source": [
    "# Sort tuple of tuple using lambda\n",
    "my_tup = ((\"a\",2),(\"b\",2),(\"a\",1))\n",
    "my_tup = sorted(my_tup, key=lambda x: x[1])\n",
    "print(my_tup)"
   ]
  },
  {
   "cell_type": "markdown",
   "metadata": {},
   "source": [
    "**Tuple sum()**\n",
    "\n",
    "    The sum() function adds the items of an iterable and returns the sum.\n",
    "    \n",
    "    The syntax of sum() is:\n",
    "        sum(iterable, start)\n",
    "        \n",
    "        start (optional) - this value is added to the sum of items of the iterable. The default value of start is 0 (if omitted)"
   ]
  },
  {
   "cell_type": "code",
   "execution_count": 90,
   "metadata": {},
   "outputs": [
    {
     "name": "stdout",
     "output_type": "stream",
     "text": [
      "67\n"
     ]
    }
   ],
   "source": [
    "my_tuple = (2, 4, 5, 1, 6, 8, 3, 4, 9, 5, 8, 2, 1, 9, 0)\n",
    "print(sum(my_tuple))"
   ]
  },
  {
   "cell_type": "code",
   "execution_count": 92,
   "metadata": {},
   "outputs": [
    {
     "name": "stdout",
     "output_type": "stream",
     "text": [
      "1067\n"
     ]
    }
   ],
   "source": [
    "my_tuple = (2, 4, 5, 1, 6, 8, 3, 4, 9, 5, 8, 2, 1, 9, 0)\n",
    "print(sum(my_tuple, 1000))"
   ]
  },
  {
   "cell_type": "markdown",
   "metadata": {},
   "source": [
    "**tuple()**\n",
    "\n",
    "    The tuple() built-in is used to create a tuple in Python. In Python, a tuple is an immutable sequence type.\n",
    "    \n",
    "    The syntax of tuple() is:\n",
    "        tuple(iterable)"
   ]
  },
  {
   "cell_type": "code",
   "execution_count": 93,
   "metadata": {
    "scrolled": true
   },
   "outputs": [
    {
     "name": "stdout",
     "output_type": "stream",
     "text": [
      "t1= ()\n",
      "t2= (1, 4, 6)\n",
      "t1= ('P', 'y', 't', 'h', 'o', 'n')\n",
      "t1= (1, 2)\n"
     ]
    }
   ],
   "source": [
    "t1 = tuple()\n",
    "print('t1=', t1)\n",
    "\n",
    "# creating a tuple from a list\n",
    "t2 = tuple([1, 4, 6])\n",
    "print('t2=', t2)\n",
    "\n",
    "# creating a tuple from a string\n",
    "t1 = tuple('Python')\n",
    "print('t1=',t1)\n",
    "\n",
    "# creating a tuple from a dictionary\n",
    "t1 = tuple({1: 'one', 2: 'two'})\n",
    "print('t1=',t1)"
   ]
  },
  {
   "cell_type": "markdown",
   "metadata": {},
   "source": [
    "**Tuple zip()**\n",
    "\n",
    "    The zip() function take iterables (can be zero or more), makes iterator that aggregates elements based on the iterables passed, and returns an iterator of tuples.\n",
    "    \n",
    "    The syntax of zip() is:\n",
    "        zip(*iterables)"
   ]
  },
  {
   "cell_type": "code",
   "execution_count": 96,
   "metadata": {},
   "outputs": [
    {
     "name": "stdout",
     "output_type": "stream",
     "text": [
      "[]\n",
      "{(3, 'three'), (2, 'two'), (1, 'one')}\n"
     ]
    }
   ],
   "source": [
    "numberList = [1, 2, 3]\n",
    "strList = ['one', 'two', 'three']\n",
    "\n",
    "# No iterables are passed\n",
    "result = zip()\n",
    "\n",
    "# Converting itertor to list\n",
    "resultList = list(result)\n",
    "print(resultList)\n",
    "\n",
    "# Two iterables are passed\n",
    "result = zip(numberList, strList)\n",
    "\n",
    "# Converting itertor to set\n",
    "resultSet = set(result)\n",
    "print(resultSet)"
   ]
  },
  {
   "cell_type": "code",
   "execution_count": 100,
   "metadata": {},
   "outputs": [
    {
     "name": "stdout",
     "output_type": "stream",
     "text": [
      "[(1, 'a', 101), (2, 'b', 102), (3, 'c', 103), (4, 'd', 104), (5, 'e', 105), (6, 'f', 106), (7, 'g', 107), (8, 'h', 108)]\n"
     ]
    }
   ],
   "source": [
    "lista = (1, 2, 3, 4, 5, 6, 7, 8)\n",
    "listb = ('a', 'b', 'c', 'd', 'e', 'f', 'g', 'h')\n",
    "listc = (101, 102, 103, 104, 105, 106, 107, 108)\n",
    "\n",
    "result = list(zip(lista, listb, listc))\n",
    "print(result)"
   ]
  },
  {
   "cell_type": "code",
   "execution_count": 102,
   "metadata": {},
   "outputs": [
    {
     "name": "stdout",
     "output_type": "stream",
     "text": [
      "[(1, 'one', 'ONE'), (2, 'two', 'TWO')]\n"
     ]
    }
   ],
   "source": [
    "# Different Number of Elements in Iterables Passed to zip()\n",
    "numbersList = [1, 2, 3]\n",
    "strList = ['one', 'two']\n",
    "numbersTuple = ('ONE', 'TWO', 'THREE', 'FOUR')\n",
    "\n",
    "result = list(zip(numbersList, strList, numbersTuple))\n",
    "print(result)"
   ]
  },
  {
   "cell_type": "markdown",
   "metadata": {},
   "source": [
    "**Use filter() with tuple**\n",
    "\n",
    "    The filter() method takes two parameters and returns an iterator that passed the function check for each element in the iterable."
   ]
  },
  {
   "cell_type": "code",
   "execution_count": 10,
   "metadata": {},
   "outputs": [
    {
     "data": {
      "text/plain": [
       "['a', 'b', 'a']"
      ]
     },
     "execution_count": 10,
     "metadata": {},
     "output_type": "execute_result"
    }
   ],
   "source": [
    "alphabets = ('a', 'b', 'd', 'e', 'i','a', 'j', 'o')\n",
    "list(filter(lambda x: x in ['a','b'], alphabets ))"
   ]
  },
  {
   "cell_type": "markdown",
   "metadata": {},
   "source": [
    "**Using the map() function with tuple** \n",
    "\n",
    "    Map function applies a given function to each item of an iterable (list, tuple etc.) and returns a list of the results. You can pass more than one iterable to the map() function."
   ]
  },
  {
   "cell_type": "code",
   "execution_count": 11,
   "metadata": {},
   "outputs": [
    {
     "data": {
      "text/plain": [
       "[10, 20, 30, 40]"
      ]
     },
     "execution_count": 11,
     "metadata": {},
     "output_type": "execute_result"
    }
   ],
   "source": [
    "numbers = (1, 2, 3, 4)\n",
    "list(map(lambda x: x*10, numbers))"
   ]
  },
  {
   "cell_type": "markdown",
   "metadata": {},
   "source": [
    "**Passing Multiple Iterators to map() Using Lambda**"
   ]
  },
  {
   "cell_type": "code",
   "execution_count": 12,
   "metadata": {},
   "outputs": [
    {
     "data": {
      "text/plain": [
       "[9, 11, 13]"
      ]
     },
     "execution_count": 12,
     "metadata": {},
     "output_type": "execute_result"
    }
   ],
   "source": [
    "num1 = [4, 5, 6]\n",
    "num2 = [5, 6, 7]\n",
    "list(map(lambda n1, n2: n1+n2, num1, num2))"
   ]
  },
  {
   "cell_type": "code",
   "execution_count": null,
   "metadata": {},
   "outputs": [],
   "source": []
  },
  {
   "cell_type": "code",
   "execution_count": null,
   "metadata": {},
   "outputs": [],
   "source": []
  },
  {
   "cell_type": "code",
   "execution_count": 110,
   "metadata": {},
   "outputs": [
    {
     "name": "stdout",
     "output_type": "stream",
     "text": [
      "[('a', 1), ('a', 2), ('b', 2)]\n",
      "2\n",
      "2\n",
      "1\n"
     ]
    }
   ],
   "source": [
    "\n"
   ]
  },
  {
   "cell_type": "code",
   "execution_count": null,
   "metadata": {},
   "outputs": [],
   "source": []
  }
 ],
 "metadata": {
  "kernelspec": {
   "display_name": "Python 3",
   "language": "python",
   "name": "python3"
  },
  "language_info": {
   "codemirror_mode": {
    "name": "ipython",
    "version": 3
   },
   "file_extension": ".py",
   "mimetype": "text/x-python",
   "name": "python",
   "nbconvert_exporter": "python",
   "pygments_lexer": "ipython3",
   "version": "3.7.5"
  }
 },
 "nbformat": 4,
 "nbformat_minor": 2
}
