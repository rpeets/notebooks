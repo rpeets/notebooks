{
 "cells": [
  {
   "cell_type": "markdown",
   "metadata": {},
   "source": [
    "## Parsing and Formatting Dates in Python With Datetime\n",
    "\n",
    "[strftime.org](https://strftime.org/)<br>\n",
    "[YouTube](https://www.youtube.com/watch?v=zY02utxcauo)"
   ]
  },
  {
   "cell_type": "code",
   "execution_count": 12,
   "metadata": {},
   "outputs": [],
   "source": [
    "from datetime import datetime"
   ]
  },
  {
   "cell_type": "markdown",
   "metadata": {},
   "source": [
    "### Convert datetime string to datetime objects."
   ]
  },
  {
   "cell_type": "markdown",
   "metadata": {},
   "source": [
    "**Example 1**"
   ]
  },
  {
   "cell_type": "code",
   "execution_count": 2,
   "metadata": {},
   "outputs": [
    {
     "name": "stdout",
     "output_type": "stream",
     "text": [
      "2011-06-08 00:00:00\n",
      "<class 'datetime.datetime'>\n"
     ]
    }
   ],
   "source": [
    "date1 = 'June 8, 2011'\n",
    "date1_obj = datetime.strptime(date1, '%B %d, %Y')\n",
    "\n",
    "print(date1_obj)\n",
    "print(type(date1_obj))"
   ]
  },
  {
   "cell_type": "code",
   "execution_count": 3,
   "metadata": {},
   "outputs": [
    {
     "name": "stdout",
     "output_type": "stream",
     "text": [
      "2011-12-08 00:00:00\n",
      "<class 'datetime.datetime'>\n"
     ]
    }
   ],
   "source": [
    "date1 = 'December 8, 2011'\n",
    "date1_obj = datetime.strptime(date1, '%B %d, %Y')\n",
    "\n",
    "print(date1_obj)\n",
    "print(type(date1_obj))"
   ]
  },
  {
   "cell_type": "markdown",
   "metadata": {},
   "source": [
    "**Example 2**"
   ]
  },
  {
   "cell_type": "code",
   "execution_count": 5,
   "metadata": {},
   "outputs": [
    {
     "name": "stdout",
     "output_type": "stream",
     "text": [
      "2029-08-10 00:00:00\n",
      "<class 'datetime.datetime'>\n"
     ]
    }
   ],
   "source": [
    "date2 = '08/10/29'\n",
    "date2_obj = datetime.strptime(date2, '%m/%d/%y')\n",
    "\n",
    "print(date2_obj)\n",
    "print(type(date2_obj))"
   ]
  },
  {
   "cell_type": "code",
   "execution_count": 6,
   "metadata": {},
   "outputs": [
    {
     "name": "stdout",
     "output_type": "stream",
     "text": [
      "2029-10-08 00:00:00\n",
      "<class 'datetime.datetime'>\n"
     ]
    }
   ],
   "source": [
    "date2 = '08/10/29'\n",
    "date2_obj = datetime.strptime(date2, '%d/%m/%y')\n",
    "\n",
    "print(date2_obj)\n",
    "print(type(date2_obj))"
   ]
  },
  {
   "cell_type": "markdown",
   "metadata": {},
   "source": [
    "**Example 3**"
   ]
  },
  {
   "cell_type": "code",
   "execution_count": 7,
   "metadata": {},
   "outputs": [
    {
     "name": "stdout",
     "output_type": "stream",
     "text": [
      "1999-09-30 12:23:03\n",
      "<class 'datetime.datetime'>\n"
     ]
    }
   ],
   "source": [
    "date3 = '09-30-1999 12:23:03'\n",
    "date3_obj = datetime.strptime(date3, '%m-%d-%Y %H:%M:%S')\n",
    "\n",
    "print(date3_obj)\n",
    "print(type(date3_obj))"
   ]
  },
  {
   "cell_type": "code",
   "execution_count": 8,
   "metadata": {},
   "outputs": [
    {
     "name": "stdout",
     "output_type": "stream",
     "text": [
      "2016-10-15 14:18:48\n",
      "<class 'datetime.datetime'>\n"
     ]
    }
   ],
   "source": [
    "date3 = '10-15-2016 14:18:48'\n",
    "date3_obj = datetime.strptime(date3, '%m-%d-%Y %H:%M:%S')\n",
    "\n",
    "print(date3_obj)\n",
    "print(type(date3_obj))"
   ]
  },
  {
   "cell_type": "markdown",
   "metadata": {},
   "source": [
    "### Convert datetime objects to datetime string."
   ]
  },
  {
   "cell_type": "markdown",
   "metadata": {},
   "source": [
    "**Example 1**"
   ]
  },
  {
   "cell_type": "code",
   "execution_count": 9,
   "metadata": {},
   "outputs": [
    {
     "name": "stdout",
     "output_type": "stream",
     "text": [
      "2011-12-08 00:00:00\n",
      "<class 'datetime.datetime'>\n",
      "\n",
      "2011, December 08\n",
      "\n",
      "2011, December 08 00:00:00\n"
     ]
    }
   ],
   "source": [
    "print(date1_obj)\n",
    "print(type(date1_obj))\n",
    "print()\n",
    "\n",
    "date1_str = date1_obj.strftime('%Y, %B %d')\n",
    "print(date1_str)\n",
    "print()\n",
    "\n",
    "date1_str = date1_obj.strftime('%Y, %B %d %H:%M:%S')\n",
    "print(date1_str)"
   ]
  },
  {
   "cell_type": "markdown",
   "metadata": {},
   "source": [
    "**Example 2**"
   ]
  },
  {
   "cell_type": "code",
   "execution_count": 10,
   "metadata": {},
   "outputs": [
    {
     "name": "stdout",
     "output_type": "stream",
     "text": [
      "2029-10-08 00:00:00\n",
      "<class 'datetime.datetime'>\n",
      "\n",
      "Oct 08, 2029\n"
     ]
    }
   ],
   "source": [
    "print(date2_obj)\n",
    "print(type(date2_obj))\n",
    "print()\n",
    "\n",
    "date2_str = date2_obj.strftime('%b %d, %Y')\n",
    "print(date2_str)"
   ]
  },
  {
   "cell_type": "markdown",
   "metadata": {},
   "source": [
    "**Example 3**"
   ]
  },
  {
   "cell_type": "code",
   "execution_count": 11,
   "metadata": {},
   "outputs": [
    {
     "name": "stdout",
     "output_type": "stream",
     "text": [
      "2016-10-15 14:18:48\n",
      "<class 'datetime.datetime'>\n",
      "\n",
      "Sat Oct 15 14:18:48 2016\n"
     ]
    }
   ],
   "source": [
    "print(date3_obj)\n",
    "print(type(date3_obj))\n",
    "print()\n",
    "\n",
    "date3_str = date3_obj.strftime('%c')\n",
    "print(date3_str)"
   ]
  },
  {
   "cell_type": "code",
   "execution_count": null,
   "metadata": {},
   "outputs": [],
   "source": []
  }
 ],
 "metadata": {
  "kernelspec": {
   "display_name": "Python 3",
   "language": "python",
   "name": "python3"
  },
  "language_info": {
   "codemirror_mode": {
    "name": "ipython",
    "version": 3
   },
   "file_extension": ".py",
   "mimetype": "text/x-python",
   "name": "python",
   "nbconvert_exporter": "python",
   "pygments_lexer": "ipython3",
   "version": "3.7.5"
  }
 },
 "nbformat": 4,
 "nbformat_minor": 2
}
