{
 "cells": [
  {
   "cell_type": "code",
   "execution_count": 1,
   "metadata": {},
   "outputs": [
    {
     "name": "stdout",
     "output_type": "stream",
     "text": [
      "\u001b[31mHello red     \u001b[91m Hello lightred    \u001b[0m\n",
      "\u001b[32mHello green   \u001b[92m Hello lightgreen  \u001b[0m\n",
      "\u001b[33mHello yellow  \u001b[93m Hello lightyellow \u001b[0m\n",
      "\u001b[34mHello blue    \u001b[94m Hello lightblue   \u001b[0m\n",
      "\u001b[35mHello purple  \u001b[95m Hello pink        \u001b[0m\n",
      "\u001b[36mHello cyan    \u001b[96m Hello lightcyan   \u001b[0m\n",
      "\u001b[31mHello Red      \u001b[91mHello LightRed\u001b[0m\n",
      "\u001b[32mHello Green    \u001b[92mHello LightGreen\u001b[0m\n",
      "\u001b[33mHello Yellow   \u001b[93mHello LightYellow\u001b[0m\n"
     ]
    }
   ],
   "source": [
    "#!/usr/bin/python3\n",
    "\n",
    "class colors:\n",
    "    '''Colors class:\n",
    "    colors.reset : for reseting all colors with \n",
    "    two subclasses fg for foreground and bg for background.\n",
    "    use as colors.subclass.colorname.\n",
    "    Eg: colors.fg.red or colors.bg.green\n",
    "    also, the generic bold, disable, underline, reverse, strikethrough,\n",
    "    and invisible work with the main class\n",
    "    Eg: colors.bold\n",
    "    '''\n",
    "    reset='\\033[0m'\n",
    "    bold='\\033[01m'\n",
    "    disable='\\033[02m'\n",
    "    underline='\\033[04m'\n",
    "    reverse='\\033[07m'\n",
    "    strikethrough='\\033[09m'\n",
    "    invisible='\\033[08m'\n",
    "    class fg:\n",
    "        black='\\033[30m'\n",
    "        red='\\033[31m'\n",
    "        green='\\033[32m'\n",
    "        yellow='\\033[33m'\n",
    "        blue='\\033[34m'\n",
    "        purple='\\033[35m'\n",
    "        cyan='\\033[36m'\n",
    "        lightgrey='\\033[37m'\n",
    "        darkgrey='\\033[90m'\n",
    "        lightred='\\033[91m'\n",
    "        lightgreen='\\033[92m'\n",
    "        lightyellow='\\033[93m'\n",
    "        lightblue='\\033[94m'\n",
    "        pink='\\033[95m'\n",
    "        lightcyan='\\033[96m'\n",
    "\n",
    "    class bg:\n",
    "        black='\\033[40m'\n",
    "        red='\\033[41m'\n",
    "        green='\\033[42m'\n",
    "        orange='\\033[43m'\n",
    "        blue='\\033[44m'\n",
    "        purple='\\033[45m'\n",
    "        cyan='\\033[46m'\n",
    "        lightgrey='\\033[47m'\n",
    "\n",
    "print (colors.fg.red    + \"Hello red     \" + colors.fg.lightred    + \" Hello lightred    \" + colors.reset)\n",
    "print (colors.fg.green  + \"Hello green   \" + colors.fg.lightgreen  + \" Hello lightgreen  \" + colors.reset)\n",
    "print (colors.fg.yellow + \"Hello yellow  \" + colors.fg.lightyellow + \" Hello lightyellow \" + colors.reset)\n",
    "print (colors.fg.blue   + \"Hello blue    \" + colors.fg.lightblue   + \" Hello lightblue   \" + colors.reset)\n",
    "print (colors.fg.purple + \"Hello purple  \" + colors.fg.pink        + \" Hello pink        \" + colors.reset)\n",
    "print (colors.fg.cyan   + \"Hello cyan    \" + colors.fg.lightcyan   + \" Hello lightcyan   \" + colors.reset)\n",
    "\n",
    "print(f'{colors.fg.red}Hello Red      {colors.fg.lightred}Hello LightRed{colors.reset}')\n",
    "print(f'{colors.fg.green}Hello Green    {colors.fg.lightgreen}Hello LightGreen{colors.reset}')\n",
    "print(f'{colors.fg.yellow}Hello Yellow   {colors.fg.lightyellow}Hello LightYellow{colors.reset}')"
   ]
  },
  {
   "cell_type": "code",
   "execution_count": null,
   "metadata": {},
   "outputs": [],
   "source": []
  }
 ],
 "metadata": {
  "kernelspec": {
   "display_name": "Python 3",
   "language": "python",
   "name": "python3"
  },
  "language_info": {
   "codemirror_mode": {
    "name": "ipython",
    "version": 3
   },
   "file_extension": ".py",
   "mimetype": "text/x-python",
   "name": "python",
   "nbconvert_exporter": "python",
   "pygments_lexer": "ipython3",
   "version": "3.7.5"
  }
 },
 "nbformat": 4,
 "nbformat_minor": 2
}
