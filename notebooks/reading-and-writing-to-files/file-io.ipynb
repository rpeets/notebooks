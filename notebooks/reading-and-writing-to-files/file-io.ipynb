{
 "cells": [
  {
   "cell_type": "code",
   "execution_count": 1,
   "metadata": {},
   "outputs": [
    {
     "name": "stdout",
     "output_type": "stream",
     "text": [
      "total 504\r\n",
      "-rw-r--r-- 1 8888 8888   4371 Nov 25 05:58 breedinfo.csv\r\n",
      "-rw-rw-r-- 1 8888 8888     28 Nov 20 06:29 filename.txt\r\n",
      "-rw-r--r-- 1 8888 8888  44038 Nov 17 21:42 modified.txt\r\n",
      "-rw-r--r-- 1 8888 8888   1817 Nov 20 06:26 names.csv\r\n",
      "-rw-r--r-- 1 root root     28 Nov 20 07:05 newfile.txt\r\n",
      "-rw-r--r-- 1 8888 8888  40832 Nov 17 21:42 pokemon_data.txt\r\n",
      "-rw-r--r-- 1 root root 132064 Nov 20 07:05 pwd-new.jpg\r\n",
      "-rw-r--r-- 1 root root 132064 Nov 20 07:05 pwd-new02.jpg\r\n",
      "-rw-rw-r-- 1 8888 8888 132064 Mar 11  2018 pwd.jpg\r\n",
      "-rw-r--r-- 1 root root      4 Nov 20 07:05 testfile.txt\r\n"
     ]
    }
   ],
   "source": [
    "!ls -l ../work/"
   ]
  },
  {
   "cell_type": "markdown",
   "metadata": {},
   "source": [
    "### Using islice to read specified number of line at a time to memory."
   ]
  },
  {
   "cell_type": "code",
   "execution_count": 2,
   "metadata": {},
   "outputs": [
    {
     "name": "stdout",
     "output_type": "stream",
     "text": [
      "#\tName\tType 1\tType 2\tHP\tAttack\tDefense\tSp. Atk\tSp. Def\tSpeed\tGeneration\tLegendary\n",
      "1\tBulbasaur\tGrass\tPoison\t45\t49\t49\t65\t65\t45\t1\tFALSE\n",
      "2\tIvysaur\tGrass\tPoison\t60\t62\t63\t80\t80\t60\t1\tFALSE\n",
      "3\tVenusaur\tGrass\tPoison\t80\t82\t83\t100\t100\t80\t1\tFALSE\n",
      "\n",
      "#\tName\tType 1\tType 2\tHP\tAttack\tDefense\tSp. Atk\tSp. Def\tSpeed\tGeneration\tLegendary\n",
      "1\tBulbasaur\tGrass\tPoison\t45\t49\t49\t65\t65\t45\t1\tFALSE\n",
      "2\tIvysaur\tGrass\tPoison\t60\t62\t63\t80\t80\t60\t1\tFALSE\n",
      "3\tVenusaur\tGrass\tPoison\t80\t82\t83\t100\t100\t80\t1\tFALSE\n",
      "3\tVenusaurMega Venusaur\tGrass\tPoison\t80\t100\t123\t122\t120\t80\t1\tFALSE\n",
      "4\tCharmander\tFire\t\t39\t52\t43\t60\t50\t65\t1\tFALSE\n",
      "5\tCharmeleon\tFire\t\t58\t64\t58\t80\t65\t80\t1\tFALSE\n",
      "6\tCharizard\tFire\tFlying\t78\t84\t78\t109\t85\t100\t1\tFALSE\n",
      "6\tCharizardMega Charizard X\tFire\tDragon\t78\t130\t111\t130\t85\t100\t1\tFALSE\n",
      "6\tCharizardMega Charizard Y\tFire\tFlying\t78\t104\t78\t159\t115\t100\t1\tFALSE\n"
     ]
    }
   ],
   "source": [
    "from itertools import islice, tee\n",
    "\n",
    "with open('../work/pokemon_data.txt') as f:\n",
    "    copy1, copy2 = tee(f)\n",
    "    ten_lines = islice(copy1, 10)\n",
    "    print(next(copy2).rstrip())\n",
    "    print(next(copy2).rstrip())\n",
    "    print(next(copy2).rstrip())\n",
    "    print(next(copy2).rstrip())\n",
    "    print()\n",
    "    for line in ten_lines:\n",
    "        print(line.rstrip())"
   ]
  },
  {
   "cell_type": "markdown",
   "metadata": {},
   "source": [
    "### Opening Two Files at same time to process."
   ]
  },
  {
   "cell_type": "code",
   "execution_count": 19,
   "metadata": {},
   "outputs": [
    {
     "name": "stdout",
     "output_type": "stream",
     "text": [
      "breed,height_low_inches,height_high_inches,weight_low_lbs,weight_high_lbs\n",
      "\n",
      "#\tName\tType 1\tType 2\tTotal\tHP\tAttack\tDefense\tSp. Atk\tSp. Def\tSpeed\tGeneration\tLegendary\n",
      "\n"
     ]
    }
   ],
   "source": [
    "with open('../work/breedinfo.csv') as a, open('../work/modified.txt') as b:\n",
    "    print(next(a))\n",
    "    print(next(b))"
   ]
  },
  {
   "cell_type": "code",
   "execution_count": 37,
   "metadata": {},
   "outputs": [
    {
     "name": "stdout",
     "output_type": "stream",
     "text": [
      "['__add__', '__class__', '__contains__', '__delattr__', '__dir__', '__doc__', '__eq__', '__format__', '__ge__', '__getattribute__', '__getitem__', '__getnewargs__', '__gt__', '__hash__', '__init__', '__init_subclass__', '__iter__', '__le__', '__len__', '__lt__', '__mod__', '__mul__', '__ne__', '__new__', '__reduce__', '__reduce_ex__', '__repr__', '__rmod__', '__rmul__', '__setattr__', '__sizeof__', '__str__', '__subclasshook__', 'capitalize', 'casefold', 'center', 'count', 'encode', 'endswith', 'expandtabs', 'find', 'format', 'format_map', 'index', 'isalnum', 'isalpha', 'isascii', 'isdecimal', 'isdigit', 'isidentifier', 'islower', 'isnumeric', 'isprintable', 'isspace', 'istitle', 'isupper', 'join', 'ljust', 'lower', 'lstrip', 'maketrans', 'partition', 'replace', 'rfind', 'rindex', 'rjust', 'rpartition', 'rsplit', 'rstrip', 'split', 'splitlines', 'startswith', 'strip', 'swapcase', 'title', 'translate', 'upper', 'zfill']\n",
      "--------------------------------------------\n",
      "Help on built-in function splitlines:\n",
      "\n",
      "splitlines(keepends=False) method of builtins.str instance\n",
      "    Return a list of the lines in the string, breaking at line boundaries.\n",
      "    \n",
      "    Line breaks are not included in the resulting list unless keepends is given and\n",
      "    true.\n",
      "\n",
      "None\n",
      "--------------------------------------------\n",
      "Help on built-in function rstrip:\n",
      "\n",
      "rstrip(chars=None, /) method of builtins.str instance\n",
      "    Return a copy of the string with trailing whitespace removed.\n",
      "    \n",
      "    If chars is given and not None, remove characters in chars instead.\n",
      "\n",
      "None\n",
      "--------------------------------------------\n",
      "Help on built-in function rindex:\n",
      "\n",
      "rindex(...) method of builtins.str instance\n",
      "    S.rindex(sub[, start[, end]]) -> int\n",
      "    \n",
      "    Return the highest index in S where substring sub is found,\n",
      "    such that sub is contained within S[start:end].  Optional\n",
      "    arguments start and end are interpreted as in slice notation.\n",
      "    \n",
      "    Raises ValueError when the substring is not found.\n",
      "\n",
      "None\n",
      "--------------------------------------------\n",
      "<class 'list'>\n",
      "463\n",
      "\n",
      "Afghan \n"
     ]
    }
   ],
   "source": [
    "long_string = \"\"\"Akita,26,28,80,120\n",
    "Anatolian Sheepdog,27,29,100,150\n",
    "Bernese Mountain Dog,23,27,85,110\n",
    "Bloodhound,24,26,80,120\n",
    "Borzoi,26,28,70,100\n",
    "Bullmastiff,25,27,100,130\n",
    "Great Dane,32,32,120,160\n",
    "Great Pyrenees,27,32,95,120\n",
    "Great Swiss Mountain Dog,23,28,130,150\n",
    "Irish Wolfhound,28,35,90,150\n",
    "Kuvasz,28,30,70,120\n",
    "Mastiff,27,30,175,190\n",
    "Neopolitan Mastiff,24,30,100,150\n",
    "Newfoundland,26,28,100,150\n",
    "Otter Hound,24,26,65,110\n",
    "Rottweiler,22,27,90,110\n",
    "Saint Bernard,25,28,110,190\n",
    "Afghan Hound,25,27,50,60\n",
    "Alaskan Malamute,na,na,na,na\"\"\"\n",
    "\n",
    "print(dir(long_string))\n",
    "print('--------------------------------------------')\n",
    "print(help(long_string.splitlines))\n",
    "print('--------------------------------------------')\n",
    "print(help(long_string.rstrip))\n",
    "print('--------------------------------------------')\n",
    "print(help(long_string.rindex))\n",
    "print('--------------------------------------------')\n",
    "\n",
    "s = long_string.splitlines()\n",
    "print(type(s))\n",
    "print(long_string.rindex('Hound'))\n",
    "print(long_string[455:463])"
   ]
  },
  {
   "cell_type": "markdown",
   "metadata": {},
   "source": [
    "**Large 954MB File will not be storaged in github.**<br>\n",
    "It can be downloaded form the following link [Link](http://mattmahoney.net/dc/textdata.html)"
   ]
  },
  {
   "cell_type": "code",
   "execution_count": 53,
   "metadata": {},
   "outputs": [
    {
     "name": "stdout",
     "output_type": "stream",
     "text": [
      "954M\tenwik9\r\n"
     ]
    }
   ],
   "source": [
    "!du -sh enwik9"
   ]
  },
  {
   "cell_type": "markdown",
   "metadata": {},
   "source": [
    "### Using file_object iterable, and not using so much resources to read 1Gb file"
   ]
  },
  {
   "cell_type": "code",
   "execution_count": 51,
   "metadata": {},
   "outputs": [
    {
     "name": "stdout",
     "output_type": "stream",
     "text": [
      "Memory (Before): [138.78125]MB\n",
      "Memory (Before Closing) : [138.78125]MB\n",
      "Memory (After) : [138.78125]MB\n"
     ]
    }
   ],
   "source": [
    "%reset -f\n",
    "import memory_profiler as mem_profile\n",
    "import random\n",
    "import time\n",
    "import warnings\n",
    "warnings.filterwarnings(\"ignore\", category=DeprecationWarning) \n",
    "\n",
    "print('Memory (Before): ' + str(mem_profile.memory_usage()) + 'MB' )\n",
    "with open('enwik9') as file:\n",
    "    for line in file:\n",
    "        linec = line.rstrip()\n",
    "    print('Memory (Before Closing) : ' + str(mem_profile.memory_usage()) + 'MB')\n",
    "print('Memory (After) : ' + str(mem_profile.memory_usage()) + 'MB')"
   ]
  },
  {
   "cell_type": "markdown",
   "metadata": {},
   "source": [
    "### Using list to store eveything in memory, cause a lot of system resources."
   ]
  },
  {
   "cell_type": "code",
   "execution_count": 52,
   "metadata": {},
   "outputs": [
    {
     "name": "stdout",
     "output_type": "stream",
     "text": [
      "Memory (Before): [138.53125]MB\n",
      "13147026\n",
      "Memory (After) : [1805.68359375]MB\n",
      "Memory (After) : [1805.68359375]MB\n"
     ]
    }
   ],
   "source": [
    "%reset -f\n",
    "import memory_profiler as mem_profile\n",
    "import random\n",
    "import time\n",
    "import warnings\n",
    "warnings.filterwarnings(\"ignore\", category=DeprecationWarning) \n",
    "\n",
    "print('Memory (Before): ' + str(mem_profile.memory_usage()) + 'MB' )\n",
    "with open('enwik9') as file:\n",
    "    lista = file.readlines()\n",
    "    print(len(lista))\n",
    "    for line in lista:\n",
    "        linec = line.rstrip()\n",
    "    print('Memory (After) : ' + str(mem_profile.memory_usage()) + 'MB')\n",
    "print('Memory (After) : ' + str(mem_profile.memory_usage()) + 'MB')"
   ]
  },
  {
   "cell_type": "code",
   "execution_count": null,
   "metadata": {},
   "outputs": [],
   "source": []
  }
 ],
 "metadata": {
  "kernelspec": {
   "display_name": "Python 3",
   "language": "python",
   "name": "python3"
  },
  "language_info": {
   "codemirror_mode": {
    "name": "ipython",
    "version": 3
   },
   "file_extension": ".py",
   "mimetype": "text/x-python",
   "name": "python",
   "nbconvert_exporter": "python",
   "pygments_lexer": "ipython3",
   "version": "3.7.5"
  }
 },
 "nbformat": 4,
 "nbformat_minor": 2
}
